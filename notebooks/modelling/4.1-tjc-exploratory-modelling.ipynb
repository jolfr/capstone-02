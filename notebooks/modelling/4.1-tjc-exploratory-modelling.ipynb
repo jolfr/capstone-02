{
 "cells": [
  {
   "cell_type": "markdown",
   "metadata": {},
   "source": [
    "# Exploratory Modelling"
   ]
  },
  {
   "cell_type": "code",
   "execution_count": 1,
   "metadata": {},
   "outputs": [],
   "source": [
    "import pandas as pd\n",
    "import numpy as np"
   ]
  },
  {
   "cell_type": "code",
   "execution_count": 2,
   "metadata": {},
   "outputs": [],
   "source": [
    "filename = '../../data/processed/train_clustered.csv'\n",
    "train = pd.read_csv(filename)"
   ]
  },
  {
   "cell_type": "code",
   "execution_count": 3,
   "metadata": {},
   "outputs": [],
   "source": [
    "train = train.sort_values(['zipcode','start_year']).reset_index(drop=True)"
   ]
  },
  {
   "cell_type": "code",
   "execution_count": 4,
   "metadata": {},
   "outputs": [
    {
     "data": {
      "text/html": [
       "<div>\n",
       "<style scoped>\n",
       "    .dataframe tbody tr th:only-of-type {\n",
       "        vertical-align: middle;\n",
       "    }\n",
       "\n",
       "    .dataframe tbody tr th {\n",
       "        vertical-align: top;\n",
       "    }\n",
       "\n",
       "    .dataframe thead th {\n",
       "        text-align: right;\n",
       "    }\n",
       "</style>\n",
       "<table border=\"1\" class=\"dataframe\">\n",
       "  <thead>\n",
       "    <tr style=\"text-align: right;\">\n",
       "      <th></th>\n",
       "      <th>zipcode</th>\n",
       "      <th>start_year</th>\n",
       "      <th>y</th>\n",
       "      <th>year_1_EQI_MSA</th>\n",
       "      <th>year_1_EQI_state</th>\n",
       "      <th>year_1_EQI_zip</th>\n",
       "      <th>year_1_RECPI_MSA</th>\n",
       "      <th>year_1_RECPI_state</th>\n",
       "      <th>year_1_RECPI_zip</th>\n",
       "      <th>year_1_SFR_MSA</th>\n",
       "      <th>...</th>\n",
       "      <th>year_5_SFR_MSA</th>\n",
       "      <th>year_5_SFR_state</th>\n",
       "      <th>year_5_SFR_zip</th>\n",
       "      <th>dataset_cluster</th>\n",
       "      <th>zip_cluster</th>\n",
       "      <th>msa_cluster</th>\n",
       "      <th>state_cluster</th>\n",
       "      <th>eqi_cluster</th>\n",
       "      <th>sfr_cluster</th>\n",
       "      <th>recpi_cluster</th>\n",
       "    </tr>\n",
       "  </thead>\n",
       "  <tbody>\n",
       "    <tr>\n",
       "      <th>0</th>\n",
       "      <td>1002</td>\n",
       "      <td>1992.0</td>\n",
       "      <td>0.002931</td>\n",
       "      <td>0.001549</td>\n",
       "      <td>0.002111</td>\n",
       "      <td>0.000959</td>\n",
       "      <td>1.176877</td>\n",
       "      <td>28.052156</td>\n",
       "      <td>0.020148</td>\n",
       "      <td>760.0</td>\n",
       "      <td>...</td>\n",
       "      <td>884.0</td>\n",
       "      <td>16520.0</td>\n",
       "      <td>42.0</td>\n",
       "      <td>6</td>\n",
       "      <td>1</td>\n",
       "      <td>4</td>\n",
       "      <td>3</td>\n",
       "      <td>3</td>\n",
       "      <td>1</td>\n",
       "      <td>0</td>\n",
       "    </tr>\n",
       "    <tr>\n",
       "      <th>1</th>\n",
       "      <td>1002</td>\n",
       "      <td>1997.0</td>\n",
       "      <td>0.002640</td>\n",
       "      <td>0.001233</td>\n",
       "      <td>0.002386</td>\n",
       "      <td>0.004272</td>\n",
       "      <td>1.112023</td>\n",
       "      <td>41.174500</td>\n",
       "      <td>0.128172</td>\n",
       "      <td>902.0</td>\n",
       "      <td>...</td>\n",
       "      <td>906.0</td>\n",
       "      <td>18265.0</td>\n",
       "      <td>56.0</td>\n",
       "      <td>6</td>\n",
       "      <td>1</td>\n",
       "      <td>4</td>\n",
       "      <td>3</td>\n",
       "      <td>3</td>\n",
       "      <td>1</td>\n",
       "      <td>0</td>\n",
       "    </tr>\n",
       "    <tr>\n",
       "      <th>2</th>\n",
       "      <td>1002</td>\n",
       "      <td>2002.0</td>\n",
       "      <td>0.001622</td>\n",
       "      <td>0.001494</td>\n",
       "      <td>0.002450</td>\n",
       "      <td>0.005398</td>\n",
       "      <td>1.746593</td>\n",
       "      <td>50.713380</td>\n",
       "      <td>0.291470</td>\n",
       "      <td>1169.0</td>\n",
       "      <td>...</td>\n",
       "      <td>1586.0</td>\n",
       "      <td>24597.0</td>\n",
       "      <td>68.0</td>\n",
       "      <td>6</td>\n",
       "      <td>0</td>\n",
       "      <td>4</td>\n",
       "      <td>3</td>\n",
       "      <td>4</td>\n",
       "      <td>1</td>\n",
       "      <td>0</td>\n",
       "    </tr>\n",
       "    <tr>\n",
       "      <th>3</th>\n",
       "      <td>1002</td>\n",
       "      <td>2007.0</td>\n",
       "      <td>0.002022</td>\n",
       "      <td>0.000702</td>\n",
       "      <td>0.001817</td>\n",
       "      <td>0.000895</td>\n",
       "      <td>1.081845</td>\n",
       "      <td>45.171143</td>\n",
       "      <td>0.068894</td>\n",
       "      <td>1541.0</td>\n",
       "      <td>...</td>\n",
       "      <td>1417.0</td>\n",
       "      <td>23961.0</td>\n",
       "      <td>64.0</td>\n",
       "      <td>6</td>\n",
       "      <td>1</td>\n",
       "      <td>0</td>\n",
       "      <td>3</td>\n",
       "      <td>4</td>\n",
       "      <td>1</td>\n",
       "      <td>0</td>\n",
       "    </tr>\n",
       "    <tr>\n",
       "      <th>4</th>\n",
       "      <td>1005</td>\n",
       "      <td>1992.0</td>\n",
       "      <td>0.001055</td>\n",
       "      <td>0.000529</td>\n",
       "      <td>0.002111</td>\n",
       "      <td>0.000714</td>\n",
       "      <td>0.039692</td>\n",
       "      <td>28.052156</td>\n",
       "      <td>0.004995</td>\n",
       "      <td>75.0</td>\n",
       "      <td>...</td>\n",
       "      <td>123.0</td>\n",
       "      <td>16520.0</td>\n",
       "      <td>5.0</td>\n",
       "      <td>6</td>\n",
       "      <td>1</td>\n",
       "      <td>0</td>\n",
       "      <td>3</td>\n",
       "      <td>3</td>\n",
       "      <td>1</td>\n",
       "      <td>0</td>\n",
       "    </tr>\n",
       "  </tbody>\n",
       "</table>\n",
       "<p>5 rows × 55 columns</p>\n",
       "</div>"
      ],
      "text/plain": [
       "   zipcode  start_year         y  year_1_EQI_MSA  year_1_EQI_state  \\\n",
       "0     1002      1992.0  0.002931        0.001549          0.002111   \n",
       "1     1002      1997.0  0.002640        0.001233          0.002386   \n",
       "2     1002      2002.0  0.001622        0.001494          0.002450   \n",
       "3     1002      2007.0  0.002022        0.000702          0.001817   \n",
       "4     1005      1992.0  0.001055        0.000529          0.002111   \n",
       "\n",
       "   year_1_EQI_zip  year_1_RECPI_MSA  year_1_RECPI_state  year_1_RECPI_zip  \\\n",
       "0        0.000959          1.176877           28.052156          0.020148   \n",
       "1        0.004272          1.112023           41.174500          0.128172   \n",
       "2        0.005398          1.746593           50.713380          0.291470   \n",
       "3        0.000895          1.081845           45.171143          0.068894   \n",
       "4        0.000714          0.039692           28.052156          0.004995   \n",
       "\n",
       "   year_1_SFR_MSA  ...  year_5_SFR_MSA  year_5_SFR_state  year_5_SFR_zip  \\\n",
       "0           760.0  ...           884.0           16520.0            42.0   \n",
       "1           902.0  ...           906.0           18265.0            56.0   \n",
       "2          1169.0  ...          1586.0           24597.0            68.0   \n",
       "3          1541.0  ...          1417.0           23961.0            64.0   \n",
       "4            75.0  ...           123.0           16520.0             5.0   \n",
       "\n",
       "   dataset_cluster  zip_cluster  msa_cluster  state_cluster  eqi_cluster  \\\n",
       "0                6            1            4              3            3   \n",
       "1                6            1            4              3            3   \n",
       "2                6            0            4              3            4   \n",
       "3                6            1            0              3            4   \n",
       "4                6            1            0              3            3   \n",
       "\n",
       "   sfr_cluster  recpi_cluster  \n",
       "0            1              0  \n",
       "1            1              0  \n",
       "2            1              0  \n",
       "3            1              0  \n",
       "4            1              0  \n",
       "\n",
       "[5 rows x 55 columns]"
      ]
     },
     "execution_count": 4,
     "metadata": {},
     "output_type": "execute_result"
    }
   ],
   "source": [
    "train.head()"
   ]
  },
  {
   "cell_type": "code",
   "execution_count": 5,
   "metadata": {},
   "outputs": [],
   "source": [
    "filename = '../../data/processed/test_clustered.csv'\n",
    "test = pd.read_csv(filename)"
   ]
  },
  {
   "cell_type": "code",
   "execution_count": 6,
   "metadata": {},
   "outputs": [],
   "source": [
    "test = test.sort_values(['zipcode','start_year']).reset_index(drop=True)"
   ]
  },
  {
   "cell_type": "code",
   "execution_count": 7,
   "metadata": {},
   "outputs": [
    {
     "data": {
      "text/html": [
       "<div>\n",
       "<style scoped>\n",
       "    .dataframe tbody tr th:only-of-type {\n",
       "        vertical-align: middle;\n",
       "    }\n",
       "\n",
       "    .dataframe tbody tr th {\n",
       "        vertical-align: top;\n",
       "    }\n",
       "\n",
       "    .dataframe thead th {\n",
       "        text-align: right;\n",
       "    }\n",
       "</style>\n",
       "<table border=\"1\" class=\"dataframe\">\n",
       "  <thead>\n",
       "    <tr style=\"text-align: right;\">\n",
       "      <th></th>\n",
       "      <th>zipcode</th>\n",
       "      <th>start_year</th>\n",
       "      <th>y</th>\n",
       "      <th>year_1_EQI_MSA</th>\n",
       "      <th>year_1_EQI_state</th>\n",
       "      <th>year_1_EQI_zip</th>\n",
       "      <th>year_1_RECPI_MSA</th>\n",
       "      <th>year_1_RECPI_state</th>\n",
       "      <th>year_1_RECPI_zip</th>\n",
       "      <th>year_1_SFR_MSA</th>\n",
       "      <th>...</th>\n",
       "      <th>year_5_SFR_MSA</th>\n",
       "      <th>year_5_SFR_state</th>\n",
       "      <th>year_5_SFR_zip</th>\n",
       "      <th>dataset_cluster</th>\n",
       "      <th>zip_cluster</th>\n",
       "      <th>msa_cluster</th>\n",
       "      <th>state_cluster</th>\n",
       "      <th>eqi_cluster</th>\n",
       "      <th>sfr_cluster</th>\n",
       "      <th>recpi_cluster</th>\n",
       "    </tr>\n",
       "  </thead>\n",
       "  <tbody>\n",
       "    <tr>\n",
       "      <th>0</th>\n",
       "      <td>1001</td>\n",
       "      <td>1992.0</td>\n",
       "      <td>0.001287</td>\n",
       "      <td>0.001549</td>\n",
       "      <td>0.002111</td>\n",
       "      <td>0.002216</td>\n",
       "      <td>1.176877</td>\n",
       "      <td>28.052156</td>\n",
       "      <td>0.048744</td>\n",
       "      <td>760.0</td>\n",
       "      <td>...</td>\n",
       "      <td>884.0</td>\n",
       "      <td>16520.0</td>\n",
       "      <td>29.0</td>\n",
       "      <td>6</td>\n",
       "      <td>1</td>\n",
       "      <td>4</td>\n",
       "      <td>3</td>\n",
       "      <td>4</td>\n",
       "      <td>1</td>\n",
       "      <td>0</td>\n",
       "    </tr>\n",
       "    <tr>\n",
       "      <th>1</th>\n",
       "      <td>1001</td>\n",
       "      <td>1997.0</td>\n",
       "      <td>0.001853</td>\n",
       "      <td>0.001233</td>\n",
       "      <td>0.002386</td>\n",
       "      <td>0.000840</td>\n",
       "      <td>1.112023</td>\n",
       "      <td>41.174500</td>\n",
       "      <td>0.035283</td>\n",
       "      <td>902.0</td>\n",
       "      <td>...</td>\n",
       "      <td>906.0</td>\n",
       "      <td>18265.0</td>\n",
       "      <td>29.0</td>\n",
       "      <td>6</td>\n",
       "      <td>1</td>\n",
       "      <td>4</td>\n",
       "      <td>3</td>\n",
       "      <td>4</td>\n",
       "      <td>1</td>\n",
       "      <td>0</td>\n",
       "    </tr>\n",
       "    <tr>\n",
       "      <th>2</th>\n",
       "      <td>1001</td>\n",
       "      <td>2002.0</td>\n",
       "      <td>0.000602</td>\n",
       "      <td>0.001494</td>\n",
       "      <td>0.002450</td>\n",
       "      <td>0.001504</td>\n",
       "      <td>1.746593</td>\n",
       "      <td>50.713380</td>\n",
       "      <td>0.054131</td>\n",
       "      <td>1169.0</td>\n",
       "      <td>...</td>\n",
       "      <td>1586.0</td>\n",
       "      <td>24597.0</td>\n",
       "      <td>48.0</td>\n",
       "      <td>6</td>\n",
       "      <td>1</td>\n",
       "      <td>4</td>\n",
       "      <td>3</td>\n",
       "      <td>4</td>\n",
       "      <td>1</td>\n",
       "      <td>0</td>\n",
       "    </tr>\n",
       "    <tr>\n",
       "      <th>3</th>\n",
       "      <td>1001</td>\n",
       "      <td>2007.0</td>\n",
       "      <td>0.000898</td>\n",
       "      <td>0.000702</td>\n",
       "      <td>0.001817</td>\n",
       "      <td>0.000611</td>\n",
       "      <td>1.081845</td>\n",
       "      <td>45.171143</td>\n",
       "      <td>0.036063</td>\n",
       "      <td>1541.0</td>\n",
       "      <td>...</td>\n",
       "      <td>1417.0</td>\n",
       "      <td>23961.0</td>\n",
       "      <td>50.0</td>\n",
       "      <td>6</td>\n",
       "      <td>1</td>\n",
       "      <td>0</td>\n",
       "      <td>3</td>\n",
       "      <td>4</td>\n",
       "      <td>1</td>\n",
       "      <td>0</td>\n",
       "    </tr>\n",
       "    <tr>\n",
       "      <th>4</th>\n",
       "      <td>1007</td>\n",
       "      <td>1992.0</td>\n",
       "      <td>0.001195</td>\n",
       "      <td>0.001549</td>\n",
       "      <td>0.002111</td>\n",
       "      <td>0.001419</td>\n",
       "      <td>1.176877</td>\n",
       "      <td>28.052156</td>\n",
       "      <td>0.017027</td>\n",
       "      <td>760.0</td>\n",
       "      <td>...</td>\n",
       "      <td>884.0</td>\n",
       "      <td>16520.0</td>\n",
       "      <td>15.0</td>\n",
       "      <td>6</td>\n",
       "      <td>1</td>\n",
       "      <td>4</td>\n",
       "      <td>3</td>\n",
       "      <td>4</td>\n",
       "      <td>1</td>\n",
       "      <td>0</td>\n",
       "    </tr>\n",
       "  </tbody>\n",
       "</table>\n",
       "<p>5 rows × 55 columns</p>\n",
       "</div>"
      ],
      "text/plain": [
       "   zipcode  start_year         y  year_1_EQI_MSA  year_1_EQI_state  \\\n",
       "0     1001      1992.0  0.001287        0.001549          0.002111   \n",
       "1     1001      1997.0  0.001853        0.001233          0.002386   \n",
       "2     1001      2002.0  0.000602        0.001494          0.002450   \n",
       "3     1001      2007.0  0.000898        0.000702          0.001817   \n",
       "4     1007      1992.0  0.001195        0.001549          0.002111   \n",
       "\n",
       "   year_1_EQI_zip  year_1_RECPI_MSA  year_1_RECPI_state  year_1_RECPI_zip  \\\n",
       "0        0.002216          1.176877           28.052156          0.048744   \n",
       "1        0.000840          1.112023           41.174500          0.035283   \n",
       "2        0.001504          1.746593           50.713380          0.054131   \n",
       "3        0.000611          1.081845           45.171143          0.036063   \n",
       "4        0.001419          1.176877           28.052156          0.017027   \n",
       "\n",
       "   year_1_SFR_MSA  ...  year_5_SFR_MSA  year_5_SFR_state  year_5_SFR_zip  \\\n",
       "0           760.0  ...           884.0           16520.0            29.0   \n",
       "1           902.0  ...           906.0           18265.0            29.0   \n",
       "2          1169.0  ...          1586.0           24597.0            48.0   \n",
       "3          1541.0  ...          1417.0           23961.0            50.0   \n",
       "4           760.0  ...           884.0           16520.0            15.0   \n",
       "\n",
       "   dataset_cluster  zip_cluster  msa_cluster  state_cluster  eqi_cluster  \\\n",
       "0                6            1            4              3            4   \n",
       "1                6            1            4              3            4   \n",
       "2                6            1            4              3            4   \n",
       "3                6            1            0              3            4   \n",
       "4                6            1            4              3            4   \n",
       "\n",
       "   sfr_cluster  recpi_cluster  \n",
       "0            1              0  \n",
       "1            1              0  \n",
       "2            1              0  \n",
       "3            1              0  \n",
       "4            1              0  \n",
       "\n",
       "[5 rows x 55 columns]"
      ]
     },
     "execution_count": 7,
     "metadata": {},
     "output_type": "execute_result"
    }
   ],
   "source": [
    "test.head()"
   ]
  },
  {
   "cell_type": "code",
   "execution_count": 8,
   "metadata": {},
   "outputs": [
    {
     "data": {
      "text/plain": [
       "0.0004342423668820605"
      ]
     },
     "execution_count": 8,
     "metadata": {},
     "output_type": "execute_result"
    }
   ],
   "source": [
    "X_train = train.drop(['zipcode','start_year','y'], axis=1)\n",
    "y_train = train['y']\n",
    "np.mean(y_train)"
   ]
  },
  {
   "cell_type": "code",
   "execution_count": 9,
   "metadata": {},
   "outputs": [
    {
     "data": {
      "text/html": [
       "<div>\n",
       "<style scoped>\n",
       "    .dataframe tbody tr th:only-of-type {\n",
       "        vertical-align: middle;\n",
       "    }\n",
       "\n",
       "    .dataframe tbody tr th {\n",
       "        vertical-align: top;\n",
       "    }\n",
       "\n",
       "    .dataframe thead th {\n",
       "        text-align: right;\n",
       "    }\n",
       "</style>\n",
       "<table border=\"1\" class=\"dataframe\">\n",
       "  <thead>\n",
       "    <tr style=\"text-align: right;\">\n",
       "      <th></th>\n",
       "      <th>year_1_EQI_MSA</th>\n",
       "      <th>year_1_EQI_state</th>\n",
       "      <th>year_1_EQI_zip</th>\n",
       "      <th>year_1_RECPI_MSA</th>\n",
       "      <th>year_1_RECPI_state</th>\n",
       "      <th>year_1_RECPI_zip</th>\n",
       "      <th>year_1_SFR_MSA</th>\n",
       "      <th>year_1_SFR_state</th>\n",
       "      <th>year_1_SFR_zip</th>\n",
       "      <th>year_2_EQI_MSA</th>\n",
       "      <th>...</th>\n",
       "      <th>year_5_SFR_MSA</th>\n",
       "      <th>year_5_SFR_state</th>\n",
       "      <th>year_5_SFR_zip</th>\n",
       "      <th>dataset_cluster</th>\n",
       "      <th>zip_cluster</th>\n",
       "      <th>msa_cluster</th>\n",
       "      <th>state_cluster</th>\n",
       "      <th>eqi_cluster</th>\n",
       "      <th>sfr_cluster</th>\n",
       "      <th>recpi_cluster</th>\n",
       "    </tr>\n",
       "  </thead>\n",
       "  <tbody>\n",
       "    <tr>\n",
       "      <th>0</th>\n",
       "      <td>0.001549</td>\n",
       "      <td>0.002111</td>\n",
       "      <td>0.000959</td>\n",
       "      <td>1.176877</td>\n",
       "      <td>28.052156</td>\n",
       "      <td>0.020148</td>\n",
       "      <td>760.0</td>\n",
       "      <td>13289.0</td>\n",
       "      <td>21.0</td>\n",
       "      <td>0.001266</td>\n",
       "      <td>...</td>\n",
       "      <td>884.0</td>\n",
       "      <td>16520.0</td>\n",
       "      <td>42.0</td>\n",
       "      <td>6</td>\n",
       "      <td>1</td>\n",
       "      <td>4</td>\n",
       "      <td>3</td>\n",
       "      <td>3</td>\n",
       "      <td>1</td>\n",
       "      <td>0</td>\n",
       "    </tr>\n",
       "    <tr>\n",
       "      <th>1</th>\n",
       "      <td>0.001233</td>\n",
       "      <td>0.002386</td>\n",
       "      <td>0.004272</td>\n",
       "      <td>1.112023</td>\n",
       "      <td>41.174500</td>\n",
       "      <td>0.128172</td>\n",
       "      <td>902.0</td>\n",
       "      <td>17254.0</td>\n",
       "      <td>30.0</td>\n",
       "      <td>0.001164</td>\n",
       "      <td>...</td>\n",
       "      <td>906.0</td>\n",
       "      <td>18265.0</td>\n",
       "      <td>56.0</td>\n",
       "      <td>6</td>\n",
       "      <td>1</td>\n",
       "      <td>4</td>\n",
       "      <td>3</td>\n",
       "      <td>3</td>\n",
       "      <td>1</td>\n",
       "      <td>0</td>\n",
       "    </tr>\n",
       "    <tr>\n",
       "      <th>2</th>\n",
       "      <td>0.001494</td>\n",
       "      <td>0.002450</td>\n",
       "      <td>0.005398</td>\n",
       "      <td>1.746593</td>\n",
       "      <td>50.713380</td>\n",
       "      <td>0.291470</td>\n",
       "      <td>1169.0</td>\n",
       "      <td>20701.0</td>\n",
       "      <td>54.0</td>\n",
       "      <td>0.001073</td>\n",
       "      <td>...</td>\n",
       "      <td>1586.0</td>\n",
       "      <td>24597.0</td>\n",
       "      <td>68.0</td>\n",
       "      <td>6</td>\n",
       "      <td>0</td>\n",
       "      <td>4</td>\n",
       "      <td>3</td>\n",
       "      <td>4</td>\n",
       "      <td>1</td>\n",
       "      <td>0</td>\n",
       "    </tr>\n",
       "    <tr>\n",
       "      <th>3</th>\n",
       "      <td>0.000702</td>\n",
       "      <td>0.001817</td>\n",
       "      <td>0.000895</td>\n",
       "      <td>1.081845</td>\n",
       "      <td>45.171143</td>\n",
       "      <td>0.068894</td>\n",
       "      <td>1541.0</td>\n",
       "      <td>24866.0</td>\n",
       "      <td>77.0</td>\n",
       "      <td>0.000758</td>\n",
       "      <td>...</td>\n",
       "      <td>1417.0</td>\n",
       "      <td>23961.0</td>\n",
       "      <td>64.0</td>\n",
       "      <td>6</td>\n",
       "      <td>1</td>\n",
       "      <td>0</td>\n",
       "      <td>3</td>\n",
       "      <td>4</td>\n",
       "      <td>1</td>\n",
       "      <td>0</td>\n",
       "    </tr>\n",
       "    <tr>\n",
       "      <th>4</th>\n",
       "      <td>0.000529</td>\n",
       "      <td>0.002111</td>\n",
       "      <td>0.000714</td>\n",
       "      <td>0.039692</td>\n",
       "      <td>28.052156</td>\n",
       "      <td>0.004995</td>\n",
       "      <td>75.0</td>\n",
       "      <td>13289.0</td>\n",
       "      <td>7.0</td>\n",
       "      <td>0.000527</td>\n",
       "      <td>...</td>\n",
       "      <td>123.0</td>\n",
       "      <td>16520.0</td>\n",
       "      <td>5.0</td>\n",
       "      <td>6</td>\n",
       "      <td>1</td>\n",
       "      <td>0</td>\n",
       "      <td>3</td>\n",
       "      <td>3</td>\n",
       "      <td>1</td>\n",
       "      <td>0</td>\n",
       "    </tr>\n",
       "  </tbody>\n",
       "</table>\n",
       "<p>5 rows × 52 columns</p>\n",
       "</div>"
      ],
      "text/plain": [
       "   year_1_EQI_MSA  year_1_EQI_state  year_1_EQI_zip  year_1_RECPI_MSA  \\\n",
       "0        0.001549          0.002111        0.000959          1.176877   \n",
       "1        0.001233          0.002386        0.004272          1.112023   \n",
       "2        0.001494          0.002450        0.005398          1.746593   \n",
       "3        0.000702          0.001817        0.000895          1.081845   \n",
       "4        0.000529          0.002111        0.000714          0.039692   \n",
       "\n",
       "   year_1_RECPI_state  year_1_RECPI_zip  year_1_SFR_MSA  year_1_SFR_state  \\\n",
       "0           28.052156          0.020148           760.0           13289.0   \n",
       "1           41.174500          0.128172           902.0           17254.0   \n",
       "2           50.713380          0.291470          1169.0           20701.0   \n",
       "3           45.171143          0.068894          1541.0           24866.0   \n",
       "4           28.052156          0.004995            75.0           13289.0   \n",
       "\n",
       "   year_1_SFR_zip  year_2_EQI_MSA  ...  year_5_SFR_MSA  year_5_SFR_state  \\\n",
       "0            21.0        0.001266  ...           884.0           16520.0   \n",
       "1            30.0        0.001164  ...           906.0           18265.0   \n",
       "2            54.0        0.001073  ...          1586.0           24597.0   \n",
       "3            77.0        0.000758  ...          1417.0           23961.0   \n",
       "4             7.0        0.000527  ...           123.0           16520.0   \n",
       "\n",
       "   year_5_SFR_zip  dataset_cluster  zip_cluster  msa_cluster  state_cluster  \\\n",
       "0            42.0                6            1            4              3   \n",
       "1            56.0                6            1            4              3   \n",
       "2            68.0                6            0            4              3   \n",
       "3            64.0                6            1            0              3   \n",
       "4             5.0                6            1            0              3   \n",
       "\n",
       "   eqi_cluster  sfr_cluster  recpi_cluster  \n",
       "0            3            1              0  \n",
       "1            3            1              0  \n",
       "2            4            1              0  \n",
       "3            4            1              0  \n",
       "4            3            1              0  \n",
       "\n",
       "[5 rows x 52 columns]"
      ]
     },
     "execution_count": 9,
     "metadata": {},
     "output_type": "execute_result"
    }
   ],
   "source": [
    "X_train.head()"
   ]
  },
  {
   "cell_type": "code",
   "execution_count": 10,
   "metadata": {},
   "outputs": [
    {
     "data": {
      "text/plain": [
       "0.00044733498323174144"
      ]
     },
     "execution_count": 10,
     "metadata": {},
     "output_type": "execute_result"
    }
   ],
   "source": [
    "X_test = test.drop(['zipcode','start_year','y'], axis=1)\n",
    "y_test = test['y']\n",
    "np.mean(y_test)"
   ]
  },
  {
   "cell_type": "code",
   "execution_count": 11,
   "metadata": {},
   "outputs": [
    {
     "data": {
      "text/html": [
       "<div>\n",
       "<style scoped>\n",
       "    .dataframe tbody tr th:only-of-type {\n",
       "        vertical-align: middle;\n",
       "    }\n",
       "\n",
       "    .dataframe tbody tr th {\n",
       "        vertical-align: top;\n",
       "    }\n",
       "\n",
       "    .dataframe thead th {\n",
       "        text-align: right;\n",
       "    }\n",
       "</style>\n",
       "<table border=\"1\" class=\"dataframe\">\n",
       "  <thead>\n",
       "    <tr style=\"text-align: right;\">\n",
       "      <th></th>\n",
       "      <th>year_1_EQI_MSA</th>\n",
       "      <th>year_1_EQI_state</th>\n",
       "      <th>year_1_EQI_zip</th>\n",
       "      <th>year_1_RECPI_MSA</th>\n",
       "      <th>year_1_RECPI_state</th>\n",
       "      <th>year_1_RECPI_zip</th>\n",
       "      <th>year_1_SFR_MSA</th>\n",
       "      <th>year_1_SFR_state</th>\n",
       "      <th>year_1_SFR_zip</th>\n",
       "      <th>year_2_EQI_MSA</th>\n",
       "      <th>...</th>\n",
       "      <th>year_5_SFR_MSA</th>\n",
       "      <th>year_5_SFR_state</th>\n",
       "      <th>year_5_SFR_zip</th>\n",
       "      <th>dataset_cluster</th>\n",
       "      <th>zip_cluster</th>\n",
       "      <th>msa_cluster</th>\n",
       "      <th>state_cluster</th>\n",
       "      <th>eqi_cluster</th>\n",
       "      <th>sfr_cluster</th>\n",
       "      <th>recpi_cluster</th>\n",
       "    </tr>\n",
       "  </thead>\n",
       "  <tbody>\n",
       "    <tr>\n",
       "      <th>0</th>\n",
       "      <td>0.001549</td>\n",
       "      <td>0.002111</td>\n",
       "      <td>0.002216</td>\n",
       "      <td>1.176877</td>\n",
       "      <td>28.052156</td>\n",
       "      <td>0.048744</td>\n",
       "      <td>760.0</td>\n",
       "      <td>13289.0</td>\n",
       "      <td>22.0</td>\n",
       "      <td>0.001266</td>\n",
       "      <td>...</td>\n",
       "      <td>884.0</td>\n",
       "      <td>16520.0</td>\n",
       "      <td>29.0</td>\n",
       "      <td>6</td>\n",
       "      <td>1</td>\n",
       "      <td>4</td>\n",
       "      <td>3</td>\n",
       "      <td>4</td>\n",
       "      <td>1</td>\n",
       "      <td>0</td>\n",
       "    </tr>\n",
       "    <tr>\n",
       "      <th>1</th>\n",
       "      <td>0.001233</td>\n",
       "      <td>0.002386</td>\n",
       "      <td>0.000840</td>\n",
       "      <td>1.112023</td>\n",
       "      <td>41.174500</td>\n",
       "      <td>0.035283</td>\n",
       "      <td>902.0</td>\n",
       "      <td>17254.0</td>\n",
       "      <td>42.0</td>\n",
       "      <td>0.001164</td>\n",
       "      <td>...</td>\n",
       "      <td>906.0</td>\n",
       "      <td>18265.0</td>\n",
       "      <td>29.0</td>\n",
       "      <td>6</td>\n",
       "      <td>1</td>\n",
       "      <td>4</td>\n",
       "      <td>3</td>\n",
       "      <td>4</td>\n",
       "      <td>1</td>\n",
       "      <td>0</td>\n",
       "    </tr>\n",
       "    <tr>\n",
       "      <th>2</th>\n",
       "      <td>0.001494</td>\n",
       "      <td>0.002450</td>\n",
       "      <td>0.001504</td>\n",
       "      <td>1.746593</td>\n",
       "      <td>50.713380</td>\n",
       "      <td>0.054131</td>\n",
       "      <td>1169.0</td>\n",
       "      <td>20701.0</td>\n",
       "      <td>36.0</td>\n",
       "      <td>0.001073</td>\n",
       "      <td>...</td>\n",
       "      <td>1586.0</td>\n",
       "      <td>24597.0</td>\n",
       "      <td>48.0</td>\n",
       "      <td>6</td>\n",
       "      <td>1</td>\n",
       "      <td>4</td>\n",
       "      <td>3</td>\n",
       "      <td>4</td>\n",
       "      <td>1</td>\n",
       "      <td>0</td>\n",
       "    </tr>\n",
       "    <tr>\n",
       "      <th>3</th>\n",
       "      <td>0.000702</td>\n",
       "      <td>0.001817</td>\n",
       "      <td>0.000611</td>\n",
       "      <td>1.081845</td>\n",
       "      <td>45.171143</td>\n",
       "      <td>0.036063</td>\n",
       "      <td>1541.0</td>\n",
       "      <td>24866.0</td>\n",
       "      <td>59.0</td>\n",
       "      <td>0.000758</td>\n",
       "      <td>...</td>\n",
       "      <td>1417.0</td>\n",
       "      <td>23961.0</td>\n",
       "      <td>50.0</td>\n",
       "      <td>6</td>\n",
       "      <td>1</td>\n",
       "      <td>0</td>\n",
       "      <td>3</td>\n",
       "      <td>4</td>\n",
       "      <td>1</td>\n",
       "      <td>0</td>\n",
       "    </tr>\n",
       "    <tr>\n",
       "      <th>4</th>\n",
       "      <td>0.001549</td>\n",
       "      <td>0.002111</td>\n",
       "      <td>0.001419</td>\n",
       "      <td>1.176877</td>\n",
       "      <td>28.052156</td>\n",
       "      <td>0.017027</td>\n",
       "      <td>760.0</td>\n",
       "      <td>13289.0</td>\n",
       "      <td>12.0</td>\n",
       "      <td>0.001266</td>\n",
       "      <td>...</td>\n",
       "      <td>884.0</td>\n",
       "      <td>16520.0</td>\n",
       "      <td>15.0</td>\n",
       "      <td>6</td>\n",
       "      <td>1</td>\n",
       "      <td>4</td>\n",
       "      <td>3</td>\n",
       "      <td>4</td>\n",
       "      <td>1</td>\n",
       "      <td>0</td>\n",
       "    </tr>\n",
       "  </tbody>\n",
       "</table>\n",
       "<p>5 rows × 52 columns</p>\n",
       "</div>"
      ],
      "text/plain": [
       "   year_1_EQI_MSA  year_1_EQI_state  year_1_EQI_zip  year_1_RECPI_MSA  \\\n",
       "0        0.001549          0.002111        0.002216          1.176877   \n",
       "1        0.001233          0.002386        0.000840          1.112023   \n",
       "2        0.001494          0.002450        0.001504          1.746593   \n",
       "3        0.000702          0.001817        0.000611          1.081845   \n",
       "4        0.001549          0.002111        0.001419          1.176877   \n",
       "\n",
       "   year_1_RECPI_state  year_1_RECPI_zip  year_1_SFR_MSA  year_1_SFR_state  \\\n",
       "0           28.052156          0.048744           760.0           13289.0   \n",
       "1           41.174500          0.035283           902.0           17254.0   \n",
       "2           50.713380          0.054131          1169.0           20701.0   \n",
       "3           45.171143          0.036063          1541.0           24866.0   \n",
       "4           28.052156          0.017027           760.0           13289.0   \n",
       "\n",
       "   year_1_SFR_zip  year_2_EQI_MSA  ...  year_5_SFR_MSA  year_5_SFR_state  \\\n",
       "0            22.0        0.001266  ...           884.0           16520.0   \n",
       "1            42.0        0.001164  ...           906.0           18265.0   \n",
       "2            36.0        0.001073  ...          1586.0           24597.0   \n",
       "3            59.0        0.000758  ...          1417.0           23961.0   \n",
       "4            12.0        0.001266  ...           884.0           16520.0   \n",
       "\n",
       "   year_5_SFR_zip  dataset_cluster  zip_cluster  msa_cluster  state_cluster  \\\n",
       "0            29.0                6            1            4              3   \n",
       "1            29.0                6            1            4              3   \n",
       "2            48.0                6            1            4              3   \n",
       "3            50.0                6            1            0              3   \n",
       "4            15.0                6            1            4              3   \n",
       "\n",
       "   eqi_cluster  sfr_cluster  recpi_cluster  \n",
       "0            4            1              0  \n",
       "1            4            1              0  \n",
       "2            4            1              0  \n",
       "3            4            1              0  \n",
       "4            4            1              0  \n",
       "\n",
       "[5 rows x 52 columns]"
      ]
     },
     "execution_count": 11,
     "metadata": {},
     "output_type": "execute_result"
    }
   ],
   "source": [
    "X_test.head()"
   ]
  },
  {
   "cell_type": "markdown",
   "metadata": {},
   "source": [
    "## Data Pipeline"
   ]
  },
  {
   "cell_type": "code",
   "execution_count": 12,
   "metadata": {},
   "outputs": [],
   "source": [
    "from sklearn.preprocessing import StandardScaler\n",
    "from sklearn.pipeline import Pipeline\n",
    "from sklearn.compose import ColumnTransformer\n",
    "from sklearn.preprocessing import OneHotEncoder\n",
    "from sklearn.metrics import explained_variance_score\n",
    "from sklearn.compose import make_column_selector"
   ]
  },
  {
   "cell_type": "code",
   "execution_count": 13,
   "metadata": {},
   "outputs": [
    {
     "data": {
      "text/plain": [
       "ColumnTransformer(transformers=[('scale', StandardScaler(),\n",
       "                                 <sklearn.compose._column_transformer.make_column_selector object at 0x000002627B9FBA00>),\n",
       "                                ('dataset_cluster', OneHotEncoder(dtype='int'),\n",
       "                                 ['dataset_cluster']),\n",
       "                                ('zip_cluster', OneHotEncoder(dtype='int'),\n",
       "                                 ['zip_cluster']),\n",
       "                                ('msa_cluster', OneHotEncoder(dtype='int'),\n",
       "                                 ['msa_cluster']),\n",
       "                                ('state_cluster', OneHotEncoder(dtype='int'),\n",
       "                                 ['state_cluster']),\n",
       "                                ('eqi_cluster', OneHotEncoder(dtype='int'),\n",
       "                                 ['eqi_cluster']),\n",
       "                                ('sfr_cluster', OneHotEncoder(dtype='int'),\n",
       "                                 ['sfr_cluster']),\n",
       "                                ('recpi_cluster', OneHotEncoder(dtype='int'),\n",
       "                                 ['recpi_cluster'])])"
      ]
     },
     "execution_count": 13,
     "metadata": {},
     "output_type": "execute_result"
    }
   ],
   "source": [
    "column_trans = ColumnTransformer([\n",
    "    ('scale', StandardScaler(), make_column_selector(dtype_include=np.float64)),\n",
    "    ('dataset_cluster', OneHotEncoder(dtype='int'), ['dataset_cluster']),\n",
    "    ('zip_cluster', OneHotEncoder(dtype='int'), ['zip_cluster']),\n",
    "    ('msa_cluster', OneHotEncoder(dtype='int'), ['msa_cluster']),\n",
    "    ('state_cluster', OneHotEncoder(dtype='int'), ['state_cluster']),\n",
    "    ('eqi_cluster', OneHotEncoder(dtype='int'), ['eqi_cluster']),\n",
    "    ('sfr_cluster', OneHotEncoder(dtype='int'), ['sfr_cluster']),\n",
    "    ('recpi_cluster', OneHotEncoder(dtype='int'), ['recpi_cluster'])\n",
    "    ], remainder='drop')\n",
    "\n",
    "column_trans.fit(X_train)"
   ]
  },
  {
   "cell_type": "markdown",
   "metadata": {},
   "source": [
    "## Linear Models"
   ]
  },
  {
   "cell_type": "code",
   "execution_count": 14,
   "metadata": {},
   "outputs": [],
   "source": [
    "from sklearn import linear_model"
   ]
  },
  {
   "cell_type": "markdown",
   "metadata": {},
   "source": [
    "### OLS"
   ]
  },
  {
   "cell_type": "code",
   "execution_count": 15,
   "metadata": {},
   "outputs": [],
   "source": [
    "pipe = Pipeline([('transformer', column_trans), ('ols', linear_model.LinearRegression())])"
   ]
  },
  {
   "cell_type": "code",
   "execution_count": 16,
   "metadata": {},
   "outputs": [
    {
     "data": {
      "text/plain": [
       "Pipeline(steps=[('transformer',\n",
       "                 ColumnTransformer(transformers=[('scale', StandardScaler(),\n",
       "                                                  <sklearn.compose._column_transformer.make_column_selector object at 0x000002627B9FBA00>),\n",
       "                                                 ('dataset_cluster',\n",
       "                                                  OneHotEncoder(dtype='int'),\n",
       "                                                  ['dataset_cluster']),\n",
       "                                                 ('zip_cluster',\n",
       "                                                  OneHotEncoder(dtype='int'),\n",
       "                                                  ['zip_cluster']),\n",
       "                                                 ('msa_cluster',\n",
       "                                                  OneHotEncoder(dtype='int'),\n",
       "                                                  ['msa_cluster']),\n",
       "                                                 ('state_cluster',\n",
       "                                                  OneHotEncoder(dtype='int'),\n",
       "                                                  ['state_cluster']),\n",
       "                                                 ('eqi_cluster',\n",
       "                                                  OneHotEncoder(dtype='int'),\n",
       "                                                  ['eqi_cluster']),\n",
       "                                                 ('sfr_cluster',\n",
       "                                                  OneHotEncoder(dtype='int'),\n",
       "                                                  ['sfr_cluster']),\n",
       "                                                 ('recpi_cluster',\n",
       "                                                  OneHotEncoder(dtype='int'),\n",
       "                                                  ['recpi_cluster'])])),\n",
       "                ('ols', LinearRegression())])"
      ]
     },
     "execution_count": 16,
     "metadata": {},
     "output_type": "execute_result"
    }
   ],
   "source": [
    "pipe.fit(X_train, y_train)"
   ]
  },
  {
   "cell_type": "code",
   "execution_count": 17,
   "metadata": {},
   "outputs": [
    {
     "data": {
      "text/plain": [
       "0.47248172211370865"
      ]
     },
     "execution_count": 17,
     "metadata": {},
     "output_type": "execute_result"
    }
   ],
   "source": [
    "y_pred = pipe.predict(X_train)\n",
    "explained_variance_score(y_train, y_pred)"
   ]
  },
  {
   "cell_type": "code",
   "execution_count": 18,
   "metadata": {},
   "outputs": [
    {
     "data": {
      "text/plain": [
       "0.539140262183853"
      ]
     },
     "execution_count": 18,
     "metadata": {},
     "output_type": "execute_result"
    }
   ],
   "source": [
    "y_pred = pipe.predict(X_test)\n",
    "explained_variance_score(y_test, y_pred)"
   ]
  },
  {
   "cell_type": "markdown",
   "metadata": {},
   "source": [
    "### Ridge"
   ]
  },
  {
   "cell_type": "code",
   "execution_count": 19,
   "metadata": {},
   "outputs": [],
   "source": [
    "pipe = Pipeline([('transformer', column_trans), ('ridge', linear_model.Ridge())])"
   ]
  },
  {
   "cell_type": "code",
   "execution_count": 20,
   "metadata": {},
   "outputs": [
    {
     "data": {
      "text/plain": [
       "Pipeline(steps=[('transformer',\n",
       "                 ColumnTransformer(transformers=[('scale', StandardScaler(),\n",
       "                                                  <sklearn.compose._column_transformer.make_column_selector object at 0x000002627B9FBA00>),\n",
       "                                                 ('dataset_cluster',\n",
       "                                                  OneHotEncoder(dtype='int'),\n",
       "                                                  ['dataset_cluster']),\n",
       "                                                 ('zip_cluster',\n",
       "                                                  OneHotEncoder(dtype='int'),\n",
       "                                                  ['zip_cluster']),\n",
       "                                                 ('msa_cluster',\n",
       "                                                  OneHotEncoder(dtype='int'),\n",
       "                                                  ['msa_cluster']),\n",
       "                                                 ('state_cluster',\n",
       "                                                  OneHotEncoder(dtype='int'),\n",
       "                                                  ['state_cluster']),\n",
       "                                                 ('eqi_cluster',\n",
       "                                                  OneHotEncoder(dtype='int'),\n",
       "                                                  ['eqi_cluster']),\n",
       "                                                 ('sfr_cluster',\n",
       "                                                  OneHotEncoder(dtype='int'),\n",
       "                                                  ['sfr_cluster']),\n",
       "                                                 ('recpi_cluster',\n",
       "                                                  OneHotEncoder(dtype='int'),\n",
       "                                                  ['recpi_cluster'])])),\n",
       "                ('ridge', Ridge())])"
      ]
     },
     "execution_count": 20,
     "metadata": {},
     "output_type": "execute_result"
    }
   ],
   "source": [
    "pipe.fit(X_train, y_train)"
   ]
  },
  {
   "cell_type": "code",
   "execution_count": 21,
   "metadata": {},
   "outputs": [
    {
     "data": {
      "text/plain": [
       "0.4724245509926629"
      ]
     },
     "execution_count": 21,
     "metadata": {},
     "output_type": "execute_result"
    }
   ],
   "source": [
    "y_pred = pipe.predict(X_train)\n",
    "explained_variance_score(y_train, y_pred)"
   ]
  },
  {
   "cell_type": "code",
   "execution_count": 22,
   "metadata": {},
   "outputs": [
    {
     "data": {
      "text/plain": [
       "0.5409307919502766"
      ]
     },
     "execution_count": 22,
     "metadata": {},
     "output_type": "execute_result"
    }
   ],
   "source": [
    "y_pred = pipe.predict(X_test)\n",
    "explained_variance_score(y_test, y_pred)"
   ]
  },
  {
   "cell_type": "markdown",
   "metadata": {},
   "source": [
    "### Lasso"
   ]
  },
  {
   "cell_type": "code",
   "execution_count": 23,
   "metadata": {},
   "outputs": [],
   "source": [
    "pipe = Pipeline([('transformer', column_trans), ('lasso', linear_model.Lasso())])"
   ]
  },
  {
   "cell_type": "code",
   "execution_count": 24,
   "metadata": {},
   "outputs": [
    {
     "data": {
      "text/plain": [
       "Pipeline(steps=[('transformer',\n",
       "                 ColumnTransformer(transformers=[('scale', StandardScaler(),\n",
       "                                                  <sklearn.compose._column_transformer.make_column_selector object at 0x000002627B9FBA00>),\n",
       "                                                 ('dataset_cluster',\n",
       "                                                  OneHotEncoder(dtype='int'),\n",
       "                                                  ['dataset_cluster']),\n",
       "                                                 ('zip_cluster',\n",
       "                                                  OneHotEncoder(dtype='int'),\n",
       "                                                  ['zip_cluster']),\n",
       "                                                 ('msa_cluster',\n",
       "                                                  OneHotEncoder(dtype='int'),\n",
       "                                                  ['msa_cluster']),\n",
       "                                                 ('state_cluster',\n",
       "                                                  OneHotEncoder(dtype='int'),\n",
       "                                                  ['state_cluster']),\n",
       "                                                 ('eqi_cluster',\n",
       "                                                  OneHotEncoder(dtype='int'),\n",
       "                                                  ['eqi_cluster']),\n",
       "                                                 ('sfr_cluster',\n",
       "                                                  OneHotEncoder(dtype='int'),\n",
       "                                                  ['sfr_cluster']),\n",
       "                                                 ('recpi_cluster',\n",
       "                                                  OneHotEncoder(dtype='int'),\n",
       "                                                  ['recpi_cluster'])])),\n",
       "                ('lasso', Lasso())])"
      ]
     },
     "execution_count": 24,
     "metadata": {},
     "output_type": "execute_result"
    }
   ],
   "source": [
    "pipe.fit(X_train, y_train)"
   ]
  },
  {
   "cell_type": "code",
   "execution_count": 25,
   "metadata": {},
   "outputs": [
    {
     "data": {
      "text/plain": [
       "0.0"
      ]
     },
     "execution_count": 25,
     "metadata": {},
     "output_type": "execute_result"
    }
   ],
   "source": [
    "y_pred = pipe.predict(X_train)\n",
    "explained_variance_score(y_train, y_pred)"
   ]
  },
  {
   "cell_type": "code",
   "execution_count": 26,
   "metadata": {},
   "outputs": [
    {
     "data": {
      "text/plain": [
       "-2.220446049250313e-16"
      ]
     },
     "execution_count": 26,
     "metadata": {},
     "output_type": "execute_result"
    }
   ],
   "source": [
    "y_pred = pipe.predict(X_test)\n",
    "explained_variance_score(y_test, y_pred)"
   ]
  },
  {
   "cell_type": "markdown",
   "metadata": {},
   "source": [
    "## KNN Regressor"
   ]
  },
  {
   "cell_type": "code",
   "execution_count": 27,
   "metadata": {},
   "outputs": [],
   "source": [
    "from sklearn.neighbors import KNeighborsRegressor"
   ]
  },
  {
   "cell_type": "code",
   "execution_count": 28,
   "metadata": {},
   "outputs": [],
   "source": [
    "pipe = Pipeline([('transformer', column_trans), ('knn', KNeighborsRegressor())])"
   ]
  },
  {
   "cell_type": "code",
   "execution_count": 29,
   "metadata": {},
   "outputs": [
    {
     "data": {
      "text/plain": [
       "Pipeline(steps=[('transformer',\n",
       "                 ColumnTransformer(transformers=[('scale', StandardScaler(),\n",
       "                                                  <sklearn.compose._column_transformer.make_column_selector object at 0x000002627B9FBA00>),\n",
       "                                                 ('dataset_cluster',\n",
       "                                                  OneHotEncoder(dtype='int'),\n",
       "                                                  ['dataset_cluster']),\n",
       "                                                 ('zip_cluster',\n",
       "                                                  OneHotEncoder(dtype='int'),\n",
       "                                                  ['zip_cluster']),\n",
       "                                                 ('msa_cluster',\n",
       "                                                  OneHotEncoder(dtype='int'),\n",
       "                                                  ['msa_cluster']),\n",
       "                                                 ('state_cluster',\n",
       "                                                  OneHotEncoder(dtype='int'),\n",
       "                                                  ['state_cluster']),\n",
       "                                                 ('eqi_cluster',\n",
       "                                                  OneHotEncoder(dtype='int'),\n",
       "                                                  ['eqi_cluster']),\n",
       "                                                 ('sfr_cluster',\n",
       "                                                  OneHotEncoder(dtype='int'),\n",
       "                                                  ['sfr_cluster']),\n",
       "                                                 ('recpi_cluster',\n",
       "                                                  OneHotEncoder(dtype='int'),\n",
       "                                                  ['recpi_cluster'])])),\n",
       "                ('knn', KNeighborsRegressor())])"
      ]
     },
     "execution_count": 29,
     "metadata": {},
     "output_type": "execute_result"
    }
   ],
   "source": [
    "pipe.fit(X_train, y_train)"
   ]
  },
  {
   "cell_type": "code",
   "execution_count": 30,
   "metadata": {},
   "outputs": [
    {
     "data": {
      "text/plain": [
       "0.6208287391294709"
      ]
     },
     "execution_count": 30,
     "metadata": {},
     "output_type": "execute_result"
    }
   ],
   "source": [
    "y_pred = pipe.predict(X_train)\n",
    "explained_variance_score(y_train, y_pred)"
   ]
  },
  {
   "cell_type": "code",
   "execution_count": 31,
   "metadata": {},
   "outputs": [
    {
     "data": {
      "text/plain": [
       "0.4731811741088804"
      ]
     },
     "execution_count": 31,
     "metadata": {},
     "output_type": "execute_result"
    }
   ],
   "source": [
    "y_pred = pipe.predict(X_test)\n",
    "explained_variance_score(y_test, y_pred)"
   ]
  },
  {
   "cell_type": "markdown",
   "metadata": {},
   "source": [
    "## SVM Regressor"
   ]
  },
  {
   "cell_type": "code",
   "execution_count": 32,
   "metadata": {},
   "outputs": [],
   "source": [
    "from sklearn.svm import SVR"
   ]
  },
  {
   "cell_type": "code",
   "execution_count": 33,
   "metadata": {},
   "outputs": [],
   "source": [
    "pipe = Pipeline([('transformer', column_trans), ('svr', SVR())])"
   ]
  },
  {
   "cell_type": "code",
   "execution_count": 34,
   "metadata": {},
   "outputs": [
    {
     "data": {
      "text/plain": [
       "Pipeline(steps=[('transformer',\n",
       "                 ColumnTransformer(transformers=[('scale', StandardScaler(),\n",
       "                                                  <sklearn.compose._column_transformer.make_column_selector object at 0x000002627B9FBA00>),\n",
       "                                                 ('dataset_cluster',\n",
       "                                                  OneHotEncoder(dtype='int'),\n",
       "                                                  ['dataset_cluster']),\n",
       "                                                 ('zip_cluster',\n",
       "                                                  OneHotEncoder(dtype='int'),\n",
       "                                                  ['zip_cluster']),\n",
       "                                                 ('msa_cluster',\n",
       "                                                  OneHotEncoder(dtype='int'),\n",
       "                                                  ['msa_cluster']),\n",
       "                                                 ('state_cluster',\n",
       "                                                  OneHotEncoder(dtype='int'),\n",
       "                                                  ['state_cluster']),\n",
       "                                                 ('eqi_cluster',\n",
       "                                                  OneHotEncoder(dtype='int'),\n",
       "                                                  ['eqi_cluster']),\n",
       "                                                 ('sfr_cluster',\n",
       "                                                  OneHotEncoder(dtype='int'),\n",
       "                                                  ['sfr_cluster']),\n",
       "                                                 ('recpi_cluster',\n",
       "                                                  OneHotEncoder(dtype='int'),\n",
       "                                                  ['recpi_cluster'])])),\n",
       "                ('svr', SVR())])"
      ]
     },
     "execution_count": 34,
     "metadata": {},
     "output_type": "execute_result"
    }
   ],
   "source": [
    "pipe.fit(X_train, y_train)"
   ]
  },
  {
   "cell_type": "code",
   "execution_count": 35,
   "metadata": {},
   "outputs": [
    {
     "data": {
      "text/plain": [
       "0.0"
      ]
     },
     "execution_count": 35,
     "metadata": {},
     "output_type": "execute_result"
    }
   ],
   "source": [
    "y_pred = pipe.predict(X_train)\n",
    "explained_variance_score(y_train, y_pred)"
   ]
  },
  {
   "cell_type": "code",
   "execution_count": 36,
   "metadata": {},
   "outputs": [
    {
     "data": {
      "text/plain": [
       "0.0"
      ]
     },
     "execution_count": 36,
     "metadata": {},
     "output_type": "execute_result"
    }
   ],
   "source": [
    "y_pred = pipe.predict(X_test)\n",
    "explained_variance_score(y_test, y_pred)"
   ]
  },
  {
   "cell_type": "markdown",
   "metadata": {},
   "source": [
    "## Ensemble Methods"
   ]
  },
  {
   "cell_type": "markdown",
   "metadata": {},
   "source": [
    "### Random Forest"
   ]
  },
  {
   "cell_type": "code",
   "execution_count": 37,
   "metadata": {},
   "outputs": [],
   "source": [
    "from sklearn.ensemble import RandomForestRegressor"
   ]
  },
  {
   "cell_type": "code",
   "execution_count": 38,
   "metadata": {},
   "outputs": [],
   "source": [
    "pipe = Pipeline([('transformer', column_trans), ('rf', RandomForestRegressor(n_jobs=-1))])"
   ]
  },
  {
   "cell_type": "code",
   "execution_count": 39,
   "metadata": {},
   "outputs": [
    {
     "data": {
      "text/plain": [
       "Pipeline(steps=[('transformer',\n",
       "                 ColumnTransformer(transformers=[('scale', StandardScaler(),\n",
       "                                                  <sklearn.compose._column_transformer.make_column_selector object at 0x000002627B9FBA00>),\n",
       "                                                 ('dataset_cluster',\n",
       "                                                  OneHotEncoder(dtype='int'),\n",
       "                                                  ['dataset_cluster']),\n",
       "                                                 ('zip_cluster',\n",
       "                                                  OneHotEncoder(dtype='int'),\n",
       "                                                  ['zip_cluster']),\n",
       "                                                 ('msa_cluster',\n",
       "                                                  OneHotEncoder(dtype='int'),\n",
       "                                                  ['msa_cluster']),\n",
       "                                                 ('state_cluster',\n",
       "                                                  OneHotEncoder(dtype='int'),\n",
       "                                                  ['state_cluster']),\n",
       "                                                 ('eqi_cluster',\n",
       "                                                  OneHotEncoder(dtype='int'),\n",
       "                                                  ['eqi_cluster']),\n",
       "                                                 ('sfr_cluster',\n",
       "                                                  OneHotEncoder(dtype='int'),\n",
       "                                                  ['sfr_cluster']),\n",
       "                                                 ('recpi_cluster',\n",
       "                                                  OneHotEncoder(dtype='int'),\n",
       "                                                  ['recpi_cluster'])])),\n",
       "                ('rf', RandomForestRegressor(n_jobs=-1))])"
      ]
     },
     "execution_count": 39,
     "metadata": {},
     "output_type": "execute_result"
    }
   ],
   "source": [
    "pipe.fit(X_train, y_train)"
   ]
  },
  {
   "cell_type": "code",
   "execution_count": 40,
   "metadata": {},
   "outputs": [
    {
     "data": {
      "text/plain": [
       "0.9280465824067413"
      ]
     },
     "execution_count": 40,
     "metadata": {},
     "output_type": "execute_result"
    }
   ],
   "source": [
    "y_pred = pipe.predict(X_train)\n",
    "explained_variance_score(y_train, y_pred)"
   ]
  },
  {
   "cell_type": "code",
   "execution_count": 41,
   "metadata": {},
   "outputs": [
    {
     "data": {
      "text/plain": [
       "0.5738328779635475"
      ]
     },
     "execution_count": 41,
     "metadata": {},
     "output_type": "execute_result"
    }
   ],
   "source": [
    "y_pred = pipe.predict(X_test)\n",
    "explained_variance_score(y_test, y_pred)"
   ]
  },
  {
   "cell_type": "markdown",
   "metadata": {},
   "source": [
    "### Gradient Boosting"
   ]
  },
  {
   "cell_type": "code",
   "execution_count": 42,
   "metadata": {},
   "outputs": [],
   "source": [
    "from sklearn.ensemble import GradientBoostingRegressor"
   ]
  },
  {
   "cell_type": "code",
   "execution_count": 43,
   "metadata": {},
   "outputs": [],
   "source": [
    "pipe = Pipeline([('transformer', column_trans), ('gbr', GradientBoostingRegressor())])"
   ]
  },
  {
   "cell_type": "code",
   "execution_count": 44,
   "metadata": {},
   "outputs": [
    {
     "data": {
      "text/plain": [
       "Pipeline(steps=[('transformer',\n",
       "                 ColumnTransformer(transformers=[('scale', StandardScaler(),\n",
       "                                                  <sklearn.compose._column_transformer.make_column_selector object at 0x000002627B9FBA00>),\n",
       "                                                 ('dataset_cluster',\n",
       "                                                  OneHotEncoder(dtype='int'),\n",
       "                                                  ['dataset_cluster']),\n",
       "                                                 ('zip_cluster',\n",
       "                                                  OneHotEncoder(dtype='int'),\n",
       "                                                  ['zip_cluster']),\n",
       "                                                 ('msa_cluster',\n",
       "                                                  OneHotEncoder(dtype='int'),\n",
       "                                                  ['msa_cluster']),\n",
       "                                                 ('state_cluster',\n",
       "                                                  OneHotEncoder(dtype='int'),\n",
       "                                                  ['state_cluster']),\n",
       "                                                 ('eqi_cluster',\n",
       "                                                  OneHotEncoder(dtype='int'),\n",
       "                                                  ['eqi_cluster']),\n",
       "                                                 ('sfr_cluster',\n",
       "                                                  OneHotEncoder(dtype='int'),\n",
       "                                                  ['sfr_cluster']),\n",
       "                                                 ('recpi_cluster',\n",
       "                                                  OneHotEncoder(dtype='int'),\n",
       "                                                  ['recpi_cluster'])])),\n",
       "                ('gbr', GradientBoostingRegressor())])"
      ]
     },
     "execution_count": 44,
     "metadata": {},
     "output_type": "execute_result"
    }
   ],
   "source": [
    "pipe.fit(X_train, y_train)"
   ]
  },
  {
   "cell_type": "code",
   "execution_count": 45,
   "metadata": {},
   "outputs": [
    {
     "data": {
      "text/plain": [
       "0.7514978457237905"
      ]
     },
     "execution_count": 45,
     "metadata": {},
     "output_type": "execute_result"
    }
   ],
   "source": [
    "y_pred = pipe.predict(X_train)\n",
    "explained_variance_score(y_train, y_pred)"
   ]
  },
  {
   "cell_type": "code",
   "execution_count": 46,
   "metadata": {},
   "outputs": [
    {
     "data": {
      "text/plain": [
       "0.5917020866154358"
      ]
     },
     "execution_count": 46,
     "metadata": {},
     "output_type": "execute_result"
    }
   ],
   "source": [
    "y_pred = pipe.predict(X_test)\n",
    "explained_variance_score(y_test, y_pred)"
   ]
  },
  {
   "cell_type": "markdown",
   "metadata": {},
   "source": [
    "### AdaBoost"
   ]
  },
  {
   "cell_type": "code",
   "execution_count": 47,
   "metadata": {},
   "outputs": [],
   "source": [
    "from sklearn.ensemble import AdaBoostRegressor"
   ]
  },
  {
   "cell_type": "code",
   "execution_count": 48,
   "metadata": {},
   "outputs": [],
   "source": [
    "pipe = Pipeline([('transformer', column_trans), ('adaboost', AdaBoostRegressor())])"
   ]
  },
  {
   "cell_type": "code",
   "execution_count": 49,
   "metadata": {},
   "outputs": [
    {
     "data": {
      "text/plain": [
       "Pipeline(steps=[('transformer',\n",
       "                 ColumnTransformer(transformers=[('scale', StandardScaler(),\n",
       "                                                  <sklearn.compose._column_transformer.make_column_selector object at 0x000002627B9FBA00>),\n",
       "                                                 ('dataset_cluster',\n",
       "                                                  OneHotEncoder(dtype='int'),\n",
       "                                                  ['dataset_cluster']),\n",
       "                                                 ('zip_cluster',\n",
       "                                                  OneHotEncoder(dtype='int'),\n",
       "                                                  ['zip_cluster']),\n",
       "                                                 ('msa_cluster',\n",
       "                                                  OneHotEncoder(dtype='int'),\n",
       "                                                  ['msa_cluster']),\n",
       "                                                 ('state_cluster',\n",
       "                                                  OneHotEncoder(dtype='int'),\n",
       "                                                  ['state_cluster']),\n",
       "                                                 ('eqi_cluster',\n",
       "                                                  OneHotEncoder(dtype='int'),\n",
       "                                                  ['eqi_cluster']),\n",
       "                                                 ('sfr_cluster',\n",
       "                                                  OneHotEncoder(dtype='int'),\n",
       "                                                  ['sfr_cluster']),\n",
       "                                                 ('recpi_cluster',\n",
       "                                                  OneHotEncoder(dtype='int'),\n",
       "                                                  ['recpi_cluster'])])),\n",
       "                ('adaboost', AdaBoostRegressor())])"
      ]
     },
     "execution_count": 49,
     "metadata": {},
     "output_type": "execute_result"
    }
   ],
   "source": [
    "pipe.fit(X_train, y_train)"
   ]
  },
  {
   "cell_type": "code",
   "execution_count": 50,
   "metadata": {},
   "outputs": [
    {
     "data": {
      "text/plain": [
       "0.13579130541443818"
      ]
     },
     "execution_count": 50,
     "metadata": {},
     "output_type": "execute_result"
    }
   ],
   "source": [
    "y_pred = pipe.predict(X_train)\n",
    "explained_variance_score(y_train, y_pred)"
   ]
  },
  {
   "cell_type": "code",
   "execution_count": 51,
   "metadata": {},
   "outputs": [
    {
     "data": {
      "text/plain": [
       "-0.008908398366057613"
      ]
     },
     "execution_count": 51,
     "metadata": {},
     "output_type": "execute_result"
    }
   ],
   "source": [
    "y_pred = pipe.predict(X_test)\n",
    "explained_variance_score(y_test, y_pred)"
   ]
  },
  {
   "cell_type": "markdown",
   "metadata": {},
   "source": [
    "### SVR Bagging"
   ]
  },
  {
   "cell_type": "code",
   "execution_count": 52,
   "metadata": {},
   "outputs": [],
   "source": [
    "from sklearn.ensemble import BaggingRegressor\n",
    "from sklearn.svm import SVR"
   ]
  },
  {
   "cell_type": "code",
   "execution_count": 53,
   "metadata": {},
   "outputs": [],
   "source": [
    "pipe = Pipeline([('transformer', column_trans), ('bagging', BaggingRegressor(base_estimator=SVR()))])"
   ]
  },
  {
   "cell_type": "code",
   "execution_count": 54,
   "metadata": {},
   "outputs": [
    {
     "data": {
      "text/plain": [
       "Pipeline(steps=[('transformer',\n",
       "                 ColumnTransformer(transformers=[('scale', StandardScaler(),\n",
       "                                                  <sklearn.compose._column_transformer.make_column_selector object at 0x000002627B9FBA00>),\n",
       "                                                 ('dataset_cluster',\n",
       "                                                  OneHotEncoder(dtype='int'),\n",
       "                                                  ['dataset_cluster']),\n",
       "                                                 ('zip_cluster',\n",
       "                                                  OneHotEncoder(dtype='int'),\n",
       "                                                  ['zip_cluster']),\n",
       "                                                 ('msa_cluster',\n",
       "                                                  OneHotEncoder(dtype='int'),\n",
       "                                                  ['msa_cluster']),\n",
       "                                                 ('state_cluster',\n",
       "                                                  OneHotEncoder(dtype='int'),\n",
       "                                                  ['state_cluster']),\n",
       "                                                 ('eqi_cluster',\n",
       "                                                  OneHotEncoder(dtype='int'),\n",
       "                                                  ['eqi_cluster']),\n",
       "                                                 ('sfr_cluster',\n",
       "                                                  OneHotEncoder(dtype='int'),\n",
       "                                                  ['sfr_cluster']),\n",
       "                                                 ('recpi_cluster',\n",
       "                                                  OneHotEncoder(dtype='int'),\n",
       "                                                  ['recpi_cluster'])])),\n",
       "                ('bagging', BaggingRegressor(base_estimator=SVR()))])"
      ]
     },
     "execution_count": 54,
     "metadata": {},
     "output_type": "execute_result"
    }
   ],
   "source": [
    "pipe.fit(X_train, y_train)"
   ]
  },
  {
   "cell_type": "code",
   "execution_count": 55,
   "metadata": {},
   "outputs": [
    {
     "data": {
      "text/plain": [
       "0.0"
      ]
     },
     "execution_count": 55,
     "metadata": {},
     "output_type": "execute_result"
    }
   ],
   "source": [
    "y_pred = pipe.predict(X_train)\n",
    "explained_variance_score(y_train, y_pred)"
   ]
  },
  {
   "cell_type": "code",
   "execution_count": 56,
   "metadata": {},
   "outputs": [
    {
     "data": {
      "text/plain": [
       "-2.220446049250313e-16"
      ]
     },
     "execution_count": 56,
     "metadata": {},
     "output_type": "execute_result"
    }
   ],
   "source": [
    "y_pred = pipe.predict(X_test)\n",
    "explained_variance_score(y_test, y_pred)"
   ]
  },
  {
   "cell_type": "markdown",
   "metadata": {},
   "source": [
    "## NN Model"
   ]
  },
  {
   "cell_type": "code",
   "execution_count": 57,
   "metadata": {},
   "outputs": [],
   "source": [
    "from sklearn.neural_network import MLPRegressor"
   ]
  },
  {
   "cell_type": "code",
   "execution_count": 58,
   "metadata": {},
   "outputs": [],
   "source": [
    "pipe = Pipeline([('transformer', column_trans), ('perceptron', MLPRegressor())])"
   ]
  },
  {
   "cell_type": "code",
   "execution_count": 59,
   "metadata": {},
   "outputs": [
    {
     "data": {
      "text/plain": [
       "Pipeline(steps=[('transformer',\n",
       "                 ColumnTransformer(transformers=[('scale', StandardScaler(),\n",
       "                                                  <sklearn.compose._column_transformer.make_column_selector object at 0x000002627B9FBA00>),\n",
       "                                                 ('dataset_cluster',\n",
       "                                                  OneHotEncoder(dtype='int'),\n",
       "                                                  ['dataset_cluster']),\n",
       "                                                 ('zip_cluster',\n",
       "                                                  OneHotEncoder(dtype='int'),\n",
       "                                                  ['zip_cluster']),\n",
       "                                                 ('msa_cluster',\n",
       "                                                  OneHotEncoder(dtype='int'),\n",
       "                                                  ['msa_cluster']),\n",
       "                                                 ('state_cluster',\n",
       "                                                  OneHotEncoder(dtype='int'),\n",
       "                                                  ['state_cluster']),\n",
       "                                                 ('eqi_cluster',\n",
       "                                                  OneHotEncoder(dtype='int'),\n",
       "                                                  ['eqi_cluster']),\n",
       "                                                 ('sfr_cluster',\n",
       "                                                  OneHotEncoder(dtype='int'),\n",
       "                                                  ['sfr_cluster']),\n",
       "                                                 ('recpi_cluster',\n",
       "                                                  OneHotEncoder(dtype='int'),\n",
       "                                                  ['recpi_cluster'])])),\n",
       "                ('perceptron', MLPRegressor())])"
      ]
     },
     "execution_count": 59,
     "metadata": {},
     "output_type": "execute_result"
    }
   ],
   "source": [
    "pipe.fit(X_train, y_train)"
   ]
  },
  {
   "cell_type": "code",
   "execution_count": 60,
   "metadata": {},
   "outputs": [
    {
     "data": {
      "text/plain": [
       "-1188.2890563219987"
      ]
     },
     "execution_count": 60,
     "metadata": {},
     "output_type": "execute_result"
    }
   ],
   "source": [
    "y_pred = pipe.predict(X_train)\n",
    "explained_variance_score(y_train, y_pred)"
   ]
  },
  {
   "cell_type": "code",
   "execution_count": 61,
   "metadata": {},
   "outputs": [
    {
     "data": {
      "text/plain": [
       "-375.5556199019439"
      ]
     },
     "execution_count": 61,
     "metadata": {},
     "output_type": "execute_result"
    }
   ],
   "source": [
    "y_pred = pipe.predict(X_test)\n",
    "explained_variance_score(y_test, y_pred)"
   ]
  },
  {
   "cell_type": "code",
   "execution_count": null,
   "metadata": {},
   "outputs": [],
   "source": []
  }
 ],
 "metadata": {
  "kernelspec": {
   "display_name": "Python 3",
   "language": "python",
   "name": "python3"
  },
  "language_info": {
   "codemirror_mode": {
    "name": "ipython",
    "version": 3
   },
   "file_extension": ".py",
   "mimetype": "text/x-python",
   "name": "python",
   "nbconvert_exporter": "python",
   "pygments_lexer": "ipython3",
   "version": "3.8.3"
  }
 },
 "nbformat": 4,
 "nbformat_minor": 4
}
