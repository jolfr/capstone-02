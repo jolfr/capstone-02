{
 "cells": [
  {
   "cell_type": "code",
   "execution_count": 3,
   "metadata": {},
   "outputs": [],
   "source": [
    "from sklearn.model_selection import train_test_split\n",
    "import pandas as pd\n",
    "import numpy as np"
   ]
  },
  {
   "cell_type": "code",
   "execution_count": 4,
   "metadata": {},
   "outputs": [
    {
     "data": {
      "text/html": [
       "<div>\n",
       "<style scoped>\n",
       "    .dataframe tbody tr th:only-of-type {\n",
       "        vertical-align: middle;\n",
       "    }\n",
       "\n",
       "    .dataframe tbody tr th {\n",
       "        vertical-align: top;\n",
       "    }\n",
       "\n",
       "    .dataframe thead th {\n",
       "        text-align: right;\n",
       "    }\n",
       "</style>\n",
       "<table border=\"1\" class=\"dataframe\">\n",
       "  <thead>\n",
       "    <tr style=\"text-align: right;\">\n",
       "      <th></th>\n",
       "      <th>zipcode</th>\n",
       "      <th>start_year</th>\n",
       "      <th>avg_eqi_year_5-10</th>\n",
       "      <th>year_1_EQI_MSA</th>\n",
       "      <th>year_1_EQI_state</th>\n",
       "      <th>year_1_EQI_zip</th>\n",
       "      <th>year_1_RECPI_MSA</th>\n",
       "      <th>year_1_RECPI_state</th>\n",
       "      <th>year_1_RECPI_zip</th>\n",
       "      <th>year_2_EQI_MSA</th>\n",
       "      <th>...</th>\n",
       "      <th>recpi_state_change_2</th>\n",
       "      <th>recpi_state_change_3</th>\n",
       "      <th>recpi_state_change_4</th>\n",
       "      <th>avg_eqi_year_1-5</th>\n",
       "      <th>dataset_cluster</th>\n",
       "      <th>zip_cluster</th>\n",
       "      <th>msa_cluster</th>\n",
       "      <th>state_cluster</th>\n",
       "      <th>eqi_cluster</th>\n",
       "      <th>recpi_cluster</th>\n",
       "    </tr>\n",
       "  </thead>\n",
       "  <tbody>\n",
       "    <tr>\n",
       "      <th>0</th>\n",
       "      <td>1001</td>\n",
       "      <td>1992</td>\n",
       "      <td>0.001287</td>\n",
       "      <td>0.001549</td>\n",
       "      <td>0.002111</td>\n",
       "      <td>0.002216</td>\n",
       "      <td>1.176876</td>\n",
       "      <td>28.052156</td>\n",
       "      <td>0.048744</td>\n",
       "      <td>0.001266</td>\n",
       "      <td>...</td>\n",
       "      <td>1.020560</td>\n",
       "      <td>1.036390</td>\n",
       "      <td>1.251689</td>\n",
       "      <td>0.002170</td>\n",
       "      <td>3</td>\n",
       "      <td>0</td>\n",
       "      <td>0</td>\n",
       "      <td>1</td>\n",
       "      <td>0</td>\n",
       "      <td>0</td>\n",
       "    </tr>\n",
       "    <tr>\n",
       "      <th>1</th>\n",
       "      <td>1001</td>\n",
       "      <td>1997</td>\n",
       "      <td>0.001853</td>\n",
       "      <td>0.001233</td>\n",
       "      <td>0.002386</td>\n",
       "      <td>0.000840</td>\n",
       "      <td>1.112023</td>\n",
       "      <td>41.174500</td>\n",
       "      <td>0.035283</td>\n",
       "      <td>0.001164</td>\n",
       "      <td>...</td>\n",
       "      <td>1.245044</td>\n",
       "      <td>1.448812</td>\n",
       "      <td>0.693670</td>\n",
       "      <td>0.001287</td>\n",
       "      <td>3</td>\n",
       "      <td>0</td>\n",
       "      <td>0</td>\n",
       "      <td>1</td>\n",
       "      <td>0</td>\n",
       "      <td>0</td>\n",
       "    </tr>\n",
       "    <tr>\n",
       "      <th>2</th>\n",
       "      <td>1001</td>\n",
       "      <td>2002</td>\n",
       "      <td>0.000602</td>\n",
       "      <td>0.001494</td>\n",
       "      <td>0.002450</td>\n",
       "      <td>0.001504</td>\n",
       "      <td>1.746593</td>\n",
       "      <td>50.713380</td>\n",
       "      <td>0.054131</td>\n",
       "      <td>0.001073</td>\n",
       "      <td>...</td>\n",
       "      <td>0.905151</td>\n",
       "      <td>1.007785</td>\n",
       "      <td>1.046863</td>\n",
       "      <td>0.001853</td>\n",
       "      <td>3</td>\n",
       "      <td>0</td>\n",
       "      <td>0</td>\n",
       "      <td>1</td>\n",
       "      <td>0</td>\n",
       "      <td>0</td>\n",
       "    </tr>\n",
       "    <tr>\n",
       "      <th>3</th>\n",
       "      <td>1001</td>\n",
       "      <td>2007</td>\n",
       "      <td>0.000898</td>\n",
       "      <td>0.000702</td>\n",
       "      <td>0.001817</td>\n",
       "      <td>0.000611</td>\n",
       "      <td>1.081845</td>\n",
       "      <td>45.171143</td>\n",
       "      <td>0.036063</td>\n",
       "      <td>0.000758</td>\n",
       "      <td>...</td>\n",
       "      <td>0.801518</td>\n",
       "      <td>1.088810</td>\n",
       "      <td>1.051707</td>\n",
       "      <td>0.000602</td>\n",
       "      <td>3</td>\n",
       "      <td>0</td>\n",
       "      <td>0</td>\n",
       "      <td>1</td>\n",
       "      <td>0</td>\n",
       "      <td>0</td>\n",
       "    </tr>\n",
       "    <tr>\n",
       "      <th>4</th>\n",
       "      <td>1002</td>\n",
       "      <td>1992</td>\n",
       "      <td>0.002931</td>\n",
       "      <td>0.001549</td>\n",
       "      <td>0.002111</td>\n",
       "      <td>0.000959</td>\n",
       "      <td>1.176876</td>\n",
       "      <td>28.052156</td>\n",
       "      <td>0.020148</td>\n",
       "      <td>0.001266</td>\n",
       "      <td>...</td>\n",
       "      <td>1.020560</td>\n",
       "      <td>1.036390</td>\n",
       "      <td>1.251689</td>\n",
       "      <td>0.003141</td>\n",
       "      <td>3</td>\n",
       "      <td>1</td>\n",
       "      <td>0</td>\n",
       "      <td>1</td>\n",
       "      <td>0</td>\n",
       "      <td>0</td>\n",
       "    </tr>\n",
       "  </tbody>\n",
       "</table>\n",
       "<p>5 rows × 68 columns</p>\n",
       "</div>"
      ],
      "text/plain": [
       "   zipcode  start_year  avg_eqi_year_5-10  year_1_EQI_MSA  year_1_EQI_state  \\\n",
       "0     1001        1992           0.001287        0.001549          0.002111   \n",
       "1     1001        1997           0.001853        0.001233          0.002386   \n",
       "2     1001        2002           0.000602        0.001494          0.002450   \n",
       "3     1001        2007           0.000898        0.000702          0.001817   \n",
       "4     1002        1992           0.002931        0.001549          0.002111   \n",
       "\n",
       "   year_1_EQI_zip  year_1_RECPI_MSA  year_1_RECPI_state  year_1_RECPI_zip  \\\n",
       "0        0.002216          1.176876           28.052156          0.048744   \n",
       "1        0.000840          1.112023           41.174500          0.035283   \n",
       "2        0.001504          1.746593           50.713380          0.054131   \n",
       "3        0.000611          1.081845           45.171143          0.036063   \n",
       "4        0.000959          1.176876           28.052156          0.020148   \n",
       "\n",
       "   year_2_EQI_MSA  ...  recpi_state_change_2  recpi_state_change_3  \\\n",
       "0        0.001266  ...              1.020560              1.036390   \n",
       "1        0.001164  ...              1.245044              1.448812   \n",
       "2        0.001073  ...              0.905151              1.007785   \n",
       "3        0.000758  ...              0.801518              1.088810   \n",
       "4        0.001266  ...              1.020560              1.036390   \n",
       "\n",
       "   recpi_state_change_4  avg_eqi_year_1-5  dataset_cluster  zip_cluster  \\\n",
       "0              1.251689          0.002170                3            0   \n",
       "1              0.693670          0.001287                3            0   \n",
       "2              1.046863          0.001853                3            0   \n",
       "3              1.051707          0.000602                3            0   \n",
       "4              1.251689          0.003141                3            1   \n",
       "\n",
       "   msa_cluster  state_cluster  eqi_cluster  recpi_cluster  \n",
       "0            0              1            0              0  \n",
       "1            0              1            0              0  \n",
       "2            0              1            0              0  \n",
       "3            0              1            0              0  \n",
       "4            0              1            0              0  \n",
       "\n",
       "[5 rows x 68 columns]"
      ]
     },
     "execution_count": 4,
     "metadata": {},
     "output_type": "execute_result"
    }
   ],
   "source": [
    "filename = '../../data/processed/feature-eng-clustered.csv'\n",
    "df = pd.read_csv(filename)\n",
    "df.head()"
   ]
  },
  {
   "cell_type": "code",
   "execution_count": 5,
   "metadata": {},
   "outputs": [],
   "source": [
    "X = df['zipcode'].unique()\n",
    "y = df['zipcode'].unique()"
   ]
  },
  {
   "cell_type": "code",
   "execution_count": 6,
   "metadata": {},
   "outputs": [],
   "source": [
    "X_train, X_test, y_train, y_test = train_test_split(X, y, test_size=0.2, random_state=42)"
   ]
  },
  {
   "cell_type": "code",
   "execution_count": 7,
   "metadata": {},
   "outputs": [],
   "source": [
    "X = df.drop('avg_eqi_year_5-10', axis=1)\n",
    "y = df[['zipcode','start_year','avg_eqi_year_5-10']]"
   ]
  },
  {
   "cell_type": "code",
   "execution_count": 8,
   "metadata": {},
   "outputs": [],
   "source": [
    "X_train = pd.DataFrame(X_train)\n",
    "X_train.columns = ['zipcode']\n",
    "\n",
    "X_test = pd.DataFrame(X_test)\n",
    "X_test.columns = ['zipcode']\n",
    "\n",
    "y_train = pd.DataFrame(y_train)\n",
    "y_train.columns = ['zipcode']\n",
    "\n",
    "y_test = pd.DataFrame(y_test)\n",
    "y_test.columns = ['zipcode']"
   ]
  },
  {
   "cell_type": "code",
   "execution_count": 9,
   "metadata": {},
   "outputs": [],
   "source": [
    "X_train = X_train.merge(X, on='zipcode').sort_values(['zipcode','start_year'], ignore_index=True)\n",
    "X_test = X_test.merge(X, on='zipcode').sort_values(['zipcode','start_year'], ignore_index=True)\n",
    "y_train = y_train.merge(y, on='zipcode').sort_values(['zipcode','start_year'], ignore_index=True)\n",
    "y_test = y_test.merge(y, on='zipcode').sort_values(['zipcode','start_year'], ignore_index=True)"
   ]
  },
  {
   "cell_type": "code",
   "execution_count": 10,
   "metadata": {},
   "outputs": [],
   "source": [
    "X_test = X_test.drop(['zipcode','start_year'], axis=1)\n",
    "X_train = X_train.drop(['zipcode','start_year'], axis=1)\n",
    "y_test = y_test[['avg_eqi_year_5-10']].to_numpy().ravel()\n",
    "y_train = y_train[['avg_eqi_year_5-10']].to_numpy().ravel()"
   ]
  },
  {
   "cell_type": "code",
   "execution_count": 11,
   "metadata": {},
   "outputs": [],
   "source": [
    "from sklearn.preprocessing import StandardScaler, OneHotEncoder\n",
    "from sklearn.pipeline import Pipeline\n",
    "from sklearn.compose import ColumnTransformer, make_column_selector\n",
    "from sklearn.metrics import r2_score, mean_gamma_deviance, mean_absolute_error"
   ]
  },
  {
   "cell_type": "code",
   "execution_count": 12,
   "metadata": {},
   "outputs": [
    {
     "data": {
      "text/plain": [
       "ColumnTransformer(transformers=[('scale', StandardScaler(),\n",
       "                                 <sklearn.compose._column_transformer.make_column_selector object at 0x0000017AF6E65DC0>),\n",
       "                                ('dataset_cluster', OneHotEncoder(dtype='int'),\n",
       "                                 ['dataset_cluster']),\n",
       "                                ('zip_cluster', OneHotEncoder(dtype='int'),\n",
       "                                 ['zip_cluster']),\n",
       "                                ('msa_cluster', OneHotEncoder(dtype='int'),\n",
       "                                 ['msa_cluster']),\n",
       "                                ('state_cluster', OneHotEncoder(dtype='int'),\n",
       "                                 ['state_cluster']),\n",
       "                                ('eqi_cluster', OneHotEncoder(dtype='int'),\n",
       "                                 ['eqi_cluster']),\n",
       "                                ('recpi_cluster', OneHotEncoder(dtype='int'),\n",
       "                                 ['recpi_cluster'])])"
      ]
     },
     "execution_count": 12,
     "metadata": {},
     "output_type": "execute_result"
    }
   ],
   "source": [
    "column_trans = ColumnTransformer([\n",
    "    ('scale', StandardScaler(), make_column_selector(dtype_include=np.float64)),\n",
    "    ('dataset_cluster', OneHotEncoder(dtype='int'), ['dataset_cluster']),\n",
    "    ('zip_cluster', OneHotEncoder(dtype='int'), ['zip_cluster']),\n",
    "    ('msa_cluster', OneHotEncoder(dtype='int'), ['msa_cluster']),\n",
    "    ('state_cluster', OneHotEncoder(dtype='int'), ['state_cluster']),\n",
    "    ('eqi_cluster', OneHotEncoder(dtype='int'), ['eqi_cluster']),\n",
    "    ('recpi_cluster', OneHotEncoder(dtype='int'), ['recpi_cluster'])\n",
    "    ], remainder='drop')\n",
    "\n",
    "column_trans.fit(X_train)"
   ]
  },
  {
   "cell_type": "code",
   "execution_count": 13,
   "metadata": {},
   "outputs": [],
   "source": [
    "from sklearn.ensemble import RandomForestRegressor"
   ]
  },
  {
   "cell_type": "code",
   "execution_count": 14,
   "metadata": {},
   "outputs": [],
   "source": [
    "rf = RandomForestRegressor(bootstrap=False, max_depth=72, max_features='sqrt', min_samples_leaf=4, min_samples_split=2, n_estimators=315)"
   ]
  },
  {
   "cell_type": "code",
   "execution_count": 15,
   "metadata": {},
   "outputs": [],
   "source": [
    "pipe = Pipeline([('transformer', column_trans), ('rf', rf)])"
   ]
  },
  {
   "cell_type": "code",
   "execution_count": 16,
   "metadata": {},
   "outputs": [
    {
     "data": {
      "text/plain": [
       "Pipeline(steps=[('transformer',\n",
       "                 ColumnTransformer(transformers=[('scale', StandardScaler(),\n",
       "                                                  <sklearn.compose._column_transformer.make_column_selector object at 0x0000017AF6E65DC0>),\n",
       "                                                 ('dataset_cluster',\n",
       "                                                  OneHotEncoder(dtype='int'),\n",
       "                                                  ['dataset_cluster']),\n",
       "                                                 ('zip_cluster',\n",
       "                                                  OneHotEncoder(dtype='int'),\n",
       "                                                  ['zip_cluster']),\n",
       "                                                 ('msa_cluster',\n",
       "                                                  OneHotEncoder(dtype='int'),\n",
       "                                                  ['msa_cluster']),\n",
       "                                                 ('state_cluster',\n",
       "                                                  OneHotEncoder(dtype='int'),\n",
       "                                                  ['state_cluster']),\n",
       "                                                 ('eqi_cluster',\n",
       "                                                  OneHotEncoder(dtype='int'),\n",
       "                                                  ['eqi_cluster']),\n",
       "                                                 ('recpi_cluster',\n",
       "                                                  OneHotEncoder(dtype='int'),\n",
       "                                                  ['recpi_cluster'])])),\n",
       "                ('rf',\n",
       "                 RandomForestRegressor(bootstrap=False, max_depth=72,\n",
       "                                       max_features='sqrt', min_samples_leaf=4,\n",
       "                                       n_estimators=315))])"
      ]
     },
     "execution_count": 16,
     "metadata": {},
     "output_type": "execute_result"
    }
   ],
   "source": [
    "pipe.fit(X_train, y_train)"
   ]
  },
  {
   "cell_type": "code",
   "execution_count": 17,
   "metadata": {},
   "outputs": [],
   "source": [
    "y_pred = pipe.predict(X_test)"
   ]
  },
  {
   "cell_type": "code",
   "execution_count": 18,
   "metadata": {},
   "outputs": [
    {
     "data": {
      "text/plain": [
       "0.604071867288065"
      ]
     },
     "execution_count": 18,
     "metadata": {},
     "output_type": "execute_result"
    }
   ],
   "source": [
    "r2_score(y_test, y_pred)"
   ]
  },
  {
   "cell_type": "code",
   "execution_count": null,
   "metadata": {},
   "outputs": [],
   "source": []
  },
  {
   "cell_type": "code",
   "execution_count": 19,
   "metadata": {},
   "outputs": [],
   "source": [
    "y_comp = pd.DataFrame(y_test)\n",
    "y_comp = y_comp.rename(columns={0: \"Target\"})"
   ]
  },
  {
   "cell_type": "code",
   "execution_count": 20,
   "metadata": {},
   "outputs": [],
   "source": [
    "y_comp['Prediction'] = y_pred"
   ]
  },
  {
   "cell_type": "code",
   "execution_count": 21,
   "metadata": {},
   "outputs": [],
   "source": [
    "y_comp['Diff'] = y_comp['Prediction'] - y_comp['Target']"
   ]
  },
  {
   "cell_type": "code",
   "execution_count": 162,
   "metadata": {},
   "outputs": [],
   "source": [
    "y_comp['PE'] = (y_comp['Diff'] / y_comp['Target'])"
   ]
  },
  {
   "cell_type": "code",
   "execution_count": 163,
   "metadata": {},
   "outputs": [
    {
     "name": "stdout",
     "output_type": "stream",
     "text": [
      "<class 'pandas.core.frame.DataFrame'>\n",
      "RangeIndex: 13628 entries, 0 to 13627\n",
      "Data columns (total 5 columns):\n",
      " #   Column      Non-Null Count  Dtype   \n",
      "---  ------      --------------  -----   \n",
      " 0   Target      13628 non-null  float64 \n",
      " 1   Prediction  13628 non-null  float64 \n",
      " 2   Diff        13628 non-null  float64 \n",
      " 3   Bin         13628 non-null  category\n",
      " 4   PE          13628 non-null  float64 \n",
      "dtypes: category(1), float64(4)\n",
      "memory usage: 439.5 KB\n"
     ]
    }
   ],
   "source": [
    "y_comp.info()"
   ]
  },
  {
   "cell_type": "code",
   "execution_count": 104,
   "metadata": {},
   "outputs": [],
   "source": [
    "bin_labels = [1, 2, 3, 4]\n",
    "y_comp['Bin'] = pd.qcut(y_comp['Target'], q=4, labels=bin_labels)"
   ]
  },
  {
   "cell_type": "code",
   "execution_count": 105,
   "metadata": {},
   "outputs": [
    {
     "name": "stdout",
     "output_type": "stream",
     "text": [
      "<class 'pandas.core.frame.DataFrame'>\n",
      "RangeIndex: 13628 entries, 0 to 13627\n",
      "Data columns (total 5 columns):\n",
      " #   Column      Non-Null Count  Dtype   \n",
      "---  ------      --------------  -----   \n",
      " 0   Target      13628 non-null  float64 \n",
      " 1   Prediction  13628 non-null  float64 \n",
      " 2   Diff        13628 non-null  float64 \n",
      " 3   Bin         13628 non-null  category\n",
      " 4   PE          13628 non-null  float64 \n",
      "dtypes: category(1), float64(4)\n",
      "memory usage: 439.5 KB\n"
     ]
    }
   ],
   "source": [
    "y_comp.info()"
   ]
  },
  {
   "cell_type": "code",
   "execution_count": 106,
   "metadata": {},
   "outputs": [],
   "source": [
    "quartile_metrics = pd.DataFrame()"
   ]
  },
  {
   "cell_type": "code",
   "execution_count": 107,
   "metadata": {},
   "outputs": [],
   "source": [
    "quartile_metrics['q'] = [1, 2, 3, 4]"
   ]
  },
  {
   "cell_type": "code",
   "execution_count": 108,
   "metadata": {},
   "outputs": [
    {
     "data": {
      "text/html": [
       "<div>\n",
       "<style scoped>\n",
       "    .dataframe tbody tr th:only-of-type {\n",
       "        vertical-align: middle;\n",
       "    }\n",
       "\n",
       "    .dataframe tbody tr th {\n",
       "        vertical-align: top;\n",
       "    }\n",
       "\n",
       "    .dataframe thead th {\n",
       "        text-align: right;\n",
       "    }\n",
       "</style>\n",
       "<table border=\"1\" class=\"dataframe\">\n",
       "  <thead>\n",
       "    <tr style=\"text-align: right;\">\n",
       "      <th></th>\n",
       "      <th>q</th>\n",
       "    </tr>\n",
       "  </thead>\n",
       "  <tbody>\n",
       "    <tr>\n",
       "      <th>0</th>\n",
       "      <td>1</td>\n",
       "    </tr>\n",
       "    <tr>\n",
       "      <th>1</th>\n",
       "      <td>2</td>\n",
       "    </tr>\n",
       "    <tr>\n",
       "      <th>2</th>\n",
       "      <td>3</td>\n",
       "    </tr>\n",
       "    <tr>\n",
       "      <th>3</th>\n",
       "      <td>4</td>\n",
       "    </tr>\n",
       "  </tbody>\n",
       "</table>\n",
       "</div>"
      ],
      "text/plain": [
       "   q\n",
       "0  1\n",
       "1  2\n",
       "2  3\n",
       "3  4"
      ]
     },
     "execution_count": 108,
     "metadata": {},
     "output_type": "execute_result"
    }
   ],
   "source": [
    "quartile_metrics"
   ]
  },
  {
   "cell_type": "markdown",
   "metadata": {},
   "source": [
    "### R-squared"
   ]
  },
  {
   "cell_type": "code",
   "execution_count": 109,
   "metadata": {},
   "outputs": [],
   "source": [
    "quartile_metrics.at[0,'r2_score'] = r2_score(y_comp[y_comp['Bin']==1]['Target'], y_comp[y_comp['Bin']==1]['Prediction'])"
   ]
  },
  {
   "cell_type": "code",
   "execution_count": 110,
   "metadata": {},
   "outputs": [],
   "source": [
    "quartile_metrics.at[1, 'r2_score'] = r2_score(y_comp[y_comp['Bin']==2]['Target'], y_comp[y_comp['Bin']==2]['Prediction'])"
   ]
  },
  {
   "cell_type": "code",
   "execution_count": 111,
   "metadata": {},
   "outputs": [],
   "source": [
    "quartile_metrics.at[2, 'r2_score'] = r2_score(y_comp[y_comp['Bin']==3]['Target'], y_comp[y_comp['Bin']==3]['Prediction'])"
   ]
  },
  {
   "cell_type": "code",
   "execution_count": 112,
   "metadata": {},
   "outputs": [],
   "source": [
    "quartile_metrics.at[3, 'r2_score'] = r2_score(y_comp[y_comp['Bin']==4]['Target'], y_comp[y_comp['Bin']==4]['Prediction'])"
   ]
  },
  {
   "cell_type": "markdown",
   "metadata": {},
   "source": [
    "### Mean Absolute Error"
   ]
  },
  {
   "cell_type": "code",
   "execution_count": 113,
   "metadata": {},
   "outputs": [],
   "source": [
    "quartile_metrics.at[0, 'mae'] = mean_absolute_error(y_comp[y_comp['Bin']==1]['Target'], y_comp[y_comp['Bin']==1]['Prediction'])"
   ]
  },
  {
   "cell_type": "code",
   "execution_count": 114,
   "metadata": {},
   "outputs": [],
   "source": [
    "quartile_metrics.at[1, 'mae'] = mean_absolute_error(y_comp[y_comp['Bin']==2]['Target'], y_comp[y_comp['Bin']==2]['Prediction'])"
   ]
  },
  {
   "cell_type": "code",
   "execution_count": 115,
   "metadata": {},
   "outputs": [],
   "source": [
    "quartile_metrics.at[2,'mae'] = mean_absolute_error(y_comp[y_comp['Bin']==3]['Target'], y_comp[y_comp['Bin']==3]['Prediction'])"
   ]
  },
  {
   "cell_type": "code",
   "execution_count": 116,
   "metadata": {},
   "outputs": [],
   "source": [
    "quartile_metrics.at[3, 'mae'] = mean_absolute_error(y_comp[y_comp['Bin']==4]['Target'], y_comp[y_comp['Bin']==4]['Prediction'])"
   ]
  },
  {
   "cell_type": "code",
   "execution_count": 117,
   "metadata": {},
   "outputs": [
    {
     "data": {
      "text/html": [
       "<div>\n",
       "<style scoped>\n",
       "    .dataframe tbody tr th:only-of-type {\n",
       "        vertical-align: middle;\n",
       "    }\n",
       "\n",
       "    .dataframe tbody tr th {\n",
       "        vertical-align: top;\n",
       "    }\n",
       "\n",
       "    .dataframe thead th {\n",
       "        text-align: right;\n",
       "    }\n",
       "</style>\n",
       "<table border=\"1\" class=\"dataframe\">\n",
       "  <thead>\n",
       "    <tr style=\"text-align: right;\">\n",
       "      <th></th>\n",
       "      <th>q</th>\n",
       "      <th>r2_score</th>\n",
       "      <th>mae</th>\n",
       "    </tr>\n",
       "  </thead>\n",
       "  <tbody>\n",
       "    <tr>\n",
       "      <th>0</th>\n",
       "      <td>1</td>\n",
       "      <td>-5.872517</td>\n",
       "      <td>0.000051</td>\n",
       "    </tr>\n",
       "    <tr>\n",
       "      <th>1</th>\n",
       "      <td>2</td>\n",
       "      <td>-12.822763</td>\n",
       "      <td>0.000056</td>\n",
       "    </tr>\n",
       "    <tr>\n",
       "      <th>2</th>\n",
       "      <td>3</td>\n",
       "      <td>-12.465260</td>\n",
       "      <td>0.000076</td>\n",
       "    </tr>\n",
       "    <tr>\n",
       "      <th>3</th>\n",
       "      <td>4</td>\n",
       "      <td>0.531189</td>\n",
       "      <td>0.000400</td>\n",
       "    </tr>\n",
       "  </tbody>\n",
       "</table>\n",
       "</div>"
      ],
      "text/plain": [
       "   q   r2_score       mae\n",
       "0  1  -5.872517  0.000051\n",
       "1  2 -12.822763  0.000056\n",
       "2  3 -12.465260  0.000076\n",
       "3  4   0.531189  0.000400"
      ]
     },
     "execution_count": 117,
     "metadata": {},
     "output_type": "execute_result"
    }
   ],
   "source": [
    "quartile_metrics"
   ]
  },
  {
   "cell_type": "markdown",
   "metadata": {},
   "source": [
    "### Mean Percentage Error"
   ]
  },
  {
   "cell_type": "code",
   "execution_count": 118,
   "metadata": {},
   "outputs": [],
   "source": [
    "quartile_metrics.at[0, 'mean'] = y_comp[y_comp['Bin']==1]['Target'].mean()"
   ]
  },
  {
   "cell_type": "code",
   "execution_count": 119,
   "metadata": {},
   "outputs": [],
   "source": [
    "quartile_metrics.at[1, 'mean'] = y_comp[y_comp['Bin']==2]['Target'].mean()"
   ]
  },
  {
   "cell_type": "code",
   "execution_count": 120,
   "metadata": {},
   "outputs": [],
   "source": [
    "quartile_metrics.at[2, 'mean'] = y_comp[y_comp['Bin']==3]['Target'].mean()"
   ]
  },
  {
   "cell_type": "code",
   "execution_count": 121,
   "metadata": {},
   "outputs": [],
   "source": [
    "quartile_metrics.at[3, 'mean'] = y_comp[y_comp['Bin']==4]['Target'].mean()"
   ]
  },
  {
   "cell_type": "code",
   "execution_count": 122,
   "metadata": {},
   "outputs": [],
   "source": [
    "quartile_metrics['mpe'] = quartile_metrics.apply(lambda row: (row['mae'] / row['mean']) * 100, axis=1)"
   ]
  },
  {
   "cell_type": "code",
   "execution_count": 123,
   "metadata": {},
   "outputs": [],
   "source": [
    "sign = (y_comp[y_comp['Bin']==1]['Prediction'].mean() - y_comp[y_comp['Bin']==1]['Target'].mean()) / abs(y_comp[y_comp['Bin']==1]['Prediction'].mean() - y_comp[y_comp['Bin']==1]['Target'].mean())\n",
    "quartile_metrics.at[0, 'mpe'] = quartile_metrics.at[0, 'mpe'] * sign"
   ]
  },
  {
   "cell_type": "code",
   "execution_count": 124,
   "metadata": {},
   "outputs": [],
   "source": [
    "sign = (y_comp[y_comp['Bin']==2]['Prediction'].mean() - y_comp[y_comp['Bin']==2]['Target'].mean()) / abs(y_comp[y_comp['Bin']==2]['Prediction'].mean() - y_comp[y_comp['Bin']==2]['Target'].mean())\n",
    "quartile_metrics.at[1, 'mpe'] = quartile_metrics.at[1, 'mpe'] * sign"
   ]
  },
  {
   "cell_type": "code",
   "execution_count": 125,
   "metadata": {},
   "outputs": [],
   "source": [
    "sign = (y_comp[y_comp['Bin']==3]['Prediction'].mean() - y_comp[y_comp['Bin']==3]['Target'].mean()) / abs(y_comp[y_comp['Bin']==3]['Prediction'].mean() - y_comp[y_comp['Bin']==3]['Target'].mean())\n",
    "quartile_metrics.at[2, 'mpe'] = quartile_metrics.at[2, 'mpe'] * sign"
   ]
  },
  {
   "cell_type": "code",
   "execution_count": 126,
   "metadata": {},
   "outputs": [],
   "source": [
    "sign = (y_comp[y_comp['Bin']==4]['Prediction'].mean() - y_comp[y_comp['Bin']==4]['Target'].mean()) / abs(y_comp[y_comp['Bin']==4]['Prediction'].mean() - y_comp[y_comp['Bin']==4]['Target'].mean())\n",
    "quartile_metrics.at[3, 'mpe'] = quartile_metrics.at[3, 'mpe'] * sign"
   ]
  },
  {
   "cell_type": "code",
   "execution_count": null,
   "metadata": {},
   "outputs": [],
   "source": []
  },
  {
   "cell_type": "code",
   "execution_count": 127,
   "metadata": {},
   "outputs": [
    {
     "data": {
      "text/html": [
       "<div>\n",
       "<style scoped>\n",
       "    .dataframe tbody tr th:only-of-type {\n",
       "        vertical-align: middle;\n",
       "    }\n",
       "\n",
       "    .dataframe tbody tr th {\n",
       "        vertical-align: top;\n",
       "    }\n",
       "\n",
       "    .dataframe thead th {\n",
       "        text-align: right;\n",
       "    }\n",
       "</style>\n",
       "<table border=\"1\" class=\"dataframe\">\n",
       "  <thead>\n",
       "    <tr style=\"text-align: right;\">\n",
       "      <th></th>\n",
       "      <th>q</th>\n",
       "      <th>r2_score</th>\n",
       "      <th>mae</th>\n",
       "      <th>mean</th>\n",
       "      <th>mpe</th>\n",
       "    </tr>\n",
       "  </thead>\n",
       "  <tbody>\n",
       "    <tr>\n",
       "      <th>0</th>\n",
       "      <td>1</td>\n",
       "      <td>-5.872517</td>\n",
       "      <td>0.000051</td>\n",
       "      <td>0.000136</td>\n",
       "      <td>37.318446</td>\n",
       "    </tr>\n",
       "    <tr>\n",
       "      <th>1</th>\n",
       "      <td>2</td>\n",
       "      <td>-12.822763</td>\n",
       "      <td>0.000056</td>\n",
       "      <td>0.000228</td>\n",
       "      <td>24.435122</td>\n",
       "    </tr>\n",
       "    <tr>\n",
       "      <th>2</th>\n",
       "      <td>3</td>\n",
       "      <td>-12.465260</td>\n",
       "      <td>0.000076</td>\n",
       "      <td>0.000338</td>\n",
       "      <td>22.472328</td>\n",
       "    </tr>\n",
       "    <tr>\n",
       "      <th>3</th>\n",
       "      <td>4</td>\n",
       "      <td>0.531189</td>\n",
       "      <td>0.000400</td>\n",
       "      <td>0.001087</td>\n",
       "      <td>-36.835352</td>\n",
       "    </tr>\n",
       "  </tbody>\n",
       "</table>\n",
       "</div>"
      ],
      "text/plain": [
       "   q   r2_score       mae      mean        mpe\n",
       "0  1  -5.872517  0.000051  0.000136  37.318446\n",
       "1  2 -12.822763  0.000056  0.000228  24.435122\n",
       "2  3 -12.465260  0.000076  0.000338  22.472328\n",
       "3  4   0.531189  0.000400  0.001087 -36.835352"
      ]
     },
     "execution_count": 127,
     "metadata": {},
     "output_type": "execute_result"
    }
   ],
   "source": [
    "quartile_metrics"
   ]
  },
  {
   "cell_type": "code",
   "execution_count": null,
   "metadata": {},
   "outputs": [],
   "source": []
  },
  {
   "cell_type": "markdown",
   "metadata": {},
   "source": [
    "## Visualization"
   ]
  },
  {
   "cell_type": "code",
   "execution_count": 153,
   "metadata": {},
   "outputs": [],
   "source": [
    "import matplotlib.pyplot as plt\n",
    "import matplotlib.ticker as mtick\n",
    "import seaborn as sns"
   ]
  },
  {
   "cell_type": "code",
   "execution_count": 249,
   "metadata": {},
   "outputs": [
    {
     "data": {
      "image/png": "[encoded data removed]",
      "text/plain": [
       "<Figure size 432x288 with 1 Axes>"
      ]
     },
     "metadata": {},
     "output_type": "display_data"
    }
   ],
   "source": [
    "sns.set_style(\"whitegrid\")\n",
    "fig = sns.barplot(x=y_comp['Bin'], y=y_comp['PE'], capsize=.2,  palette=\"rocket\")\n",
    "plt.ylim(-.10, .40)\n",
    "vals = fig.get_yticks()\n",
    "fig.set_yticklabels(['{:,.0%}'.format(x) for x in vals])\n",
    "plt.xticks(np.arange(4), ('1st Quartile', '2nd Quartile', '3rd Quartile', '4th Quartile'))\n",
    "plt.xlabel('Quartiles')\n",
    "plt.ylabel('Percentage Error')\n",
    "plt.title('Percentage Error by Target Quartile')\n",
    "plt.savefig('../../reports/figures/PE_quartiles')"
   ]
  },
  {
   "cell_type": "code",
   "execution_count": 286,
   "metadata": {},
   "outputs": [
    {
     "data": {
      "image/png": "[encoded data removed]",
      "text/plain": [
       "<Figure size 432x288 with 1 Axes>"
      ]
     },
     "metadata": {},
     "output_type": "display_data"
    }
   ],
   "source": [
    "fig = sns.scatterplot(data=y_comp, x='Target', y='Prediction', s=2, palette=\"rocket\", hue='Bin', edgecolor='None', alpha=0.4)\n",
    "\n",
    "# replace labels\n",
    "new_labels = ['Quartiles','1st Quartile', '2nd Quartile', '3rd Quartile', '4th Quartile']\n",
    "for t, l in zip(fig.legend().texts, new_labels): t.set_text(l)\n",
    "\n",
    "fig.set_aspect('equal', adjustable='box')\n",
    "X_plot = np.linspace(0, 0.001, 100)\n",
    "y_plot = np.linspace(0, 0.001, 100)\n",
    "plt.plot(X_plot, y_plot, ls=\"--\", c='black', linewidth=0.5)\n",
    "plt.xlim(0, 0.0008)\n",
    "plt.ylim(0, 0.0008)\n",
    "plt.xlabel('Actual Value')\n",
    "plt.ylabel('Predicted Value')\n",
    "plt.title('Comparison of Actual vs. Predicted Grouped by Quartile')\n",
    "plt.savefig('../../reports/figures/actual_vs_predicted')"
   ]
  },
  {
   "cell_type": "code",
   "execution_count": null,
   "metadata": {},
   "outputs": [],
   "source": []
  }
 ],
 "metadata": {
  "kernelspec": {
   "display_name": "Python 3",
   "language": "python",
   "name": "python3"
  },
  "language_info": {
   "codemirror_mode": {
    "name": "ipython",
    "version": 3
   },
   "file_extension": ".py",
   "mimetype": "text/x-python",
   "name": "python",
   "nbconvert_exporter": "python",
   "pygments_lexer": "ipython3",
   "version": "3.8.3"
  }
 },
 "nbformat": 4,
 "nbformat_minor": 4
}
