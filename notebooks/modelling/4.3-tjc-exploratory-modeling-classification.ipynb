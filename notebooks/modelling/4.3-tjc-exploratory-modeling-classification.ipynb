{
 "cells": [
  {
   "cell_type": "markdown",
   "metadata": {},
   "source": [
    "# Classification Exploratory Modeling"
   ]
  },
  {
   "cell_type": "code",
   "execution_count": 1,
   "metadata": {
    "pycharm": {
     "name": "#%%\n"
    }
   },
   "outputs": [],
   "source": [
    "from sklearn.model_selection import train_test_split\n",
    "import pandas as pd\n",
    "import numpy as np"
   ]
  },
  {
   "cell_type": "markdown",
   "metadata": {},
   "source": [
    "### Split Data into Training and Test Sets"
   ]
  },
  {
   "cell_type": "code",
   "execution_count": 2,
   "metadata": {
    "pycharm": {
     "name": "#%%\n"
    }
   },
   "outputs": [
    {
     "data": {
      "text/html": [
       "<div>\n",
       "<style scoped>\n",
       "    .dataframe tbody tr th:only-of-type {\n",
       "        vertical-align: middle;\n",
       "    }\n",
       "\n",
       "    .dataframe tbody tr th {\n",
       "        vertical-align: top;\n",
       "    }\n",
       "\n",
       "    .dataframe thead th {\n",
       "        text-align: right;\n",
       "    }\n",
       "</style>\n",
       "<table border=\"1\" class=\"dataframe\">\n",
       "  <thead>\n",
       "    <tr style=\"text-align: right;\">\n",
       "      <th></th>\n",
       "      <th>zipcode</th>\n",
       "      <th>start_year</th>\n",
       "      <th>avg_eqi_year_5-10</th>\n",
       "      <th>year_1_EQI_MSA</th>\n",
       "      <th>year_1_EQI_state</th>\n",
       "      <th>year_1_EQI_zip</th>\n",
       "      <th>year_1_RECPI_MSA</th>\n",
       "      <th>year_1_RECPI_state</th>\n",
       "      <th>year_1_RECPI_zip</th>\n",
       "      <th>year_2_EQI_MSA</th>\n",
       "      <th>...</th>\n",
       "      <th>recpi_msa_change_1</th>\n",
       "      <th>recpi_msa_change_2</th>\n",
       "      <th>recpi_msa_change_3</th>\n",
       "      <th>recpi_msa_change_4</th>\n",
       "      <th>recpi_state_change_1</th>\n",
       "      <th>recpi_state_change_2</th>\n",
       "      <th>recpi_state_change_3</th>\n",
       "      <th>recpi_state_change_4</th>\n",
       "      <th>avg_eqi_year_1-5</th>\n",
       "      <th>eqi_growth</th>\n",
       "    </tr>\n",
       "  </thead>\n",
       "  <tbody>\n",
       "    <tr>\n",
       "      <th>0</th>\n",
       "      <td>1001</td>\n",
       "      <td>1992</td>\n",
       "      <td>0.001287</td>\n",
       "      <td>0.001549</td>\n",
       "      <td>0.002111</td>\n",
       "      <td>0.002216</td>\n",
       "      <td>1.176877</td>\n",
       "      <td>28.052156</td>\n",
       "      <td>0.048744</td>\n",
       "      <td>0.001266</td>\n",
       "      <td>...</td>\n",
       "      <td>0.886418</td>\n",
       "      <td>1.074673</td>\n",
       "      <td>1.215163</td>\n",
       "      <td>0.883213</td>\n",
       "      <td>1.034792</td>\n",
       "      <td>1.020560</td>\n",
       "      <td>1.036390</td>\n",
       "      <td>1.251689</td>\n",
       "      <td>0.002170</td>\n",
       "      <td>False</td>\n",
       "    </tr>\n",
       "    <tr>\n",
       "      <th>1</th>\n",
       "      <td>1001</td>\n",
       "      <td>1997</td>\n",
       "      <td>0.001853</td>\n",
       "      <td>0.001233</td>\n",
       "      <td>0.002386</td>\n",
       "      <td>0.000840</td>\n",
       "      <td>1.112023</td>\n",
       "      <td>41.174500</td>\n",
       "      <td>0.035283</td>\n",
       "      <td>0.001164</td>\n",
       "      <td>...</td>\n",
       "      <td>0.851011</td>\n",
       "      <td>2.201297</td>\n",
       "      <td>0.567565</td>\n",
       "      <td>0.995583</td>\n",
       "      <td>1.073900</td>\n",
       "      <td>1.245044</td>\n",
       "      <td>1.448812</td>\n",
       "      <td>0.693670</td>\n",
       "      <td>0.001287</td>\n",
       "      <td>True</td>\n",
       "    </tr>\n",
       "    <tr>\n",
       "      <th>2</th>\n",
       "      <td>1001</td>\n",
       "      <td>2002</td>\n",
       "      <td>0.000602</td>\n",
       "      <td>0.001494</td>\n",
       "      <td>0.002450</td>\n",
       "      <td>0.001504</td>\n",
       "      <td>1.746593</td>\n",
       "      <td>50.713380</td>\n",
       "      <td>0.054131</td>\n",
       "      <td>0.001073</td>\n",
       "      <td>...</td>\n",
       "      <td>0.740460</td>\n",
       "      <td>1.353943</td>\n",
       "      <td>0.642606</td>\n",
       "      <td>1.292821</td>\n",
       "      <td>0.971759</td>\n",
       "      <td>0.905151</td>\n",
       "      <td>1.007785</td>\n",
       "      <td>1.046863</td>\n",
       "      <td>0.001853</td>\n",
       "      <td>False</td>\n",
       "    </tr>\n",
       "    <tr>\n",
       "      <th>3</th>\n",
       "      <td>1001</td>\n",
       "      <td>2007</td>\n",
       "      <td>0.000898</td>\n",
       "      <td>0.000702</td>\n",
       "      <td>0.001817</td>\n",
       "      <td>0.000611</td>\n",
       "      <td>1.081845</td>\n",
       "      <td>45.171143</td>\n",
       "      <td>0.036063</td>\n",
       "      <td>0.000758</td>\n",
       "      <td>...</td>\n",
       "      <td>1.030793</td>\n",
       "      <td>0.855337</td>\n",
       "      <td>1.170414</td>\n",
       "      <td>1.025070</td>\n",
       "      <td>1.089005</td>\n",
       "      <td>0.801518</td>\n",
       "      <td>1.088810</td>\n",
       "      <td>1.051707</td>\n",
       "      <td>0.000602</td>\n",
       "      <td>True</td>\n",
       "    </tr>\n",
       "    <tr>\n",
       "      <th>4</th>\n",
       "      <td>1002</td>\n",
       "      <td>1992</td>\n",
       "      <td>0.002931</td>\n",
       "      <td>0.001549</td>\n",
       "      <td>0.002111</td>\n",
       "      <td>0.000959</td>\n",
       "      <td>1.176877</td>\n",
       "      <td>28.052156</td>\n",
       "      <td>0.020148</td>\n",
       "      <td>0.001266</td>\n",
       "      <td>...</td>\n",
       "      <td>0.886418</td>\n",
       "      <td>1.074673</td>\n",
       "      <td>1.215163</td>\n",
       "      <td>0.883213</td>\n",
       "      <td>1.034792</td>\n",
       "      <td>1.020560</td>\n",
       "      <td>1.036390</td>\n",
       "      <td>1.251689</td>\n",
       "      <td>0.003141</td>\n",
       "      <td>False</td>\n",
       "    </tr>\n",
       "  </tbody>\n",
       "</table>\n",
       "<p>5 rows × 63 columns</p>\n",
       "</div>"
      ],
      "text/plain": [
       "   zipcode  start_year  avg_eqi_year_5-10  year_1_EQI_MSA  year_1_EQI_state  \\\n",
       "0     1001        1992           0.001287        0.001549          0.002111   \n",
       "1     1001        1997           0.001853        0.001233          0.002386   \n",
       "2     1001        2002           0.000602        0.001494          0.002450   \n",
       "3     1001        2007           0.000898        0.000702          0.001817   \n",
       "4     1002        1992           0.002931        0.001549          0.002111   \n",
       "\n",
       "   year_1_EQI_zip  year_1_RECPI_MSA  year_1_RECPI_state  year_1_RECPI_zip  \\\n",
       "0        0.002216          1.176877           28.052156          0.048744   \n",
       "1        0.000840          1.112023           41.174500          0.035283   \n",
       "2        0.001504          1.746593           50.713380          0.054131   \n",
       "3        0.000611          1.081845           45.171143          0.036063   \n",
       "4        0.000959          1.176877           28.052156          0.020148   \n",
       "\n",
       "   year_2_EQI_MSA  ...  recpi_msa_change_1  recpi_msa_change_2  \\\n",
       "0        0.001266  ...            0.886418            1.074673   \n",
       "1        0.001164  ...            0.851011            2.201297   \n",
       "2        0.001073  ...            0.740460            1.353943   \n",
       "3        0.000758  ...            1.030793            0.855337   \n",
       "4        0.001266  ...            0.886418            1.074673   \n",
       "\n",
       "   recpi_msa_change_3  recpi_msa_change_4  recpi_state_change_1  \\\n",
       "0            1.215163            0.883213              1.034792   \n",
       "1            0.567565            0.995583              1.073900   \n",
       "2            0.642606            1.292821              0.971759   \n",
       "3            1.170414            1.025070              1.089005   \n",
       "4            1.215163            0.883213              1.034792   \n",
       "\n",
       "   recpi_state_change_2  recpi_state_change_3  recpi_state_change_4  \\\n",
       "0              1.020560              1.036390              1.251689   \n",
       "1              1.245044              1.448812              0.693670   \n",
       "2              0.905151              1.007785              1.046863   \n",
       "3              0.801518              1.088810              1.051707   \n",
       "4              1.020560              1.036390              1.251689   \n",
       "\n",
       "   avg_eqi_year_1-5  eqi_growth  \n",
       "0          0.002170       False  \n",
       "1          0.001287        True  \n",
       "2          0.001853       False  \n",
       "3          0.000602        True  \n",
       "4          0.003141       False  \n",
       "\n",
       "[5 rows x 63 columns]"
      ]
     },
     "execution_count": 2,
     "metadata": {},
     "output_type": "execute_result"
    }
   ],
   "source": [
    "filename = '../../data/processed/feature-eng.csv'\n",
    "df = pd.read_csv(filename)\n",
    "df.head()"
   ]
  },
  {
   "cell_type": "code",
   "execution_count": 3,
   "metadata": {
    "pycharm": {
     "name": "#%%\n"
    }
   },
   "outputs": [],
   "source": [
    "X = df['zipcode'].unique()\n",
    "y = df['zipcode'].unique()"
   ]
  },
  {
   "cell_type": "code",
   "execution_count": 4,
   "metadata": {
    "pycharm": {
     "name": "#%%\n"
    }
   },
   "outputs": [],
   "source": [
    "X_train, X_test, y_train, y_test = train_test_split(X, y, test_size=0.2, random_state=42)"
   ]
  },
  {
   "cell_type": "code",
   "execution_count": 5,
   "metadata": {
    "pycharm": {
     "name": "#%%\n"
    }
   },
   "outputs": [],
   "source": [
    "X = df.drop(['avg_eqi_year_5-10', 'eqi_growth'], axis=1)\n",
    "y = df[['zipcode','start_year','eqi_growth']]"
   ]
  },
  {
   "cell_type": "code",
   "execution_count": 6,
   "metadata": {
    "pycharm": {
     "name": "#%%\n"
    }
   },
   "outputs": [
    {
     "data": {
      "text/html": [
       "<div>\n",
       "<style scoped>\n",
       "    .dataframe tbody tr th:only-of-type {\n",
       "        vertical-align: middle;\n",
       "    }\n",
       "\n",
       "    .dataframe tbody tr th {\n",
       "        vertical-align: top;\n",
       "    }\n",
       "\n",
       "    .dataframe thead th {\n",
       "        text-align: right;\n",
       "    }\n",
       "</style>\n",
       "<table border=\"1\" class=\"dataframe\">\n",
       "  <thead>\n",
       "    <tr style=\"text-align: right;\">\n",
       "      <th></th>\n",
       "      <th>zipcode</th>\n",
       "      <th>start_year</th>\n",
       "      <th>year_1_EQI_MSA</th>\n",
       "      <th>year_1_EQI_state</th>\n",
       "      <th>year_1_EQI_zip</th>\n",
       "      <th>year_1_RECPI_MSA</th>\n",
       "      <th>year_1_RECPI_state</th>\n",
       "      <th>year_1_RECPI_zip</th>\n",
       "      <th>year_2_EQI_MSA</th>\n",
       "      <th>year_2_EQI_state</th>\n",
       "      <th>...</th>\n",
       "      <th>recpi_zip_change_4</th>\n",
       "      <th>recpi_msa_change_1</th>\n",
       "      <th>recpi_msa_change_2</th>\n",
       "      <th>recpi_msa_change_3</th>\n",
       "      <th>recpi_msa_change_4</th>\n",
       "      <th>recpi_state_change_1</th>\n",
       "      <th>recpi_state_change_2</th>\n",
       "      <th>recpi_state_change_3</th>\n",
       "      <th>recpi_state_change_4</th>\n",
       "      <th>avg_eqi_year_1-5</th>\n",
       "    </tr>\n",
       "  </thead>\n",
       "  <tbody>\n",
       "    <tr>\n",
       "      <th>0</th>\n",
       "      <td>1001</td>\n",
       "      <td>1992</td>\n",
       "      <td>0.001549</td>\n",
       "      <td>0.002111</td>\n",
       "      <td>0.002216</td>\n",
       "      <td>1.176877</td>\n",
       "      <td>28.052156</td>\n",
       "      <td>0.048744</td>\n",
       "      <td>0.001266</td>\n",
       "      <td>0.002057</td>\n",
       "      <td>...</td>\n",
       "      <td>2.333669</td>\n",
       "      <td>0.886418</td>\n",
       "      <td>1.074673</td>\n",
       "      <td>1.215163</td>\n",
       "      <td>0.883213</td>\n",
       "      <td>1.034792</td>\n",
       "      <td>1.020560</td>\n",
       "      <td>1.036390</td>\n",
       "      <td>1.251689</td>\n",
       "      <td>0.002170</td>\n",
       "    </tr>\n",
       "    <tr>\n",
       "      <th>1</th>\n",
       "      <td>1001</td>\n",
       "      <td>1997</td>\n",
       "      <td>0.001233</td>\n",
       "      <td>0.002386</td>\n",
       "      <td>0.000840</td>\n",
       "      <td>1.112023</td>\n",
       "      <td>41.174500</td>\n",
       "      <td>0.035283</td>\n",
       "      <td>0.001164</td>\n",
       "      <td>0.002573</td>\n",
       "      <td>...</td>\n",
       "      <td>1.378256</td>\n",
       "      <td>0.851011</td>\n",
       "      <td>2.201297</td>\n",
       "      <td>0.567565</td>\n",
       "      <td>0.995583</td>\n",
       "      <td>1.073900</td>\n",
       "      <td>1.245044</td>\n",
       "      <td>1.448812</td>\n",
       "      <td>0.693670</td>\n",
       "      <td>0.001287</td>\n",
       "    </tr>\n",
       "    <tr>\n",
       "      <th>2</th>\n",
       "      <td>1001</td>\n",
       "      <td>2002</td>\n",
       "      <td>0.001494</td>\n",
       "      <td>0.002450</td>\n",
       "      <td>0.001504</td>\n",
       "      <td>1.746593</td>\n",
       "      <td>50.713380</td>\n",
       "      <td>0.054131</td>\n",
       "      <td>0.001073</td>\n",
       "      <td>0.002257</td>\n",
       "      <td>...</td>\n",
       "      <td>4.531509</td>\n",
       "      <td>0.740460</td>\n",
       "      <td>1.353943</td>\n",
       "      <td>0.642606</td>\n",
       "      <td>1.292821</td>\n",
       "      <td>0.971759</td>\n",
       "      <td>0.905151</td>\n",
       "      <td>1.007785</td>\n",
       "      <td>1.046863</td>\n",
       "      <td>0.001853</td>\n",
       "    </tr>\n",
       "    <tr>\n",
       "      <th>3</th>\n",
       "      <td>1001</td>\n",
       "      <td>2007</td>\n",
       "      <td>0.000702</td>\n",
       "      <td>0.001817</td>\n",
       "      <td>0.000611</td>\n",
       "      <td>1.081845</td>\n",
       "      <td>45.171143</td>\n",
       "      <td>0.036063</td>\n",
       "      <td>0.000758</td>\n",
       "      <td>0.002125</td>\n",
       "      <td>...</td>\n",
       "      <td>0.672958</td>\n",
       "      <td>1.030793</td>\n",
       "      <td>0.855337</td>\n",
       "      <td>1.170414</td>\n",
       "      <td>1.025070</td>\n",
       "      <td>1.089005</td>\n",
       "      <td>0.801518</td>\n",
       "      <td>1.088810</td>\n",
       "      <td>1.051707</td>\n",
       "      <td>0.000602</td>\n",
       "    </tr>\n",
       "    <tr>\n",
       "      <th>4</th>\n",
       "      <td>1002</td>\n",
       "      <td>1992</td>\n",
       "      <td>0.001549</td>\n",
       "      <td>0.002111</td>\n",
       "      <td>0.000959</td>\n",
       "      <td>1.176877</td>\n",
       "      <td>28.052156</td>\n",
       "      <td>0.020148</td>\n",
       "      <td>0.001266</td>\n",
       "      <td>0.002057</td>\n",
       "      <td>...</td>\n",
       "      <td>0.392888</td>\n",
       "      <td>0.886418</td>\n",
       "      <td>1.074673</td>\n",
       "      <td>1.215163</td>\n",
       "      <td>0.883213</td>\n",
       "      <td>1.034792</td>\n",
       "      <td>1.020560</td>\n",
       "      <td>1.036390</td>\n",
       "      <td>1.251689</td>\n",
       "      <td>0.003141</td>\n",
       "    </tr>\n",
       "  </tbody>\n",
       "</table>\n",
       "<p>5 rows × 61 columns</p>\n",
       "</div>"
      ],
      "text/plain": [
       "   zipcode  start_year  year_1_EQI_MSA  year_1_EQI_state  year_1_EQI_zip  \\\n",
       "0     1001        1992        0.001549          0.002111        0.002216   \n",
       "1     1001        1997        0.001233          0.002386        0.000840   \n",
       "2     1001        2002        0.001494          0.002450        0.001504   \n",
       "3     1001        2007        0.000702          0.001817        0.000611   \n",
       "4     1002        1992        0.001549          0.002111        0.000959   \n",
       "\n",
       "   year_1_RECPI_MSA  year_1_RECPI_state  year_1_RECPI_zip  year_2_EQI_MSA  \\\n",
       "0          1.176877           28.052156          0.048744        0.001266   \n",
       "1          1.112023           41.174500          0.035283        0.001164   \n",
       "2          1.746593           50.713380          0.054131        0.001073   \n",
       "3          1.081845           45.171143          0.036063        0.000758   \n",
       "4          1.176877           28.052156          0.020148        0.001266   \n",
       "\n",
       "   year_2_EQI_state  ...  recpi_zip_change_4  recpi_msa_change_1  \\\n",
       "0          0.002057  ...            2.333669            0.886418   \n",
       "1          0.002573  ...            1.378256            0.851011   \n",
       "2          0.002257  ...            4.531509            0.740460   \n",
       "3          0.002125  ...            0.672958            1.030793   \n",
       "4          0.002057  ...            0.392888            0.886418   \n",
       "\n",
       "   recpi_msa_change_2  recpi_msa_change_3  recpi_msa_change_4  \\\n",
       "0            1.074673            1.215163            0.883213   \n",
       "1            2.201297            0.567565            0.995583   \n",
       "2            1.353943            0.642606            1.292821   \n",
       "3            0.855337            1.170414            1.025070   \n",
       "4            1.074673            1.215163            0.883213   \n",
       "\n",
       "   recpi_state_change_1  recpi_state_change_2  recpi_state_change_3  \\\n",
       "0              1.034792              1.020560              1.036390   \n",
       "1              1.073900              1.245044              1.448812   \n",
       "2              0.971759              0.905151              1.007785   \n",
       "3              1.089005              0.801518              1.088810   \n",
       "4              1.034792              1.020560              1.036390   \n",
       "\n",
       "   recpi_state_change_4  avg_eqi_year_1-5  \n",
       "0              1.251689          0.002170  \n",
       "1              0.693670          0.001287  \n",
       "2              1.046863          0.001853  \n",
       "3              1.051707          0.000602  \n",
       "4              1.251689          0.003141  \n",
       "\n",
       "[5 rows x 61 columns]"
      ]
     },
     "execution_count": 6,
     "metadata": {},
     "output_type": "execute_result"
    }
   ],
   "source": [
    "X.head()"
   ]
  },
  {
   "cell_type": "code",
   "execution_count": 7,
   "metadata": {
    "pycharm": {
     "name": "#%%\n"
    }
   },
   "outputs": [
    {
     "data": {
      "text/html": [
       "<div>\n",
       "<style scoped>\n",
       "    .dataframe tbody tr th:only-of-type {\n",
       "        vertical-align: middle;\n",
       "    }\n",
       "\n",
       "    .dataframe tbody tr th {\n",
       "        vertical-align: top;\n",
       "    }\n",
       "\n",
       "    .dataframe thead th {\n",
       "        text-align: right;\n",
       "    }\n",
       "</style>\n",
       "<table border=\"1\" class=\"dataframe\">\n",
       "  <thead>\n",
       "    <tr style=\"text-align: right;\">\n",
       "      <th></th>\n",
       "      <th>zipcode</th>\n",
       "      <th>start_year</th>\n",
       "      <th>eqi_growth</th>\n",
       "    </tr>\n",
       "  </thead>\n",
       "  <tbody>\n",
       "    <tr>\n",
       "      <th>0</th>\n",
       "      <td>1001</td>\n",
       "      <td>1992</td>\n",
       "      <td>False</td>\n",
       "    </tr>\n",
       "    <tr>\n",
       "      <th>1</th>\n",
       "      <td>1001</td>\n",
       "      <td>1997</td>\n",
       "      <td>True</td>\n",
       "    </tr>\n",
       "    <tr>\n",
       "      <th>2</th>\n",
       "      <td>1001</td>\n",
       "      <td>2002</td>\n",
       "      <td>False</td>\n",
       "    </tr>\n",
       "    <tr>\n",
       "      <th>3</th>\n",
       "      <td>1001</td>\n",
       "      <td>2007</td>\n",
       "      <td>True</td>\n",
       "    </tr>\n",
       "    <tr>\n",
       "      <th>4</th>\n",
       "      <td>1002</td>\n",
       "      <td>1992</td>\n",
       "      <td>False</td>\n",
       "    </tr>\n",
       "  </tbody>\n",
       "</table>\n",
       "</div>"
      ],
      "text/plain": [
       "   zipcode  start_year  eqi_growth\n",
       "0     1001        1992       False\n",
       "1     1001        1997        True\n",
       "2     1001        2002       False\n",
       "3     1001        2007        True\n",
       "4     1002        1992       False"
      ]
     },
     "execution_count": 7,
     "metadata": {},
     "output_type": "execute_result"
    }
   ],
   "source": [
    "y.head()"
   ]
  },
  {
   "cell_type": "code",
   "execution_count": 8,
   "metadata": {
    "pycharm": {
     "name": "#%%\n"
    }
   },
   "outputs": [],
   "source": [
    "X_train = pd.DataFrame(X_train)\n",
    "X_train.columns = ['zipcode']\n",
    "\n",
    "X_test = pd.DataFrame(X_test)\n",
    "X_test.columns = ['zipcode']\n",
    "\n",
    "y_train = pd.DataFrame(y_train)\n",
    "y_train.columns = ['zipcode']\n",
    "\n",
    "y_test = pd.DataFrame(y_test)\n",
    "y_test.columns = ['zipcode']"
   ]
  },
  {
   "cell_type": "code",
   "execution_count": 9,
   "metadata": {
    "pycharm": {
     "name": "#%%\n"
    }
   },
   "outputs": [],
   "source": [
    "X_train = X_train.merge(X, on='zipcode').sort_values(['zipcode','start_year'], ignore_index=True)\n",
    "X_test = X_test.merge(X, on='zipcode').sort_values(['zipcode','start_year'], ignore_index=True)\n",
    "y_train = y_train.merge(y, on='zipcode').sort_values(['zipcode','start_year'], ignore_index=True)\n",
    "y_test = y_test.merge(y, on='zipcode').sort_values(['zipcode','start_year'], ignore_index=True)"
   ]
  },
  {
   "cell_type": "code",
   "execution_count": 10,
   "metadata": {
    "pycharm": {
     "name": "#%%\n"
    }
   },
   "outputs": [
    {
     "data": {
      "text/html": [
       "<div>\n",
       "<style scoped>\n",
       "    .dataframe tbody tr th:only-of-type {\n",
       "        vertical-align: middle;\n",
       "    }\n",
       "\n",
       "    .dataframe tbody tr th {\n",
       "        vertical-align: top;\n",
       "    }\n",
       "\n",
       "    .dataframe thead th {\n",
       "        text-align: right;\n",
       "    }\n",
       "</style>\n",
       "<table border=\"1\" class=\"dataframe\">\n",
       "  <thead>\n",
       "    <tr style=\"text-align: right;\">\n",
       "      <th></th>\n",
       "      <th>zipcode</th>\n",
       "      <th>start_year</th>\n",
       "      <th>year_1_EQI_MSA</th>\n",
       "      <th>year_1_EQI_state</th>\n",
       "      <th>year_1_EQI_zip</th>\n",
       "      <th>year_1_RECPI_MSA</th>\n",
       "      <th>year_1_RECPI_state</th>\n",
       "      <th>year_1_RECPI_zip</th>\n",
       "      <th>year_2_EQI_MSA</th>\n",
       "      <th>year_2_EQI_state</th>\n",
       "      <th>...</th>\n",
       "      <th>recpi_zip_change_4</th>\n",
       "      <th>recpi_msa_change_1</th>\n",
       "      <th>recpi_msa_change_2</th>\n",
       "      <th>recpi_msa_change_3</th>\n",
       "      <th>recpi_msa_change_4</th>\n",
       "      <th>recpi_state_change_1</th>\n",
       "      <th>recpi_state_change_2</th>\n",
       "      <th>recpi_state_change_3</th>\n",
       "      <th>recpi_state_change_4</th>\n",
       "      <th>avg_eqi_year_1-5</th>\n",
       "    </tr>\n",
       "  </thead>\n",
       "  <tbody>\n",
       "    <tr>\n",
       "      <th>0</th>\n",
       "      <td>1002</td>\n",
       "      <td>1992</td>\n",
       "      <td>0.001549</td>\n",
       "      <td>0.002111</td>\n",
       "      <td>0.000959</td>\n",
       "      <td>1.176877</td>\n",
       "      <td>28.052156</td>\n",
       "      <td>0.020148</td>\n",
       "      <td>0.001266</td>\n",
       "      <td>0.002057</td>\n",
       "      <td>...</td>\n",
       "      <td>0.392888</td>\n",
       "      <td>0.886418</td>\n",
       "      <td>1.074673</td>\n",
       "      <td>1.215163</td>\n",
       "      <td>0.883213</td>\n",
       "      <td>1.034792</td>\n",
       "      <td>1.020560</td>\n",
       "      <td>1.036390</td>\n",
       "      <td>1.251689</td>\n",
       "      <td>0.003141</td>\n",
       "    </tr>\n",
       "    <tr>\n",
       "      <th>1</th>\n",
       "      <td>1002</td>\n",
       "      <td>1997</td>\n",
       "      <td>0.001233</td>\n",
       "      <td>0.002386</td>\n",
       "      <td>0.004272</td>\n",
       "      <td>1.112023</td>\n",
       "      <td>41.174500</td>\n",
       "      <td>0.128172</td>\n",
       "      <td>0.001164</td>\n",
       "      <td>0.002573</td>\n",
       "      <td>...</td>\n",
       "      <td>0.724727</td>\n",
       "      <td>0.851011</td>\n",
       "      <td>2.201297</td>\n",
       "      <td>0.567565</td>\n",
       "      <td>0.995583</td>\n",
       "      <td>1.073900</td>\n",
       "      <td>1.245044</td>\n",
       "      <td>1.448812</td>\n",
       "      <td>0.693670</td>\n",
       "      <td>0.002931</td>\n",
       "    </tr>\n",
       "    <tr>\n",
       "      <th>2</th>\n",
       "      <td>1002</td>\n",
       "      <td>2002</td>\n",
       "      <td>0.001494</td>\n",
       "      <td>0.002450</td>\n",
       "      <td>0.005398</td>\n",
       "      <td>1.746593</td>\n",
       "      <td>50.713380</td>\n",
       "      <td>0.291470</td>\n",
       "      <td>0.001073</td>\n",
       "      <td>0.002257</td>\n",
       "      <td>...</td>\n",
       "      <td>0.600164</td>\n",
       "      <td>0.740460</td>\n",
       "      <td>1.353943</td>\n",
       "      <td>0.642606</td>\n",
       "      <td>1.292821</td>\n",
       "      <td>0.971759</td>\n",
       "      <td>0.905151</td>\n",
       "      <td>1.007785</td>\n",
       "      <td>1.046863</td>\n",
       "      <td>0.002640</td>\n",
       "    </tr>\n",
       "    <tr>\n",
       "      <th>3</th>\n",
       "      <td>1002</td>\n",
       "      <td>2007</td>\n",
       "      <td>0.000702</td>\n",
       "      <td>0.001817</td>\n",
       "      <td>0.000895</td>\n",
       "      <td>1.081845</td>\n",
       "      <td>45.171143</td>\n",
       "      <td>0.068894</td>\n",
       "      <td>0.000758</td>\n",
       "      <td>0.002125</td>\n",
       "      <td>...</td>\n",
       "      <td>1.462106</td>\n",
       "      <td>1.030793</td>\n",
       "      <td>0.855337</td>\n",
       "      <td>1.170414</td>\n",
       "      <td>1.025070</td>\n",
       "      <td>1.089005</td>\n",
       "      <td>0.801518</td>\n",
       "      <td>1.088810</td>\n",
       "      <td>1.051707</td>\n",
       "      <td>0.001622</td>\n",
       "    </tr>\n",
       "    <tr>\n",
       "      <th>4</th>\n",
       "      <td>1005</td>\n",
       "      <td>1992</td>\n",
       "      <td>0.000529</td>\n",
       "      <td>0.002111</td>\n",
       "      <td>0.000714</td>\n",
       "      <td>0.039692</td>\n",
       "      <td>28.052156</td>\n",
       "      <td>0.004995</td>\n",
       "      <td>0.000527</td>\n",
       "      <td>0.002057</td>\n",
       "      <td>...</td>\n",
       "      <td>0.729953</td>\n",
       "      <td>0.797087</td>\n",
       "      <td>1.275424</td>\n",
       "      <td>0.988763</td>\n",
       "      <td>2.539315</td>\n",
       "      <td>1.034792</td>\n",
       "      <td>1.020560</td>\n",
       "      <td>1.036390</td>\n",
       "      <td>1.251689</td>\n",
       "      <td>0.001013</td>\n",
       "    </tr>\n",
       "  </tbody>\n",
       "</table>\n",
       "<p>5 rows × 61 columns</p>\n",
       "</div>"
      ],
      "text/plain": [
       "   zipcode  start_year  year_1_EQI_MSA  year_1_EQI_state  year_1_EQI_zip  \\\n",
       "0     1002        1992        0.001549          0.002111        0.000959   \n",
       "1     1002        1997        0.001233          0.002386        0.004272   \n",
       "2     1002        2002        0.001494          0.002450        0.005398   \n",
       "3     1002        2007        0.000702          0.001817        0.000895   \n",
       "4     1005        1992        0.000529          0.002111        0.000714   \n",
       "\n",
       "   year_1_RECPI_MSA  year_1_RECPI_state  year_1_RECPI_zip  year_2_EQI_MSA  \\\n",
       "0          1.176877           28.052156          0.020148        0.001266   \n",
       "1          1.112023           41.174500          0.128172        0.001164   \n",
       "2          1.746593           50.713380          0.291470        0.001073   \n",
       "3          1.081845           45.171143          0.068894        0.000758   \n",
       "4          0.039692           28.052156          0.004995        0.000527   \n",
       "\n",
       "   year_2_EQI_state  ...  recpi_zip_change_4  recpi_msa_change_1  \\\n",
       "0          0.002057  ...            0.392888            0.886418   \n",
       "1          0.002573  ...            0.724727            0.851011   \n",
       "2          0.002257  ...            0.600164            0.740460   \n",
       "3          0.002125  ...            1.462106            1.030793   \n",
       "4          0.002057  ...            0.729953            0.797087   \n",
       "\n",
       "   recpi_msa_change_2  recpi_msa_change_3  recpi_msa_change_4  \\\n",
       "0            1.074673            1.215163            0.883213   \n",
       "1            2.201297            0.567565            0.995583   \n",
       "2            1.353943            0.642606            1.292821   \n",
       "3            0.855337            1.170414            1.025070   \n",
       "4            1.275424            0.988763            2.539315   \n",
       "\n",
       "   recpi_state_change_1  recpi_state_change_2  recpi_state_change_3  \\\n",
       "0              1.034792              1.020560              1.036390   \n",
       "1              1.073900              1.245044              1.448812   \n",
       "2              0.971759              0.905151              1.007785   \n",
       "3              1.089005              0.801518              1.088810   \n",
       "4              1.034792              1.020560              1.036390   \n",
       "\n",
       "   recpi_state_change_4  avg_eqi_year_1-5  \n",
       "0              1.251689          0.003141  \n",
       "1              0.693670          0.002931  \n",
       "2              1.046863          0.002640  \n",
       "3              1.051707          0.001622  \n",
       "4              1.251689          0.001013  \n",
       "\n",
       "[5 rows x 61 columns]"
      ]
     },
     "execution_count": 10,
     "metadata": {},
     "output_type": "execute_result"
    }
   ],
   "source": [
    "X_train.head()"
   ]
  },
  {
   "cell_type": "code",
   "execution_count": 11,
   "metadata": {
    "pycharm": {
     "name": "#%%\n"
    }
   },
   "outputs": [
    {
     "data": {
      "text/html": [
       "<div>\n",
       "<style scoped>\n",
       "    .dataframe tbody tr th:only-of-type {\n",
       "        vertical-align: middle;\n",
       "    }\n",
       "\n",
       "    .dataframe tbody tr th {\n",
       "        vertical-align: top;\n",
       "    }\n",
       "\n",
       "    .dataframe thead th {\n",
       "        text-align: right;\n",
       "    }\n",
       "</style>\n",
       "<table border=\"1\" class=\"dataframe\">\n",
       "  <thead>\n",
       "    <tr style=\"text-align: right;\">\n",
       "      <th></th>\n",
       "      <th>zipcode</th>\n",
       "      <th>start_year</th>\n",
       "      <th>eqi_growth</th>\n",
       "    </tr>\n",
       "  </thead>\n",
       "  <tbody>\n",
       "    <tr>\n",
       "      <th>0</th>\n",
       "      <td>1002</td>\n",
       "      <td>1992</td>\n",
       "      <td>False</td>\n",
       "    </tr>\n",
       "    <tr>\n",
       "      <th>1</th>\n",
       "      <td>1002</td>\n",
       "      <td>1997</td>\n",
       "      <td>False</td>\n",
       "    </tr>\n",
       "    <tr>\n",
       "      <th>2</th>\n",
       "      <td>1002</td>\n",
       "      <td>2002</td>\n",
       "      <td>False</td>\n",
       "    </tr>\n",
       "    <tr>\n",
       "      <th>3</th>\n",
       "      <td>1002</td>\n",
       "      <td>2007</td>\n",
       "      <td>False</td>\n",
       "    </tr>\n",
       "    <tr>\n",
       "      <th>4</th>\n",
       "      <td>1005</td>\n",
       "      <td>1992</td>\n",
       "      <td>False</td>\n",
       "    </tr>\n",
       "  </tbody>\n",
       "</table>\n",
       "</div>"
      ],
      "text/plain": [
       "   zipcode  start_year  eqi_growth\n",
       "0     1002        1992       False\n",
       "1     1002        1997       False\n",
       "2     1002        2002       False\n",
       "3     1002        2007       False\n",
       "4     1005        1992       False"
      ]
     },
     "execution_count": 11,
     "metadata": {},
     "output_type": "execute_result"
    }
   ],
   "source": [
    "y_train.head()"
   ]
  },
  {
   "cell_type": "code",
   "execution_count": 12,
   "metadata": {
    "pycharm": {
     "name": "#%%\n"
    }
   },
   "outputs": [
    {
     "data": {
      "text/html": [
       "<div>\n",
       "<style scoped>\n",
       "    .dataframe tbody tr th:only-of-type {\n",
       "        vertical-align: middle;\n",
       "    }\n",
       "\n",
       "    .dataframe tbody tr th {\n",
       "        vertical-align: top;\n",
       "    }\n",
       "\n",
       "    .dataframe thead th {\n",
       "        text-align: right;\n",
       "    }\n",
       "</style>\n",
       "<table border=\"1\" class=\"dataframe\">\n",
       "  <thead>\n",
       "    <tr style=\"text-align: right;\">\n",
       "      <th></th>\n",
       "      <th>zipcode</th>\n",
       "      <th>start_year</th>\n",
       "      <th>year_1_EQI_MSA</th>\n",
       "      <th>year_1_EQI_state</th>\n",
       "      <th>year_1_EQI_zip</th>\n",
       "      <th>year_1_RECPI_MSA</th>\n",
       "      <th>year_1_RECPI_state</th>\n",
       "      <th>year_1_RECPI_zip</th>\n",
       "      <th>year_2_EQI_MSA</th>\n",
       "      <th>year_2_EQI_state</th>\n",
       "      <th>...</th>\n",
       "      <th>recpi_zip_change_4</th>\n",
       "      <th>recpi_msa_change_1</th>\n",
       "      <th>recpi_msa_change_2</th>\n",
       "      <th>recpi_msa_change_3</th>\n",
       "      <th>recpi_msa_change_4</th>\n",
       "      <th>recpi_state_change_1</th>\n",
       "      <th>recpi_state_change_2</th>\n",
       "      <th>recpi_state_change_3</th>\n",
       "      <th>recpi_state_change_4</th>\n",
       "      <th>avg_eqi_year_1-5</th>\n",
       "    </tr>\n",
       "  </thead>\n",
       "  <tbody>\n",
       "    <tr>\n",
       "      <th>0</th>\n",
       "      <td>1001</td>\n",
       "      <td>1992</td>\n",
       "      <td>0.001549</td>\n",
       "      <td>0.002111</td>\n",
       "      <td>0.002216</td>\n",
       "      <td>1.176877</td>\n",
       "      <td>28.052156</td>\n",
       "      <td>0.048744</td>\n",
       "      <td>0.001266</td>\n",
       "      <td>0.002057</td>\n",
       "      <td>...</td>\n",
       "      <td>2.333669</td>\n",
       "      <td>0.886418</td>\n",
       "      <td>1.074673</td>\n",
       "      <td>1.215163</td>\n",
       "      <td>0.883213</td>\n",
       "      <td>1.034792</td>\n",
       "      <td>1.020560</td>\n",
       "      <td>1.036390</td>\n",
       "      <td>1.251689</td>\n",
       "      <td>0.002170</td>\n",
       "    </tr>\n",
       "    <tr>\n",
       "      <th>1</th>\n",
       "      <td>1001</td>\n",
       "      <td>1997</td>\n",
       "      <td>0.001233</td>\n",
       "      <td>0.002386</td>\n",
       "      <td>0.000840</td>\n",
       "      <td>1.112023</td>\n",
       "      <td>41.174500</td>\n",
       "      <td>0.035283</td>\n",
       "      <td>0.001164</td>\n",
       "      <td>0.002573</td>\n",
       "      <td>...</td>\n",
       "      <td>1.378256</td>\n",
       "      <td>0.851011</td>\n",
       "      <td>2.201297</td>\n",
       "      <td>0.567565</td>\n",
       "      <td>0.995583</td>\n",
       "      <td>1.073900</td>\n",
       "      <td>1.245044</td>\n",
       "      <td>1.448812</td>\n",
       "      <td>0.693670</td>\n",
       "      <td>0.001287</td>\n",
       "    </tr>\n",
       "    <tr>\n",
       "      <th>2</th>\n",
       "      <td>1001</td>\n",
       "      <td>2002</td>\n",
       "      <td>0.001494</td>\n",
       "      <td>0.002450</td>\n",
       "      <td>0.001504</td>\n",
       "      <td>1.746593</td>\n",
       "      <td>50.713380</td>\n",
       "      <td>0.054131</td>\n",
       "      <td>0.001073</td>\n",
       "      <td>0.002257</td>\n",
       "      <td>...</td>\n",
       "      <td>4.531509</td>\n",
       "      <td>0.740460</td>\n",
       "      <td>1.353943</td>\n",
       "      <td>0.642606</td>\n",
       "      <td>1.292821</td>\n",
       "      <td>0.971759</td>\n",
       "      <td>0.905151</td>\n",
       "      <td>1.007785</td>\n",
       "      <td>1.046863</td>\n",
       "      <td>0.001853</td>\n",
       "    </tr>\n",
       "    <tr>\n",
       "      <th>3</th>\n",
       "      <td>1001</td>\n",
       "      <td>2007</td>\n",
       "      <td>0.000702</td>\n",
       "      <td>0.001817</td>\n",
       "      <td>0.000611</td>\n",
       "      <td>1.081845</td>\n",
       "      <td>45.171143</td>\n",
       "      <td>0.036063</td>\n",
       "      <td>0.000758</td>\n",
       "      <td>0.002125</td>\n",
       "      <td>...</td>\n",
       "      <td>0.672958</td>\n",
       "      <td>1.030793</td>\n",
       "      <td>0.855337</td>\n",
       "      <td>1.170414</td>\n",
       "      <td>1.025070</td>\n",
       "      <td>1.089005</td>\n",
       "      <td>0.801518</td>\n",
       "      <td>1.088810</td>\n",
       "      <td>1.051707</td>\n",
       "      <td>0.000602</td>\n",
       "    </tr>\n",
       "    <tr>\n",
       "      <th>4</th>\n",
       "      <td>1007</td>\n",
       "      <td>1992</td>\n",
       "      <td>0.001549</td>\n",
       "      <td>0.002111</td>\n",
       "      <td>0.001419</td>\n",
       "      <td>1.176877</td>\n",
       "      <td>28.052156</td>\n",
       "      <td>0.017027</td>\n",
       "      <td>0.001266</td>\n",
       "      <td>0.002057</td>\n",
       "      <td>...</td>\n",
       "      <td>1.725546</td>\n",
       "      <td>0.886418</td>\n",
       "      <td>1.074673</td>\n",
       "      <td>1.215163</td>\n",
       "      <td>0.883213</td>\n",
       "      <td>1.034792</td>\n",
       "      <td>1.020560</td>\n",
       "      <td>1.036390</td>\n",
       "      <td>1.251689</td>\n",
       "      <td>0.001102</td>\n",
       "    </tr>\n",
       "  </tbody>\n",
       "</table>\n",
       "<p>5 rows × 61 columns</p>\n",
       "</div>"
      ],
      "text/plain": [
       "   zipcode  start_year  year_1_EQI_MSA  year_1_EQI_state  year_1_EQI_zip  \\\n",
       "0     1001        1992        0.001549          0.002111        0.002216   \n",
       "1     1001        1997        0.001233          0.002386        0.000840   \n",
       "2     1001        2002        0.001494          0.002450        0.001504   \n",
       "3     1001        2007        0.000702          0.001817        0.000611   \n",
       "4     1007        1992        0.001549          0.002111        0.001419   \n",
       "\n",
       "   year_1_RECPI_MSA  year_1_RECPI_state  year_1_RECPI_zip  year_2_EQI_MSA  \\\n",
       "0          1.176877           28.052156          0.048744        0.001266   \n",
       "1          1.112023           41.174500          0.035283        0.001164   \n",
       "2          1.746593           50.713380          0.054131        0.001073   \n",
       "3          1.081845           45.171143          0.036063        0.000758   \n",
       "4          1.176877           28.052156          0.017027        0.001266   \n",
       "\n",
       "   year_2_EQI_state  ...  recpi_zip_change_4  recpi_msa_change_1  \\\n",
       "0          0.002057  ...            2.333669            0.886418   \n",
       "1          0.002573  ...            1.378256            0.851011   \n",
       "2          0.002257  ...            4.531509            0.740460   \n",
       "3          0.002125  ...            0.672958            1.030793   \n",
       "4          0.002057  ...            1.725546            0.886418   \n",
       "\n",
       "   recpi_msa_change_2  recpi_msa_change_3  recpi_msa_change_4  \\\n",
       "0            1.074673            1.215163            0.883213   \n",
       "1            2.201297            0.567565            0.995583   \n",
       "2            1.353943            0.642606            1.292821   \n",
       "3            0.855337            1.170414            1.025070   \n",
       "4            1.074673            1.215163            0.883213   \n",
       "\n",
       "   recpi_state_change_1  recpi_state_change_2  recpi_state_change_3  \\\n",
       "0              1.034792              1.020560              1.036390   \n",
       "1              1.073900              1.245044              1.448812   \n",
       "2              0.971759              0.905151              1.007785   \n",
       "3              1.089005              0.801518              1.088810   \n",
       "4              1.034792              1.020560              1.036390   \n",
       "\n",
       "   recpi_state_change_4  avg_eqi_year_1-5  \n",
       "0              1.251689          0.002170  \n",
       "1              0.693670          0.001287  \n",
       "2              1.046863          0.001853  \n",
       "3              1.051707          0.000602  \n",
       "4              1.251689          0.001102  \n",
       "\n",
       "[5 rows x 61 columns]"
      ]
     },
     "execution_count": 12,
     "metadata": {},
     "output_type": "execute_result"
    }
   ],
   "source": [
    "X_test.head()"
   ]
  },
  {
   "cell_type": "code",
   "execution_count": 13,
   "metadata": {
    "pycharm": {
     "name": "#%%\n"
    }
   },
   "outputs": [
    {
     "data": {
      "text/html": [
       "<div>\n",
       "<style scoped>\n",
       "    .dataframe tbody tr th:only-of-type {\n",
       "        vertical-align: middle;\n",
       "    }\n",
       "\n",
       "    .dataframe tbody tr th {\n",
       "        vertical-align: top;\n",
       "    }\n",
       "\n",
       "    .dataframe thead th {\n",
       "        text-align: right;\n",
       "    }\n",
       "</style>\n",
       "<table border=\"1\" class=\"dataframe\">\n",
       "  <thead>\n",
       "    <tr style=\"text-align: right;\">\n",
       "      <th></th>\n",
       "      <th>zipcode</th>\n",
       "      <th>start_year</th>\n",
       "      <th>eqi_growth</th>\n",
       "    </tr>\n",
       "  </thead>\n",
       "  <tbody>\n",
       "    <tr>\n",
       "      <th>0</th>\n",
       "      <td>1001</td>\n",
       "      <td>1992</td>\n",
       "      <td>False</td>\n",
       "    </tr>\n",
       "    <tr>\n",
       "      <th>1</th>\n",
       "      <td>1001</td>\n",
       "      <td>1997</td>\n",
       "      <td>True</td>\n",
       "    </tr>\n",
       "    <tr>\n",
       "      <th>2</th>\n",
       "      <td>1001</td>\n",
       "      <td>2002</td>\n",
       "      <td>False</td>\n",
       "    </tr>\n",
       "    <tr>\n",
       "      <th>3</th>\n",
       "      <td>1001</td>\n",
       "      <td>2007</td>\n",
       "      <td>True</td>\n",
       "    </tr>\n",
       "    <tr>\n",
       "      <th>4</th>\n",
       "      <td>1007</td>\n",
       "      <td>1992</td>\n",
       "      <td>False</td>\n",
       "    </tr>\n",
       "  </tbody>\n",
       "</table>\n",
       "</div>"
      ],
      "text/plain": [
       "   zipcode  start_year  eqi_growth\n",
       "0     1001        1992       False\n",
       "1     1001        1997        True\n",
       "2     1001        2002       False\n",
       "3     1001        2007        True\n",
       "4     1007        1992       False"
      ]
     },
     "execution_count": 13,
     "metadata": {},
     "output_type": "execute_result"
    }
   ],
   "source": [
    "y_test.head()"
   ]
  },
  {
   "cell_type": "code",
   "execution_count": 14,
   "metadata": {
    "pycharm": {
     "name": "#%%\n"
    }
   },
   "outputs": [],
   "source": [
    "X_test = X_test.drop(['zipcode','start_year'], axis=1)\n",
    "X_train = X_train.drop(['zipcode','start_year'], axis=1)\n",
    "y_test = y_test[['eqi_growth']].to_numpy().ravel()\n",
    "y_train = y_train[['eqi_growth']].to_numpy().ravel()"
   ]
  },
  {
   "cell_type": "markdown",
   "metadata": {},
   "source": [
    "### Data Pipeline"
   ]
  },
  {
   "cell_type": "code",
   "execution_count": 15,
   "metadata": {
    "pycharm": {
     "name": "#%%\n"
    }
   },
   "outputs": [],
   "source": [
    "from sklearn.preprocessing import StandardScaler, OneHotEncoder\n",
    "from sklearn.pipeline import Pipeline\n",
    "from sklearn.compose import ColumnTransformer, make_column_selector\n",
    "from sklearn.metrics import accuracy_score, balanced_accuracy_score"
   ]
  },
  {
   "cell_type": "code",
   "execution_count": 16,
   "metadata": {
    "pycharm": {
     "name": "#%%\n"
    }
   },
   "outputs": [
    {
     "data": {
      "text/plain": [
       "ColumnTransformer(transformers=[('scale', StandardScaler(),\n",
       "                                 <sklearn.compose._column_transformer.make_column_selector object at 0x000002A41E37BC40>)])"
      ]
     },
     "execution_count": 16,
     "metadata": {},
     "output_type": "execute_result"
    }
   ],
   "source": [
    "column_trans = ColumnTransformer([\n",
    "    ('scale', StandardScaler(), make_column_selector(dtype_include=np.float64))\n",
    "    ], remainder='drop')\n",
    "\n",
    "column_trans.fit(X_train)"
   ]
  },
  {
   "cell_type": "markdown",
   "metadata": {},
   "source": [
    "## Linear Models"
   ]
  },
  {
   "cell_type": "code",
   "execution_count": 17,
   "metadata": {
    "pycharm": {
     "name": "#%%\n"
    }
   },
   "outputs": [],
   "source": [
    "from sklearn import linear_model"
   ]
  },
  {
   "cell_type": "markdown",
   "metadata": {},
   "source": [
    "### Ridge"
   ]
  },
  {
   "cell_type": "code",
   "execution_count": 18,
   "metadata": {
    "pycharm": {
     "name": "#%%\n"
    }
   },
   "outputs": [],
   "source": [
    "pipe = Pipeline([('transformer', column_trans), ('ridge', linear_model.RidgeClassifier())])"
   ]
  },
  {
   "cell_type": "code",
   "execution_count": 19,
   "metadata": {
    "pycharm": {
     "name": "#%%\n"
    }
   },
   "outputs": [
    {
     "data": {
      "text/plain": [
       "Pipeline(steps=[('transformer',\n",
       "                 ColumnTransformer(transformers=[('scale', StandardScaler(),\n",
       "                                                  <sklearn.compose._column_transformer.make_column_selector object at 0x000002A41E37BC40>)])),\n",
       "                ('ridge', RidgeClassifier())])"
      ]
     },
     "execution_count": 19,
     "metadata": {},
     "output_type": "execute_result"
    }
   ],
   "source": [
    "pipe.fit(X_train, y_train)"
   ]
  },
  {
   "cell_type": "code",
   "execution_count": 20,
   "metadata": {
    "pycharm": {
     "name": "#%%\n"
    }
   },
   "outputs": [
    {
     "data": {
      "text/plain": [
       "0.5021062445770752"
      ]
     },
     "execution_count": 20,
     "metadata": {},
     "output_type": "execute_result"
    }
   ],
   "source": [
    "y_pred = pipe.predict(X_train)\n",
    "balanced_accuracy_score(y_train, y_pred)"
   ]
  },
  {
   "cell_type": "code",
   "execution_count": 21,
   "metadata": {
    "pycharm": {
     "name": "#%%\n"
    }
   },
   "outputs": [
    {
     "data": {
      "text/plain": [
       "0.502250658303724"
      ]
     },
     "execution_count": 21,
     "metadata": {},
     "output_type": "execute_result"
    }
   ],
   "source": [
    "y_pred = pipe.predict(X_test)\n",
    "balanced_accuracy_score(y_test, y_pred)"
   ]
  },
  {
   "cell_type": "markdown",
   "metadata": {},
   "source": [
    "## KNN Classifier"
   ]
  },
  {
   "cell_type": "code",
   "execution_count": 22,
   "metadata": {
    "pycharm": {
     "name": "#%%\n"
    }
   },
   "outputs": [],
   "source": [
    "from sklearn.neighbors import KNeighborsClassifier"
   ]
  },
  {
   "cell_type": "code",
   "execution_count": 23,
   "metadata": {
    "pycharm": {
     "name": "#%%\n"
    }
   },
   "outputs": [],
   "source": [
    "pipe = Pipeline([('transformer', column_trans), ('knn', KNeighborsClassifier())])"
   ]
  },
  {
   "cell_type": "code",
   "execution_count": 24,
   "metadata": {
    "pycharm": {
     "name": "#%%\n"
    }
   },
   "outputs": [
    {
     "data": {
      "text/plain": [
       "Pipeline(steps=[('transformer',\n",
       "                 ColumnTransformer(transformers=[('scale', StandardScaler(),\n",
       "                                                  <sklearn.compose._column_transformer.make_column_selector object at 0x000002A41E37BC40>)])),\n",
       "                ('knn', KNeighborsClassifier())])"
      ]
     },
     "execution_count": 24,
     "metadata": {},
     "output_type": "execute_result"
    }
   ],
   "source": [
    "pipe.fit(X_train, y_train)"
   ]
  },
  {
   "cell_type": "code",
   "execution_count": 25,
   "metadata": {
    "pycharm": {
     "name": "#%%\n"
    }
   },
   "outputs": [
    {
     "data": {
      "text/plain": [
       "0.6012945534301046"
      ]
     },
     "execution_count": 25,
     "metadata": {},
     "output_type": "execute_result"
    }
   ],
   "source": [
    "y_pred = pipe.predict(X_train)\n",
    "balanced_accuracy_score(y_train, y_pred)"
   ]
  },
  {
   "cell_type": "code",
   "execution_count": 26,
   "metadata": {
    "pycharm": {
     "name": "#%%\n"
    }
   },
   "outputs": [
    {
     "data": {
      "text/plain": [
       "0.5404154892724342"
      ]
     },
     "execution_count": 26,
     "metadata": {},
     "output_type": "execute_result"
    }
   ],
   "source": [
    "y_pred = pipe.predict(X_test)\n",
    "balanced_accuracy_score(y_test, y_pred)"
   ]
  },
  {
   "cell_type": "markdown",
   "metadata": {},
   "source": [
    "## SVM Classifier"
   ]
  },
  {
   "cell_type": "code",
   "execution_count": 27,
   "metadata": {
    "pycharm": {
     "name": "#%%\n"
    }
   },
   "outputs": [],
   "source": [
    "from sklearn.svm import SVC"
   ]
  },
  {
   "cell_type": "code",
   "execution_count": 28,
   "metadata": {
    "pycharm": {
     "name": "#%%\n"
    }
   },
   "outputs": [],
   "source": [
    "pipe = Pipeline([('transformer', column_trans), ('svr', SVC())])"
   ]
  },
  {
   "cell_type": "code",
   "execution_count": 29,
   "metadata": {
    "pycharm": {
     "name": "#%%\n"
    }
   },
   "outputs": [
    {
     "data": {
      "text/plain": [
       "Pipeline(steps=[('transformer',\n",
       "                 ColumnTransformer(transformers=[('scale', StandardScaler(),\n",
       "                                                  <sklearn.compose._column_transformer.make_column_selector object at 0x000002A41E37BC40>)])),\n",
       "                ('svr', SVC())])"
      ]
     },
     "execution_count": 29,
     "metadata": {},
     "output_type": "execute_result"
    }
   ],
   "source": [
    "pipe.fit(X_train, y_train)"
   ]
  },
  {
   "cell_type": "code",
   "execution_count": 30,
   "metadata": {
    "pycharm": {
     "name": "#%%\n"
    }
   },
   "outputs": [
    {
     "data": {
      "text/plain": [
       "0.510645902588085"
      ]
     },
     "execution_count": 30,
     "metadata": {},
     "output_type": "execute_result"
    }
   ],
   "source": [
    "y_pred = pipe.predict(X_train)\n",
    "balanced_accuracy_score(y_train, y_pred)"
   ]
  },
  {
   "cell_type": "code",
   "execution_count": 31,
   "metadata": {
    "pycharm": {
     "name": "#%%\n"
    }
   },
   "outputs": [
    {
     "data": {
      "text/plain": [
       "0.5031327465227586"
      ]
     },
     "execution_count": 31,
     "metadata": {},
     "output_type": "execute_result"
    }
   ],
   "source": [
    "y_pred = pipe.predict(X_test)\n",
    "balanced_accuracy_score(y_test, y_pred)"
   ]
  },
  {
   "cell_type": "markdown",
   "metadata": {},
   "source": [
    "## Ensemble Methods"
   ]
  },
  {
   "cell_type": "markdown",
   "metadata": {},
   "source": [
    "### Random Forest"
   ]
  },
  {
   "cell_type": "code",
   "execution_count": 32,
   "metadata": {
    "pycharm": {
     "name": "#%%\n"
    }
   },
   "outputs": [],
   "source": [
    "from sklearn.ensemble import RandomForestClassifier"
   ]
  },
  {
   "cell_type": "code",
   "execution_count": 33,
   "metadata": {
    "pycharm": {
     "name": "#%%\n"
    }
   },
   "outputs": [],
   "source": [
    "pipe = Pipeline([('transformer', column_trans), ('rf', RandomForestClassifier(n_jobs=-1))])"
   ]
  },
  {
   "cell_type": "code",
   "execution_count": 34,
   "metadata": {
    "pycharm": {
     "name": "#%%\n"
    }
   },
   "outputs": [
    {
     "data": {
      "text/plain": [
       "Pipeline(steps=[('transformer',\n",
       "                 ColumnTransformer(transformers=[('scale', StandardScaler(),\n",
       "                                                  <sklearn.compose._column_transformer.make_column_selector object at 0x000002A41E37BC40>)])),\n",
       "                ('rf', RandomForestClassifier(n_jobs=-1))])"
      ]
     },
     "execution_count": 34,
     "metadata": {},
     "output_type": "execute_result"
    }
   ],
   "source": [
    "pipe.fit(X_train, y_train)"
   ]
  },
  {
   "cell_type": "code",
   "execution_count": 35,
   "metadata": {
    "pycharm": {
     "name": "#%%\n"
    }
   },
   "outputs": [
    {
     "data": {
      "text/plain": [
       "1.0"
      ]
     },
     "execution_count": 35,
     "metadata": {},
     "output_type": "execute_result"
    }
   ],
   "source": [
    "y_pred = pipe.predict(X_train)\n",
    "balanced_accuracy_score(y_train, y_pred)"
   ]
  },
  {
   "cell_type": "code",
   "execution_count": 36,
   "metadata": {
    "pycharm": {
     "name": "#%%\n"
    }
   },
   "outputs": [
    {
     "data": {
      "text/plain": [
       "0.5493180270349448"
      ]
     },
     "execution_count": 36,
     "metadata": {},
     "output_type": "execute_result"
    }
   ],
   "source": [
    "y_pred = pipe.predict(X_test)\n",
    "balanced_accuracy_score(y_test, y_pred)"
   ]
  },
  {
   "cell_type": "markdown",
   "metadata": {},
   "source": [
    "### Gradient Boosting"
   ]
  },
  {
   "cell_type": "code",
   "execution_count": 37,
   "metadata": {
    "pycharm": {
     "name": "#%%\n"
    }
   },
   "outputs": [],
   "source": [
    "from sklearn.ensemble import GradientBoostingClassifier"
   ]
  },
  {
   "cell_type": "code",
   "execution_count": 38,
   "metadata": {
    "pycharm": {
     "name": "#%%\n"
    }
   },
   "outputs": [],
   "source": [
    "pipe = Pipeline([('transformer', column_trans), ('gbr', GradientBoostingClassifier())])"
   ]
  },
  {
   "cell_type": "code",
   "execution_count": 39,
   "metadata": {
    "pycharm": {
     "name": "#%%\n"
    }
   },
   "outputs": [
    {
     "data": {
      "text/plain": [
       "Pipeline(steps=[('transformer',\n",
       "                 ColumnTransformer(transformers=[('scale', StandardScaler(),\n",
       "                                                  <sklearn.compose._column_transformer.make_column_selector object at 0x000002A41E37BC40>)])),\n",
       "                ('gbr', GradientBoostingClassifier())])"
      ]
     },
     "execution_count": 39,
     "metadata": {},
     "output_type": "execute_result"
    }
   ],
   "source": [
    "pipe.fit(X_train, y_train)"
   ]
  },
  {
   "cell_type": "code",
   "execution_count": 40,
   "metadata": {
    "pycharm": {
     "name": "#%%\n"
    }
   },
   "outputs": [
    {
     "data": {
      "text/plain": [
       "0.5552483979969275"
      ]
     },
     "execution_count": 40,
     "metadata": {},
     "output_type": "execute_result"
    }
   ],
   "source": [
    "y_pred = pipe.predict(X_train)\n",
    "balanced_accuracy_score(y_train, y_pred)"
   ]
  },
  {
   "cell_type": "code",
   "execution_count": 41,
   "metadata": {
    "pycharm": {
     "name": "#%%\n"
    }
   },
   "outputs": [
    {
     "data": {
      "text/plain": [
       "0.5431746154528466"
      ]
     },
     "execution_count": 41,
     "metadata": {},
     "output_type": "execute_result"
    }
   ],
   "source": [
    "y_pred = pipe.predict(X_test)\n",
    "balanced_accuracy_score(y_test, y_pred)"
   ]
  },
  {
   "cell_type": "markdown",
   "metadata": {},
   "source": [
    "### AdaBoost"
   ]
  },
  {
   "cell_type": "code",
   "execution_count": 42,
   "metadata": {
    "pycharm": {
     "name": "#%%\n"
    }
   },
   "outputs": [],
   "source": [
    "from sklearn.ensemble import AdaBoostClassifier"
   ]
  },
  {
   "cell_type": "code",
   "execution_count": 43,
   "metadata": {
    "pycharm": {
     "name": "#%%\n"
    }
   },
   "outputs": [],
   "source": [
    "pipe = Pipeline([('transformer', column_trans), ('adaboost', AdaBoostClassifier())])"
   ]
  },
  {
   "cell_type": "code",
   "execution_count": 44,
   "metadata": {
    "pycharm": {
     "name": "#%%\n"
    }
   },
   "outputs": [
    {
     "data": {
      "text/plain": [
       "Pipeline(steps=[('transformer',\n",
       "                 ColumnTransformer(transformers=[('scale', StandardScaler(),\n",
       "                                                  <sklearn.compose._column_transformer.make_column_selector object at 0x000002A41E37BC40>)])),\n",
       "                ('adaboost', AdaBoostClassifier())])"
      ]
     },
     "execution_count": 44,
     "metadata": {},
     "output_type": "execute_result"
    }
   ],
   "source": [
    "pipe.fit(X_train, y_train)"
   ]
  },
  {
   "cell_type": "code",
   "execution_count": 45,
   "metadata": {
    "pycharm": {
     "name": "#%%\n"
    }
   },
   "outputs": [
    {
     "data": {
      "text/plain": [
       "0.5320327762678358"
      ]
     },
     "execution_count": 45,
     "metadata": {},
     "output_type": "execute_result"
    }
   ],
   "source": [
    "y_pred = pipe.predict(X_train)\n",
    "balanced_accuracy_score(y_train, y_pred)"
   ]
  },
  {
   "cell_type": "code",
   "execution_count": 46,
   "metadata": {
    "pycharm": {
     "name": "#%%\n"
    }
   },
   "outputs": [
    {
     "data": {
      "text/plain": [
       "0.5225469616467513"
      ]
     },
     "execution_count": 46,
     "metadata": {},
     "output_type": "execute_result"
    }
   ],
   "source": [
    "y_pred = pipe.predict(X_test)\n",
    "balanced_accuracy_score(y_test, y_pred)"
   ]
  },
  {
   "cell_type": "markdown",
   "metadata": {},
   "source": [
    "### Tree Bagging"
   ]
  },
  {
   "cell_type": "code",
   "execution_count": 47,
   "metadata": {
    "pycharm": {
     "name": "#%%\n"
    }
   },
   "outputs": [],
   "source": [
    "from sklearn.ensemble import BaggingClassifier"
   ]
  },
  {
   "cell_type": "code",
   "execution_count": 48,
   "metadata": {
    "pycharm": {
     "name": "#%%\n"
    }
   },
   "outputs": [],
   "source": [
    "pipe = Pipeline([('transformer', column_trans), ('bagging', BaggingClassifier(n_jobs=-1))])"
   ]
  },
  {
   "cell_type": "code",
   "execution_count": 49,
   "metadata": {
    "pycharm": {
     "name": "#%%\n"
    }
   },
   "outputs": [
    {
     "data": {
      "text/plain": [
       "Pipeline(steps=[('transformer',\n",
       "                 ColumnTransformer(transformers=[('scale', StandardScaler(),\n",
       "                                                  <sklearn.compose._column_transformer.make_column_selector object at 0x000002A41E37BC40>)])),\n",
       "                ('bagging', BaggingClassifier(n_jobs=-1))])"
      ]
     },
     "execution_count": 49,
     "metadata": {},
     "output_type": "execute_result"
    }
   ],
   "source": [
    "pipe.fit(X_train, y_train)"
   ]
  },
  {
   "cell_type": "code",
   "execution_count": 50,
   "metadata": {
    "pycharm": {
     "name": "#%%\n"
    }
   },
   "outputs": [
    {
     "data": {
      "text/plain": [
       "0.9392674798399201"
      ]
     },
     "execution_count": 50,
     "metadata": {},
     "output_type": "execute_result"
    }
   ],
   "source": [
    "y_pred = pipe.predict(X_train)\n",
    "balanced_accuracy_score(y_train, y_pred)"
   ]
  },
  {
   "cell_type": "code",
   "execution_count": 51,
   "metadata": {
    "pycharm": {
     "name": "#%%\n"
    }
   },
   "outputs": [
    {
     "data": {
      "text/plain": [
       "0.5598663950298943"
      ]
     },
     "execution_count": 51,
     "metadata": {},
     "output_type": "execute_result"
    }
   ],
   "source": [
    "y_pred = pipe.predict(X_test)\n",
    "balanced_accuracy_score(y_test, y_pred)"
   ]
  },
  {
   "cell_type": "markdown",
   "metadata": {},
   "source": [
    "## NN Model"
   ]
  },
  {
   "cell_type": "code",
   "execution_count": 52,
   "metadata": {
    "pycharm": {
     "name": "#%%\n"
    }
   },
   "outputs": [],
   "source": [
    "from sklearn.neural_network import MLPClassifier"
   ]
  },
  {
   "cell_type": "code",
   "execution_count": 53,
   "metadata": {
    "pycharm": {
     "name": "#%%\n"
    }
   },
   "outputs": [],
   "source": [
    "pipe = Pipeline([('transformer', column_trans), ('perceptron', MLPClassifier())])"
   ]
  },
  {
   "cell_type": "code",
   "execution_count": null,
   "metadata": {
    "pycharm": {
     "name": "#%%\n"
    }
   },
   "outputs": [],
   "source": [
    "pipe.fit(X_train, y_train)"
   ]
  },
  {
   "cell_type": "code",
   "execution_count": null,
   "metadata": {
    "pycharm": {
     "name": "#%%\n"
    }
   },
   "outputs": [],
   "source": [
    "y_pred = pipe.predict(X_train)\n",
    "balanced_accuracy_score(y_train, y_pred)"
   ]
  },
  {
   "cell_type": "code",
   "execution_count": null,
   "metadata": {
    "pycharm": {
     "name": "#%%\n"
    }
   },
   "outputs": [],
   "source": [
    "y_pred = pipe.predict(X_test)\n",
    "balanced_accuracy_score(y_test, y_pred)"
   ]
  },
  {
   "cell_type": "code",
   "execution_count": null,
   "metadata": {
    "pycharm": {
     "name": "#%%\n"
    }
   },
   "outputs": [],
   "source": []
  }
 ],
 "metadata": {
  "kernelspec": {
   "display_name": "Python 3",
   "language": "python",
   "name": "python3"
  },
  "language_info": {
   "codemirror_mode": {
    "name": "ipython",
    "version": 3
   },
   "file_extension": ".py",
   "mimetype": "text/x-python",
   "name": "python",
   "nbconvert_exporter": "python",
   "pygments_lexer": "ipython3",
   "version": "3.8.3"
  }
 },
 "nbformat": 4,
 "nbformat_minor": 1
}
