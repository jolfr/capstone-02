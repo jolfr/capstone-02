{
 "cells": [
  {
   "cell_type": "markdown",
   "metadata": {},
   "source": [
    "# Exploratory Modeling with Feature Reduction"
   ]
  },
  {
   "cell_type": "code",
   "execution_count": 251,
   "metadata": {},
   "outputs": [],
   "source": [
    "from sklearn.model_selection import train_test_split\n",
    "import pandas as pd\n",
    "import numpy as np"
   ]
  },
  {
   "cell_type": "markdown",
   "metadata": {},
   "source": [
    "### Split Data into Training and Test Sets"
   ]
  },
  {
   "cell_type": "code",
   "execution_count": 252,
   "metadata": {
    "pycharm": {
     "name": "#%%\n"
    }
   },
   "outputs": [
    {
     "data": {
      "text/html": [
       "<div>\n",
       "<style scoped>\n",
       "    .dataframe tbody tr th:only-of-type {\n",
       "        vertical-align: middle;\n",
       "    }\n",
       "\n",
       "    .dataframe tbody tr th {\n",
       "        vertical-align: top;\n",
       "    }\n",
       "\n",
       "    .dataframe thead th {\n",
       "        text-align: right;\n",
       "    }\n",
       "</style>\n",
       "<table border=\"1\" class=\"dataframe\">\n",
       "  <thead>\n",
       "    <tr style=\"text-align: right;\">\n",
       "      <th></th>\n",
       "      <th>zipcode</th>\n",
       "      <th>start_year</th>\n",
       "      <th>avg_eqi_year_5-10</th>\n",
       "      <th>year_1_EQI_MSA</th>\n",
       "      <th>year_1_EQI_state</th>\n",
       "      <th>year_1_EQI_zip</th>\n",
       "      <th>year_1_RECPI_MSA</th>\n",
       "      <th>year_1_RECPI_state</th>\n",
       "      <th>year_1_RECPI_zip</th>\n",
       "      <th>year_2_EQI_MSA</th>\n",
       "      <th>...</th>\n",
       "      <th>recpi_zip_change_4</th>\n",
       "      <th>recpi_msa_change_1</th>\n",
       "      <th>recpi_msa_change_2</th>\n",
       "      <th>recpi_msa_change_3</th>\n",
       "      <th>recpi_msa_change_4</th>\n",
       "      <th>recpi_state_change_1</th>\n",
       "      <th>recpi_state_change_2</th>\n",
       "      <th>recpi_state_change_3</th>\n",
       "      <th>recpi_state_change_4</th>\n",
       "      <th>avg_eqi_year_1-5</th>\n",
       "    </tr>\n",
       "  </thead>\n",
       "  <tbody>\n",
       "    <tr>\n",
       "      <th>0</th>\n",
       "      <td>1001</td>\n",
       "      <td>1992</td>\n",
       "      <td>0.001287</td>\n",
       "      <td>0.001549</td>\n",
       "      <td>0.002111</td>\n",
       "      <td>0.002216</td>\n",
       "      <td>1.176877</td>\n",
       "      <td>28.052156</td>\n",
       "      <td>0.048744</td>\n",
       "      <td>0.001266</td>\n",
       "      <td>...</td>\n",
       "      <td>2.333669</td>\n",
       "      <td>0.886418</td>\n",
       "      <td>1.074673</td>\n",
       "      <td>1.215163</td>\n",
       "      <td>0.883213</td>\n",
       "      <td>1.034792</td>\n",
       "      <td>1.020560</td>\n",
       "      <td>1.036390</td>\n",
       "      <td>1.251689</td>\n",
       "      <td>0.002170</td>\n",
       "    </tr>\n",
       "    <tr>\n",
       "      <th>1</th>\n",
       "      <td>1001</td>\n",
       "      <td>1997</td>\n",
       "      <td>0.001853</td>\n",
       "      <td>0.001233</td>\n",
       "      <td>0.002386</td>\n",
       "      <td>0.000840</td>\n",
       "      <td>1.112023</td>\n",
       "      <td>41.174500</td>\n",
       "      <td>0.035283</td>\n",
       "      <td>0.001164</td>\n",
       "      <td>...</td>\n",
       "      <td>1.378256</td>\n",
       "      <td>0.851011</td>\n",
       "      <td>2.201297</td>\n",
       "      <td>0.567565</td>\n",
       "      <td>0.995583</td>\n",
       "      <td>1.073900</td>\n",
       "      <td>1.245044</td>\n",
       "      <td>1.448812</td>\n",
       "      <td>0.693670</td>\n",
       "      <td>0.001287</td>\n",
       "    </tr>\n",
       "    <tr>\n",
       "      <th>2</th>\n",
       "      <td>1001</td>\n",
       "      <td>2002</td>\n",
       "      <td>0.000602</td>\n",
       "      <td>0.001494</td>\n",
       "      <td>0.002450</td>\n",
       "      <td>0.001504</td>\n",
       "      <td>1.746593</td>\n",
       "      <td>50.713380</td>\n",
       "      <td>0.054131</td>\n",
       "      <td>0.001073</td>\n",
       "      <td>...</td>\n",
       "      <td>4.531509</td>\n",
       "      <td>0.740460</td>\n",
       "      <td>1.353943</td>\n",
       "      <td>0.642606</td>\n",
       "      <td>1.292821</td>\n",
       "      <td>0.971759</td>\n",
       "      <td>0.905151</td>\n",
       "      <td>1.007785</td>\n",
       "      <td>1.046863</td>\n",
       "      <td>0.001853</td>\n",
       "    </tr>\n",
       "    <tr>\n",
       "      <th>3</th>\n",
       "      <td>1001</td>\n",
       "      <td>2007</td>\n",
       "      <td>0.000898</td>\n",
       "      <td>0.000702</td>\n",
       "      <td>0.001817</td>\n",
       "      <td>0.000611</td>\n",
       "      <td>1.081845</td>\n",
       "      <td>45.171143</td>\n",
       "      <td>0.036063</td>\n",
       "      <td>0.000758</td>\n",
       "      <td>...</td>\n",
       "      <td>0.672958</td>\n",
       "      <td>1.030793</td>\n",
       "      <td>0.855337</td>\n",
       "      <td>1.170414</td>\n",
       "      <td>1.025070</td>\n",
       "      <td>1.089005</td>\n",
       "      <td>0.801518</td>\n",
       "      <td>1.088810</td>\n",
       "      <td>1.051707</td>\n",
       "      <td>0.000602</td>\n",
       "    </tr>\n",
       "    <tr>\n",
       "      <th>4</th>\n",
       "      <td>1002</td>\n",
       "      <td>1992</td>\n",
       "      <td>0.002931</td>\n",
       "      <td>0.001549</td>\n",
       "      <td>0.002111</td>\n",
       "      <td>0.000959</td>\n",
       "      <td>1.176877</td>\n",
       "      <td>28.052156</td>\n",
       "      <td>0.020148</td>\n",
       "      <td>0.001266</td>\n",
       "      <td>...</td>\n",
       "      <td>0.392888</td>\n",
       "      <td>0.886418</td>\n",
       "      <td>1.074673</td>\n",
       "      <td>1.215163</td>\n",
       "      <td>0.883213</td>\n",
       "      <td>1.034792</td>\n",
       "      <td>1.020560</td>\n",
       "      <td>1.036390</td>\n",
       "      <td>1.251689</td>\n",
       "      <td>0.003141</td>\n",
       "    </tr>\n",
       "  </tbody>\n",
       "</table>\n",
       "<p>5 rows × 62 columns</p>\n",
       "</div>"
      ],
      "text/plain": [
       "   zipcode  start_year  avg_eqi_year_5-10  year_1_EQI_MSA  year_1_EQI_state  \\\n",
       "0     1001        1992           0.001287        0.001549          0.002111   \n",
       "1     1001        1997           0.001853        0.001233          0.002386   \n",
       "2     1001        2002           0.000602        0.001494          0.002450   \n",
       "3     1001        2007           0.000898        0.000702          0.001817   \n",
       "4     1002        1992           0.002931        0.001549          0.002111   \n",
       "\n",
       "   year_1_EQI_zip  year_1_RECPI_MSA  year_1_RECPI_state  year_1_RECPI_zip  \\\n",
       "0        0.002216          1.176877           28.052156          0.048744   \n",
       "1        0.000840          1.112023           41.174500          0.035283   \n",
       "2        0.001504          1.746593           50.713380          0.054131   \n",
       "3        0.000611          1.081845           45.171143          0.036063   \n",
       "4        0.000959          1.176877           28.052156          0.020148   \n",
       "\n",
       "   year_2_EQI_MSA  ...  recpi_zip_change_4  recpi_msa_change_1  \\\n",
       "0        0.001266  ...            2.333669            0.886418   \n",
       "1        0.001164  ...            1.378256            0.851011   \n",
       "2        0.001073  ...            4.531509            0.740460   \n",
       "3        0.000758  ...            0.672958            1.030793   \n",
       "4        0.001266  ...            0.392888            0.886418   \n",
       "\n",
       "   recpi_msa_change_2  recpi_msa_change_3  recpi_msa_change_4  \\\n",
       "0            1.074673            1.215163            0.883213   \n",
       "1            2.201297            0.567565            0.995583   \n",
       "2            1.353943            0.642606            1.292821   \n",
       "3            0.855337            1.170414            1.025070   \n",
       "4            1.074673            1.215163            0.883213   \n",
       "\n",
       "   recpi_state_change_1  recpi_state_change_2  recpi_state_change_3  \\\n",
       "0              1.034792              1.020560              1.036390   \n",
       "1              1.073900              1.245044              1.448812   \n",
       "2              0.971759              0.905151              1.007785   \n",
       "3              1.089005              0.801518              1.088810   \n",
       "4              1.034792              1.020560              1.036390   \n",
       "\n",
       "   recpi_state_change_4  avg_eqi_year_1-5  \n",
       "0              1.251689          0.002170  \n",
       "1              0.693670          0.001287  \n",
       "2              1.046863          0.001853  \n",
       "3              1.051707          0.000602  \n",
       "4              1.251689          0.003141  \n",
       "\n",
       "[5 rows x 62 columns]"
      ]
     },
     "execution_count": 252,
     "metadata": {},
     "output_type": "execute_result"
    }
   ],
   "source": [
    "filename = '../../data/processed/feature-eng.csv'\n",
    "df = pd.read_csv(filename)\n",
    "df.head()"
   ]
  },
  {
   "cell_type": "code",
   "execution_count": 253,
   "metadata": {},
   "outputs": [],
   "source": [
    "X = df['zipcode'].unique()\n",
    "y = df['zipcode'].unique()"
   ]
  },
  {
   "cell_type": "code",
   "execution_count": 254,
   "metadata": {},
   "outputs": [],
   "source": [
    "X_train, X_test, y_train, y_test = train_test_split(X, y, test_size=0.2, random_state=42)"
   ]
  },
  {
   "cell_type": "code",
   "execution_count": 255,
   "metadata": {},
   "outputs": [],
   "source": [
    "X = df.drop('avg_eqi_year_5-10', axis=1)\n",
    "y = df[['zipcode','start_year','avg_eqi_year_5-10']]"
   ]
  },
  {
   "cell_type": "code",
   "execution_count": 256,
   "metadata": {},
   "outputs": [
    {
     "data": {
      "text/html": [
       "<div>\n",
       "<style scoped>\n",
       "    .dataframe tbody tr th:only-of-type {\n",
       "        vertical-align: middle;\n",
       "    }\n",
       "\n",
       "    .dataframe tbody tr th {\n",
       "        vertical-align: top;\n",
       "    }\n",
       "\n",
       "    .dataframe thead th {\n",
       "        text-align: right;\n",
       "    }\n",
       "</style>\n",
       "<table border=\"1\" class=\"dataframe\">\n",
       "  <thead>\n",
       "    <tr style=\"text-align: right;\">\n",
       "      <th></th>\n",
       "      <th>zipcode</th>\n",
       "      <th>start_year</th>\n",
       "      <th>year_1_EQI_MSA</th>\n",
       "      <th>year_1_EQI_state</th>\n",
       "      <th>year_1_EQI_zip</th>\n",
       "      <th>year_1_RECPI_MSA</th>\n",
       "      <th>year_1_RECPI_state</th>\n",
       "      <th>year_1_RECPI_zip</th>\n",
       "      <th>year_2_EQI_MSA</th>\n",
       "      <th>year_2_EQI_state</th>\n",
       "      <th>...</th>\n",
       "      <th>recpi_zip_change_4</th>\n",
       "      <th>recpi_msa_change_1</th>\n",
       "      <th>recpi_msa_change_2</th>\n",
       "      <th>recpi_msa_change_3</th>\n",
       "      <th>recpi_msa_change_4</th>\n",
       "      <th>recpi_state_change_1</th>\n",
       "      <th>recpi_state_change_2</th>\n",
       "      <th>recpi_state_change_3</th>\n",
       "      <th>recpi_state_change_4</th>\n",
       "      <th>avg_eqi_year_1-5</th>\n",
       "    </tr>\n",
       "  </thead>\n",
       "  <tbody>\n",
       "    <tr>\n",
       "      <th>0</th>\n",
       "      <td>1001</td>\n",
       "      <td>1992</td>\n",
       "      <td>0.001549</td>\n",
       "      <td>0.002111</td>\n",
       "      <td>0.002216</td>\n",
       "      <td>1.176877</td>\n",
       "      <td>28.052156</td>\n",
       "      <td>0.048744</td>\n",
       "      <td>0.001266</td>\n",
       "      <td>0.002057</td>\n",
       "      <td>...</td>\n",
       "      <td>2.333669</td>\n",
       "      <td>0.886418</td>\n",
       "      <td>1.074673</td>\n",
       "      <td>1.215163</td>\n",
       "      <td>0.883213</td>\n",
       "      <td>1.034792</td>\n",
       "      <td>1.020560</td>\n",
       "      <td>1.036390</td>\n",
       "      <td>1.251689</td>\n",
       "      <td>0.002170</td>\n",
       "    </tr>\n",
       "    <tr>\n",
       "      <th>1</th>\n",
       "      <td>1001</td>\n",
       "      <td>1997</td>\n",
       "      <td>0.001233</td>\n",
       "      <td>0.002386</td>\n",
       "      <td>0.000840</td>\n",
       "      <td>1.112023</td>\n",
       "      <td>41.174500</td>\n",
       "      <td>0.035283</td>\n",
       "      <td>0.001164</td>\n",
       "      <td>0.002573</td>\n",
       "      <td>...</td>\n",
       "      <td>1.378256</td>\n",
       "      <td>0.851011</td>\n",
       "      <td>2.201297</td>\n",
       "      <td>0.567565</td>\n",
       "      <td>0.995583</td>\n",
       "      <td>1.073900</td>\n",
       "      <td>1.245044</td>\n",
       "      <td>1.448812</td>\n",
       "      <td>0.693670</td>\n",
       "      <td>0.001287</td>\n",
       "    </tr>\n",
       "    <tr>\n",
       "      <th>2</th>\n",
       "      <td>1001</td>\n",
       "      <td>2002</td>\n",
       "      <td>0.001494</td>\n",
       "      <td>0.002450</td>\n",
       "      <td>0.001504</td>\n",
       "      <td>1.746593</td>\n",
       "      <td>50.713380</td>\n",
       "      <td>0.054131</td>\n",
       "      <td>0.001073</td>\n",
       "      <td>0.002257</td>\n",
       "      <td>...</td>\n",
       "      <td>4.531509</td>\n",
       "      <td>0.740460</td>\n",
       "      <td>1.353943</td>\n",
       "      <td>0.642606</td>\n",
       "      <td>1.292821</td>\n",
       "      <td>0.971759</td>\n",
       "      <td>0.905151</td>\n",
       "      <td>1.007785</td>\n",
       "      <td>1.046863</td>\n",
       "      <td>0.001853</td>\n",
       "    </tr>\n",
       "    <tr>\n",
       "      <th>3</th>\n",
       "      <td>1001</td>\n",
       "      <td>2007</td>\n",
       "      <td>0.000702</td>\n",
       "      <td>0.001817</td>\n",
       "      <td>0.000611</td>\n",
       "      <td>1.081845</td>\n",
       "      <td>45.171143</td>\n",
       "      <td>0.036063</td>\n",
       "      <td>0.000758</td>\n",
       "      <td>0.002125</td>\n",
       "      <td>...</td>\n",
       "      <td>0.672958</td>\n",
       "      <td>1.030793</td>\n",
       "      <td>0.855337</td>\n",
       "      <td>1.170414</td>\n",
       "      <td>1.025070</td>\n",
       "      <td>1.089005</td>\n",
       "      <td>0.801518</td>\n",
       "      <td>1.088810</td>\n",
       "      <td>1.051707</td>\n",
       "      <td>0.000602</td>\n",
       "    </tr>\n",
       "    <tr>\n",
       "      <th>4</th>\n",
       "      <td>1002</td>\n",
       "      <td>1992</td>\n",
       "      <td>0.001549</td>\n",
       "      <td>0.002111</td>\n",
       "      <td>0.000959</td>\n",
       "      <td>1.176877</td>\n",
       "      <td>28.052156</td>\n",
       "      <td>0.020148</td>\n",
       "      <td>0.001266</td>\n",
       "      <td>0.002057</td>\n",
       "      <td>...</td>\n",
       "      <td>0.392888</td>\n",
       "      <td>0.886418</td>\n",
       "      <td>1.074673</td>\n",
       "      <td>1.215163</td>\n",
       "      <td>0.883213</td>\n",
       "      <td>1.034792</td>\n",
       "      <td>1.020560</td>\n",
       "      <td>1.036390</td>\n",
       "      <td>1.251689</td>\n",
       "      <td>0.003141</td>\n",
       "    </tr>\n",
       "  </tbody>\n",
       "</table>\n",
       "<p>5 rows × 61 columns</p>\n",
       "</div>"
      ],
      "text/plain": [
       "   zipcode  start_year  year_1_EQI_MSA  year_1_EQI_state  year_1_EQI_zip  \\\n",
       "0     1001        1992        0.001549          0.002111        0.002216   \n",
       "1     1001        1997        0.001233          0.002386        0.000840   \n",
       "2     1001        2002        0.001494          0.002450        0.001504   \n",
       "3     1001        2007        0.000702          0.001817        0.000611   \n",
       "4     1002        1992        0.001549          0.002111        0.000959   \n",
       "\n",
       "   year_1_RECPI_MSA  year_1_RECPI_state  year_1_RECPI_zip  year_2_EQI_MSA  \\\n",
       "0          1.176877           28.052156          0.048744        0.001266   \n",
       "1          1.112023           41.174500          0.035283        0.001164   \n",
       "2          1.746593           50.713380          0.054131        0.001073   \n",
       "3          1.081845           45.171143          0.036063        0.000758   \n",
       "4          1.176877           28.052156          0.020148        0.001266   \n",
       "\n",
       "   year_2_EQI_state  ...  recpi_zip_change_4  recpi_msa_change_1  \\\n",
       "0          0.002057  ...            2.333669            0.886418   \n",
       "1          0.002573  ...            1.378256            0.851011   \n",
       "2          0.002257  ...            4.531509            0.740460   \n",
       "3          0.002125  ...            0.672958            1.030793   \n",
       "4          0.002057  ...            0.392888            0.886418   \n",
       "\n",
       "   recpi_msa_change_2  recpi_msa_change_3  recpi_msa_change_4  \\\n",
       "0            1.074673            1.215163            0.883213   \n",
       "1            2.201297            0.567565            0.995583   \n",
       "2            1.353943            0.642606            1.292821   \n",
       "3            0.855337            1.170414            1.025070   \n",
       "4            1.074673            1.215163            0.883213   \n",
       "\n",
       "   recpi_state_change_1  recpi_state_change_2  recpi_state_change_3  \\\n",
       "0              1.034792              1.020560              1.036390   \n",
       "1              1.073900              1.245044              1.448812   \n",
       "2              0.971759              0.905151              1.007785   \n",
       "3              1.089005              0.801518              1.088810   \n",
       "4              1.034792              1.020560              1.036390   \n",
       "\n",
       "   recpi_state_change_4  avg_eqi_year_1-5  \n",
       "0              1.251689          0.002170  \n",
       "1              0.693670          0.001287  \n",
       "2              1.046863          0.001853  \n",
       "3              1.051707          0.000602  \n",
       "4              1.251689          0.003141  \n",
       "\n",
       "[5 rows x 61 columns]"
      ]
     },
     "execution_count": 256,
     "metadata": {},
     "output_type": "execute_result"
    }
   ],
   "source": [
    "X.head()"
   ]
  },
  {
   "cell_type": "code",
   "execution_count": 257,
   "metadata": {},
   "outputs": [
    {
     "data": {
      "text/html": [
       "<div>\n",
       "<style scoped>\n",
       "    .dataframe tbody tr th:only-of-type {\n",
       "        vertical-align: middle;\n",
       "    }\n",
       "\n",
       "    .dataframe tbody tr th {\n",
       "        vertical-align: top;\n",
       "    }\n",
       "\n",
       "    .dataframe thead th {\n",
       "        text-align: right;\n",
       "    }\n",
       "</style>\n",
       "<table border=\"1\" class=\"dataframe\">\n",
       "  <thead>\n",
       "    <tr style=\"text-align: right;\">\n",
       "      <th></th>\n",
       "      <th>zipcode</th>\n",
       "      <th>start_year</th>\n",
       "      <th>avg_eqi_year_5-10</th>\n",
       "    </tr>\n",
       "  </thead>\n",
       "  <tbody>\n",
       "    <tr>\n",
       "      <th>0</th>\n",
       "      <td>1001</td>\n",
       "      <td>1992</td>\n",
       "      <td>0.001287</td>\n",
       "    </tr>\n",
       "    <tr>\n",
       "      <th>1</th>\n",
       "      <td>1001</td>\n",
       "      <td>1997</td>\n",
       "      <td>0.001853</td>\n",
       "    </tr>\n",
       "    <tr>\n",
       "      <th>2</th>\n",
       "      <td>1001</td>\n",
       "      <td>2002</td>\n",
       "      <td>0.000602</td>\n",
       "    </tr>\n",
       "    <tr>\n",
       "      <th>3</th>\n",
       "      <td>1001</td>\n",
       "      <td>2007</td>\n",
       "      <td>0.000898</td>\n",
       "    </tr>\n",
       "    <tr>\n",
       "      <th>4</th>\n",
       "      <td>1002</td>\n",
       "      <td>1992</td>\n",
       "      <td>0.002931</td>\n",
       "    </tr>\n",
       "  </tbody>\n",
       "</table>\n",
       "</div>"
      ],
      "text/plain": [
       "   zipcode  start_year  avg_eqi_year_5-10\n",
       "0     1001        1992           0.001287\n",
       "1     1001        1997           0.001853\n",
       "2     1001        2002           0.000602\n",
       "3     1001        2007           0.000898\n",
       "4     1002        1992           0.002931"
      ]
     },
     "execution_count": 257,
     "metadata": {},
     "output_type": "execute_result"
    }
   ],
   "source": [
    "y.head()"
   ]
  },
  {
   "cell_type": "code",
   "execution_count": 258,
   "metadata": {},
   "outputs": [],
   "source": [
    "X_train = pd.DataFrame(X_train)\n",
    "X_train.columns = ['zipcode']\n",
    "\n",
    "X_test = pd.DataFrame(X_test)\n",
    "X_test.columns = ['zipcode']\n",
    "\n",
    "y_train = pd.DataFrame(y_train)\n",
    "y_train.columns = ['zipcode']\n",
    "\n",
    "y_test = pd.DataFrame(y_test)\n",
    "y_test.columns = ['zipcode']"
   ]
  },
  {
   "cell_type": "code",
   "execution_count": 259,
   "metadata": {},
   "outputs": [],
   "source": [
    "X_train = X_train.merge(X, on='zipcode').sort_values(['zipcode','start_year'], ignore_index=True)\n",
    "X_test = X_test.merge(X, on='zipcode').sort_values(['zipcode','start_year'], ignore_index=True)\n",
    "y_train = y_train.merge(y, on='zipcode').sort_values(['zipcode','start_year'], ignore_index=True)\n",
    "y_test = y_test.merge(y, on='zipcode').sort_values(['zipcode','start_year'], ignore_index=True)"
   ]
  },
  {
   "cell_type": "code",
   "execution_count": 260,
   "metadata": {},
   "outputs": [
    {
     "data": {
      "text/html": [
       "<div>\n",
       "<style scoped>\n",
       "    .dataframe tbody tr th:only-of-type {\n",
       "        vertical-align: middle;\n",
       "    }\n",
       "\n",
       "    .dataframe tbody tr th {\n",
       "        vertical-align: top;\n",
       "    }\n",
       "\n",
       "    .dataframe thead th {\n",
       "        text-align: right;\n",
       "    }\n",
       "</style>\n",
       "<table border=\"1\" class=\"dataframe\">\n",
       "  <thead>\n",
       "    <tr style=\"text-align: right;\">\n",
       "      <th></th>\n",
       "      <th>zipcode</th>\n",
       "      <th>start_year</th>\n",
       "      <th>year_1_EQI_MSA</th>\n",
       "      <th>year_1_EQI_state</th>\n",
       "      <th>year_1_EQI_zip</th>\n",
       "      <th>year_1_RECPI_MSA</th>\n",
       "      <th>year_1_RECPI_state</th>\n",
       "      <th>year_1_RECPI_zip</th>\n",
       "      <th>year_2_EQI_MSA</th>\n",
       "      <th>year_2_EQI_state</th>\n",
       "      <th>...</th>\n",
       "      <th>recpi_zip_change_4</th>\n",
       "      <th>recpi_msa_change_1</th>\n",
       "      <th>recpi_msa_change_2</th>\n",
       "      <th>recpi_msa_change_3</th>\n",
       "      <th>recpi_msa_change_4</th>\n",
       "      <th>recpi_state_change_1</th>\n",
       "      <th>recpi_state_change_2</th>\n",
       "      <th>recpi_state_change_3</th>\n",
       "      <th>recpi_state_change_4</th>\n",
       "      <th>avg_eqi_year_1-5</th>\n",
       "    </tr>\n",
       "  </thead>\n",
       "  <tbody>\n",
       "    <tr>\n",
       "      <th>0</th>\n",
       "      <td>1001</td>\n",
       "      <td>1992</td>\n",
       "      <td>0.001549</td>\n",
       "      <td>0.002111</td>\n",
       "      <td>0.002216</td>\n",
       "      <td>1.176877</td>\n",
       "      <td>28.052156</td>\n",
       "      <td>0.048744</td>\n",
       "      <td>0.001266</td>\n",
       "      <td>0.002057</td>\n",
       "      <td>...</td>\n",
       "      <td>2.333669</td>\n",
       "      <td>0.886418</td>\n",
       "      <td>1.074673</td>\n",
       "      <td>1.215163</td>\n",
       "      <td>0.883213</td>\n",
       "      <td>1.034792</td>\n",
       "      <td>1.020560</td>\n",
       "      <td>1.036390</td>\n",
       "      <td>1.251689</td>\n",
       "      <td>0.002170</td>\n",
       "    </tr>\n",
       "    <tr>\n",
       "      <th>1</th>\n",
       "      <td>1001</td>\n",
       "      <td>1997</td>\n",
       "      <td>0.001233</td>\n",
       "      <td>0.002386</td>\n",
       "      <td>0.000840</td>\n",
       "      <td>1.112023</td>\n",
       "      <td>41.174500</td>\n",
       "      <td>0.035283</td>\n",
       "      <td>0.001164</td>\n",
       "      <td>0.002573</td>\n",
       "      <td>...</td>\n",
       "      <td>1.378256</td>\n",
       "      <td>0.851011</td>\n",
       "      <td>2.201297</td>\n",
       "      <td>0.567565</td>\n",
       "      <td>0.995583</td>\n",
       "      <td>1.073900</td>\n",
       "      <td>1.245044</td>\n",
       "      <td>1.448812</td>\n",
       "      <td>0.693670</td>\n",
       "      <td>0.001287</td>\n",
       "    </tr>\n",
       "    <tr>\n",
       "      <th>2</th>\n",
       "      <td>1001</td>\n",
       "      <td>2002</td>\n",
       "      <td>0.001494</td>\n",
       "      <td>0.002450</td>\n",
       "      <td>0.001504</td>\n",
       "      <td>1.746593</td>\n",
       "      <td>50.713380</td>\n",
       "      <td>0.054131</td>\n",
       "      <td>0.001073</td>\n",
       "      <td>0.002257</td>\n",
       "      <td>...</td>\n",
       "      <td>4.531509</td>\n",
       "      <td>0.740460</td>\n",
       "      <td>1.353943</td>\n",
       "      <td>0.642606</td>\n",
       "      <td>1.292821</td>\n",
       "      <td>0.971759</td>\n",
       "      <td>0.905151</td>\n",
       "      <td>1.007785</td>\n",
       "      <td>1.046863</td>\n",
       "      <td>0.001853</td>\n",
       "    </tr>\n",
       "    <tr>\n",
       "      <th>3</th>\n",
       "      <td>1001</td>\n",
       "      <td>2007</td>\n",
       "      <td>0.000702</td>\n",
       "      <td>0.001817</td>\n",
       "      <td>0.000611</td>\n",
       "      <td>1.081845</td>\n",
       "      <td>45.171143</td>\n",
       "      <td>0.036063</td>\n",
       "      <td>0.000758</td>\n",
       "      <td>0.002125</td>\n",
       "      <td>...</td>\n",
       "      <td>0.672958</td>\n",
       "      <td>1.030793</td>\n",
       "      <td>0.855337</td>\n",
       "      <td>1.170414</td>\n",
       "      <td>1.025070</td>\n",
       "      <td>1.089005</td>\n",
       "      <td>0.801518</td>\n",
       "      <td>1.088810</td>\n",
       "      <td>1.051707</td>\n",
       "      <td>0.000602</td>\n",
       "    </tr>\n",
       "    <tr>\n",
       "      <th>4</th>\n",
       "      <td>1002</td>\n",
       "      <td>1992</td>\n",
       "      <td>0.001549</td>\n",
       "      <td>0.002111</td>\n",
       "      <td>0.000959</td>\n",
       "      <td>1.176877</td>\n",
       "      <td>28.052156</td>\n",
       "      <td>0.020148</td>\n",
       "      <td>0.001266</td>\n",
       "      <td>0.002057</td>\n",
       "      <td>...</td>\n",
       "      <td>0.392888</td>\n",
       "      <td>0.886418</td>\n",
       "      <td>1.074673</td>\n",
       "      <td>1.215163</td>\n",
       "      <td>0.883213</td>\n",
       "      <td>1.034792</td>\n",
       "      <td>1.020560</td>\n",
       "      <td>1.036390</td>\n",
       "      <td>1.251689</td>\n",
       "      <td>0.003141</td>\n",
       "    </tr>\n",
       "  </tbody>\n",
       "</table>\n",
       "<p>5 rows × 61 columns</p>\n",
       "</div>"
      ],
      "text/plain": [
       "   zipcode  start_year  year_1_EQI_MSA  year_1_EQI_state  year_1_EQI_zip  \\\n",
       "0     1001        1992        0.001549          0.002111        0.002216   \n",
       "1     1001        1997        0.001233          0.002386        0.000840   \n",
       "2     1001        2002        0.001494          0.002450        0.001504   \n",
       "3     1001        2007        0.000702          0.001817        0.000611   \n",
       "4     1002        1992        0.001549          0.002111        0.000959   \n",
       "\n",
       "   year_1_RECPI_MSA  year_1_RECPI_state  year_1_RECPI_zip  year_2_EQI_MSA  \\\n",
       "0          1.176877           28.052156          0.048744        0.001266   \n",
       "1          1.112023           41.174500          0.035283        0.001164   \n",
       "2          1.746593           50.713380          0.054131        0.001073   \n",
       "3          1.081845           45.171143          0.036063        0.000758   \n",
       "4          1.176877           28.052156          0.020148        0.001266   \n",
       "\n",
       "   year_2_EQI_state  ...  recpi_zip_change_4  recpi_msa_change_1  \\\n",
       "0          0.002057  ...            2.333669            0.886418   \n",
       "1          0.002573  ...            1.378256            0.851011   \n",
       "2          0.002257  ...            4.531509            0.740460   \n",
       "3          0.002125  ...            0.672958            1.030793   \n",
       "4          0.002057  ...            0.392888            0.886418   \n",
       "\n",
       "   recpi_msa_change_2  recpi_msa_change_3  recpi_msa_change_4  \\\n",
       "0            1.074673            1.215163            0.883213   \n",
       "1            2.201297            0.567565            0.995583   \n",
       "2            1.353943            0.642606            1.292821   \n",
       "3            0.855337            1.170414            1.025070   \n",
       "4            1.074673            1.215163            0.883213   \n",
       "\n",
       "   recpi_state_change_1  recpi_state_change_2  recpi_state_change_3  \\\n",
       "0              1.034792              1.020560              1.036390   \n",
       "1              1.073900              1.245044              1.448812   \n",
       "2              0.971759              0.905151              1.007785   \n",
       "3              1.089005              0.801518              1.088810   \n",
       "4              1.034792              1.020560              1.036390   \n",
       "\n",
       "   recpi_state_change_4  avg_eqi_year_1-5  \n",
       "0              1.251689          0.002170  \n",
       "1              0.693670          0.001287  \n",
       "2              1.046863          0.001853  \n",
       "3              1.051707          0.000602  \n",
       "4              1.251689          0.003141  \n",
       "\n",
       "[5 rows x 61 columns]"
      ]
     },
     "execution_count": 260,
     "metadata": {},
     "output_type": "execute_result"
    }
   ],
   "source": [
    "X_train.head()"
   ]
  },
  {
   "cell_type": "code",
   "execution_count": 261,
   "metadata": {},
   "outputs": [
    {
     "data": {
      "text/html": [
       "<div>\n",
       "<style scoped>\n",
       "    .dataframe tbody tr th:only-of-type {\n",
       "        vertical-align: middle;\n",
       "    }\n",
       "\n",
       "    .dataframe tbody tr th {\n",
       "        vertical-align: top;\n",
       "    }\n",
       "\n",
       "    .dataframe thead th {\n",
       "        text-align: right;\n",
       "    }\n",
       "</style>\n",
       "<table border=\"1\" class=\"dataframe\">\n",
       "  <thead>\n",
       "    <tr style=\"text-align: right;\">\n",
       "      <th></th>\n",
       "      <th>zipcode</th>\n",
       "      <th>start_year</th>\n",
       "      <th>avg_eqi_year_5-10</th>\n",
       "    </tr>\n",
       "  </thead>\n",
       "  <tbody>\n",
       "    <tr>\n",
       "      <th>0</th>\n",
       "      <td>1001</td>\n",
       "      <td>1992</td>\n",
       "      <td>0.001287</td>\n",
       "    </tr>\n",
       "    <tr>\n",
       "      <th>1</th>\n",
       "      <td>1001</td>\n",
       "      <td>1997</td>\n",
       "      <td>0.001853</td>\n",
       "    </tr>\n",
       "    <tr>\n",
       "      <th>2</th>\n",
       "      <td>1001</td>\n",
       "      <td>2002</td>\n",
       "      <td>0.000602</td>\n",
       "    </tr>\n",
       "    <tr>\n",
       "      <th>3</th>\n",
       "      <td>1001</td>\n",
       "      <td>2007</td>\n",
       "      <td>0.000898</td>\n",
       "    </tr>\n",
       "    <tr>\n",
       "      <th>4</th>\n",
       "      <td>1002</td>\n",
       "      <td>1992</td>\n",
       "      <td>0.002931</td>\n",
       "    </tr>\n",
       "  </tbody>\n",
       "</table>\n",
       "</div>"
      ],
      "text/plain": [
       "   zipcode  start_year  avg_eqi_year_5-10\n",
       "0     1001        1992           0.001287\n",
       "1     1001        1997           0.001853\n",
       "2     1001        2002           0.000602\n",
       "3     1001        2007           0.000898\n",
       "4     1002        1992           0.002931"
      ]
     },
     "execution_count": 261,
     "metadata": {},
     "output_type": "execute_result"
    }
   ],
   "source": [
    "y_train.head()"
   ]
  },
  {
   "cell_type": "code",
   "execution_count": 262,
   "metadata": {},
   "outputs": [
    {
     "data": {
      "text/html": [
       "<div>\n",
       "<style scoped>\n",
       "    .dataframe tbody tr th:only-of-type {\n",
       "        vertical-align: middle;\n",
       "    }\n",
       "\n",
       "    .dataframe tbody tr th {\n",
       "        vertical-align: top;\n",
       "    }\n",
       "\n",
       "    .dataframe thead th {\n",
       "        text-align: right;\n",
       "    }\n",
       "</style>\n",
       "<table border=\"1\" class=\"dataframe\">\n",
       "  <thead>\n",
       "    <tr style=\"text-align: right;\">\n",
       "      <th></th>\n",
       "      <th>zipcode</th>\n",
       "      <th>start_year</th>\n",
       "      <th>year_1_EQI_MSA</th>\n",
       "      <th>year_1_EQI_state</th>\n",
       "      <th>year_1_EQI_zip</th>\n",
       "      <th>year_1_RECPI_MSA</th>\n",
       "      <th>year_1_RECPI_state</th>\n",
       "      <th>year_1_RECPI_zip</th>\n",
       "      <th>year_2_EQI_MSA</th>\n",
       "      <th>year_2_EQI_state</th>\n",
       "      <th>...</th>\n",
       "      <th>recpi_zip_change_4</th>\n",
       "      <th>recpi_msa_change_1</th>\n",
       "      <th>recpi_msa_change_2</th>\n",
       "      <th>recpi_msa_change_3</th>\n",
       "      <th>recpi_msa_change_4</th>\n",
       "      <th>recpi_state_change_1</th>\n",
       "      <th>recpi_state_change_2</th>\n",
       "      <th>recpi_state_change_3</th>\n",
       "      <th>recpi_state_change_4</th>\n",
       "      <th>avg_eqi_year_1-5</th>\n",
       "    </tr>\n",
       "  </thead>\n",
       "  <tbody>\n",
       "    <tr>\n",
       "      <th>0</th>\n",
       "      <td>1013</td>\n",
       "      <td>1992</td>\n",
       "      <td>0.001549</td>\n",
       "      <td>0.002111</td>\n",
       "      <td>0.000836</td>\n",
       "      <td>1.176877</td>\n",
       "      <td>28.052156</td>\n",
       "      <td>0.020060</td>\n",
       "      <td>0.001266</td>\n",
       "      <td>0.002057</td>\n",
       "      <td>...</td>\n",
       "      <td>3.247644</td>\n",
       "      <td>0.886418</td>\n",
       "      <td>1.074673</td>\n",
       "      <td>1.215163</td>\n",
       "      <td>0.883213</td>\n",
       "      <td>1.034792</td>\n",
       "      <td>1.020560</td>\n",
       "      <td>1.036390</td>\n",
       "      <td>1.251689</td>\n",
       "      <td>0.001165</td>\n",
       "    </tr>\n",
       "    <tr>\n",
       "      <th>1</th>\n",
       "      <td>1013</td>\n",
       "      <td>1997</td>\n",
       "      <td>0.001233</td>\n",
       "      <td>0.002386</td>\n",
       "      <td>0.000986</td>\n",
       "      <td>1.112023</td>\n",
       "      <td>41.174500</td>\n",
       "      <td>0.013807</td>\n",
       "      <td>0.001164</td>\n",
       "      <td>0.002573</td>\n",
       "      <td>...</td>\n",
       "      <td>0.804941</td>\n",
       "      <td>0.851011</td>\n",
       "      <td>2.201297</td>\n",
       "      <td>0.567565</td>\n",
       "      <td>0.995583</td>\n",
       "      <td>1.073900</td>\n",
       "      <td>1.245044</td>\n",
       "      <td>1.448812</td>\n",
       "      <td>0.693670</td>\n",
       "      <td>0.001317</td>\n",
       "    </tr>\n",
       "    <tr>\n",
       "      <th>2</th>\n",
       "      <td>1013</td>\n",
       "      <td>2002</td>\n",
       "      <td>0.001494</td>\n",
       "      <td>0.002450</td>\n",
       "      <td>0.000854</td>\n",
       "      <td>1.746593</td>\n",
       "      <td>50.713380</td>\n",
       "      <td>0.016218</td>\n",
       "      <td>0.001073</td>\n",
       "      <td>0.002257</td>\n",
       "      <td>...</td>\n",
       "      <td>2.654792</td>\n",
       "      <td>0.740460</td>\n",
       "      <td>1.353943</td>\n",
       "      <td>0.642606</td>\n",
       "      <td>1.292821</td>\n",
       "      <td>0.971759</td>\n",
       "      <td>0.905151</td>\n",
       "      <td>1.007785</td>\n",
       "      <td>1.046863</td>\n",
       "      <td>0.001629</td>\n",
       "    </tr>\n",
       "    <tr>\n",
       "      <th>3</th>\n",
       "      <td>1013</td>\n",
       "      <td>2007</td>\n",
       "      <td>0.000702</td>\n",
       "      <td>0.001817</td>\n",
       "      <td>0.000439</td>\n",
       "      <td>1.081845</td>\n",
       "      <td>45.171143</td>\n",
       "      <td>0.018446</td>\n",
       "      <td>0.000758</td>\n",
       "      <td>0.002125</td>\n",
       "      <td>...</td>\n",
       "      <td>0.803385</td>\n",
       "      <td>1.030793</td>\n",
       "      <td>0.855337</td>\n",
       "      <td>1.170414</td>\n",
       "      <td>1.025070</td>\n",
       "      <td>1.089005</td>\n",
       "      <td>0.801518</td>\n",
       "      <td>1.088810</td>\n",
       "      <td>1.051707</td>\n",
       "      <td>0.000743</td>\n",
       "    </tr>\n",
       "    <tr>\n",
       "      <th>4</th>\n",
       "      <td>1029</td>\n",
       "      <td>1992</td>\n",
       "      <td>0.001124</td>\n",
       "      <td>0.002111</td>\n",
       "      <td>0.000168</td>\n",
       "      <td>0.175382</td>\n",
       "      <td>28.052156</td>\n",
       "      <td>0.000168</td>\n",
       "      <td>0.001097</td>\n",
       "      <td>0.002057</td>\n",
       "      <td>...</td>\n",
       "      <td>1.458515</td>\n",
       "      <td>1.056878</td>\n",
       "      <td>1.250890</td>\n",
       "      <td>1.024236</td>\n",
       "      <td>0.923484</td>\n",
       "      <td>1.034792</td>\n",
       "      <td>1.020560</td>\n",
       "      <td>1.036390</td>\n",
       "      <td>1.251689</td>\n",
       "      <td>0.000978</td>\n",
       "    </tr>\n",
       "  </tbody>\n",
       "</table>\n",
       "<p>5 rows × 61 columns</p>\n",
       "</div>"
      ],
      "text/plain": [
       "   zipcode  start_year  year_1_EQI_MSA  year_1_EQI_state  year_1_EQI_zip  \\\n",
       "0     1013        1992        0.001549          0.002111        0.000836   \n",
       "1     1013        1997        0.001233          0.002386        0.000986   \n",
       "2     1013        2002        0.001494          0.002450        0.000854   \n",
       "3     1013        2007        0.000702          0.001817        0.000439   \n",
       "4     1029        1992        0.001124          0.002111        0.000168   \n",
       "\n",
       "   year_1_RECPI_MSA  year_1_RECPI_state  year_1_RECPI_zip  year_2_EQI_MSA  \\\n",
       "0          1.176877           28.052156          0.020060        0.001266   \n",
       "1          1.112023           41.174500          0.013807        0.001164   \n",
       "2          1.746593           50.713380          0.016218        0.001073   \n",
       "3          1.081845           45.171143          0.018446        0.000758   \n",
       "4          0.175382           28.052156          0.000168        0.001097   \n",
       "\n",
       "   year_2_EQI_state  ...  recpi_zip_change_4  recpi_msa_change_1  \\\n",
       "0          0.002057  ...            3.247644            0.886418   \n",
       "1          0.002573  ...            0.804941            0.851011   \n",
       "2          0.002257  ...            2.654792            0.740460   \n",
       "3          0.002125  ...            0.803385            1.030793   \n",
       "4          0.002057  ...            1.458515            1.056878   \n",
       "\n",
       "   recpi_msa_change_2  recpi_msa_change_3  recpi_msa_change_4  \\\n",
       "0            1.074673            1.215163            0.883213   \n",
       "1            2.201297            0.567565            0.995583   \n",
       "2            1.353943            0.642606            1.292821   \n",
       "3            0.855337            1.170414            1.025070   \n",
       "4            1.250890            1.024236            0.923484   \n",
       "\n",
       "   recpi_state_change_1  recpi_state_change_2  recpi_state_change_3  \\\n",
       "0              1.034792              1.020560              1.036390   \n",
       "1              1.073900              1.245044              1.448812   \n",
       "2              0.971759              0.905151              1.007785   \n",
       "3              1.089005              0.801518              1.088810   \n",
       "4              1.034792              1.020560              1.036390   \n",
       "\n",
       "   recpi_state_change_4  avg_eqi_year_1-5  \n",
       "0              1.251689          0.001165  \n",
       "1              0.693670          0.001317  \n",
       "2              1.046863          0.001629  \n",
       "3              1.051707          0.000743  \n",
       "4              1.251689          0.000978  \n",
       "\n",
       "[5 rows x 61 columns]"
      ]
     },
     "execution_count": 262,
     "metadata": {},
     "output_type": "execute_result"
    }
   ],
   "source": [
    "X_test.head()"
   ]
  },
  {
   "cell_type": "code",
   "execution_count": 263,
   "metadata": {},
   "outputs": [
    {
     "data": {
      "text/html": [
       "<div>\n",
       "<style scoped>\n",
       "    .dataframe tbody tr th:only-of-type {\n",
       "        vertical-align: middle;\n",
       "    }\n",
       "\n",
       "    .dataframe tbody tr th {\n",
       "        vertical-align: top;\n",
       "    }\n",
       "\n",
       "    .dataframe thead th {\n",
       "        text-align: right;\n",
       "    }\n",
       "</style>\n",
       "<table border=\"1\" class=\"dataframe\">\n",
       "  <thead>\n",
       "    <tr style=\"text-align: right;\">\n",
       "      <th></th>\n",
       "      <th>zipcode</th>\n",
       "      <th>start_year</th>\n",
       "      <th>avg_eqi_year_5-10</th>\n",
       "    </tr>\n",
       "  </thead>\n",
       "  <tbody>\n",
       "    <tr>\n",
       "      <th>0</th>\n",
       "      <td>1013</td>\n",
       "      <td>1992</td>\n",
       "      <td>0.001317</td>\n",
       "    </tr>\n",
       "    <tr>\n",
       "      <th>1</th>\n",
       "      <td>1013</td>\n",
       "      <td>1997</td>\n",
       "      <td>0.001629</td>\n",
       "    </tr>\n",
       "    <tr>\n",
       "      <th>2</th>\n",
       "      <td>1013</td>\n",
       "      <td>2002</td>\n",
       "      <td>0.000743</td>\n",
       "    </tr>\n",
       "    <tr>\n",
       "      <th>3</th>\n",
       "      <td>1013</td>\n",
       "      <td>2007</td>\n",
       "      <td>0.000804</td>\n",
       "    </tr>\n",
       "    <tr>\n",
       "      <th>4</th>\n",
       "      <td>1029</td>\n",
       "      <td>1992</td>\n",
       "      <td>0.000924</td>\n",
       "    </tr>\n",
       "  </tbody>\n",
       "</table>\n",
       "</div>"
      ],
      "text/plain": [
       "   zipcode  start_year  avg_eqi_year_5-10\n",
       "0     1013        1992           0.001317\n",
       "1     1013        1997           0.001629\n",
       "2     1013        2002           0.000743\n",
       "3     1013        2007           0.000804\n",
       "4     1029        1992           0.000924"
      ]
     },
     "execution_count": 263,
     "metadata": {},
     "output_type": "execute_result"
    }
   ],
   "source": [
    "y_test.head()"
   ]
  },
  {
   "cell_type": "code",
   "execution_count": 264,
   "metadata": {},
   "outputs": [],
   "source": [
    "X_test = X_test.drop(['zipcode','start_year'], axis=1)\n",
    "X_train = X_train.drop(['zipcode','start_year'], axis=1)\n",
    "y_test = y_test[['avg_eqi_year_5-10']].to_numpy().ravel()\n",
    "y_train = y_train[['avg_eqi_year_5-10']].to_numpy().ravel()"
   ]
  },
  {
   "cell_type": "markdown",
   "metadata": {},
   "source": [
    "### Data Pipeline"
   ]
  },
  {
   "cell_type": "code",
   "execution_count": 265,
   "metadata": {
    "pycharm": {
     "name": "#%%\n"
    }
   },
   "outputs": [],
   "source": [
    "from sklearn.preprocessing import StandardScaler, OneHotEncoder\n",
    "from sklearn.pipeline import Pipeline\n",
    "from sklearn.compose import ColumnTransformer, make_column_selector\n",
    "from sklearn.metrics import r2_score, mean_gamma_deviance"
   ]
  },
  {
   "cell_type": "code",
   "execution_count": 266,
   "metadata": {
    "pycharm": {
     "name": "#%%\n"
    }
   },
   "outputs": [
    {
     "data": {
      "text/plain": [
       "ColumnTransformer(transformers=[('scale', StandardScaler(),\n",
       "                                 <sklearn.compose._column_transformer.make_column_selector object at 0x000002530F3216A0>)])"
      ]
     },
     "execution_count": 266,
     "metadata": {},
     "output_type": "execute_result"
    }
   ],
   "source": [
    "column_trans = ColumnTransformer([\n",
    "    ('scale', StandardScaler(), make_column_selector(dtype_include=np.float64))\n",
    "    ], remainder='drop')\n",
    "\n",
    "column_trans.fit(X_train)"
   ]
  },
  {
   "cell_type": "markdown",
   "metadata": {},
   "source": [
    "## Linear Models"
   ]
  },
  {
   "cell_type": "code",
   "execution_count": 267,
   "metadata": {
    "pycharm": {
     "name": "#%%\n"
    }
   },
   "outputs": [],
   "source": [
    "from sklearn import linear_model"
   ]
  },
  {
   "cell_type": "markdown",
   "metadata": {},
   "source": [
    "### OLS"
   ]
  },
  {
   "cell_type": "code",
   "execution_count": 268,
   "metadata": {
    "pycharm": {
     "name": "#%%\n"
    }
   },
   "outputs": [],
   "source": [
    "pipe = Pipeline([('transformer', column_trans), ('ols', linear_model.LinearRegression())])"
   ]
  },
  {
   "cell_type": "code",
   "execution_count": 269,
   "metadata": {
    "pycharm": {
     "name": "#%%\n"
    }
   },
   "outputs": [
    {
     "data": {
      "text/plain": [
       "Pipeline(steps=[('transformer',\n",
       "                 ColumnTransformer(transformers=[('scale', StandardScaler(),\n",
       "                                                  <sklearn.compose._column_transformer.make_column_selector object at 0x000002530F3216A0>)])),\n",
       "                ('ols', LinearRegression())])"
      ]
     },
     "execution_count": 269,
     "metadata": {},
     "output_type": "execute_result"
    }
   ],
   "source": [
    "pipe.fit(X_train, y_train)"
   ]
  },
  {
   "cell_type": "code",
   "execution_count": 270,
   "metadata": {
    "pycharm": {
     "name": "#%%\n"
    }
   },
   "outputs": [
    {
     "data": {
      "text/plain": [
       "0.10604068427541535"
      ]
     },
     "execution_count": 270,
     "metadata": {},
     "output_type": "execute_result"
    }
   ],
   "source": [
    "y_pred = pipe.predict(X_train)\n",
    "r2_score(y_train, y_pred)"
   ]
  },
  {
   "cell_type": "code",
   "execution_count": 271,
   "metadata": {
    "pycharm": {
     "name": "#%%\n"
    }
   },
   "outputs": [
    {
     "data": {
      "text/plain": [
       "0.2412324319252005"
      ]
     },
     "execution_count": 271,
     "metadata": {},
     "output_type": "execute_result"
    }
   ],
   "source": [
    "y_pred = pipe.predict(X_test)\n",
    "r2_score(y_test, y_pred)"
   ]
  },
  {
   "cell_type": "markdown",
   "metadata": {},
   "source": [
    "### Ridge"
   ]
  },
  {
   "cell_type": "code",
   "execution_count": 272,
   "metadata": {
    "pycharm": {
     "name": "#%%\n"
    }
   },
   "outputs": [],
   "source": [
    "pipe = Pipeline([('transformer', column_trans), ('ridge', linear_model.Ridge())])"
   ]
  },
  {
   "cell_type": "code",
   "execution_count": 273,
   "metadata": {
    "pycharm": {
     "name": "#%%\n"
    }
   },
   "outputs": [
    {
     "data": {
      "text/plain": [
       "Pipeline(steps=[('transformer',\n",
       "                 ColumnTransformer(transformers=[('scale', StandardScaler(),\n",
       "                                                  <sklearn.compose._column_transformer.make_column_selector object at 0x000002530F3216A0>)])),\n",
       "                ('ridge', Ridge())])"
      ]
     },
     "execution_count": 273,
     "metadata": {},
     "output_type": "execute_result"
    }
   ],
   "source": [
    "pipe.fit(X_train, y_train)"
   ]
  },
  {
   "cell_type": "code",
   "execution_count": 274,
   "metadata": {
    "pycharm": {
     "name": "#%%\n"
    }
   },
   "outputs": [
    {
     "data": {
      "text/plain": [
       "0.4090779819745761"
      ]
     },
     "execution_count": 274,
     "metadata": {},
     "output_type": "execute_result"
    }
   ],
   "source": [
    "y_pred = pipe.predict(X_train)\n",
    "r2_score(y_train, y_pred)"
   ]
  },
  {
   "cell_type": "code",
   "execution_count": 275,
   "metadata": {
    "pycharm": {
     "name": "#%%\n"
    }
   },
   "outputs": [
    {
     "data": {
      "text/plain": [
       "0.4203981293465048"
      ]
     },
     "execution_count": 275,
     "metadata": {},
     "output_type": "execute_result"
    }
   ],
   "source": [
    "y_pred = pipe.predict(X_test)\n",
    "r2_score(y_test, y_pred)"
   ]
  },
  {
   "cell_type": "markdown",
   "metadata": {},
   "source": [
    "### Lasso"
   ]
  },
  {
   "cell_type": "code",
   "execution_count": 276,
   "metadata": {
    "pycharm": {
     "name": "#%%\n"
    }
   },
   "outputs": [],
   "source": [
    "pipe = Pipeline([('transformer', column_trans), ('lasso', linear_model.Lasso())])"
   ]
  },
  {
   "cell_type": "code",
   "execution_count": 277,
   "metadata": {
    "pycharm": {
     "name": "#%%\n"
    }
   },
   "outputs": [
    {
     "data": {
      "text/plain": [
       "Pipeline(steps=[('transformer',\n",
       "                 ColumnTransformer(transformers=[('scale', StandardScaler(),\n",
       "                                                  <sklearn.compose._column_transformer.make_column_selector object at 0x000002530F3216A0>)])),\n",
       "                ('lasso', Lasso())])"
      ]
     },
     "execution_count": 277,
     "metadata": {},
     "output_type": "execute_result"
    }
   ],
   "source": [
    "pipe.fit(X_train, y_train)"
   ]
  },
  {
   "cell_type": "code",
   "execution_count": 278,
   "metadata": {
    "pycharm": {
     "name": "#%%\n"
    }
   },
   "outputs": [
    {
     "data": {
      "text/plain": [
       "0.0"
      ]
     },
     "execution_count": 278,
     "metadata": {},
     "output_type": "execute_result"
    }
   ],
   "source": [
    "y_pred = pipe.predict(X_train)\n",
    "r2_score(y_train, y_pred)"
   ]
  },
  {
   "cell_type": "code",
   "execution_count": 279,
   "metadata": {
    "pycharm": {
     "name": "#%%\n"
    }
   },
   "outputs": [
    {
     "data": {
      "text/plain": [
       "-0.0002776847582237618"
      ]
     },
     "execution_count": 279,
     "metadata": {},
     "output_type": "execute_result"
    }
   ],
   "source": [
    "y_pred = pipe.predict(X_test)\n",
    "r2_score(y_test, y_pred)"
   ]
  },
  {
   "cell_type": "markdown",
   "metadata": {},
   "source": [
    "## KNN Regressor"
   ]
  },
  {
   "cell_type": "code",
   "execution_count": 280,
   "metadata": {
    "pycharm": {
     "name": "#%%\n"
    }
   },
   "outputs": [],
   "source": [
    "from sklearn.neighbors import KNeighborsRegressor"
   ]
  },
  {
   "cell_type": "code",
   "execution_count": 281,
   "metadata": {
    "pycharm": {
     "name": "#%%\n"
    }
   },
   "outputs": [],
   "source": [
    "pipe = Pipeline([('transformer', column_trans), ('knn', KNeighborsRegressor())])"
   ]
  },
  {
   "cell_type": "code",
   "execution_count": 282,
   "metadata": {
    "pycharm": {
     "name": "#%%\n"
    }
   },
   "outputs": [
    {
     "data": {
      "text/plain": [
       "Pipeline(steps=[('transformer',\n",
       "                 ColumnTransformer(transformers=[('scale', StandardScaler(),\n",
       "                                                  <sklearn.compose._column_transformer.make_column_selector object at 0x000002530F3216A0>)])),\n",
       "                ('knn', KNeighborsRegressor())])"
      ]
     },
     "execution_count": 282,
     "metadata": {},
     "output_type": "execute_result"
    }
   ],
   "source": [
    "pipe.fit(X_train, y_train)"
   ]
  },
  {
   "cell_type": "code",
   "execution_count": 283,
   "metadata": {
    "pycharm": {
     "name": "#%%\n"
    }
   },
   "outputs": [
    {
     "data": {
      "text/plain": [
       "0.5930726693934081"
      ]
     },
     "execution_count": 283,
     "metadata": {},
     "output_type": "execute_result"
    }
   ],
   "source": [
    "y_pred = pipe.predict(X_train)\n",
    "r2_score(y_train, y_pred)"
   ]
  },
  {
   "cell_type": "code",
   "execution_count": 284,
   "metadata": {
    "pycharm": {
     "name": "#%%\n"
    }
   },
   "outputs": [
    {
     "data": {
      "text/plain": [
       "0.3759002557687914"
      ]
     },
     "execution_count": 284,
     "metadata": {},
     "output_type": "execute_result"
    }
   ],
   "source": [
    "y_pred = pipe.predict(X_test)\n",
    "r2_score(y_test, y_pred)"
   ]
  },
  {
   "cell_type": "markdown",
   "metadata": {},
   "source": [
    "## SVM Regressor"
   ]
  },
  {
   "cell_type": "code",
   "execution_count": 285,
   "metadata": {
    "pycharm": {
     "name": "#%%\n"
    }
   },
   "outputs": [],
   "source": [
    "from sklearn.svm import SVR"
   ]
  },
  {
   "cell_type": "code",
   "execution_count": 286,
   "metadata": {
    "pycharm": {
     "name": "#%%\n"
    }
   },
   "outputs": [],
   "source": [
    "pipe = Pipeline([('transformer', column_trans), ('svr', SVR())])"
   ]
  },
  {
   "cell_type": "code",
   "execution_count": 287,
   "metadata": {
    "pycharm": {
     "name": "#%%\n"
    }
   },
   "outputs": [
    {
     "data": {
      "text/plain": [
       "Pipeline(steps=[('transformer',\n",
       "                 ColumnTransformer(transformers=[('scale', StandardScaler(),\n",
       "                                                  <sklearn.compose._column_transformer.make_column_selector object at 0x000002530F3216A0>)])),\n",
       "                ('svr', SVR())])"
      ]
     },
     "execution_count": 287,
     "metadata": {},
     "output_type": "execute_result"
    }
   ],
   "source": [
    "pipe.fit(X_train, y_train)"
   ]
  },
  {
   "cell_type": "code",
   "execution_count": 288,
   "metadata": {
    "pycharm": {
     "name": "#%%\n"
    }
   },
   "outputs": [
    {
     "data": {
      "text/plain": [
       "-397.20368992952837"
      ]
     },
     "execution_count": 288,
     "metadata": {},
     "output_type": "execute_result"
    }
   ],
   "source": [
    "y_pred = pipe.predict(X_train)\n",
    "r2_score(y_train, y_pred)"
   ]
  },
  {
   "cell_type": "code",
   "execution_count": 289,
   "metadata": {
    "pycharm": {
     "name": "#%%\n"
    }
   },
   "outputs": [
    {
     "data": {
      "text/plain": [
       "-316.652141134662"
      ]
     },
     "execution_count": 289,
     "metadata": {},
     "output_type": "execute_result"
    }
   ],
   "source": [
    "y_pred = pipe.predict(X_test)\n",
    "r2_score(y_test, y_pred)"
   ]
  },
  {
   "cell_type": "markdown",
   "metadata": {},
   "source": [
    "## Ensemble Methods"
   ]
  },
  {
   "cell_type": "markdown",
   "metadata": {},
   "source": [
    "### Random Forest"
   ]
  },
  {
   "cell_type": "code",
   "execution_count": 290,
   "metadata": {
    "pycharm": {
     "name": "#%%\n"
    }
   },
   "outputs": [],
   "source": [
    "from sklearn.ensemble import RandomForestRegressor"
   ]
  },
  {
   "cell_type": "code",
   "execution_count": 291,
   "metadata": {
    "pycharm": {
     "name": "#%%\n"
    }
   },
   "outputs": [],
   "source": [
    "pipe = Pipeline([('transformer', column_trans), ('rf', RandomForestRegressor(n_jobs=-1))])"
   ]
  },
  {
   "cell_type": "code",
   "execution_count": 292,
   "metadata": {
    "pycharm": {
     "name": "#%%\n"
    }
   },
   "outputs": [
    {
     "data": {
      "text/plain": [
       "Pipeline(steps=[('transformer',\n",
       "                 ColumnTransformer(transformers=[('scale', StandardScaler(),\n",
       "                                                  <sklearn.compose._column_transformer.make_column_selector object at 0x000002530F3216A0>)])),\n",
       "                ('rf', RandomForestRegressor(n_jobs=-1))])"
      ]
     },
     "execution_count": 292,
     "metadata": {},
     "output_type": "execute_result"
    }
   ],
   "source": [
    "pipe.fit(X_train, y_train)"
   ]
  },
  {
   "cell_type": "code",
   "execution_count": 293,
   "metadata": {
    "pycharm": {
     "name": "#%%\n"
    }
   },
   "outputs": [
    {
     "data": {
      "text/plain": [
       "0.9240955981126345"
      ]
     },
     "execution_count": 293,
     "metadata": {},
     "output_type": "execute_result"
    }
   ],
   "source": [
    "y_pred = pipe.predict(X_train)\n",
    "r2_score(y_train, y_pred)"
   ]
  },
  {
   "cell_type": "code",
   "execution_count": 294,
   "metadata": {
    "pycharm": {
     "name": "#%%\n"
    }
   },
   "outputs": [
    {
     "data": {
      "text/plain": [
       "0.46787602338840084"
      ]
     },
     "execution_count": 294,
     "metadata": {},
     "output_type": "execute_result"
    }
   ],
   "source": [
    "y_pred = pipe.predict(X_test)\n",
    "r2_score(y_test, y_pred)"
   ]
  },
  {
   "cell_type": "markdown",
   "metadata": {},
   "source": [
    "### Gradient Boosting"
   ]
  },
  {
   "cell_type": "code",
   "execution_count": 295,
   "metadata": {
    "pycharm": {
     "name": "#%%\n"
    }
   },
   "outputs": [],
   "source": [
    "from sklearn.ensemble import GradientBoostingRegressor"
   ]
  },
  {
   "cell_type": "code",
   "execution_count": 296,
   "metadata": {
    "pycharm": {
     "name": "#%%\n"
    }
   },
   "outputs": [],
   "source": [
    "pipe = Pipeline([('transformer', column_trans), ('gbr', GradientBoostingRegressor())])"
   ]
  },
  {
   "cell_type": "code",
   "execution_count": 297,
   "metadata": {
    "pycharm": {
     "name": "#%%\n"
    }
   },
   "outputs": [
    {
     "data": {
      "text/plain": [
       "Pipeline(steps=[('transformer',\n",
       "                 ColumnTransformer(transformers=[('scale', StandardScaler(),\n",
       "                                                  <sklearn.compose._column_transformer.make_column_selector object at 0x000002530F3216A0>)])),\n",
       "                ('gbr', GradientBoostingRegressor())])"
      ]
     },
     "execution_count": 297,
     "metadata": {},
     "output_type": "execute_result"
    }
   ],
   "source": [
    "pipe.fit(X_train, y_train)"
   ]
  },
  {
   "cell_type": "code",
   "execution_count": 298,
   "metadata": {
    "pycharm": {
     "name": "#%%\n"
    }
   },
   "outputs": [
    {
     "data": {
      "text/plain": [
       "0.6349046086338193"
      ]
     },
     "execution_count": 298,
     "metadata": {},
     "output_type": "execute_result"
    }
   ],
   "source": [
    "y_pred = pipe.predict(X_train)\n",
    "r2_score(y_train, y_pred)"
   ]
  },
  {
   "cell_type": "code",
   "execution_count": 299,
   "metadata": {
    "pycharm": {
     "name": "#%%\n"
    }
   },
   "outputs": [
    {
     "data": {
      "text/plain": [
       "0.5242195244568959"
      ]
     },
     "execution_count": 299,
     "metadata": {},
     "output_type": "execute_result"
    }
   ],
   "source": [
    "y_pred = pipe.predict(X_test)\n",
    "r2_score(y_test, y_pred)"
   ]
  },
  {
   "cell_type": "markdown",
   "metadata": {},
   "source": [
    "### AdaBoost"
   ]
  },
  {
   "cell_type": "code",
   "execution_count": 300,
   "metadata": {
    "pycharm": {
     "name": "#%%\n"
    }
   },
   "outputs": [],
   "source": [
    "from sklearn.ensemble import AdaBoostRegressor"
   ]
  },
  {
   "cell_type": "code",
   "execution_count": 301,
   "metadata": {
    "pycharm": {
     "name": "#%%\n"
    }
   },
   "outputs": [],
   "source": [
    "pipe = Pipeline([('transformer', column_trans), ('adaboost', AdaBoostRegressor())])"
   ]
  },
  {
   "cell_type": "code",
   "execution_count": 302,
   "metadata": {
    "pycharm": {
     "name": "#%%\n"
    }
   },
   "outputs": [
    {
     "data": {
      "text/plain": [
       "Pipeline(steps=[('transformer',\n",
       "                 ColumnTransformer(transformers=[('scale', StandardScaler(),\n",
       "                                                  <sklearn.compose._column_transformer.make_column_selector object at 0x000002530F3216A0>)])),\n",
       "                ('adaboost', AdaBoostRegressor())])"
      ]
     },
     "execution_count": 302,
     "metadata": {},
     "output_type": "execute_result"
    }
   ],
   "source": [
    "pipe.fit(X_train, y_train)"
   ]
  },
  {
   "cell_type": "code",
   "execution_count": 303,
   "metadata": {
    "pycharm": {
     "name": "#%%\n"
    }
   },
   "outputs": [
    {
     "data": {
      "text/plain": [
       "-13.086833659867962"
      ]
     },
     "execution_count": 303,
     "metadata": {},
     "output_type": "execute_result"
    }
   ],
   "source": [
    "y_pred = pipe.predict(X_train)\n",
    "r2_score(y_train, y_pred)"
   ]
  },
  {
   "cell_type": "code",
   "execution_count": 304,
   "metadata": {
    "pycharm": {
     "name": "#%%\n"
    }
   },
   "outputs": [
    {
     "data": {
      "text/plain": [
       "-10.350265124867452"
      ]
     },
     "execution_count": 304,
     "metadata": {},
     "output_type": "execute_result"
    }
   ],
   "source": [
    "y_pred = pipe.predict(X_test)\n",
    "r2_score(y_test, y_pred)"
   ]
  },
  {
   "cell_type": "markdown",
   "metadata": {},
   "source": [
    "### Tree Bagging"
   ]
  },
  {
   "cell_type": "code",
   "execution_count": 305,
   "metadata": {
    "pycharm": {
     "name": "#%%\n"
    }
   },
   "outputs": [],
   "source": [
    "from sklearn.ensemble import BaggingRegressor"
   ]
  },
  {
   "cell_type": "code",
   "execution_count": 306,
   "metadata": {
    "pycharm": {
     "name": "#%%\n"
    }
   },
   "outputs": [],
   "source": [
    "pipe = Pipeline([('transformer', column_trans), ('bagging', BaggingRegressor(n_jobs=-1))])"
   ]
  },
  {
   "cell_type": "code",
   "execution_count": 307,
   "metadata": {
    "pycharm": {
     "name": "#%%\n"
    }
   },
   "outputs": [
    {
     "data": {
      "text/plain": [
       "Pipeline(steps=[('transformer',\n",
       "                 ColumnTransformer(transformers=[('scale', StandardScaler(),\n",
       "                                                  <sklearn.compose._column_transformer.make_column_selector object at 0x000002530F3216A0>)])),\n",
       "                ('bagging', BaggingRegressor(n_jobs=-1))])"
      ]
     },
     "execution_count": 307,
     "metadata": {},
     "output_type": "execute_result"
    }
   ],
   "source": [
    "pipe.fit(X_train, y_train)"
   ]
  },
  {
   "cell_type": "code",
   "execution_count": 308,
   "metadata": {
    "pycharm": {
     "name": "#%%\n"
    }
   },
   "outputs": [
    {
     "data": {
      "text/plain": [
       "0.8735032581120307"
      ]
     },
     "execution_count": 308,
     "metadata": {},
     "output_type": "execute_result"
    }
   ],
   "source": [
    "y_pred = pipe.predict(X_train)\n",
    "r2_score(y_train, y_pred)"
   ]
  },
  {
   "cell_type": "code",
   "execution_count": 309,
   "metadata": {
    "pycharm": {
     "name": "#%%\n"
    }
   },
   "outputs": [
    {
     "data": {
      "text/plain": [
       "0.4199717121570723"
      ]
     },
     "execution_count": 309,
     "metadata": {},
     "output_type": "execute_result"
    }
   ],
   "source": [
    "y_pred = pipe.predict(X_test)\n",
    "r2_score(y_test, y_pred)"
   ]
  },
  {
   "cell_type": "markdown",
   "metadata": {},
   "source": [
    "## NN Model"
   ]
  },
  {
   "cell_type": "code",
   "execution_count": 310,
   "metadata": {
    "pycharm": {
     "name": "#%%\n"
    }
   },
   "outputs": [],
   "source": [
    "from sklearn.neural_network import MLPRegressor"
   ]
  },
  {
   "cell_type": "code",
   "execution_count": 311,
   "metadata": {
    "pycharm": {
     "name": "#%%\n"
    }
   },
   "outputs": [],
   "source": [
    "pipe = Pipeline([('transformer', column_trans), ('perceptron', MLPRegressor())])"
   ]
  },
  {
   "cell_type": "code",
   "execution_count": 312,
   "metadata": {
    "pycharm": {
     "name": "#%%\n"
    }
   },
   "outputs": [
    {
     "data": {
      "text/plain": [
       "Pipeline(steps=[('transformer',\n",
       "                 ColumnTransformer(transformers=[('scale', StandardScaler(),\n",
       "                                                  <sklearn.compose._column_transformer.make_column_selector object at 0x000002530F3216A0>)])),\n",
       "                ('perceptron', MLPRegressor())])"
      ]
     },
     "execution_count": 312,
     "metadata": {},
     "output_type": "execute_result"
    }
   ],
   "source": [
    "pipe.fit(X_train, y_train)"
   ]
  },
  {
   "cell_type": "code",
   "execution_count": 313,
   "metadata": {
    "pycharm": {
     "name": "#%%\n"
    }
   },
   "outputs": [
    {
     "data": {
      "text/plain": [
       "-112018.87349521568"
      ]
     },
     "execution_count": 313,
     "metadata": {},
     "output_type": "execute_result"
    }
   ],
   "source": [
    "y_pred = pipe.predict(X_train)\n",
    "r2_score(y_train, y_pred)"
   ]
  },
  {
   "cell_type": "code",
   "execution_count": 314,
   "metadata": {
    "pycharm": {
     "name": "#%%\n"
    }
   },
   "outputs": [
    {
     "data": {
      "text/plain": [
       "-30956.003691179016"
      ]
     },
     "execution_count": 314,
     "metadata": {},
     "output_type": "execute_result"
    }
   ],
   "source": [
    "y_pred = pipe.predict(X_test)\n",
    "r2_score(y_test, y_pred)"
   ]
  },
  {
   "cell_type": "markdown",
   "metadata": {},
   "source": [
    "## Voting Regressor"
   ]
  },
  {
   "cell_type": "code",
   "execution_count": 315,
   "metadata": {},
   "outputs": [],
   "source": [
    "from sklearn.ensemble import VotingRegressor"
   ]
  },
  {
   "cell_type": "code",
   "execution_count": 316,
   "metadata": {},
   "outputs": [],
   "source": [
    "vote = VotingRegressor(estimators=[('knn', KNeighborsRegressor()), ('rf', RandomForestRegressor(n_jobs=-1))])"
   ]
  },
  {
   "cell_type": "code",
   "execution_count": 317,
   "metadata": {},
   "outputs": [],
   "source": [
    "pipe = Pipeline([('transformer', column_trans), ('vote', vote)])"
   ]
  },
  {
   "cell_type": "code",
   "execution_count": 318,
   "metadata": {},
   "outputs": [
    {
     "data": {
      "text/plain": [
       "Pipeline(steps=[('transformer',\n",
       "                 ColumnTransformer(transformers=[('scale', StandardScaler(),\n",
       "                                                  <sklearn.compose._column_transformer.make_column_selector object at 0x000002530F3216A0>)])),\n",
       "                ('vote',\n",
       "                 VotingRegressor(estimators=[('knn', KNeighborsRegressor()),\n",
       "                                             ('rf',\n",
       "                                              RandomForestRegressor(n_jobs=-1))]))])"
      ]
     },
     "execution_count": 318,
     "metadata": {},
     "output_type": "execute_result"
    }
   ],
   "source": [
    "pipe.fit(X_train, y_train)"
   ]
  },
  {
   "cell_type": "code",
   "execution_count": 319,
   "metadata": {},
   "outputs": [
    {
     "data": {
      "text/plain": [
       "0.80296870264815"
      ]
     },
     "execution_count": 319,
     "metadata": {},
     "output_type": "execute_result"
    }
   ],
   "source": [
    "y_pred = pipe.predict(X_train)\n",
    "r2_score(y_train, y_pred)"
   ]
  },
  {
   "cell_type": "code",
   "execution_count": 320,
   "metadata": {},
   "outputs": [
    {
     "data": {
      "text/plain": [
       "0.4572948236139843"
      ]
     },
     "execution_count": 320,
     "metadata": {},
     "output_type": "execute_result"
    }
   ],
   "source": [
    "y_pred = pipe.predict(X_test)\n",
    "r2_score(y_test, y_pred)"
   ]
  },
  {
   "cell_type": "code",
   "execution_count": null,
   "metadata": {},
   "outputs": [],
   "source": []
  }
 ],
 "metadata": {
  "kernelspec": {
   "display_name": "Python 3",
   "language": "python",
   "name": "python3"
  },
  "language_info": {
   "codemirror_mode": {
    "name": "ipython",
    "version": 3
   },
   "file_extension": ".py",
   "mimetype": "text/x-python",
   "name": "python",
   "nbconvert_exporter": "python",
   "pygments_lexer": "ipython3",
   "version": "3.8.3"
  }
 },
 "nbformat": 4,
 "nbformat_minor": 4
}
