{
 "cells": [
  {
   "cell_type": "markdown",
   "metadata": {},
   "source": [
    "# Exploratory Modeling with Feature Reduction"
   ]
  },
  {
   "cell_type": "code",
   "execution_count": 1,
   "metadata": {},
   "outputs": [],
   "source": [
    "from sklearn.model_selection import train_test_split\n",
    "import pandas as pd\n",
    "import numpy as np"
   ]
  },
  {
   "cell_type": "markdown",
   "metadata": {},
   "source": [
    "### Split Data into Training and Test Sets"
   ]
  },
  {
   "cell_type": "code",
   "execution_count": 2,
   "metadata": {
    "pycharm": {
     "name": "#%%\n"
    }
   },
   "outputs": [
    {
     "data": {
      "text/html": [
       "<div>\n",
       "<style scoped>\n",
       "    .dataframe tbody tr th:only-of-type {\n",
       "        vertical-align: middle;\n",
       "    }\n",
       "\n",
       "    .dataframe tbody tr th {\n",
       "        vertical-align: top;\n",
       "    }\n",
       "\n",
       "    .dataframe thead th {\n",
       "        text-align: right;\n",
       "    }\n",
       "</style>\n",
       "<table border=\"1\" class=\"dataframe\">\n",
       "  <thead>\n",
       "    <tr style=\"text-align: right;\">\n",
       "      <th></th>\n",
       "      <th>zipcode</th>\n",
       "      <th>start_year</th>\n",
       "      <th>avg_eqi_year_5-10</th>\n",
       "      <th>year_1_EQI_MSA</th>\n",
       "      <th>year_1_EQI_state</th>\n",
       "      <th>year_1_EQI_zip</th>\n",
       "      <th>year_1_RECPI_MSA</th>\n",
       "      <th>year_1_RECPI_state</th>\n",
       "      <th>year_1_RECPI_zip</th>\n",
       "      <th>year_2_EQI_MSA</th>\n",
       "      <th>...</th>\n",
       "      <th>recpi_state_change_2</th>\n",
       "      <th>recpi_state_change_3</th>\n",
       "      <th>recpi_state_change_4</th>\n",
       "      <th>avg_eqi_year_1-5</th>\n",
       "      <th>dataset_cluster</th>\n",
       "      <th>zip_cluster</th>\n",
       "      <th>msa_cluster</th>\n",
       "      <th>state_cluster</th>\n",
       "      <th>eqi_cluster</th>\n",
       "      <th>recpi_cluster</th>\n",
       "    </tr>\n",
       "  </thead>\n",
       "  <tbody>\n",
       "    <tr>\n",
       "      <th>0</th>\n",
       "      <td>1001</td>\n",
       "      <td>1992</td>\n",
       "      <td>0.001287</td>\n",
       "      <td>0.001549</td>\n",
       "      <td>0.002111</td>\n",
       "      <td>0.002216</td>\n",
       "      <td>1.176876</td>\n",
       "      <td>28.052156</td>\n",
       "      <td>0.048744</td>\n",
       "      <td>0.001266</td>\n",
       "      <td>...</td>\n",
       "      <td>1.020560</td>\n",
       "      <td>1.036390</td>\n",
       "      <td>1.251689</td>\n",
       "      <td>0.002170</td>\n",
       "      <td>3</td>\n",
       "      <td>0</td>\n",
       "      <td>0</td>\n",
       "      <td>1</td>\n",
       "      <td>0</td>\n",
       "      <td>0</td>\n",
       "    </tr>\n",
       "    <tr>\n",
       "      <th>1</th>\n",
       "      <td>1001</td>\n",
       "      <td>1997</td>\n",
       "      <td>0.001853</td>\n",
       "      <td>0.001233</td>\n",
       "      <td>0.002386</td>\n",
       "      <td>0.000840</td>\n",
       "      <td>1.112023</td>\n",
       "      <td>41.174500</td>\n",
       "      <td>0.035283</td>\n",
       "      <td>0.001164</td>\n",
       "      <td>...</td>\n",
       "      <td>1.245044</td>\n",
       "      <td>1.448812</td>\n",
       "      <td>0.693670</td>\n",
       "      <td>0.001287</td>\n",
       "      <td>3</td>\n",
       "      <td>0</td>\n",
       "      <td>0</td>\n",
       "      <td>1</td>\n",
       "      <td>0</td>\n",
       "      <td>0</td>\n",
       "    </tr>\n",
       "    <tr>\n",
       "      <th>2</th>\n",
       "      <td>1001</td>\n",
       "      <td>2002</td>\n",
       "      <td>0.000602</td>\n",
       "      <td>0.001494</td>\n",
       "      <td>0.002450</td>\n",
       "      <td>0.001504</td>\n",
       "      <td>1.746593</td>\n",
       "      <td>50.713380</td>\n",
       "      <td>0.054131</td>\n",
       "      <td>0.001073</td>\n",
       "      <td>...</td>\n",
       "      <td>0.905151</td>\n",
       "      <td>1.007785</td>\n",
       "      <td>1.046863</td>\n",
       "      <td>0.001853</td>\n",
       "      <td>3</td>\n",
       "      <td>0</td>\n",
       "      <td>0</td>\n",
       "      <td>1</td>\n",
       "      <td>0</td>\n",
       "      <td>0</td>\n",
       "    </tr>\n",
       "    <tr>\n",
       "      <th>3</th>\n",
       "      <td>1001</td>\n",
       "      <td>2007</td>\n",
       "      <td>0.000898</td>\n",
       "      <td>0.000702</td>\n",
       "      <td>0.001817</td>\n",
       "      <td>0.000611</td>\n",
       "      <td>1.081845</td>\n",
       "      <td>45.171143</td>\n",
       "      <td>0.036063</td>\n",
       "      <td>0.000758</td>\n",
       "      <td>...</td>\n",
       "      <td>0.801518</td>\n",
       "      <td>1.088810</td>\n",
       "      <td>1.051707</td>\n",
       "      <td>0.000602</td>\n",
       "      <td>3</td>\n",
       "      <td>0</td>\n",
       "      <td>0</td>\n",
       "      <td>1</td>\n",
       "      <td>0</td>\n",
       "      <td>0</td>\n",
       "    </tr>\n",
       "    <tr>\n",
       "      <th>4</th>\n",
       "      <td>1002</td>\n",
       "      <td>1992</td>\n",
       "      <td>0.002931</td>\n",
       "      <td>0.001549</td>\n",
       "      <td>0.002111</td>\n",
       "      <td>0.000959</td>\n",
       "      <td>1.176876</td>\n",
       "      <td>28.052156</td>\n",
       "      <td>0.020148</td>\n",
       "      <td>0.001266</td>\n",
       "      <td>...</td>\n",
       "      <td>1.020560</td>\n",
       "      <td>1.036390</td>\n",
       "      <td>1.251689</td>\n",
       "      <td>0.003141</td>\n",
       "      <td>3</td>\n",
       "      <td>1</td>\n",
       "      <td>0</td>\n",
       "      <td>1</td>\n",
       "      <td>0</td>\n",
       "      <td>0</td>\n",
       "    </tr>\n",
       "  </tbody>\n",
       "</table>\n",
       "<p>5 rows × 68 columns</p>\n",
       "</div>"
      ],
      "text/plain": [
       "   zipcode  start_year  avg_eqi_year_5-10  year_1_EQI_MSA  year_1_EQI_state  \\\n",
       "0     1001        1992           0.001287        0.001549          0.002111   \n",
       "1     1001        1997           0.001853        0.001233          0.002386   \n",
       "2     1001        2002           0.000602        0.001494          0.002450   \n",
       "3     1001        2007           0.000898        0.000702          0.001817   \n",
       "4     1002        1992           0.002931        0.001549          0.002111   \n",
       "\n",
       "   year_1_EQI_zip  year_1_RECPI_MSA  year_1_RECPI_state  year_1_RECPI_zip  \\\n",
       "0        0.002216          1.176876           28.052156          0.048744   \n",
       "1        0.000840          1.112023           41.174500          0.035283   \n",
       "2        0.001504          1.746593           50.713380          0.054131   \n",
       "3        0.000611          1.081845           45.171143          0.036063   \n",
       "4        0.000959          1.176876           28.052156          0.020148   \n",
       "\n",
       "   year_2_EQI_MSA  ...  recpi_state_change_2  recpi_state_change_3  \\\n",
       "0        0.001266  ...              1.020560              1.036390   \n",
       "1        0.001164  ...              1.245044              1.448812   \n",
       "2        0.001073  ...              0.905151              1.007785   \n",
       "3        0.000758  ...              0.801518              1.088810   \n",
       "4        0.001266  ...              1.020560              1.036390   \n",
       "\n",
       "   recpi_state_change_4  avg_eqi_year_1-5  dataset_cluster  zip_cluster  \\\n",
       "0              1.251689          0.002170                3            0   \n",
       "1              0.693670          0.001287                3            0   \n",
       "2              1.046863          0.001853                3            0   \n",
       "3              1.051707          0.000602                3            0   \n",
       "4              1.251689          0.003141                3            1   \n",
       "\n",
       "   msa_cluster  state_cluster  eqi_cluster  recpi_cluster  \n",
       "0            0              1            0              0  \n",
       "1            0              1            0              0  \n",
       "2            0              1            0              0  \n",
       "3            0              1            0              0  \n",
       "4            0              1            0              0  \n",
       "\n",
       "[5 rows x 68 columns]"
      ]
     },
     "execution_count": 2,
     "metadata": {},
     "output_type": "execute_result"
    }
   ],
   "source": [
    "filename = '../../data/processed/feature-eng-clustered.csv'\n",
    "df = pd.read_csv(filename)\n",
    "df.head()"
   ]
  },
  {
   "cell_type": "code",
   "execution_count": 3,
   "metadata": {},
   "outputs": [],
   "source": [
    "X = df['zipcode'].unique()\n",
    "y = df['zipcode'].unique()"
   ]
  },
  {
   "cell_type": "code",
   "execution_count": 4,
   "metadata": {},
   "outputs": [],
   "source": [
    "X_train, X_test, y_train, y_test = train_test_split(X, y, test_size=0.2, random_state=42)"
   ]
  },
  {
   "cell_type": "code",
   "execution_count": 5,
   "metadata": {},
   "outputs": [],
   "source": [
    "X = df.drop('avg_eqi_year_5-10', axis=1)\n",
    "y = df[['zipcode','start_year','avg_eqi_year_5-10']]"
   ]
  },
  {
   "cell_type": "code",
   "execution_count": 6,
   "metadata": {},
   "outputs": [
    {
     "data": {
      "text/html": [
       "<div>\n",
       "<style scoped>\n",
       "    .dataframe tbody tr th:only-of-type {\n",
       "        vertical-align: middle;\n",
       "    }\n",
       "\n",
       "    .dataframe tbody tr th {\n",
       "        vertical-align: top;\n",
       "    }\n",
       "\n",
       "    .dataframe thead th {\n",
       "        text-align: right;\n",
       "    }\n",
       "</style>\n",
       "<table border=\"1\" class=\"dataframe\">\n",
       "  <thead>\n",
       "    <tr style=\"text-align: right;\">\n",
       "      <th></th>\n",
       "      <th>zipcode</th>\n",
       "      <th>start_year</th>\n",
       "      <th>year_1_EQI_MSA</th>\n",
       "      <th>year_1_EQI_state</th>\n",
       "      <th>year_1_EQI_zip</th>\n",
       "      <th>year_1_RECPI_MSA</th>\n",
       "      <th>year_1_RECPI_state</th>\n",
       "      <th>year_1_RECPI_zip</th>\n",
       "      <th>year_2_EQI_MSA</th>\n",
       "      <th>year_2_EQI_state</th>\n",
       "      <th>...</th>\n",
       "      <th>recpi_state_change_2</th>\n",
       "      <th>recpi_state_change_3</th>\n",
       "      <th>recpi_state_change_4</th>\n",
       "      <th>avg_eqi_year_1-5</th>\n",
       "      <th>dataset_cluster</th>\n",
       "      <th>zip_cluster</th>\n",
       "      <th>msa_cluster</th>\n",
       "      <th>state_cluster</th>\n",
       "      <th>eqi_cluster</th>\n",
       "      <th>recpi_cluster</th>\n",
       "    </tr>\n",
       "  </thead>\n",
       "  <tbody>\n",
       "    <tr>\n",
       "      <th>0</th>\n",
       "      <td>1001</td>\n",
       "      <td>1992</td>\n",
       "      <td>0.001549</td>\n",
       "      <td>0.002111</td>\n",
       "      <td>0.002216</td>\n",
       "      <td>1.176876</td>\n",
       "      <td>28.052156</td>\n",
       "      <td>0.048744</td>\n",
       "      <td>0.001266</td>\n",
       "      <td>0.002057</td>\n",
       "      <td>...</td>\n",
       "      <td>1.020560</td>\n",
       "      <td>1.036390</td>\n",
       "      <td>1.251689</td>\n",
       "      <td>0.002170</td>\n",
       "      <td>3</td>\n",
       "      <td>0</td>\n",
       "      <td>0</td>\n",
       "      <td>1</td>\n",
       "      <td>0</td>\n",
       "      <td>0</td>\n",
       "    </tr>\n",
       "    <tr>\n",
       "      <th>1</th>\n",
       "      <td>1001</td>\n",
       "      <td>1997</td>\n",
       "      <td>0.001233</td>\n",
       "      <td>0.002386</td>\n",
       "      <td>0.000840</td>\n",
       "      <td>1.112023</td>\n",
       "      <td>41.174500</td>\n",
       "      <td>0.035283</td>\n",
       "      <td>0.001164</td>\n",
       "      <td>0.002573</td>\n",
       "      <td>...</td>\n",
       "      <td>1.245044</td>\n",
       "      <td>1.448812</td>\n",
       "      <td>0.693670</td>\n",
       "      <td>0.001287</td>\n",
       "      <td>3</td>\n",
       "      <td>0</td>\n",
       "      <td>0</td>\n",
       "      <td>1</td>\n",
       "      <td>0</td>\n",
       "      <td>0</td>\n",
       "    </tr>\n",
       "    <tr>\n",
       "      <th>2</th>\n",
       "      <td>1001</td>\n",
       "      <td>2002</td>\n",
       "      <td>0.001494</td>\n",
       "      <td>0.002450</td>\n",
       "      <td>0.001504</td>\n",
       "      <td>1.746593</td>\n",
       "      <td>50.713380</td>\n",
       "      <td>0.054131</td>\n",
       "      <td>0.001073</td>\n",
       "      <td>0.002257</td>\n",
       "      <td>...</td>\n",
       "      <td>0.905151</td>\n",
       "      <td>1.007785</td>\n",
       "      <td>1.046863</td>\n",
       "      <td>0.001853</td>\n",
       "      <td>3</td>\n",
       "      <td>0</td>\n",
       "      <td>0</td>\n",
       "      <td>1</td>\n",
       "      <td>0</td>\n",
       "      <td>0</td>\n",
       "    </tr>\n",
       "    <tr>\n",
       "      <th>3</th>\n",
       "      <td>1001</td>\n",
       "      <td>2007</td>\n",
       "      <td>0.000702</td>\n",
       "      <td>0.001817</td>\n",
       "      <td>0.000611</td>\n",
       "      <td>1.081845</td>\n",
       "      <td>45.171143</td>\n",
       "      <td>0.036063</td>\n",
       "      <td>0.000758</td>\n",
       "      <td>0.002125</td>\n",
       "      <td>...</td>\n",
       "      <td>0.801518</td>\n",
       "      <td>1.088810</td>\n",
       "      <td>1.051707</td>\n",
       "      <td>0.000602</td>\n",
       "      <td>3</td>\n",
       "      <td>0</td>\n",
       "      <td>0</td>\n",
       "      <td>1</td>\n",
       "      <td>0</td>\n",
       "      <td>0</td>\n",
       "    </tr>\n",
       "    <tr>\n",
       "      <th>4</th>\n",
       "      <td>1002</td>\n",
       "      <td>1992</td>\n",
       "      <td>0.001549</td>\n",
       "      <td>0.002111</td>\n",
       "      <td>0.000959</td>\n",
       "      <td>1.176876</td>\n",
       "      <td>28.052156</td>\n",
       "      <td>0.020148</td>\n",
       "      <td>0.001266</td>\n",
       "      <td>0.002057</td>\n",
       "      <td>...</td>\n",
       "      <td>1.020560</td>\n",
       "      <td>1.036390</td>\n",
       "      <td>1.251689</td>\n",
       "      <td>0.003141</td>\n",
       "      <td>3</td>\n",
       "      <td>1</td>\n",
       "      <td>0</td>\n",
       "      <td>1</td>\n",
       "      <td>0</td>\n",
       "      <td>0</td>\n",
       "    </tr>\n",
       "  </tbody>\n",
       "</table>\n",
       "<p>5 rows × 67 columns</p>\n",
       "</div>"
      ],
      "text/plain": [
       "   zipcode  start_year  year_1_EQI_MSA  year_1_EQI_state  year_1_EQI_zip  \\\n",
       "0     1001        1992        0.001549          0.002111        0.002216   \n",
       "1     1001        1997        0.001233          0.002386        0.000840   \n",
       "2     1001        2002        0.001494          0.002450        0.001504   \n",
       "3     1001        2007        0.000702          0.001817        0.000611   \n",
       "4     1002        1992        0.001549          0.002111        0.000959   \n",
       "\n",
       "   year_1_RECPI_MSA  year_1_RECPI_state  year_1_RECPI_zip  year_2_EQI_MSA  \\\n",
       "0          1.176876           28.052156          0.048744        0.001266   \n",
       "1          1.112023           41.174500          0.035283        0.001164   \n",
       "2          1.746593           50.713380          0.054131        0.001073   \n",
       "3          1.081845           45.171143          0.036063        0.000758   \n",
       "4          1.176876           28.052156          0.020148        0.001266   \n",
       "\n",
       "   year_2_EQI_state  ...  recpi_state_change_2  recpi_state_change_3  \\\n",
       "0          0.002057  ...              1.020560              1.036390   \n",
       "1          0.002573  ...              1.245044              1.448812   \n",
       "2          0.002257  ...              0.905151              1.007785   \n",
       "3          0.002125  ...              0.801518              1.088810   \n",
       "4          0.002057  ...              1.020560              1.036390   \n",
       "\n",
       "   recpi_state_change_4  avg_eqi_year_1-5  dataset_cluster  zip_cluster  \\\n",
       "0              1.251689          0.002170                3            0   \n",
       "1              0.693670          0.001287                3            0   \n",
       "2              1.046863          0.001853                3            0   \n",
       "3              1.051707          0.000602                3            0   \n",
       "4              1.251689          0.003141                3            1   \n",
       "\n",
       "   msa_cluster  state_cluster  eqi_cluster  recpi_cluster  \n",
       "0            0              1            0              0  \n",
       "1            0              1            0              0  \n",
       "2            0              1            0              0  \n",
       "3            0              1            0              0  \n",
       "4            0              1            0              0  \n",
       "\n",
       "[5 rows x 67 columns]"
      ]
     },
     "execution_count": 6,
     "metadata": {},
     "output_type": "execute_result"
    }
   ],
   "source": [
    "X.head()"
   ]
  },
  {
   "cell_type": "code",
   "execution_count": 7,
   "metadata": {},
   "outputs": [
    {
     "data": {
      "text/html": [
       "<div>\n",
       "<style scoped>\n",
       "    .dataframe tbody tr th:only-of-type {\n",
       "        vertical-align: middle;\n",
       "    }\n",
       "\n",
       "    .dataframe tbody tr th {\n",
       "        vertical-align: top;\n",
       "    }\n",
       "\n",
       "    .dataframe thead th {\n",
       "        text-align: right;\n",
       "    }\n",
       "</style>\n",
       "<table border=\"1\" class=\"dataframe\">\n",
       "  <thead>\n",
       "    <tr style=\"text-align: right;\">\n",
       "      <th></th>\n",
       "      <th>zipcode</th>\n",
       "      <th>start_year</th>\n",
       "      <th>avg_eqi_year_5-10</th>\n",
       "    </tr>\n",
       "  </thead>\n",
       "  <tbody>\n",
       "    <tr>\n",
       "      <th>0</th>\n",
       "      <td>1001</td>\n",
       "      <td>1992</td>\n",
       "      <td>0.001287</td>\n",
       "    </tr>\n",
       "    <tr>\n",
       "      <th>1</th>\n",
       "      <td>1001</td>\n",
       "      <td>1997</td>\n",
       "      <td>0.001853</td>\n",
       "    </tr>\n",
       "    <tr>\n",
       "      <th>2</th>\n",
       "      <td>1001</td>\n",
       "      <td>2002</td>\n",
       "      <td>0.000602</td>\n",
       "    </tr>\n",
       "    <tr>\n",
       "      <th>3</th>\n",
       "      <td>1001</td>\n",
       "      <td>2007</td>\n",
       "      <td>0.000898</td>\n",
       "    </tr>\n",
       "    <tr>\n",
       "      <th>4</th>\n",
       "      <td>1002</td>\n",
       "      <td>1992</td>\n",
       "      <td>0.002931</td>\n",
       "    </tr>\n",
       "  </tbody>\n",
       "</table>\n",
       "</div>"
      ],
      "text/plain": [
       "   zipcode  start_year  avg_eqi_year_5-10\n",
       "0     1001        1992           0.001287\n",
       "1     1001        1997           0.001853\n",
       "2     1001        2002           0.000602\n",
       "3     1001        2007           0.000898\n",
       "4     1002        1992           0.002931"
      ]
     },
     "execution_count": 7,
     "metadata": {},
     "output_type": "execute_result"
    }
   ],
   "source": [
    "y.head()"
   ]
  },
  {
   "cell_type": "code",
   "execution_count": 8,
   "metadata": {},
   "outputs": [],
   "source": [
    "X_train = pd.DataFrame(X_train)\n",
    "X_train.columns = ['zipcode']\n",
    "\n",
    "X_test = pd.DataFrame(X_test)\n",
    "X_test.columns = ['zipcode']\n",
    "\n",
    "y_train = pd.DataFrame(y_train)\n",
    "y_train.columns = ['zipcode']\n",
    "\n",
    "y_test = pd.DataFrame(y_test)\n",
    "y_test.columns = ['zipcode']"
   ]
  },
  {
   "cell_type": "code",
   "execution_count": 9,
   "metadata": {},
   "outputs": [],
   "source": [
    "X_train = X_train.merge(X, on='zipcode').sort_values(['zipcode','start_year'], ignore_index=True)\n",
    "X_test = X_test.merge(X, on='zipcode').sort_values(['zipcode','start_year'], ignore_index=True)\n",
    "y_train = y_train.merge(y, on='zipcode').sort_values(['zipcode','start_year'], ignore_index=True)\n",
    "y_test = y_test.merge(y, on='zipcode').sort_values(['zipcode','start_year'], ignore_index=True)"
   ]
  },
  {
   "cell_type": "code",
   "execution_count": 10,
   "metadata": {},
   "outputs": [
    {
     "data": {
      "text/html": [
       "<div>\n",
       "<style scoped>\n",
       "    .dataframe tbody tr th:only-of-type {\n",
       "        vertical-align: middle;\n",
       "    }\n",
       "\n",
       "    .dataframe tbody tr th {\n",
       "        vertical-align: top;\n",
       "    }\n",
       "\n",
       "    .dataframe thead th {\n",
       "        text-align: right;\n",
       "    }\n",
       "</style>\n",
       "<table border=\"1\" class=\"dataframe\">\n",
       "  <thead>\n",
       "    <tr style=\"text-align: right;\">\n",
       "      <th></th>\n",
       "      <th>zipcode</th>\n",
       "      <th>start_year</th>\n",
       "      <th>year_1_EQI_MSA</th>\n",
       "      <th>year_1_EQI_state</th>\n",
       "      <th>year_1_EQI_zip</th>\n",
       "      <th>year_1_RECPI_MSA</th>\n",
       "      <th>year_1_RECPI_state</th>\n",
       "      <th>year_1_RECPI_zip</th>\n",
       "      <th>year_2_EQI_MSA</th>\n",
       "      <th>year_2_EQI_state</th>\n",
       "      <th>...</th>\n",
       "      <th>recpi_state_change_2</th>\n",
       "      <th>recpi_state_change_3</th>\n",
       "      <th>recpi_state_change_4</th>\n",
       "      <th>avg_eqi_year_1-5</th>\n",
       "      <th>dataset_cluster</th>\n",
       "      <th>zip_cluster</th>\n",
       "      <th>msa_cluster</th>\n",
       "      <th>state_cluster</th>\n",
       "      <th>eqi_cluster</th>\n",
       "      <th>recpi_cluster</th>\n",
       "    </tr>\n",
       "  </thead>\n",
       "  <tbody>\n",
       "    <tr>\n",
       "      <th>0</th>\n",
       "      <td>1002</td>\n",
       "      <td>1992</td>\n",
       "      <td>0.001549</td>\n",
       "      <td>0.002111</td>\n",
       "      <td>0.000959</td>\n",
       "      <td>1.176876</td>\n",
       "      <td>28.052156</td>\n",
       "      <td>0.020148</td>\n",
       "      <td>0.001266</td>\n",
       "      <td>0.002057</td>\n",
       "      <td>...</td>\n",
       "      <td>1.020560</td>\n",
       "      <td>1.036390</td>\n",
       "      <td>1.251689</td>\n",
       "      <td>0.003141</td>\n",
       "      <td>3</td>\n",
       "      <td>1</td>\n",
       "      <td>0</td>\n",
       "      <td>1</td>\n",
       "      <td>0</td>\n",
       "      <td>0</td>\n",
       "    </tr>\n",
       "    <tr>\n",
       "      <th>1</th>\n",
       "      <td>1002</td>\n",
       "      <td>1997</td>\n",
       "      <td>0.001233</td>\n",
       "      <td>0.002386</td>\n",
       "      <td>0.004272</td>\n",
       "      <td>1.112023</td>\n",
       "      <td>41.174500</td>\n",
       "      <td>0.128172</td>\n",
       "      <td>0.001164</td>\n",
       "      <td>0.002573</td>\n",
       "      <td>...</td>\n",
       "      <td>1.245044</td>\n",
       "      <td>1.448812</td>\n",
       "      <td>0.693670</td>\n",
       "      <td>0.002931</td>\n",
       "      <td>3</td>\n",
       "      <td>1</td>\n",
       "      <td>0</td>\n",
       "      <td>1</td>\n",
       "      <td>0</td>\n",
       "      <td>0</td>\n",
       "    </tr>\n",
       "    <tr>\n",
       "      <th>2</th>\n",
       "      <td>1002</td>\n",
       "      <td>2002</td>\n",
       "      <td>0.001494</td>\n",
       "      <td>0.002450</td>\n",
       "      <td>0.005398</td>\n",
       "      <td>1.746593</td>\n",
       "      <td>50.713380</td>\n",
       "      <td>0.291470</td>\n",
       "      <td>0.001073</td>\n",
       "      <td>0.002257</td>\n",
       "      <td>...</td>\n",
       "      <td>0.905151</td>\n",
       "      <td>1.007785</td>\n",
       "      <td>1.046863</td>\n",
       "      <td>0.002640</td>\n",
       "      <td>3</td>\n",
       "      <td>1</td>\n",
       "      <td>0</td>\n",
       "      <td>1</td>\n",
       "      <td>0</td>\n",
       "      <td>0</td>\n",
       "    </tr>\n",
       "    <tr>\n",
       "      <th>3</th>\n",
       "      <td>1002</td>\n",
       "      <td>2007</td>\n",
       "      <td>0.000702</td>\n",
       "      <td>0.001817</td>\n",
       "      <td>0.000895</td>\n",
       "      <td>1.081845</td>\n",
       "      <td>45.171143</td>\n",
       "      <td>0.068894</td>\n",
       "      <td>0.000758</td>\n",
       "      <td>0.002125</td>\n",
       "      <td>...</td>\n",
       "      <td>0.801518</td>\n",
       "      <td>1.088810</td>\n",
       "      <td>1.051707</td>\n",
       "      <td>0.001622</td>\n",
       "      <td>3</td>\n",
       "      <td>0</td>\n",
       "      <td>0</td>\n",
       "      <td>1</td>\n",
       "      <td>0</td>\n",
       "      <td>0</td>\n",
       "    </tr>\n",
       "    <tr>\n",
       "      <th>4</th>\n",
       "      <td>1005</td>\n",
       "      <td>1992</td>\n",
       "      <td>0.000529</td>\n",
       "      <td>0.002111</td>\n",
       "      <td>0.000714</td>\n",
       "      <td>0.039692</td>\n",
       "      <td>28.052156</td>\n",
       "      <td>0.004995</td>\n",
       "      <td>0.000527</td>\n",
       "      <td>0.002057</td>\n",
       "      <td>...</td>\n",
       "      <td>1.020560</td>\n",
       "      <td>1.036390</td>\n",
       "      <td>1.251689</td>\n",
       "      <td>0.001013</td>\n",
       "      <td>3</td>\n",
       "      <td>0</td>\n",
       "      <td>0</td>\n",
       "      <td>1</td>\n",
       "      <td>0</td>\n",
       "      <td>0</td>\n",
       "    </tr>\n",
       "  </tbody>\n",
       "</table>\n",
       "<p>5 rows × 67 columns</p>\n",
       "</div>"
      ],
      "text/plain": [
       "   zipcode  start_year  year_1_EQI_MSA  year_1_EQI_state  year_1_EQI_zip  \\\n",
       "0     1002        1992        0.001549          0.002111        0.000959   \n",
       "1     1002        1997        0.001233          0.002386        0.004272   \n",
       "2     1002        2002        0.001494          0.002450        0.005398   \n",
       "3     1002        2007        0.000702          0.001817        0.000895   \n",
       "4     1005        1992        0.000529          0.002111        0.000714   \n",
       "\n",
       "   year_1_RECPI_MSA  year_1_RECPI_state  year_1_RECPI_zip  year_2_EQI_MSA  \\\n",
       "0          1.176876           28.052156          0.020148        0.001266   \n",
       "1          1.112023           41.174500          0.128172        0.001164   \n",
       "2          1.746593           50.713380          0.291470        0.001073   \n",
       "3          1.081845           45.171143          0.068894        0.000758   \n",
       "4          0.039692           28.052156          0.004995        0.000527   \n",
       "\n",
       "   year_2_EQI_state  ...  recpi_state_change_2  recpi_state_change_3  \\\n",
       "0          0.002057  ...              1.020560              1.036390   \n",
       "1          0.002573  ...              1.245044              1.448812   \n",
       "2          0.002257  ...              0.905151              1.007785   \n",
       "3          0.002125  ...              0.801518              1.088810   \n",
       "4          0.002057  ...              1.020560              1.036390   \n",
       "\n",
       "   recpi_state_change_4  avg_eqi_year_1-5  dataset_cluster  zip_cluster  \\\n",
       "0              1.251689          0.003141                3            1   \n",
       "1              0.693670          0.002931                3            1   \n",
       "2              1.046863          0.002640                3            1   \n",
       "3              1.051707          0.001622                3            0   \n",
       "4              1.251689          0.001013                3            0   \n",
       "\n",
       "   msa_cluster  state_cluster  eqi_cluster  recpi_cluster  \n",
       "0            0              1            0              0  \n",
       "1            0              1            0              0  \n",
       "2            0              1            0              0  \n",
       "3            0              1            0              0  \n",
       "4            0              1            0              0  \n",
       "\n",
       "[5 rows x 67 columns]"
      ]
     },
     "execution_count": 10,
     "metadata": {},
     "output_type": "execute_result"
    }
   ],
   "source": [
    "X_train.head()"
   ]
  },
  {
   "cell_type": "code",
   "execution_count": 11,
   "metadata": {},
   "outputs": [
    {
     "data": {
      "text/html": [
       "<div>\n",
       "<style scoped>\n",
       "    .dataframe tbody tr th:only-of-type {\n",
       "        vertical-align: middle;\n",
       "    }\n",
       "\n",
       "    .dataframe tbody tr th {\n",
       "        vertical-align: top;\n",
       "    }\n",
       "\n",
       "    .dataframe thead th {\n",
       "        text-align: right;\n",
       "    }\n",
       "</style>\n",
       "<table border=\"1\" class=\"dataframe\">\n",
       "  <thead>\n",
       "    <tr style=\"text-align: right;\">\n",
       "      <th></th>\n",
       "      <th>zipcode</th>\n",
       "      <th>start_year</th>\n",
       "      <th>avg_eqi_year_5-10</th>\n",
       "    </tr>\n",
       "  </thead>\n",
       "  <tbody>\n",
       "    <tr>\n",
       "      <th>0</th>\n",
       "      <td>1002</td>\n",
       "      <td>1992</td>\n",
       "      <td>0.002931</td>\n",
       "    </tr>\n",
       "    <tr>\n",
       "      <th>1</th>\n",
       "      <td>1002</td>\n",
       "      <td>1997</td>\n",
       "      <td>0.002640</td>\n",
       "    </tr>\n",
       "    <tr>\n",
       "      <th>2</th>\n",
       "      <td>1002</td>\n",
       "      <td>2002</td>\n",
       "      <td>0.001622</td>\n",
       "    </tr>\n",
       "    <tr>\n",
       "      <th>3</th>\n",
       "      <td>1002</td>\n",
       "      <td>2007</td>\n",
       "      <td>0.002022</td>\n",
       "    </tr>\n",
       "    <tr>\n",
       "      <th>4</th>\n",
       "      <td>1005</td>\n",
       "      <td>1992</td>\n",
       "      <td>0.001055</td>\n",
       "    </tr>\n",
       "  </tbody>\n",
       "</table>\n",
       "</div>"
      ],
      "text/plain": [
       "   zipcode  start_year  avg_eqi_year_5-10\n",
       "0     1002        1992           0.002931\n",
       "1     1002        1997           0.002640\n",
       "2     1002        2002           0.001622\n",
       "3     1002        2007           0.002022\n",
       "4     1005        1992           0.001055"
      ]
     },
     "execution_count": 11,
     "metadata": {},
     "output_type": "execute_result"
    }
   ],
   "source": [
    "y_train.head()"
   ]
  },
  {
   "cell_type": "code",
   "execution_count": 12,
   "metadata": {},
   "outputs": [
    {
     "data": {
      "text/html": [
       "<div>\n",
       "<style scoped>\n",
       "    .dataframe tbody tr th:only-of-type {\n",
       "        vertical-align: middle;\n",
       "    }\n",
       "\n",
       "    .dataframe tbody tr th {\n",
       "        vertical-align: top;\n",
       "    }\n",
       "\n",
       "    .dataframe thead th {\n",
       "        text-align: right;\n",
       "    }\n",
       "</style>\n",
       "<table border=\"1\" class=\"dataframe\">\n",
       "  <thead>\n",
       "    <tr style=\"text-align: right;\">\n",
       "      <th></th>\n",
       "      <th>zipcode</th>\n",
       "      <th>start_year</th>\n",
       "      <th>year_1_EQI_MSA</th>\n",
       "      <th>year_1_EQI_state</th>\n",
       "      <th>year_1_EQI_zip</th>\n",
       "      <th>year_1_RECPI_MSA</th>\n",
       "      <th>year_1_RECPI_state</th>\n",
       "      <th>year_1_RECPI_zip</th>\n",
       "      <th>year_2_EQI_MSA</th>\n",
       "      <th>year_2_EQI_state</th>\n",
       "      <th>...</th>\n",
       "      <th>recpi_state_change_2</th>\n",
       "      <th>recpi_state_change_3</th>\n",
       "      <th>recpi_state_change_4</th>\n",
       "      <th>avg_eqi_year_1-5</th>\n",
       "      <th>dataset_cluster</th>\n",
       "      <th>zip_cluster</th>\n",
       "      <th>msa_cluster</th>\n",
       "      <th>state_cluster</th>\n",
       "      <th>eqi_cluster</th>\n",
       "      <th>recpi_cluster</th>\n",
       "    </tr>\n",
       "  </thead>\n",
       "  <tbody>\n",
       "    <tr>\n",
       "      <th>0</th>\n",
       "      <td>1001</td>\n",
       "      <td>1992</td>\n",
       "      <td>0.001549</td>\n",
       "      <td>0.002111</td>\n",
       "      <td>0.002216</td>\n",
       "      <td>1.176876</td>\n",
       "      <td>28.052156</td>\n",
       "      <td>0.048744</td>\n",
       "      <td>0.001266</td>\n",
       "      <td>0.002057</td>\n",
       "      <td>...</td>\n",
       "      <td>1.020560</td>\n",
       "      <td>1.036390</td>\n",
       "      <td>1.251689</td>\n",
       "      <td>0.002170</td>\n",
       "      <td>3</td>\n",
       "      <td>0</td>\n",
       "      <td>0</td>\n",
       "      <td>1</td>\n",
       "      <td>0</td>\n",
       "      <td>0</td>\n",
       "    </tr>\n",
       "    <tr>\n",
       "      <th>1</th>\n",
       "      <td>1001</td>\n",
       "      <td>1997</td>\n",
       "      <td>0.001233</td>\n",
       "      <td>0.002386</td>\n",
       "      <td>0.000840</td>\n",
       "      <td>1.112023</td>\n",
       "      <td>41.174500</td>\n",
       "      <td>0.035283</td>\n",
       "      <td>0.001164</td>\n",
       "      <td>0.002573</td>\n",
       "      <td>...</td>\n",
       "      <td>1.245044</td>\n",
       "      <td>1.448812</td>\n",
       "      <td>0.693670</td>\n",
       "      <td>0.001287</td>\n",
       "      <td>3</td>\n",
       "      <td>0</td>\n",
       "      <td>0</td>\n",
       "      <td>1</td>\n",
       "      <td>0</td>\n",
       "      <td>0</td>\n",
       "    </tr>\n",
       "    <tr>\n",
       "      <th>2</th>\n",
       "      <td>1001</td>\n",
       "      <td>2002</td>\n",
       "      <td>0.001494</td>\n",
       "      <td>0.002450</td>\n",
       "      <td>0.001504</td>\n",
       "      <td>1.746593</td>\n",
       "      <td>50.713380</td>\n",
       "      <td>0.054131</td>\n",
       "      <td>0.001073</td>\n",
       "      <td>0.002257</td>\n",
       "      <td>...</td>\n",
       "      <td>0.905151</td>\n",
       "      <td>1.007785</td>\n",
       "      <td>1.046863</td>\n",
       "      <td>0.001853</td>\n",
       "      <td>3</td>\n",
       "      <td>0</td>\n",
       "      <td>0</td>\n",
       "      <td>1</td>\n",
       "      <td>0</td>\n",
       "      <td>0</td>\n",
       "    </tr>\n",
       "    <tr>\n",
       "      <th>3</th>\n",
       "      <td>1001</td>\n",
       "      <td>2007</td>\n",
       "      <td>0.000702</td>\n",
       "      <td>0.001817</td>\n",
       "      <td>0.000611</td>\n",
       "      <td>1.081845</td>\n",
       "      <td>45.171143</td>\n",
       "      <td>0.036063</td>\n",
       "      <td>0.000758</td>\n",
       "      <td>0.002125</td>\n",
       "      <td>...</td>\n",
       "      <td>0.801518</td>\n",
       "      <td>1.088810</td>\n",
       "      <td>1.051707</td>\n",
       "      <td>0.000602</td>\n",
       "      <td>3</td>\n",
       "      <td>0</td>\n",
       "      <td>0</td>\n",
       "      <td>1</td>\n",
       "      <td>0</td>\n",
       "      <td>0</td>\n",
       "    </tr>\n",
       "    <tr>\n",
       "      <th>4</th>\n",
       "      <td>1007</td>\n",
       "      <td>1992</td>\n",
       "      <td>0.001549</td>\n",
       "      <td>0.002111</td>\n",
       "      <td>0.001419</td>\n",
       "      <td>1.176876</td>\n",
       "      <td>28.052156</td>\n",
       "      <td>0.017027</td>\n",
       "      <td>0.001266</td>\n",
       "      <td>0.002057</td>\n",
       "      <td>...</td>\n",
       "      <td>1.020560</td>\n",
       "      <td>1.036390</td>\n",
       "      <td>1.251689</td>\n",
       "      <td>0.001102</td>\n",
       "      <td>3</td>\n",
       "      <td>0</td>\n",
       "      <td>0</td>\n",
       "      <td>1</td>\n",
       "      <td>0</td>\n",
       "      <td>0</td>\n",
       "    </tr>\n",
       "  </tbody>\n",
       "</table>\n",
       "<p>5 rows × 67 columns</p>\n",
       "</div>"
      ],
      "text/plain": [
       "   zipcode  start_year  year_1_EQI_MSA  year_1_EQI_state  year_1_EQI_zip  \\\n",
       "0     1001        1992        0.001549          0.002111        0.002216   \n",
       "1     1001        1997        0.001233          0.002386        0.000840   \n",
       "2     1001        2002        0.001494          0.002450        0.001504   \n",
       "3     1001        2007        0.000702          0.001817        0.000611   \n",
       "4     1007        1992        0.001549          0.002111        0.001419   \n",
       "\n",
       "   year_1_RECPI_MSA  year_1_RECPI_state  year_1_RECPI_zip  year_2_EQI_MSA  \\\n",
       "0          1.176876           28.052156          0.048744        0.001266   \n",
       "1          1.112023           41.174500          0.035283        0.001164   \n",
       "2          1.746593           50.713380          0.054131        0.001073   \n",
       "3          1.081845           45.171143          0.036063        0.000758   \n",
       "4          1.176876           28.052156          0.017027        0.001266   \n",
       "\n",
       "   year_2_EQI_state  ...  recpi_state_change_2  recpi_state_change_3  \\\n",
       "0          0.002057  ...              1.020560              1.036390   \n",
       "1          0.002573  ...              1.245044              1.448812   \n",
       "2          0.002257  ...              0.905151              1.007785   \n",
       "3          0.002125  ...              0.801518              1.088810   \n",
       "4          0.002057  ...              1.020560              1.036390   \n",
       "\n",
       "   recpi_state_change_4  avg_eqi_year_1-5  dataset_cluster  zip_cluster  \\\n",
       "0              1.251689          0.002170                3            0   \n",
       "1              0.693670          0.001287                3            0   \n",
       "2              1.046863          0.001853                3            0   \n",
       "3              1.051707          0.000602                3            0   \n",
       "4              1.251689          0.001102                3            0   \n",
       "\n",
       "   msa_cluster  state_cluster  eqi_cluster  recpi_cluster  \n",
       "0            0              1            0              0  \n",
       "1            0              1            0              0  \n",
       "2            0              1            0              0  \n",
       "3            0              1            0              0  \n",
       "4            0              1            0              0  \n",
       "\n",
       "[5 rows x 67 columns]"
      ]
     },
     "execution_count": 12,
     "metadata": {},
     "output_type": "execute_result"
    }
   ],
   "source": [
    "X_test.head()"
   ]
  },
  {
   "cell_type": "code",
   "execution_count": 13,
   "metadata": {},
   "outputs": [
    {
     "data": {
      "text/html": [
       "<div>\n",
       "<style scoped>\n",
       "    .dataframe tbody tr th:only-of-type {\n",
       "        vertical-align: middle;\n",
       "    }\n",
       "\n",
       "    .dataframe tbody tr th {\n",
       "        vertical-align: top;\n",
       "    }\n",
       "\n",
       "    .dataframe thead th {\n",
       "        text-align: right;\n",
       "    }\n",
       "</style>\n",
       "<table border=\"1\" class=\"dataframe\">\n",
       "  <thead>\n",
       "    <tr style=\"text-align: right;\">\n",
       "      <th></th>\n",
       "      <th>zipcode</th>\n",
       "      <th>start_year</th>\n",
       "      <th>avg_eqi_year_5-10</th>\n",
       "    </tr>\n",
       "  </thead>\n",
       "  <tbody>\n",
       "    <tr>\n",
       "      <th>0</th>\n",
       "      <td>1001</td>\n",
       "      <td>1992</td>\n",
       "      <td>0.001287</td>\n",
       "    </tr>\n",
       "    <tr>\n",
       "      <th>1</th>\n",
       "      <td>1001</td>\n",
       "      <td>1997</td>\n",
       "      <td>0.001853</td>\n",
       "    </tr>\n",
       "    <tr>\n",
       "      <th>2</th>\n",
       "      <td>1001</td>\n",
       "      <td>2002</td>\n",
       "      <td>0.000602</td>\n",
       "    </tr>\n",
       "    <tr>\n",
       "      <th>3</th>\n",
       "      <td>1001</td>\n",
       "      <td>2007</td>\n",
       "      <td>0.000898</td>\n",
       "    </tr>\n",
       "    <tr>\n",
       "      <th>4</th>\n",
       "      <td>1007</td>\n",
       "      <td>1992</td>\n",
       "      <td>0.001195</td>\n",
       "    </tr>\n",
       "  </tbody>\n",
       "</table>\n",
       "</div>"
      ],
      "text/plain": [
       "   zipcode  start_year  avg_eqi_year_5-10\n",
       "0     1001        1992           0.001287\n",
       "1     1001        1997           0.001853\n",
       "2     1001        2002           0.000602\n",
       "3     1001        2007           0.000898\n",
       "4     1007        1992           0.001195"
      ]
     },
     "execution_count": 13,
     "metadata": {},
     "output_type": "execute_result"
    }
   ],
   "source": [
    "y_test.head()"
   ]
  },
  {
   "cell_type": "code",
   "execution_count": 14,
   "metadata": {},
   "outputs": [],
   "source": [
    "X_test = X_test.drop(['zipcode','start_year'], axis=1)\n",
    "X_train = X_train.drop(['zipcode','start_year'], axis=1)\n",
    "y_test = y_test[['avg_eqi_year_5-10']].to_numpy().ravel()\n",
    "y_train = y_train[['avg_eqi_year_5-10']].to_numpy().ravel()"
   ]
  },
  {
   "cell_type": "markdown",
   "metadata": {},
   "source": [
    "### Data Pipeline"
   ]
  },
  {
   "cell_type": "code",
   "execution_count": 15,
   "metadata": {
    "pycharm": {
     "name": "#%%\n"
    }
   },
   "outputs": [],
   "source": [
    "from sklearn.preprocessing import StandardScaler, OneHotEncoder\n",
    "from sklearn.pipeline import Pipeline\n",
    "from sklearn.compose import ColumnTransformer, make_column_selector\n",
    "from sklearn.metrics import r2_score, mean_gamma_deviance"
   ]
  },
  {
   "cell_type": "code",
   "execution_count": 20,
   "metadata": {
    "pycharm": {
     "name": "#%%\n"
    }
   },
   "outputs": [
    {
     "data": {
      "text/plain": [
       "ColumnTransformer(transformers=[('scale', StandardScaler(),\n",
       "                                 <sklearn.compose._column_transformer.make_column_selector object at 0x000001FB6E8822E0>),\n",
       "                                ('dataset_cluster', OneHotEncoder(dtype='int'),\n",
       "                                 ['dataset_cluster']),\n",
       "                                ('zip_cluster', OneHotEncoder(dtype='int'),\n",
       "                                 ['zip_cluster']),\n",
       "                                ('msa_cluster', OneHotEncoder(dtype='int'),\n",
       "                                 ['msa_cluster']),\n",
       "                                ('state_cluster', OneHotEncoder(dtype='int'),\n",
       "                                 ['state_cluster']),\n",
       "                                ('eqi_cluster', OneHotEncoder(dtype='int'),\n",
       "                                 ['eqi_cluster']),\n",
       "                                ('recpi_cluster', OneHotEncoder(dtype='int'),\n",
       "                                 ['recpi_cluster'])])"
      ]
     },
     "execution_count": 20,
     "metadata": {},
     "output_type": "execute_result"
    }
   ],
   "source": [
    "column_trans = ColumnTransformer([\n",
    "    ('scale', StandardScaler(), make_column_selector(dtype_include=np.float64)),\n",
    "    ('dataset_cluster', OneHotEncoder(dtype='int'), ['dataset_cluster']),\n",
    "    ('zip_cluster', OneHotEncoder(dtype='int'), ['zip_cluster']),\n",
    "    ('msa_cluster', OneHotEncoder(dtype='int'), ['msa_cluster']),\n",
    "    ('state_cluster', OneHotEncoder(dtype='int'), ['state_cluster']),\n",
    "    ('eqi_cluster', OneHotEncoder(dtype='int'), ['eqi_cluster']),\n",
    "    ('recpi_cluster', OneHotEncoder(dtype='int'), ['recpi_cluster'])\n",
    "    ], remainder='drop')\n",
    "\n",
    "column_trans.fit(X_train)"
   ]
  },
  {
   "cell_type": "markdown",
   "metadata": {},
   "source": [
    "## Linear Models"
   ]
  },
  {
   "cell_type": "code",
   "execution_count": 21,
   "metadata": {
    "pycharm": {
     "name": "#%%\n"
    }
   },
   "outputs": [],
   "source": [
    "from sklearn import linear_model"
   ]
  },
  {
   "cell_type": "markdown",
   "metadata": {},
   "source": [
    "### OLS"
   ]
  },
  {
   "cell_type": "code",
   "execution_count": 22,
   "metadata": {
    "pycharm": {
     "name": "#%%\n"
    }
   },
   "outputs": [],
   "source": [
    "pipe = Pipeline([('transformer', column_trans), ('ols', linear_model.LinearRegression())])"
   ]
  },
  {
   "cell_type": "code",
   "execution_count": 23,
   "metadata": {
    "pycharm": {
     "name": "#%%\n"
    }
   },
   "outputs": [
    {
     "data": {
      "text/plain": [
       "Pipeline(steps=[('transformer',\n",
       "                 ColumnTransformer(transformers=[('scale', StandardScaler(),\n",
       "                                                  <sklearn.compose._column_transformer.make_column_selector object at 0x000001FB6E8822E0>),\n",
       "                                                 ('dataset_cluster',\n",
       "                                                  OneHotEncoder(dtype='int'),\n",
       "                                                  ['dataset_cluster']),\n",
       "                                                 ('zip_cluster',\n",
       "                                                  OneHotEncoder(dtype='int'),\n",
       "                                                  ['zip_cluster']),\n",
       "                                                 ('msa_cluster',\n",
       "                                                  OneHotEncoder(dtype='int'),\n",
       "                                                  ['msa_cluster']),\n",
       "                                                 ('state_cluster',\n",
       "                                                  OneHotEncoder(dtype='int'),\n",
       "                                                  ['state_cluster']),\n",
       "                                                 ('eqi_cluster',\n",
       "                                                  OneHotEncoder(dtype='int'),\n",
       "                                                  ['eqi_cluster']),\n",
       "                                                 ('recpi_cluster',\n",
       "                                                  OneHotEncoder(dtype='int'),\n",
       "                                                  ['recpi_cluster'])])),\n",
       "                ('ols', LinearRegression())])"
      ]
     },
     "execution_count": 23,
     "metadata": {},
     "output_type": "execute_result"
    }
   ],
   "source": [
    "pipe.fit(X_train, y_train)"
   ]
  },
  {
   "cell_type": "code",
   "execution_count": 24,
   "metadata": {
    "pycharm": {
     "name": "#%%\n"
    }
   },
   "outputs": [
    {
     "data": {
      "text/plain": [
       "0.4768521391268796"
      ]
     },
     "execution_count": 24,
     "metadata": {},
     "output_type": "execute_result"
    }
   ],
   "source": [
    "y_pred = pipe.predict(X_train)\n",
    "r2_score(y_train, y_pred)"
   ]
  },
  {
   "cell_type": "code",
   "execution_count": 25,
   "metadata": {
    "pycharm": {
     "name": "#%%\n"
    }
   },
   "outputs": [
    {
     "data": {
      "text/plain": [
       "0.5426951820488843"
      ]
     },
     "execution_count": 25,
     "metadata": {},
     "output_type": "execute_result"
    }
   ],
   "source": [
    "y_pred = pipe.predict(X_test)\n",
    "r2_score(y_test, y_pred)"
   ]
  },
  {
   "cell_type": "markdown",
   "metadata": {},
   "source": [
    "### Ridge"
   ]
  },
  {
   "cell_type": "code",
   "execution_count": 26,
   "metadata": {
    "pycharm": {
     "name": "#%%\n"
    }
   },
   "outputs": [],
   "source": [
    "pipe = Pipeline([('transformer', column_trans), ('ridge', linear_model.Ridge())])"
   ]
  },
  {
   "cell_type": "code",
   "execution_count": 27,
   "metadata": {
    "pycharm": {
     "name": "#%%\n"
    }
   },
   "outputs": [
    {
     "data": {
      "text/plain": [
       "Pipeline(steps=[('transformer',\n",
       "                 ColumnTransformer(transformers=[('scale', StandardScaler(),\n",
       "                                                  <sklearn.compose._column_transformer.make_column_selector object at 0x000001FB6E8822E0>),\n",
       "                                                 ('dataset_cluster',\n",
       "                                                  OneHotEncoder(dtype='int'),\n",
       "                                                  ['dataset_cluster']),\n",
       "                                                 ('zip_cluster',\n",
       "                                                  OneHotEncoder(dtype='int'),\n",
       "                                                  ['zip_cluster']),\n",
       "                                                 ('msa_cluster',\n",
       "                                                  OneHotEncoder(dtype='int'),\n",
       "                                                  ['msa_cluster']),\n",
       "                                                 ('state_cluster',\n",
       "                                                  OneHotEncoder(dtype='int'),\n",
       "                                                  ['state_cluster']),\n",
       "                                                 ('eqi_cluster',\n",
       "                                                  OneHotEncoder(dtype='int'),\n",
       "                                                  ['eqi_cluster']),\n",
       "                                                 ('recpi_cluster',\n",
       "                                                  OneHotEncoder(dtype='int'),\n",
       "                                                  ['recpi_cluster'])])),\n",
       "                ('ridge', Ridge())])"
      ]
     },
     "execution_count": 27,
     "metadata": {},
     "output_type": "execute_result"
    }
   ],
   "source": [
    "pipe.fit(X_train, y_train)"
   ]
  },
  {
   "cell_type": "code",
   "execution_count": 28,
   "metadata": {
    "pycharm": {
     "name": "#%%\n"
    }
   },
   "outputs": [
    {
     "data": {
      "text/plain": [
       "0.47689666605293124"
      ]
     },
     "execution_count": 28,
     "metadata": {},
     "output_type": "execute_result"
    }
   ],
   "source": [
    "y_pred = pipe.predict(X_train)\n",
    "r2_score(y_train, y_pred)"
   ]
  },
  {
   "cell_type": "code",
   "execution_count": 29,
   "metadata": {
    "pycharm": {
     "name": "#%%\n"
    }
   },
   "outputs": [
    {
     "data": {
      "text/plain": [
       "0.5426943229350225"
      ]
     },
     "execution_count": 29,
     "metadata": {},
     "output_type": "execute_result"
    }
   ],
   "source": [
    "y_pred = pipe.predict(X_test)\n",
    "r2_score(y_test, y_pred)"
   ]
  },
  {
   "cell_type": "markdown",
   "metadata": {},
   "source": [
    "### Lasso"
   ]
  },
  {
   "cell_type": "code",
   "execution_count": 30,
   "metadata": {
    "pycharm": {
     "name": "#%%\n"
    }
   },
   "outputs": [],
   "source": [
    "pipe = Pipeline([('transformer', column_trans), ('lasso', linear_model.Lasso())])"
   ]
  },
  {
   "cell_type": "code",
   "execution_count": 31,
   "metadata": {
    "pycharm": {
     "name": "#%%\n"
    }
   },
   "outputs": [
    {
     "data": {
      "text/plain": [
       "Pipeline(steps=[('transformer',\n",
       "                 ColumnTransformer(transformers=[('scale', StandardScaler(),\n",
       "                                                  <sklearn.compose._column_transformer.make_column_selector object at 0x000001FB6E8822E0>),\n",
       "                                                 ('dataset_cluster',\n",
       "                                                  OneHotEncoder(dtype='int'),\n",
       "                                                  ['dataset_cluster']),\n",
       "                                                 ('zip_cluster',\n",
       "                                                  OneHotEncoder(dtype='int'),\n",
       "                                                  ['zip_cluster']),\n",
       "                                                 ('msa_cluster',\n",
       "                                                  OneHotEncoder(dtype='int'),\n",
       "                                                  ['msa_cluster']),\n",
       "                                                 ('state_cluster',\n",
       "                                                  OneHotEncoder(dtype='int'),\n",
       "                                                  ['state_cluster']),\n",
       "                                                 ('eqi_cluster',\n",
       "                                                  OneHotEncoder(dtype='int'),\n",
       "                                                  ['eqi_cluster']),\n",
       "                                                 ('recpi_cluster',\n",
       "                                                  OneHotEncoder(dtype='int'),\n",
       "                                                  ['recpi_cluster'])])),\n",
       "                ('lasso', Lasso())])"
      ]
     },
     "execution_count": 31,
     "metadata": {},
     "output_type": "execute_result"
    }
   ],
   "source": [
    "pipe.fit(X_train, y_train)"
   ]
  },
  {
   "cell_type": "code",
   "execution_count": 32,
   "metadata": {
    "pycharm": {
     "name": "#%%\n"
    }
   },
   "outputs": [
    {
     "data": {
      "text/plain": [
       "0.0"
      ]
     },
     "execution_count": 32,
     "metadata": {},
     "output_type": "execute_result"
    }
   ],
   "source": [
    "y_pred = pipe.predict(X_train)\n",
    "r2_score(y_train, y_pred)"
   ]
  },
  {
   "cell_type": "code",
   "execution_count": 33,
   "metadata": {
    "pycharm": {
     "name": "#%%\n"
    }
   },
   "outputs": [
    {
     "data": {
      "text/plain": [
       "-0.00021962686999033032"
      ]
     },
     "execution_count": 33,
     "metadata": {},
     "output_type": "execute_result"
    }
   ],
   "source": [
    "y_pred = pipe.predict(X_test)\n",
    "r2_score(y_test, y_pred)"
   ]
  },
  {
   "cell_type": "markdown",
   "metadata": {},
   "source": [
    "## KNN Regressor"
   ]
  },
  {
   "cell_type": "code",
   "execution_count": 34,
   "metadata": {
    "pycharm": {
     "name": "#%%\n"
    }
   },
   "outputs": [],
   "source": [
    "from sklearn.neighbors import KNeighborsRegressor"
   ]
  },
  {
   "cell_type": "code",
   "execution_count": 35,
   "metadata": {
    "pycharm": {
     "name": "#%%\n"
    }
   },
   "outputs": [],
   "source": [
    "pipe = Pipeline([('transformer', column_trans), ('knn', KNeighborsRegressor())])"
   ]
  },
  {
   "cell_type": "code",
   "execution_count": 36,
   "metadata": {
    "pycharm": {
     "name": "#%%\n"
    }
   },
   "outputs": [
    {
     "data": {
      "text/plain": [
       "Pipeline(steps=[('transformer',\n",
       "                 ColumnTransformer(transformers=[('scale', StandardScaler(),\n",
       "                                                  <sklearn.compose._column_transformer.make_column_selector object at 0x000001FB6E8822E0>),\n",
       "                                                 ('dataset_cluster',\n",
       "                                                  OneHotEncoder(dtype='int'),\n",
       "                                                  ['dataset_cluster']),\n",
       "                                                 ('zip_cluster',\n",
       "                                                  OneHotEncoder(dtype='int'),\n",
       "                                                  ['zip_cluster']),\n",
       "                                                 ('msa_cluster',\n",
       "                                                  OneHotEncoder(dtype='int'),\n",
       "                                                  ['msa_cluster']),\n",
       "                                                 ('state_cluster',\n",
       "                                                  OneHotEncoder(dtype='int'),\n",
       "                                                  ['state_cluster']),\n",
       "                                                 ('eqi_cluster',\n",
       "                                                  OneHotEncoder(dtype='int'),\n",
       "                                                  ['eqi_cluster']),\n",
       "                                                 ('recpi_cluster',\n",
       "                                                  OneHotEncoder(dtype='int'),\n",
       "                                                  ['recpi_cluster'])])),\n",
       "                ('knn', KNeighborsRegressor())])"
      ]
     },
     "execution_count": 36,
     "metadata": {},
     "output_type": "execute_result"
    }
   ],
   "source": [
    "pipe.fit(X_train, y_train)"
   ]
  },
  {
   "cell_type": "code",
   "execution_count": 37,
   "metadata": {
    "pycharm": {
     "name": "#%%\n"
    }
   },
   "outputs": [
    {
     "data": {
      "text/plain": [
       "0.6294739568880735"
      ]
     },
     "execution_count": 37,
     "metadata": {},
     "output_type": "execute_result"
    }
   ],
   "source": [
    "y_pred = pipe.predict(X_train)\n",
    "r2_score(y_train, y_pred)"
   ]
  },
  {
   "cell_type": "code",
   "execution_count": 38,
   "metadata": {
    "pycharm": {
     "name": "#%%\n"
    }
   },
   "outputs": [
    {
     "data": {
      "text/plain": [
       "0.49400275605401067"
      ]
     },
     "execution_count": 38,
     "metadata": {},
     "output_type": "execute_result"
    }
   ],
   "source": [
    "y_pred = pipe.predict(X_test)\n",
    "r2_score(y_test, y_pred)"
   ]
  },
  {
   "cell_type": "markdown",
   "metadata": {},
   "source": [
    "## SVM Regressor"
   ]
  },
  {
   "cell_type": "code",
   "execution_count": 39,
   "metadata": {
    "pycharm": {
     "name": "#%%\n"
    }
   },
   "outputs": [],
   "source": [
    "from sklearn.svm import SVR"
   ]
  },
  {
   "cell_type": "code",
   "execution_count": 40,
   "metadata": {
    "pycharm": {
     "name": "#%%\n"
    }
   },
   "outputs": [],
   "source": [
    "pipe = Pipeline([('transformer', column_trans), ('svr', SVR())])"
   ]
  },
  {
   "cell_type": "code",
   "execution_count": 41,
   "metadata": {
    "pycharm": {
     "name": "#%%\n"
    }
   },
   "outputs": [
    {
     "data": {
      "text/plain": [
       "Pipeline(steps=[('transformer',\n",
       "                 ColumnTransformer(transformers=[('scale', StandardScaler(),\n",
       "                                                  <sklearn.compose._column_transformer.make_column_selector object at 0x000001FB6E8822E0>),\n",
       "                                                 ('dataset_cluster',\n",
       "                                                  OneHotEncoder(dtype='int'),\n",
       "                                                  ['dataset_cluster']),\n",
       "                                                 ('zip_cluster',\n",
       "                                                  OneHotEncoder(dtype='int'),\n",
       "                                                  ['zip_cluster']),\n",
       "                                                 ('msa_cluster',\n",
       "                                                  OneHotEncoder(dtype='int'),\n",
       "                                                  ['msa_cluster']),\n",
       "                                                 ('state_cluster',\n",
       "                                                  OneHotEncoder(dtype='int'),\n",
       "                                                  ['state_cluster']),\n",
       "                                                 ('eqi_cluster',\n",
       "                                                  OneHotEncoder(dtype='int'),\n",
       "                                                  ['eqi_cluster']),\n",
       "                                                 ('recpi_cluster',\n",
       "                                                  OneHotEncoder(dtype='int'),\n",
       "                                                  ['recpi_cluster'])])),\n",
       "                ('svr', SVR())])"
      ]
     },
     "execution_count": 41,
     "metadata": {},
     "output_type": "execute_result"
    }
   ],
   "source": [
    "pipe.fit(X_train, y_train)"
   ]
  },
  {
   "cell_type": "code",
   "execution_count": 42,
   "metadata": {
    "pycharm": {
     "name": "#%%\n"
    }
   },
   "outputs": [
    {
     "data": {
      "text/plain": [
       "-1433.5621528159181"
      ]
     },
     "execution_count": 42,
     "metadata": {},
     "output_type": "execute_result"
    }
   ],
   "source": [
    "y_pred = pipe.predict(X_train)\n",
    "r2_score(y_train, y_pred)"
   ]
  },
  {
   "cell_type": "code",
   "execution_count": 43,
   "metadata": {
    "pycharm": {
     "name": "#%%\n"
    }
   },
   "outputs": [
    {
     "data": {
      "text/plain": [
       "-1350.4368767212102"
      ]
     },
     "execution_count": 43,
     "metadata": {},
     "output_type": "execute_result"
    }
   ],
   "source": [
    "y_pred = pipe.predict(X_test)\n",
    "r2_score(y_test, y_pred)"
   ]
  },
  {
   "cell_type": "markdown",
   "metadata": {},
   "source": [
    "## Ensemble Methods"
   ]
  },
  {
   "cell_type": "markdown",
   "metadata": {},
   "source": [
    "### Random Forest"
   ]
  },
  {
   "cell_type": "code",
   "execution_count": 44,
   "metadata": {
    "pycharm": {
     "name": "#%%\n"
    }
   },
   "outputs": [],
   "source": [
    "from sklearn.ensemble import RandomForestRegressor"
   ]
  },
  {
   "cell_type": "code",
   "execution_count": 45,
   "metadata": {
    "pycharm": {
     "name": "#%%\n"
    }
   },
   "outputs": [],
   "source": [
    "pipe = Pipeline([('transformer', column_trans), ('rf', RandomForestRegressor(n_jobs=-1))])"
   ]
  },
  {
   "cell_type": "code",
   "execution_count": 46,
   "metadata": {
    "pycharm": {
     "name": "#%%\n"
    }
   },
   "outputs": [
    {
     "data": {
      "text/plain": [
       "Pipeline(steps=[('transformer',\n",
       "                 ColumnTransformer(transformers=[('scale', StandardScaler(),\n",
       "                                                  <sklearn.compose._column_transformer.make_column_selector object at 0x000001FB6E8822E0>),\n",
       "                                                 ('dataset_cluster',\n",
       "                                                  OneHotEncoder(dtype='int'),\n",
       "                                                  ['dataset_cluster']),\n",
       "                                                 ('zip_cluster',\n",
       "                                                  OneHotEncoder(dtype='int'),\n",
       "                                                  ['zip_cluster']),\n",
       "                                                 ('msa_cluster',\n",
       "                                                  OneHotEncoder(dtype='int'),\n",
       "                                                  ['msa_cluster']),\n",
       "                                                 ('state_cluster',\n",
       "                                                  OneHotEncoder(dtype='int'),\n",
       "                                                  ['state_cluster']),\n",
       "                                                 ('eqi_cluster',\n",
       "                                                  OneHotEncoder(dtype='int'),\n",
       "                                                  ['eqi_cluster']),\n",
       "                                                 ('recpi_cluster',\n",
       "                                                  OneHotEncoder(dtype='int'),\n",
       "                                                  ['recpi_cluster'])])),\n",
       "                ('rf', RandomForestRegressor(n_jobs=-1))])"
      ]
     },
     "execution_count": 46,
     "metadata": {},
     "output_type": "execute_result"
    }
   ],
   "source": [
    "pipe.fit(X_train, y_train)"
   ]
  },
  {
   "cell_type": "code",
   "execution_count": 47,
   "metadata": {
    "pycharm": {
     "name": "#%%\n"
    }
   },
   "outputs": [
    {
     "data": {
      "text/plain": [
       "0.9178528120402455"
      ]
     },
     "execution_count": 47,
     "metadata": {},
     "output_type": "execute_result"
    }
   ],
   "source": [
    "y_pred = pipe.predict(X_train)\n",
    "r2_score(y_train, y_pred)"
   ]
  },
  {
   "cell_type": "code",
   "execution_count": 48,
   "metadata": {
    "pycharm": {
     "name": "#%%\n"
    }
   },
   "outputs": [
    {
     "data": {
      "text/plain": [
       "0.598658352528512"
      ]
     },
     "execution_count": 48,
     "metadata": {},
     "output_type": "execute_result"
    }
   ],
   "source": [
    "y_pred = pipe.predict(X_test)\n",
    "r2_score(y_test, y_pred)"
   ]
  },
  {
   "cell_type": "markdown",
   "metadata": {},
   "source": [
    "### Gradient Boosting"
   ]
  },
  {
   "cell_type": "code",
   "execution_count": 49,
   "metadata": {
    "pycharm": {
     "name": "#%%\n"
    }
   },
   "outputs": [],
   "source": [
    "from sklearn.ensemble import GradientBoostingRegressor"
   ]
  },
  {
   "cell_type": "code",
   "execution_count": 50,
   "metadata": {
    "pycharm": {
     "name": "#%%\n"
    }
   },
   "outputs": [],
   "source": [
    "pipe = Pipeline([('transformer', column_trans), ('gbr', GradientBoostingRegressor())])"
   ]
  },
  {
   "cell_type": "code",
   "execution_count": 51,
   "metadata": {
    "pycharm": {
     "name": "#%%\n"
    }
   },
   "outputs": [
    {
     "data": {
      "text/plain": [
       "Pipeline(steps=[('transformer',\n",
       "                 ColumnTransformer(transformers=[('scale', StandardScaler(),\n",
       "                                                  <sklearn.compose._column_transformer.make_column_selector object at 0x000001FB6E8822E0>),\n",
       "                                                 ('dataset_cluster',\n",
       "                                                  OneHotEncoder(dtype='int'),\n",
       "                                                  ['dataset_cluster']),\n",
       "                                                 ('zip_cluster',\n",
       "                                                  OneHotEncoder(dtype='int'),\n",
       "                                                  ['zip_cluster']),\n",
       "                                                 ('msa_cluster',\n",
       "                                                  OneHotEncoder(dtype='int'),\n",
       "                                                  ['msa_cluster']),\n",
       "                                                 ('state_cluster',\n",
       "                                                  OneHotEncoder(dtype='int'),\n",
       "                                                  ['state_cluster']),\n",
       "                                                 ('eqi_cluster',\n",
       "                                                  OneHotEncoder(dtype='int'),\n",
       "                                                  ['eqi_cluster']),\n",
       "                                                 ('recpi_cluster',\n",
       "                                                  OneHotEncoder(dtype='int'),\n",
       "                                                  ['recpi_cluster'])])),\n",
       "                ('gbr', GradientBoostingRegressor())])"
      ]
     },
     "execution_count": 51,
     "metadata": {},
     "output_type": "execute_result"
    }
   ],
   "source": [
    "pipe.fit(X_train, y_train)"
   ]
  },
  {
   "cell_type": "code",
   "execution_count": 52,
   "metadata": {
    "pycharm": {
     "name": "#%%\n"
    }
   },
   "outputs": [
    {
     "data": {
      "text/plain": [
       "0.7310372530504303"
      ]
     },
     "execution_count": 52,
     "metadata": {},
     "output_type": "execute_result"
    }
   ],
   "source": [
    "y_pred = pipe.predict(X_train)\n",
    "r2_score(y_train, y_pred)"
   ]
  },
  {
   "cell_type": "code",
   "execution_count": 53,
   "metadata": {
    "pycharm": {
     "name": "#%%\n"
    }
   },
   "outputs": [
    {
     "data": {
      "text/plain": [
       "0.5727063917198174"
      ]
     },
     "execution_count": 53,
     "metadata": {},
     "output_type": "execute_result"
    }
   ],
   "source": [
    "y_pred = pipe.predict(X_test)\n",
    "r2_score(y_test, y_pred)"
   ]
  },
  {
   "cell_type": "markdown",
   "metadata": {},
   "source": [
    "### AdaBoost"
   ]
  },
  {
   "cell_type": "code",
   "execution_count": 54,
   "metadata": {
    "pycharm": {
     "name": "#%%\n"
    }
   },
   "outputs": [],
   "source": [
    "from sklearn.ensemble import AdaBoostRegressor"
   ]
  },
  {
   "cell_type": "code",
   "execution_count": 55,
   "metadata": {
    "pycharm": {
     "name": "#%%\n"
    }
   },
   "outputs": [],
   "source": [
    "pipe = Pipeline([('transformer', column_trans), ('adaboost', AdaBoostRegressor())])"
   ]
  },
  {
   "cell_type": "code",
   "execution_count": 56,
   "metadata": {
    "pycharm": {
     "name": "#%%\n"
    }
   },
   "outputs": [
    {
     "data": {
      "text/plain": [
       "Pipeline(steps=[('transformer',\n",
       "                 ColumnTransformer(transformers=[('scale', StandardScaler(),\n",
       "                                                  <sklearn.compose._column_transformer.make_column_selector object at 0x000001FB6E8822E0>),\n",
       "                                                 ('dataset_cluster',\n",
       "                                                  OneHotEncoder(dtype='int'),\n",
       "                                                  ['dataset_cluster']),\n",
       "                                                 ('zip_cluster',\n",
       "                                                  OneHotEncoder(dtype='int'),\n",
       "                                                  ['zip_cluster']),\n",
       "                                                 ('msa_cluster',\n",
       "                                                  OneHotEncoder(dtype='int'),\n",
       "                                                  ['msa_cluster']),\n",
       "                                                 ('state_cluster',\n",
       "                                                  OneHotEncoder(dtype='int'),\n",
       "                                                  ['state_cluster']),\n",
       "                                                 ('eqi_cluster',\n",
       "                                                  OneHotEncoder(dtype='int'),\n",
       "                                                  ['eqi_cluster']),\n",
       "                                                 ('recpi_cluster',\n",
       "                                                  OneHotEncoder(dtype='int'),\n",
       "                                                  ['recpi_cluster'])])),\n",
       "                ('adaboost', AdaBoostRegressor())])"
      ]
     },
     "execution_count": 56,
     "metadata": {},
     "output_type": "execute_result"
    }
   ],
   "source": [
    "pipe.fit(X_train, y_train)"
   ]
  },
  {
   "cell_type": "code",
   "execution_count": 57,
   "metadata": {
    "pycharm": {
     "name": "#%%\n"
    }
   },
   "outputs": [
    {
     "data": {
      "text/plain": [
       "-5.495531193428755"
      ]
     },
     "execution_count": 57,
     "metadata": {},
     "output_type": "execute_result"
    }
   ],
   "source": [
    "y_pred = pipe.predict(X_train)\n",
    "r2_score(y_train, y_pred)"
   ]
  },
  {
   "cell_type": "code",
   "execution_count": 58,
   "metadata": {
    "pycharm": {
     "name": "#%%\n"
    }
   },
   "outputs": [
    {
     "data": {
      "text/plain": [
       "-5.34837045544623"
      ]
     },
     "execution_count": 58,
     "metadata": {},
     "output_type": "execute_result"
    }
   ],
   "source": [
    "y_pred = pipe.predict(X_test)\n",
    "r2_score(y_test, y_pred)"
   ]
  },
  {
   "cell_type": "markdown",
   "metadata": {},
   "source": [
    "### Tree Bagging"
   ]
  },
  {
   "cell_type": "code",
   "execution_count": 59,
   "metadata": {
    "pycharm": {
     "name": "#%%\n"
    }
   },
   "outputs": [],
   "source": [
    "from sklearn.ensemble import BaggingRegressor"
   ]
  },
  {
   "cell_type": "code",
   "execution_count": 60,
   "metadata": {
    "pycharm": {
     "name": "#%%\n"
    }
   },
   "outputs": [],
   "source": [
    "pipe = Pipeline([('transformer', column_trans), ('bagging', BaggingRegressor(n_jobs=-1))])"
   ]
  },
  {
   "cell_type": "code",
   "execution_count": 61,
   "metadata": {
    "pycharm": {
     "name": "#%%\n"
    }
   },
   "outputs": [
    {
     "data": {
      "text/plain": [
       "Pipeline(steps=[('transformer',\n",
       "                 ColumnTransformer(transformers=[('scale', StandardScaler(),\n",
       "                                                  <sklearn.compose._column_transformer.make_column_selector object at 0x000001FB6E8822E0>),\n",
       "                                                 ('dataset_cluster',\n",
       "                                                  OneHotEncoder(dtype='int'),\n",
       "                                                  ['dataset_cluster']),\n",
       "                                                 ('zip_cluster',\n",
       "                                                  OneHotEncoder(dtype='int'),\n",
       "                                                  ['zip_cluster']),\n",
       "                                                 ('msa_cluster',\n",
       "                                                  OneHotEncoder(dtype='int'),\n",
       "                                                  ['msa_cluster']),\n",
       "                                                 ('state_cluster',\n",
       "                                                  OneHotEncoder(dtype='int'),\n",
       "                                                  ['state_cluster']),\n",
       "                                                 ('eqi_cluster',\n",
       "                                                  OneHotEncoder(dtype='int'),\n",
       "                                                  ['eqi_cluster']),\n",
       "                                                 ('recpi_cluster',\n",
       "                                                  OneHotEncoder(dtype='int'),\n",
       "                                                  ['recpi_cluster'])])),\n",
       "                ('bagging', BaggingRegressor(n_jobs=-1))])"
      ]
     },
     "execution_count": 61,
     "metadata": {},
     "output_type": "execute_result"
    }
   ],
   "source": [
    "pipe.fit(X_train, y_train)"
   ]
  },
  {
   "cell_type": "code",
   "execution_count": 62,
   "metadata": {
    "pycharm": {
     "name": "#%%\n"
    }
   },
   "outputs": [
    {
     "data": {
      "text/plain": [
       "0.8673635737756299"
      ]
     },
     "execution_count": 62,
     "metadata": {},
     "output_type": "execute_result"
    }
   ],
   "source": [
    "y_pred = pipe.predict(X_train)\n",
    "r2_score(y_train, y_pred)"
   ]
  },
  {
   "cell_type": "code",
   "execution_count": 63,
   "metadata": {
    "pycharm": {
     "name": "#%%\n"
    }
   },
   "outputs": [
    {
     "data": {
      "text/plain": [
       "0.5887937255214739"
      ]
     },
     "execution_count": 63,
     "metadata": {},
     "output_type": "execute_result"
    }
   ],
   "source": [
    "y_pred = pipe.predict(X_test)\n",
    "r2_score(y_test, y_pred)"
   ]
  },
  {
   "cell_type": "markdown",
   "metadata": {},
   "source": [
    "## NN Model"
   ]
  },
  {
   "cell_type": "code",
   "execution_count": 64,
   "metadata": {
    "pycharm": {
     "name": "#%%\n"
    }
   },
   "outputs": [],
   "source": [
    "from sklearn.neural_network import MLPRegressor"
   ]
  },
  {
   "cell_type": "code",
   "execution_count": 65,
   "metadata": {
    "pycharm": {
     "name": "#%%\n"
    }
   },
   "outputs": [],
   "source": [
    "pipe = Pipeline([('transformer', column_trans), ('perceptron', MLPRegressor())])"
   ]
  },
  {
   "cell_type": "code",
   "execution_count": 66,
   "metadata": {
    "pycharm": {
     "name": "#%%\n"
    }
   },
   "outputs": [
    {
     "data": {
      "text/plain": [
       "Pipeline(steps=[('transformer',\n",
       "                 ColumnTransformer(transformers=[('scale', StandardScaler(),\n",
       "                                                  <sklearn.compose._column_transformer.make_column_selector object at 0x000001FB6E8822E0>),\n",
       "                                                 ('dataset_cluster',\n",
       "                                                  OneHotEncoder(dtype='int'),\n",
       "                                                  ['dataset_cluster']),\n",
       "                                                 ('zip_cluster',\n",
       "                                                  OneHotEncoder(dtype='int'),\n",
       "                                                  ['zip_cluster']),\n",
       "                                                 ('msa_cluster',\n",
       "                                                  OneHotEncoder(dtype='int'),\n",
       "                                                  ['msa_cluster']),\n",
       "                                                 ('state_cluster',\n",
       "                                                  OneHotEncoder(dtype='int'),\n",
       "                                                  ['state_cluster']),\n",
       "                                                 ('eqi_cluster',\n",
       "                                                  OneHotEncoder(dtype='int'),\n",
       "                                                  ['eqi_cluster']),\n",
       "                                                 ('recpi_cluster',\n",
       "                                                  OneHotEncoder(dtype='int'),\n",
       "                                                  ['recpi_cluster'])])),\n",
       "                ('perceptron', MLPRegressor())])"
      ]
     },
     "execution_count": 66,
     "metadata": {},
     "output_type": "execute_result"
    }
   ],
   "source": [
    "pipe.fit(X_train, y_train)"
   ]
  },
  {
   "cell_type": "code",
   "execution_count": 67,
   "metadata": {
    "pycharm": {
     "name": "#%%\n"
    }
   },
   "outputs": [
    {
     "data": {
      "text/plain": [
       "-1233.8478930040455"
      ]
     },
     "execution_count": 67,
     "metadata": {},
     "output_type": "execute_result"
    }
   ],
   "source": [
    "y_pred = pipe.predict(X_train)\n",
    "r2_score(y_train, y_pred)"
   ]
  },
  {
   "cell_type": "code",
   "execution_count": 68,
   "metadata": {
    "pycharm": {
     "name": "#%%\n"
    }
   },
   "outputs": [
    {
     "data": {
      "text/plain": [
       "-381.44443466057834"
      ]
     },
     "execution_count": 68,
     "metadata": {},
     "output_type": "execute_result"
    }
   ],
   "source": [
    "y_pred = pipe.predict(X_test)\n",
    "r2_score(y_test, y_pred)"
   ]
  },
  {
   "cell_type": "markdown",
   "metadata": {},
   "source": [
    "## Voting Regressor"
   ]
  },
  {
   "cell_type": "code",
   "execution_count": 69,
   "metadata": {},
   "outputs": [],
   "source": [
    "from sklearn.ensemble import VotingRegressor"
   ]
  },
  {
   "cell_type": "code",
   "execution_count": 70,
   "metadata": {},
   "outputs": [],
   "source": [
    "vote = VotingRegressor(estimators=[('knn', KNeighborsRegressor()), ('rf', RandomForestRegressor(n_jobs=-1))])"
   ]
  },
  {
   "cell_type": "code",
   "execution_count": 71,
   "metadata": {},
   "outputs": [],
   "source": [
    "pipe = Pipeline([('transformer', column_trans), ('vote', vote)])"
   ]
  },
  {
   "cell_type": "code",
   "execution_count": 72,
   "metadata": {},
   "outputs": [
    {
     "data": {
      "text/plain": [
       "Pipeline(steps=[('transformer',\n",
       "                 ColumnTransformer(transformers=[('scale', StandardScaler(),\n",
       "                                                  <sklearn.compose._column_transformer.make_column_selector object at 0x000001FB6E8822E0>),\n",
       "                                                 ('dataset_cluster',\n",
       "                                                  OneHotEncoder(dtype='int'),\n",
       "                                                  ['dataset_cluster']),\n",
       "                                                 ('zip_cluster',\n",
       "                                                  OneHotEncoder(dtype='int'),\n",
       "                                                  ['zip_cluster']),\n",
       "                                                 ('msa_cluster',\n",
       "                                                  OneHotEncoder(dtype='int'),\n",
       "                                                  ['msa_cluster']),\n",
       "                                                 ('state_cluster',\n",
       "                                                  OneHotEncoder(dtype='int'),\n",
       "                                                  ['state_cluster']),\n",
       "                                                 ('eqi_cluster',\n",
       "                                                  OneHotEncoder(dtype='int'),\n",
       "                                                  ['eqi_cluster']),\n",
       "                                                 ('recpi_cluster',\n",
       "                                                  OneHotEncoder(dtype='int'),\n",
       "                                                  ['recpi_cluster'])])),\n",
       "                ('vote',\n",
       "                 VotingRegressor(estimators=[('knn', KNeighborsRegressor()),\n",
       "                                             ('rf',\n",
       "                                              RandomForestRegressor(n_jobs=-1))]))])"
      ]
     },
     "execution_count": 72,
     "metadata": {},
     "output_type": "execute_result"
    }
   ],
   "source": [
    "pipe.fit(X_train, y_train)"
   ]
  },
  {
   "cell_type": "code",
   "execution_count": 73,
   "metadata": {},
   "outputs": [
    {
     "data": {
      "text/plain": [
       "0.8157165865950646"
      ]
     },
     "execution_count": 73,
     "metadata": {},
     "output_type": "execute_result"
    }
   ],
   "source": [
    "y_pred = pipe.predict(X_train)\n",
    "r2_score(y_train, y_pred)"
   ]
  },
  {
   "cell_type": "code",
   "execution_count": 74,
   "metadata": {},
   "outputs": [
    {
     "data": {
      "text/plain": [
       "0.5754750524016146"
      ]
     },
     "execution_count": 74,
     "metadata": {},
     "output_type": "execute_result"
    }
   ],
   "source": [
    "y_pred = pipe.predict(X_test)\n",
    "r2_score(y_test, y_pred)"
   ]
  },
  {
   "cell_type": "code",
   "execution_count": null,
   "metadata": {},
   "outputs": [],
   "source": []
  }
 ],
 "metadata": {
  "kernelspec": {
   "display_name": "Python 3",
   "language": "python",
   "name": "python3"
  },
  "language_info": {
   "codemirror_mode": {
    "name": "ipython",
    "version": 3
   },
   "file_extension": ".py",
   "mimetype": "text/x-python",
   "name": "python",
   "nbconvert_exporter": "python",
   "pygments_lexer": "ipython3",
   "version": "3.8.3"
  }
 },
 "nbformat": 4,
 "nbformat_minor": 4
}