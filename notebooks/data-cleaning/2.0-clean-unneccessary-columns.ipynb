{
 "cells": [
  {
   "cell_type": "code",
   "execution_count": 1,
   "metadata": {},
   "outputs": [],
   "source": [
    "import os\n",
    "import pandas as pd\n",
    "import numpy as np"
   ]
  },
  {
   "cell_type": "markdown",
   "metadata": {},
   "source": [
    "## Clean Unneccesary Columns from DataFrame and Cast"
   ]
  },
  {
   "cell_type": "code",
   "execution_count": 2,
   "metadata": {
    "pycharm": {
     "name": "#%%\n"
    }
   },
   "outputs": [
    {
     "name": "stdout",
     "output_type": "stream",
     "text": [
      "<class 'pandas.core.frame.DataFrame'>\n",
      "RangeIndex: 1109656 entries, 0 to 1109655\n",
      "Data columns (total 20 columns):\n",
      " #   Column        Non-Null Count    Dtype  \n",
      "---  ------        --------------    -----  \n",
      " 0   year          1109656 non-null  int64  \n",
      " 1   zipcode       1109656 non-null  int64  \n",
      " 2   MSA           688481 non-null   object \n",
      " 3   CBSA          688481 non-null   float64\n",
      " 4   state         944005 non-null   object \n",
      " 5   EQI_zip       824710 non-null   float64\n",
      " 6   SFR_zip       824710 non-null   float64\n",
      " 7   growth_zip    824710 non-null   float64\n",
      " 8   RECPI_zip     824710 non-null   float64\n",
      " 9   REAI_zip      703797 non-null   float64\n",
      " 10  EQI_MSA       688481 non-null   float64\n",
      " 11  SFR_MSA       688481 non-null   float64\n",
      " 12  growth_MSA    688481 non-null   float64\n",
      " 13  RECPI_MSA     688481 non-null   float64\n",
      " 14  REAI_MSA      595961 non-null   float64\n",
      " 15  EQI_state     944005 non-null   float64\n",
      " 16  SFR_state     944005 non-null   float64\n",
      " 17  growth_state  944005 non-null   float64\n",
      " 18  RECPI_state   944005 non-null   float64\n",
      " 19  REAI_state    812501 non-null   float64\n",
      "dtypes: float64(16), int64(2), object(2)\n",
      "memory usage: 169.3+ MB\n"
     ]
    }
   ],
   "source": [
    "filename = '../../data/interim/1.3-output.csv'\n",
    "df = pd.read_csv(filename)\n",
    "df.info()"
   ]
  },
  {
   "cell_type": "markdown",
   "metadata": {},
   "source": [
    "##### Drop growth"
   ]
  },
  {
   "cell_type": "code",
   "execution_count": 3,
   "metadata": {
    "pycharm": {
     "name": "#%%\n"
    }
   },
   "outputs": [],
   "source": [
    "df = df.drop(['growth_zip', 'growth_MSA', 'growth_state'], axis=1)"
   ]
  },
  {
   "cell_type": "markdown",
   "metadata": {},
   "source": [
    "##### Drop REAI"
   ]
  },
  {
   "cell_type": "code",
   "execution_count": 4,
   "metadata": {
    "pycharm": {
     "name": "#%%\n"
    }
   },
   "outputs": [],
   "source": [
    "df = df.drop(['REAI_zip','REAI_MSA','REAI_state'], axis=1)"
   ]
  },
  {
   "cell_type": "markdown",
   "metadata": {},
   "source": [
    "##### Drop Descriptors"
   ]
  },
  {
   "cell_type": "code",
   "execution_count": 5,
   "metadata": {
    "pycharm": {
     "name": "#%%\n"
    }
   },
   "outputs": [],
   "source": [
    "df = df.drop(['MSA','CBSA','state'], axis=1)"
   ]
  },
  {
   "cell_type": "code",
   "execution_count": 6,
   "metadata": {
    "pycharm": {
     "name": "#%%\n"
    }
   },
   "outputs": [
    {
     "name": "stdout",
     "output_type": "stream",
     "text": [
      "<class 'pandas.core.frame.DataFrame'>\n",
      "RangeIndex: 1109656 entries, 0 to 1109655\n",
      "Data columns (total 11 columns):\n",
      " #   Column       Non-Null Count    Dtype  \n",
      "---  ------       --------------    -----  \n",
      " 0   year         1109656 non-null  int64  \n",
      " 1   zipcode      1109656 non-null  int64  \n",
      " 2   EQI_zip      824710 non-null   float64\n",
      " 3   SFR_zip      824710 non-null   float64\n",
      " 4   RECPI_zip    824710 non-null   float64\n",
      " 5   EQI_MSA      688481 non-null   float64\n",
      " 6   SFR_MSA      688481 non-null   float64\n",
      " 7   RECPI_MSA    688481 non-null   float64\n",
      " 8   EQI_state    944005 non-null   float64\n",
      " 9   SFR_state    944005 non-null   float64\n",
      " 10  RECPI_state  944005 non-null   float64\n",
      "dtypes: float64(9), int64(2)\n",
      "memory usage: 93.1 MB\n"
     ]
    }
   ],
   "source": [
    "df.info()"
   ]
  },
  {
   "cell_type": "markdown",
   "metadata": {},
   "source": [
    "### Cast Columns"
   ]
  },
  {
   "cell_type": "code",
   "execution_count": 7,
   "metadata": {},
   "outputs": [
    {
     "name": "stdout",
     "output_type": "stream",
     "text": [
      "<class 'pandas.core.frame.DataFrame'>\n",
      "RangeIndex: 1109656 entries, 0 to 1109655\n",
      "Data columns (total 11 columns):\n",
      " #   Column       Non-Null Count    Dtype  \n",
      "---  ------       --------------    -----  \n",
      " 0   year         1109656 non-null  int64  \n",
      " 1   zipcode      1109656 non-null  int64  \n",
      " 2   EQI_zip      824710 non-null   float64\n",
      " 3   SFR_zip      824710 non-null   float64\n",
      " 4   RECPI_zip    824710 non-null   float64\n",
      " 5   EQI_MSA      688481 non-null   float64\n",
      " 6   SFR_MSA      688481 non-null   float64\n",
      " 7   RECPI_MSA    688481 non-null   float64\n",
      " 8   EQI_state    944005 non-null   float64\n",
      " 9   SFR_state    944005 non-null   float64\n",
      " 10  RECPI_state  944005 non-null   float64\n",
      "dtypes: float64(9), int64(2)\n",
      "memory usage: 93.1 MB\n"
     ]
    }
   ],
   "source": [
    "df.SFR_state = df.SFR_state.astype('float64')\n",
    "df.info()"
   ]
  },
  {
   "cell_type": "markdown",
   "metadata": {},
   "source": [
    "### Output DataFrame to file"
   ]
  },
  {
   "cell_type": "code",
   "execution_count": 8,
   "metadata": {},
   "outputs": [],
   "source": [
    "filename = '../../data/interim/2.0-output.csv'\n",
    "df.to_csv(filename, index=False)"
   ]
  },
  {
   "cell_type": "code",
   "execution_count": null,
   "metadata": {},
   "outputs": [],
   "source": []
  }
 ],
 "metadata": {
  "kernelspec": {
   "display_name": "Python 3",
   "language": "python",
   "name": "python3"
  },
  "language_info": {
   "codemirror_mode": {
    "name": "ipython",
    "version": 3
   },
   "file_extension": ".py",
   "mimetype": "text/x-python",
   "name": "python",
   "nbconvert_exporter": "python",
   "pygments_lexer": "ipython3",
   "version": "3.8.3"
  }
 },
 "nbformat": 4,
 "nbformat_minor": 1
}
