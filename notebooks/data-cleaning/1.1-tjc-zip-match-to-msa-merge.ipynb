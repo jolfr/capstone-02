{
 "cells": [
  {
   "cell_type": "code",
   "execution_count": 1,
   "metadata": {},
   "outputs": [],
   "source": [
    "import os\n",
    "import pandas as pd\n",
    "import numpy as np"
   ]
  },
  {
   "cell_type": "markdown",
   "metadata": {},
   "source": [
    "## Merge zipcode-to-cbsa.csv with MSA Data"
   ]
  },
  {
   "cell_type": "markdown",
   "metadata": {},
   "source": [
    "### Load MSA data into DataFrame"
   ]
  },
  {
   "cell_type": "code",
   "execution_count": 2,
   "metadata": {},
   "outputs": [
    {
     "name": "stdout",
     "output_type": "stream",
     "text": [
      "<class 'pandas.core.frame.DataFrame'>\n",
      "RangeIndex: 29661 entries, 0 to 29660\n",
      "Data columns (total 9 columns):\n",
      " #   Column  Non-Null Count  Dtype  \n",
      "---  ------  --------------  -----  \n",
      " 0   MSA     28235 non-null  object \n",
      " 1   CBSA    29661 non-null  int64  \n",
      " 2   state   29661 non-null  object \n",
      " 3   year    29661 non-null  int64  \n",
      " 4   growth  29661 non-null  int64  \n",
      " 5   SFR     29661 non-null  int64  \n",
      " 6   EQI     29661 non-null  float64\n",
      " 7   RECPI   29661 non-null  float64\n",
      " 8   REAI    25707 non-null  float64\n",
      "dtypes: float64(3), int64(4), object(2)\n",
      "memory usage: 2.0+ MB\n"
     ]
    }
   ],
   "source": [
    "filename = '../../data/external/msa_data.tab'\n",
    "msa = pd.read_csv(filename, sep='\\t', lineterminator='\\n')\n",
    "msa.info()"
   ]
  },
  {
   "cell_type": "markdown",
   "metadata": {},
   "source": [
    "### Load zipcode-to-cbsa.csv into DataFrame"
   ]
  },
  {
   "cell_type": "code",
   "execution_count": 4,
   "metadata": {},
   "outputs": [
    {
     "name": "stdout",
     "output_type": "stream",
     "text": [
      "<class 'pandas.core.frame.DataFrame'>\n",
      "RangeIndex: 28236 entries, 0 to 28235\n",
      "Data columns (total 2 columns):\n",
      " #   Column   Non-Null Count  Dtype\n",
      "---  ------   --------------  -----\n",
      " 0   zipcode  28236 non-null  int64\n",
      " 1   CBSA     28236 non-null  int64\n",
      "dtypes: int64(2)\n",
      "memory usage: 441.3 KB\n"
     ]
    }
   ],
   "source": [
    "filename = '../../data/interim/zipcode-to-cbsa.csv'\n",
    "z2c = pd.read_csv(filename)\n",
    "z2c.info()"
   ]
  },
  {
   "cell_type": "markdown",
   "metadata": {},
   "source": [
    "### Merge DataFrames"
   ]
  },
  {
   "cell_type": "code",
   "execution_count": 5,
   "metadata": {},
   "outputs": [
    {
     "name": "stdout",
     "output_type": "stream",
     "text": [
      "<class 'pandas.core.frame.DataFrame'>\n",
      "Int64Index: 1007659 entries, 0 to 1007658\n",
      "Data columns (total 10 columns):\n",
      " #   Column   Non-Null Count    Dtype  \n",
      "---  ------   --------------    -----  \n",
      " 0   zipcode  1007659 non-null  int64  \n",
      " 1   CBSA     1007659 non-null  int64  \n",
      " 2   MSA      1007659 non-null  object \n",
      " 3   state    1007659 non-null  object \n",
      " 4   year     1007659 non-null  int64  \n",
      " 5   growth   1007659 non-null  int64  \n",
      " 6   SFR      1007659 non-null  int64  \n",
      " 7   EQI      1007659 non-null  float64\n",
      " 8   RECPI    1007659 non-null  float64\n",
      " 9   REAI     872604 non-null   float64\n",
      "dtypes: float64(3), int64(5), object(2)\n",
      "memory usage: 84.6+ MB\n"
     ]
    }
   ],
   "source": [
    "merged = pd.merge(z2c, msa, on='CBSA')\n",
    "merged.info()"
   ]
  },
  {
   "cell_type": "markdown",
   "metadata": {},
   "source": [
    "##### Drop duplicate zipcodes"
   ]
  },
  {
   "cell_type": "code",
   "execution_count": 6,
   "metadata": {},
   "outputs": [
    {
     "name": "stdout",
     "output_type": "stream",
     "text": [
      "<class 'pandas.core.frame.DataFrame'>\n",
      "Int64Index: 688481 entries, 0 to 1007635\n",
      "Data columns (total 10 columns):\n",
      " #   Column   Non-Null Count   Dtype  \n",
      "---  ------   --------------   -----  \n",
      " 0   zipcode  688481 non-null  int64  \n",
      " 1   CBSA     688481 non-null  int64  \n",
      " 2   MSA      688481 non-null  object \n",
      " 3   state    688481 non-null  object \n",
      " 4   year     688481 non-null  int64  \n",
      " 5   growth   688481 non-null  int64  \n",
      " 6   SFR      688481 non-null  int64  \n",
      " 7   EQI      688481 non-null  float64\n",
      " 8   RECPI    688481 non-null  float64\n",
      " 9   REAI     595961 non-null  float64\n",
      "dtypes: float64(3), int64(5), object(2)\n",
      "memory usage: 57.8+ MB\n"
     ]
    }
   ],
   "source": [
    "merged = merged.drop_duplicates(['zipcode', 'year'])\n",
    "merged.info()"
   ]
  },
  {
   "cell_type": "code",
   "execution_count": 7,
   "metadata": {},
   "outputs": [
    {
     "data": {
      "text/plain": [
       "23872"
      ]
     },
     "execution_count": 7,
     "metadata": {},
     "output_type": "execute_result"
    }
   ],
   "source": [
    "merged.zipcode.nunique()"
   ]
  },
  {
   "cell_type": "markdown",
   "metadata": {},
   "source": [
    "### Output merged DataFrame to file"
   ]
  },
  {
   "cell_type": "code",
   "execution_count": 8,
   "metadata": {},
   "outputs": [],
   "source": [
    "filename = '../../data/interim/msa-data-with-zipcode.csv'\n",
    "merged.to_csv(filename, index=False)"
   ]
  },
  {
   "cell_type": "code",
   "execution_count": null,
   "metadata": {},
   "outputs": [],
   "source": []
  }
 ],
 "metadata": {
  "kernelspec": {
   "display_name": "Python 3",
   "language": "python",
   "name": "python3"
  },
  "language_info": {
   "codemirror_mode": {
    "name": "ipython",
    "version": 3
   },
   "file_extension": ".py",
   "mimetype": "text/x-python",
   "name": "python",
   "nbconvert_exporter": "python",
   "pygments_lexer": "ipython3",
   "version": "3.8.3"
  }
 },
 "nbformat": 4,
 "nbformat_minor": 1
}
