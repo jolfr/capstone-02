{
 "cells": [
  {
   "cell_type": "code",
   "execution_count": 1,
   "metadata": {},
   "outputs": [],
   "source": [
    "import os\n",
    "import pandas as pd\n",
    "import numpy as np"
   ]
  },
  {
   "cell_type": "markdown",
   "metadata": {
    "collapsed": true
   },
   "source": [
    "# Zip to CBSA Matching"
   ]
  },
  {
   "cell_type": "markdown",
   "metadata": {},
   "source": [
    "### Load Zip Data into DataFrame"
   ]
  },
  {
   "cell_type": "code",
   "execution_count": 2,
   "metadata": {},
   "outputs": [
    {
     "data": {
      "text/plain": [
       "'C:\\\\Users\\\\thoma\\\\projects\\\\datascience\\\\capstone-02\\\\notebooks\\\\data-cleaning'"
      ]
     },
     "execution_count": 2,
     "metadata": {},
     "output_type": "execute_result"
    }
   ],
   "source": [
    "os.getcwd()"
   ]
  },
  {
   "cell_type": "code",
   "execution_count": 3,
   "metadata": {},
   "outputs": [
    {
     "name": "stdout",
     "output_type": "stream",
     "text": [
      "<class 'pandas.core.frame.DataFrame'>\n",
      "RangeIndex: 824770 entries, 0 to 824769\n",
      "Data columns (total 8 columns):\n",
      " #   Column   Non-Null Count   Dtype  \n",
      "---  ------   --------------   -----  \n",
      " 0   zipcode  824770 non-null  int64  \n",
      " 1   year     824770 non-null  int64  \n",
      " 2   state    824770 non-null  object \n",
      " 3   EQI      824770 non-null  float64\n",
      " 4   SFR      824770 non-null  int64  \n",
      " 5   growth   824770 non-null  int64  \n",
      " 6   RECPI    824770 non-null  float64\n",
      " 7   REAI     703845 non-null  float64\n",
      "dtypes: float64(3), int64(4), object(1)\n",
      "memory usage: 50.3+ MB\n"
     ]
    }
   ],
   "source": [
    "filename = '../../data/external/zip_data.tab'\n",
    "df = pd.read_csv(filename, sep='\\t', lineterminator='\\n')\n",
    "df.info()"
   ]
  },
  {
   "cell_type": "markdown",
   "metadata": {},
   "source": [
    "### Extract Unique Zips to New DataFrame"
   ]
  },
  {
   "cell_type": "code",
   "execution_count": 4,
   "metadata": {},
   "outputs": [
    {
     "name": "stdout",
     "output_type": "stream",
     "text": [
      "<class 'pandas.core.frame.DataFrame'>\n",
      "RangeIndex: 38264 entries, 0 to 38263\n",
      "Data columns (total 1 columns):\n",
      " #   Column   Non-Null Count  Dtype\n",
      "---  ------   --------------  -----\n",
      " 0   zipcode  38264 non-null  int64\n",
      "dtypes: int64(1)\n",
      "memory usage: 299.1 KB\n"
     ]
    }
   ],
   "source": [
    "unique = pd.DataFrame(df.zipcode.unique())\n",
    "unique.columns = ['zipcode']\n",
    "unique.info()"
   ]
  },
  {
   "cell_type": "markdown",
   "metadata": {},
   "source": [
    "### Load Zip-to-CBSA Data into DataFrame"
   ]
  },
  {
   "cell_type": "code",
   "execution_count": 11,
   "metadata": {},
   "outputs": [
    {
     "name": "stdout",
     "output_type": "stream",
     "text": [
      "<class 'pandas.core.frame.DataFrame'>\n",
      "RangeIndex: 28712 entries, 0 to 28711\n",
      "Data columns (total 23 columns):\n",
      " #   Column        Non-Null Count  Dtype  \n",
      "---  ------        --------------  -----  \n",
      " 0   ZCTA5         28712 non-null  int64  \n",
      " 1   CBSA          28712 non-null  int64  \n",
      " 2   MEMI          28712 non-null  int64  \n",
      " 3   POPPT         28712 non-null  int64  \n",
      " 4   HUPT          28712 non-null  int64  \n",
      " 5   AREAPT        28712 non-null  int64  \n",
      " 6   AREALANDPT    28712 non-null  int64  \n",
      " 7   ZPOP          28712 non-null  int64  \n",
      " 8   ZHU           28712 non-null  int64  \n",
      " 9   ZAREA         28712 non-null  int64  \n",
      " 10  ZAREALAND     28712 non-null  int64  \n",
      " 11  MPOP          28712 non-null  int64  \n",
      " 12  MHU           28712 non-null  int64  \n",
      " 13  MAREA         28712 non-null  int64  \n",
      " 14  MAREALAND     28712 non-null  int64  \n",
      " 15  ZPOPPCT       28712 non-null  float64\n",
      " 16  ZHUPCT        28712 non-null  float64\n",
      " 17  ZAREAPCT      28712 non-null  float64\n",
      " 18  ZAREALANDPCT  28712 non-null  float64\n",
      " 19  MPOPPCT       28712 non-null  float64\n",
      " 20  MHUPCT        28712 non-null  float64\n",
      " 21  MAREAPCT      28712 non-null  float64\n",
      " 22  MAREALANDPCT  28712 non-null  float64\n",
      "dtypes: float64(8), int64(15)\n",
      "memory usage: 5.0 MB\n"
     ]
    }
   ],
   "source": [
    "filename = '../../data/external/zip_to_msa.csv'\n",
    "df = pd.read_csv(filename)\n",
    "df.info()"
   ]
  },
  {
   "cell_type": "markdown",
   "metadata": {},
   "source": [
    "##### Trim unnecessary columns"
   ]
  },
  {
   "cell_type": "code",
   "execution_count": 12,
   "metadata": {},
   "outputs": [
    {
     "name": "stdout",
     "output_type": "stream",
     "text": [
      "<class 'pandas.core.frame.DataFrame'>\n",
      "RangeIndex: 28712 entries, 0 to 28711\n",
      "Data columns (total 2 columns):\n",
      " #   Column  Non-Null Count  Dtype\n",
      "---  ------  --------------  -----\n",
      " 0   ZCTA5   28712 non-null  int64\n",
      " 1   CBSA    28712 non-null  int64\n",
      "dtypes: int64(2)\n",
      "memory usage: 448.8 KB\n"
     ]
    }
   ],
   "source": [
    "df = df[['ZCTA5', 'CBSA']]\n",
    "df.info()"
   ]
  },
  {
   "cell_type": "markdown",
   "metadata": {},
   "source": [
    "### Merge Unique Zips with CBSA Data"
   ]
  },
  {
   "cell_type": "code",
   "execution_count": 13,
   "metadata": {},
   "outputs": [
    {
     "name": "stdout",
     "output_type": "stream",
     "text": [
      "<class 'pandas.core.frame.DataFrame'>\n",
      "Int64Index: 28236 entries, 0 to 28235\n",
      "Data columns (total 3 columns):\n",
      " #   Column   Non-Null Count  Dtype\n",
      "---  ------   --------------  -----\n",
      " 0   zipcode  28236 non-null  int64\n",
      " 1   ZCTA5    28236 non-null  int64\n",
      " 2   CBSA     28236 non-null  int64\n",
      "dtypes: int64(3)\n",
      "memory usage: 882.4 KB\n"
     ]
    }
   ],
   "source": [
    "merged = pd.merge(unique, df, left_on='zipcode', right_on='ZCTA5')\n",
    "merged.info()"
   ]
  },
  {
   "cell_type": "markdown",
   "metadata": {},
   "source": [
    "##### Trim unnecessary columns"
   ]
  },
  {
   "cell_type": "code",
   "execution_count": 14,
   "metadata": {},
   "outputs": [],
   "source": [
    "merged = merged.drop('ZCTA5', axis=1)"
   ]
  },
  {
   "cell_type": "markdown",
   "metadata": {},
   "source": [
    "### Write Zip to CBSA DataFrame to File"
   ]
  },
  {
   "cell_type": "code",
   "execution_count": 16,
   "metadata": {},
   "outputs": [],
   "source": [
    "filename = '../../data/interim/zip-to-cbsa.csv'\n",
    "merged.to_csv(filename)"
   ]
  },
  {
   "cell_type": "code",
   "execution_count": null,
   "metadata": {},
   "outputs": [],
   "source": []
  }
 ],
 "metadata": {
  "kernelspec": {
   "display_name": "Python 3",
   "language": "python",
   "name": "python3"
  },
  "language_info": {
   "codemirror_mode": {
    "name": "ipython",
    "version": 3
   },
   "file_extension": ".py",
   "mimetype": "text/x-python",
   "name": "python",
   "nbconvert_exporter": "python",
   "pygments_lexer": "ipython3",
   "version": "3.8.3"
  }
 },
 "nbformat": 4,
 "nbformat_minor": 1
}
