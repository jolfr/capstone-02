{
 "cells": [
  {
   "cell_type": "code",
   "execution_count": 6,
   "metadata": {},
   "outputs": [],
   "source": [
    "import os\n",
    "import pandas as pd\n",
    "import numpy as np"
   ]
  },
  {
   "cell_type": "markdown",
   "metadata": {},
   "source": [
    "## Drop Undefined Zips"
   ]
  },
  {
   "cell_type": "markdown",
   "metadata": {},
   "source": [
    "### Read 2.0-output into DataFrame"
   ]
  },
  {
   "cell_type": "code",
   "execution_count": 7,
   "metadata": {},
   "outputs": [
    {
     "name": "stdout",
     "output_type": "stream",
     "text": [
      "<class 'pandas.core.frame.DataFrame'>\n",
      "RangeIndex: 944065 entries, 0 to 944064\n",
      "Data columns (total 11 columns):\n",
      " #   Column       Non-Null Count   Dtype  \n",
      "---  ------       --------------   -----  \n",
      " 0   year         944065 non-null  int64  \n",
      " 1   zipcode      944065 non-null  int64  \n",
      " 2   EQI_zip      824770 non-null  float64\n",
      " 3   SFR_zip      824770 non-null  float64\n",
      " 4   RECPI_zip    824770 non-null  float64\n",
      " 5   EQI_MSA      688518 non-null  float64\n",
      " 6   SFR_MSA      688518 non-null  float64\n",
      " 7   RECPI_MSA    688518 non-null  float64\n",
      " 8   EQI_state    944065 non-null  float64\n",
      " 9   SFR_state    944065 non-null  float64\n",
      " 10  RECPI_state  944065 non-null  float64\n",
      "dtypes: float64(9), int64(2)\n",
      "memory usage: 79.2 MB\n"
     ]
    }
   ],
   "source": [
    "filename = '../../data/interim/2.0-output.csv'\n",
    "df = pd.read_csv(filename)\n",
    "df.info()"
   ]
  },
  {
   "cell_type": "markdown",
   "metadata": {},
   "source": [
    "### Groupby zip and drop"
   ]
  },
  {
   "cell_type": "code",
   "execution_count": 8,
   "metadata": {},
   "outputs": [],
   "source": [
    "df = df.groupby(['zipcode']).filter(lambda g: g.isnull().sum().sum() < 1)"
   ]
  },
  {
   "cell_type": "code",
   "execution_count": 9,
   "metadata": {},
   "outputs": [
    {
     "name": "stdout",
     "output_type": "stream",
     "text": [
      "<class 'pandas.core.frame.DataFrame'>\n",
      "Int64Index: 337336 entries, 0 to 944049\n",
      "Data columns (total 11 columns):\n",
      " #   Column       Non-Null Count   Dtype  \n",
      "---  ------       --------------   -----  \n",
      " 0   year         337336 non-null  int64  \n",
      " 1   zipcode      337336 non-null  int64  \n",
      " 2   EQI_zip      337336 non-null  float64\n",
      " 3   SFR_zip      337336 non-null  float64\n",
      " 4   RECPI_zip    337336 non-null  float64\n",
      " 5   EQI_MSA      337336 non-null  float64\n",
      " 6   SFR_MSA      337336 non-null  float64\n",
      " 7   RECPI_MSA    337336 non-null  float64\n",
      " 8   EQI_state    337336 non-null  float64\n",
      " 9   SFR_state    337336 non-null  float64\n",
      " 10  RECPI_state  337336 non-null  float64\n",
      "dtypes: float64(9), int64(2)\n",
      "memory usage: 30.9 MB\n"
     ]
    }
   ],
   "source": [
    "df.info()"
   ]
  },
  {
   "cell_type": "markdown",
   "metadata": {},
   "source": [
    "### Output DataFrame to processed file"
   ]
  },
  {
   "cell_type": "code",
   "execution_count": 10,
   "metadata": {},
   "outputs": [],
   "source": [
    "filename = '../../data/processed/na-data-drop.csv'\n",
    "df.to_csv(filename, index=False)"
   ]
  },
  {
   "cell_type": "code",
   "execution_count": null,
   "metadata": {},
   "outputs": [],
   "source": []
  }
 ],
 "metadata": {
  "kernelspec": {
   "display_name": "Python 3",
   "language": "python",
   "name": "python3"
  },
  "language_info": {
   "codemirror_mode": {
    "name": "ipython",
    "version": 3
   },
   "file_extension": ".py",
   "mimetype": "text/x-python",
   "name": "python",
   "nbconvert_exporter": "python",
   "pygments_lexer": "ipython3",
   "version": "3.8.3"
  }
 },
 "nbformat": 4,
 "nbformat_minor": 1
}
