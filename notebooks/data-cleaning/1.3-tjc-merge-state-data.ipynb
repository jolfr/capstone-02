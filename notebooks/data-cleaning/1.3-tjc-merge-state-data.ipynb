{
 "cells": [
  {
   "cell_type": "code",
   "execution_count": 1,
   "metadata": {},
   "outputs": [],
   "source": [
    "import os\n",
    "import pandas as pd\n",
    "import numpy as np"
   ]
  },
  {
   "cell_type": "markdown",
   "metadata": {},
   "source": [
    "## Merge State Data to 1.2-output DataFrame"
   ]
  },
  {
   "cell_type": "markdown",
   "metadata": {},
   "source": [
    "### Load 1.2-output DataFrame"
   ]
  },
  {
   "cell_type": "code",
   "execution_count": 8,
   "metadata": {},
   "outputs": [
    {
     "name": "stdout",
     "output_type": "stream",
     "text": [
      "<class 'pandas.core.frame.DataFrame'>\n",
      "RangeIndex: 1109656 entries, 0 to 1109655\n",
      "Data columns (total 15 columns):\n",
      " #   Column      Non-Null Count    Dtype  \n",
      "---  ------      --------------    -----  \n",
      " 0   year        1109656 non-null  int64  \n",
      " 1   zipcode     1109656 non-null  int64  \n",
      " 2   MSA         688481 non-null   object \n",
      " 3   CBSA        688481 non-null   float64\n",
      " 4   state       944005 non-null   object \n",
      " 5   EQI_zip     824710 non-null   float64\n",
      " 6   SFR_zip     824710 non-null   float64\n",
      " 7   growth_zip  824710 non-null   float64\n",
      " 8   RECPI_zip   824710 non-null   float64\n",
      " 9   REAI_zip    703797 non-null   float64\n",
      " 10  EQI_MSA     688481 non-null   float64\n",
      " 11  SFR_MSA     688481 non-null   float64\n",
      " 12  growth_MSA  688481 non-null   float64\n",
      " 13  RECPI_MSA   688481 non-null   float64\n",
      " 14  REAI_MSA    595961 non-null   float64\n",
      "dtypes: float64(11), int64(2), object(2)\n",
      "memory usage: 127.0+ MB\n"
     ]
    }
   ],
   "source": [
    "filename = '../../data/interim/1.2-output.csv'\n",
    "df = pd.read_csv(filename)\n",
    "df.info()"
   ]
  },
  {
   "cell_type": "markdown",
   "metadata": {},
   "source": [
    "### Load State Data"
   ]
  },
  {
   "cell_type": "code",
   "execution_count": 9,
   "metadata": {},
   "outputs": [
    {
     "name": "stdout",
     "output_type": "stream",
     "text": [
      "<class 'pandas.core.frame.DataFrame'>\n",
      "RangeIndex: 1444 entries, 0 to 1443\n",
      "Data columns (total 7 columns):\n",
      " #   Column  Non-Null Count  Dtype  \n",
      "---  ------  --------------  -----  \n",
      " 0   year    1444 non-null   int64  \n",
      " 1   state   1444 non-null   object \n",
      " 2   EQI     1444 non-null   float64\n",
      " 3   SFR     1444 non-null   int64  \n",
      " 4   growth  1444 non-null   int64  \n",
      " 5   RECPI   1444 non-null   float64\n",
      " 6   REAI    1250 non-null   float64\n",
      "dtypes: float64(3), int64(3), object(1)\n",
      "memory usage: 79.1+ KB\n"
     ]
    }
   ],
   "source": [
    "filename = '../../data/external/state_data.tab'\n",
    "state = pd.read_csv(filename, sep='\\t', lineterminator='\\n')\n",
    "state.info()"
   ]
  },
  {
   "cell_type": "markdown",
   "metadata": {},
   "source": [
    "### Merge DataFrames"
   ]
  },
  {
   "cell_type": "code",
   "execution_count": 10,
   "metadata": {},
   "outputs": [
    {
     "name": "stdout",
     "output_type": "stream",
     "text": [
      "<class 'pandas.core.frame.DataFrame'>\n",
      "RangeIndex: 1109656 entries, 0 to 1109655\n",
      "Data columns (total 20 columns):\n",
      " #   Column      Non-Null Count    Dtype  \n",
      "---  ------      --------------    -----  \n",
      " 0   year        1109656 non-null  int64  \n",
      " 1   zipcode     1109656 non-null  int64  \n",
      " 2   MSA         688481 non-null   object \n",
      " 3   CBSA        688481 non-null   float64\n",
      " 4   state       944005 non-null   object \n",
      " 5   EQI_zip     824710 non-null   float64\n",
      " 6   SFR_zip     824710 non-null   float64\n",
      " 7   growth_zip  824710 non-null   float64\n",
      " 8   RECPI_zip   824710 non-null   float64\n",
      " 9   REAI_zip    703797 non-null   float64\n",
      " 10  EQI_MSA     688481 non-null   float64\n",
      " 11  SFR_MSA     688481 non-null   float64\n",
      " 12  growth_MSA  688481 non-null   float64\n",
      " 13  RECPI_MSA   688481 non-null   float64\n",
      " 14  REAI_MSA    595961 non-null   float64\n",
      " 15  EQI         944005 non-null   float64\n",
      " 16  SFR         944005 non-null   float64\n",
      " 17  growth      944005 non-null   float64\n",
      " 18  RECPI       944005 non-null   float64\n",
      " 19  REAI        812501 non-null   float64\n",
      "dtypes: float64(16), int64(2), object(2)\n",
      "memory usage: 169.3+ MB\n"
     ]
    }
   ],
   "source": [
    "df = df.join(state.set_index(['year', 'state']), on=['year', 'state'])\n",
    "df.info()"
   ]
  },
  {
   "cell_type": "code",
   "execution_count": 11,
   "metadata": {},
   "outputs": [
    {
     "name": "stdout",
     "output_type": "stream",
     "text": [
      "<class 'pandas.core.frame.DataFrame'>\n",
      "RangeIndex: 1109656 entries, 0 to 1109655\n",
      "Data columns (total 20 columns):\n",
      " #   Column        Non-Null Count    Dtype  \n",
      "---  ------        --------------    -----  \n",
      " 0   year          1109656 non-null  int64  \n",
      " 1   zipcode       1109656 non-null  int64  \n",
      " 2   MSA           688481 non-null   object \n",
      " 3   CBSA          688481 non-null   float64\n",
      " 4   state         944005 non-null   object \n",
      " 5   EQI_zip       824710 non-null   float64\n",
      " 6   SFR_zip       824710 non-null   float64\n",
      " 7   growth_zip    824710 non-null   float64\n",
      " 8   RECPI_zip     824710 non-null   float64\n",
      " 9   REAI_zip      703797 non-null   float64\n",
      " 10  EQI_MSA       688481 non-null   float64\n",
      " 11  SFR_MSA       688481 non-null   float64\n",
      " 12  growth_MSA    688481 non-null   float64\n",
      " 13  RECPI_MSA     688481 non-null   float64\n",
      " 14  REAI_MSA      595961 non-null   float64\n",
      " 15  EQI_state     944005 non-null   float64\n",
      " 16  SFR_state     944005 non-null   float64\n",
      " 17  growth_state  944005 non-null   float64\n",
      " 18  RECPI_state   944005 non-null   float64\n",
      " 19  REAI_state    812501 non-null   float64\n",
      "dtypes: float64(16), int64(2), object(2)\n",
      "memory usage: 169.3+ MB\n"
     ]
    }
   ],
   "source": [
    "df = df.rename({'EQI':'EQI_state', 'SFR':'SFR_state','growth':'growth_state','RECPI':'RECPI_state','REAI':'REAI_state'}, axis=1)\n",
    "df.info()"
   ]
  },
  {
   "cell_type": "markdown",
   "metadata": {},
   "source": [
    "### Output DataFrame to file"
   ]
  },
  {
   "cell_type": "code",
   "execution_count": 12,
   "metadata": {},
   "outputs": [],
   "source": [
    "filename = '../../data/interim/1.3-output.csv'\n",
    "df.to_csv(filename, index=False)"
   ]
  },
  {
   "cell_type": "code",
   "execution_count": null,
   "metadata": {},
   "outputs": [],
   "source": []
  }
 ],
 "metadata": {
  "kernelspec": {
   "display_name": "Python 3",
   "language": "python",
   "name": "python3"
  },
  "language_info": {
   "codemirror_mode": {
    "name": "ipython",
    "version": 3
   },
   "file_extension": ".py",
   "mimetype": "text/x-python",
   "name": "python",
   "nbconvert_exporter": "python",
   "pygments_lexer": "ipython3",
   "version": "3.8.3"
  }
 },
 "nbformat": 4,
 "nbformat_minor": 1
}
