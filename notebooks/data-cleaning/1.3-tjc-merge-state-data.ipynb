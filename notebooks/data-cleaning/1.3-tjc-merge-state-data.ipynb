{
 "cells": [
  {
   "cell_type": "code",
   "execution_count": 16,
   "metadata": {},
   "outputs": [],
   "source": [
    "import os\n",
    "import pandas as pd\n",
    "import numpy as np"
   ]
  },
  {
   "cell_type": "markdown",
   "metadata": {},
   "source": [
    "## Merge State Data to 1.2-output DataFrame"
   ]
  },
  {
   "cell_type": "markdown",
   "metadata": {},
   "source": [
    "### Load 1.2-output DataFrame"
   ]
  },
  {
   "cell_type": "code",
   "execution_count": 17,
   "metadata": {},
   "outputs": [
    {
     "name": "stdout",
     "output_type": "stream",
     "text": [
      "<class 'pandas.core.frame.DataFrame'>\n",
      "RangeIndex: 944065 entries, 0 to 944064\n",
      "Data columns (total 15 columns):\n",
      " #   Column      Non-Null Count   Dtype  \n",
      "---  ------      --------------   -----  \n",
      " 0   year        944065 non-null  int64  \n",
      " 1   zipcode     944065 non-null  int64  \n",
      " 2   MSA         688518 non-null  object \n",
      " 3   CBSA        688518 non-null  float64\n",
      " 4   state       944065 non-null  object \n",
      " 5   EQI_zip     824770 non-null  float64\n",
      " 6   SFR_zip     824770 non-null  float64\n",
      " 7   growth_zip  824770 non-null  float64\n",
      " 8   RECPI_zip   824770 non-null  float64\n",
      " 9   REAI_zip    703845 non-null  float64\n",
      " 10  EQI_MSA     688518 non-null  float64\n",
      " 11  SFR_MSA     688518 non-null  float64\n",
      " 12  growth_MSA  688518 non-null  float64\n",
      " 13  RECPI_MSA   688518 non-null  float64\n",
      " 14  REAI_MSA    595992 non-null  float64\n",
      "dtypes: float64(11), int64(2), object(2)\n",
      "memory usage: 108.0+ MB\n"
     ]
    }
   ],
   "source": [
    "filename = '../../data/interim/1.2-output.csv'\n",
    "df = pd.read_csv(filename)\n",
    "df.info()"
   ]
  },
  {
   "cell_type": "markdown",
   "metadata": {},
   "source": [
    "### Load State Data"
   ]
  },
  {
   "cell_type": "code",
   "execution_count": 18,
   "metadata": {},
   "outputs": [
    {
     "name": "stdout",
     "output_type": "stream",
     "text": [
      "<class 'pandas.core.frame.DataFrame'>\n",
      "RangeIndex: 1444 entries, 0 to 1443\n",
      "Data columns (total 7 columns):\n",
      " #   Column  Non-Null Count  Dtype  \n",
      "---  ------  --------------  -----  \n",
      " 0   year    1444 non-null   int64  \n",
      " 1   state   1444 non-null   object \n",
      " 2   EQI     1444 non-null   float64\n",
      " 3   SFR     1444 non-null   int64  \n",
      " 4   growth  1444 non-null   int64  \n",
      " 5   RECPI   1444 non-null   float64\n",
      " 6   REAI    1250 non-null   float64\n",
      "dtypes: float64(3), int64(3), object(1)\n",
      "memory usage: 79.1+ KB\n"
     ]
    }
   ],
   "source": [
    "filename = '../../data/external/state_data.tab'\n",
    "state = pd.read_csv(filename, sep='\\t', lineterminator='\\n')\n",
    "state.info()"
   ]
  },
  {
   "cell_type": "markdown",
   "metadata": {},
   "source": [
    "### Merge DataFrames"
   ]
  },
  {
   "cell_type": "code",
   "execution_count": 19,
   "metadata": {},
   "outputs": [
    {
     "name": "stdout",
     "output_type": "stream",
     "text": [
      "<class 'pandas.core.frame.DataFrame'>\n",
      "Int64Index: 944065 entries, 0 to 944064\n",
      "Data columns (total 20 columns):\n",
      " #   Column      Non-Null Count   Dtype  \n",
      "---  ------      --------------   -----  \n",
      " 0   year        944065 non-null  int64  \n",
      " 1   zipcode     944065 non-null  int64  \n",
      " 2   MSA         688518 non-null  object \n",
      " 3   CBSA        688518 non-null  float64\n",
      " 4   state       944065 non-null  object \n",
      " 5   EQI_zip     824770 non-null  float64\n",
      " 6   SFR_zip     824770 non-null  float64\n",
      " 7   growth_zip  824770 non-null  float64\n",
      " 8   RECPI_zip   824770 non-null  float64\n",
      " 9   REAI_zip    703845 non-null  float64\n",
      " 10  EQI_MSA     688518 non-null  float64\n",
      " 11  SFR_MSA     688518 non-null  float64\n",
      " 12  growth_MSA  688518 non-null  float64\n",
      " 13  RECPI_MSA   688518 non-null  float64\n",
      " 14  REAI_MSA    595992 non-null  float64\n",
      " 15  EQI         944065 non-null  float64\n",
      " 16  SFR         944065 non-null  int64  \n",
      " 17  growth      944065 non-null  int64  \n",
      " 18  RECPI       944065 non-null  float64\n",
      " 19  REAI        812549 non-null  float64\n",
      "dtypes: float64(14), int64(4), object(2)\n",
      "memory usage: 151.3+ MB\n"
     ]
    }
   ],
   "source": [
    "df = pd.merge(df, state, on=['year','state'])\n",
    "df.info()"
   ]
  },
  {
   "cell_type": "code",
   "execution_count": 20,
   "metadata": {},
   "outputs": [
    {
     "name": "stdout",
     "output_type": "stream",
     "text": [
      "<class 'pandas.core.frame.DataFrame'>\n",
      "Int64Index: 944065 entries, 0 to 944064\n",
      "Data columns (total 20 columns):\n",
      " #   Column        Non-Null Count   Dtype  \n",
      "---  ------        --------------   -----  \n",
      " 0   year          944065 non-null  int64  \n",
      " 1   zipcode       944065 non-null  int64  \n",
      " 2   MSA           688518 non-null  object \n",
      " 3   CBSA          688518 non-null  float64\n",
      " 4   state         944065 non-null  object \n",
      " 5   EQI_zip       824770 non-null  float64\n",
      " 6   SFR_zip       824770 non-null  float64\n",
      " 7   growth_zip    824770 non-null  float64\n",
      " 8   RECPI_zip     824770 non-null  float64\n",
      " 9   REAI_zip      703845 non-null  float64\n",
      " 10  EQI_MSA       688518 non-null  float64\n",
      " 11  SFR_MSA       688518 non-null  float64\n",
      " 12  growth_MSA    688518 non-null  float64\n",
      " 13  RECPI_MSA     688518 non-null  float64\n",
      " 14  REAI_MSA      595992 non-null  float64\n",
      " 15  EQI_state     944065 non-null  float64\n",
      " 16  SFR_state     944065 non-null  int64  \n",
      " 17  growth_state  944065 non-null  int64  \n",
      " 18  RECPI_state   944065 non-null  float64\n",
      " 19  REAI_state    812549 non-null  float64\n",
      "dtypes: float64(14), int64(4), object(2)\n",
      "memory usage: 151.3+ MB\n"
     ]
    }
   ],
   "source": [
    "df = df.rename({'EQI':'EQI_state', 'SFR':'SFR_state','growth':'growth_state','RECPI':'RECPI_state','REAI':'REAI_state'}, axis=1)\n",
    "df.info()"
   ]
  },
  {
   "cell_type": "markdown",
   "metadata": {},
   "source": [
    "### Output DataFrame to file"
   ]
  },
  {
   "cell_type": "code",
   "execution_count": 21,
   "metadata": {},
   "outputs": [],
   "source": [
    "filename = '../../data/interim/1.3-output.csv'\n",
    "df.to_csv(filename, index=False)"
   ]
  },
  {
   "cell_type": "code",
   "execution_count": null,
   "metadata": {},
   "outputs": [],
   "source": []
  }
 ],
 "metadata": {
  "kernelspec": {
   "display_name": "Python 3",
   "language": "python",
   "name": "python3"
  },
  "language_info": {
   "codemirror_mode": {
    "name": "ipython",
    "version": 3
   },
   "file_extension": ".py",
   "mimetype": "text/x-python",
   "name": "python",
   "nbconvert_exporter": "python",
   "pygments_lexer": "ipython3",
   "version": "3.8.3"
  }
 },
 "nbformat": 4,
 "nbformat_minor": 1
}