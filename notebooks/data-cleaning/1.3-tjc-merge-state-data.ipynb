{
 "cells": [
  {
   "cell_type": "code",
   "execution_count": 3,
   "metadata": {},
   "outputs": [],
   "source": [
    "import os\n",
    "import pandas as pd\n",
    "import numpy as np"
   ]
  },
  {
   "cell_type": "markdown",
   "metadata": {},
   "source": [
    "## Merge State Data to 1.2-output DataFrame"
   ]
  },
  {
   "cell_type": "markdown",
   "metadata": {},
   "source": [
    "### Load 1.2-output DataFrame"
   ]
  },
  {
   "cell_type": "code",
   "execution_count": 6,
   "metadata": {},
   "outputs": [
    {
     "name": "stdout",
     "output_type": "stream",
     "text": [
      "<class 'pandas.core.frame.DataFrame'>\n",
      "RangeIndex: 944065 entries, 0 to 944064\n",
      "Data columns (total 16 columns):\n",
      " #   Column      Non-Null Count   Dtype  \n",
      "---  ------      --------------   -----  \n",
      " 0   year        944065 non-null  int64  \n",
      " 1   zipcode     944065 non-null  int64  \n",
      " 2   MSA         688518 non-null  object \n",
      " 3   CBSA        688518 non-null  float64\n",
      " 4   state_zip   824770 non-null  object \n",
      " 5   state_MSA   688518 non-null  object \n",
      " 6   EQI_zip     824770 non-null  float64\n",
      " 7   SFR_zip     824770 non-null  float64\n",
      " 8   growth_zip  824770 non-null  float64\n",
      " 9   RECPI_zip   824770 non-null  float64\n",
      " 10  REAI_zip    703845 non-null  float64\n",
      " 11  EQI_MSA     688518 non-null  float64\n",
      " 12  SFR_MSA     688518 non-null  float64\n",
      " 13  growth_MSA  688518 non-null  float64\n",
      " 14  RECPI_MSA   688518 non-null  float64\n",
      " 15  REAI_MSA    595992 non-null  float64\n",
      "dtypes: float64(11), int64(2), object(3)\n",
      "memory usage: 115.2+ MB\n"
     ]
    }
   ],
   "source": [
    "filename = '../../data/interim/1.2-output.csv'\n",
    "df1 = pd.read_csv(filename)\n",
    "df1.info()"
   ]
  },
  {
   "cell_type": "markdown",
   "metadata": {},
   "source": [
    "### Duplicated DataFrame"
   ]
  },
  {
   "cell_type": "code",
   "execution_count": 7,
   "metadata": {},
   "outputs": [],
   "source": [
    "df2 = df.copy()"
   ]
  },
  {
   "cell_type": "markdown",
   "metadata": {},
   "source": [
    "### Load State Data"
   ]
  },
  {
   "cell_type": "code",
   "execution_count": null,
   "metadata": {},
   "outputs": [],
   "source": [
    "filename = '../../data/interim/1.2-output.csv'\n",
    "df1 = pd.read_csv(filename)\n",
    "df1.info()"
   ]
  }
 ],
 "metadata": {
  "kernelspec": {
   "display_name": "Python 3",
   "language": "python",
   "name": "python3"
  },
  "language_info": {
   "codemirror_mode": {
    "name": "ipython",
    "version": 3
   },
   "file_extension": ".py",
   "mimetype": "text/x-python",
   "name": "python",
   "nbconvert_exporter": "python",
   "pygments_lexer": "ipython3",
   "version": "3.8.3"
  }
 },
 "nbformat": 4,
 "nbformat_minor": 1
}
