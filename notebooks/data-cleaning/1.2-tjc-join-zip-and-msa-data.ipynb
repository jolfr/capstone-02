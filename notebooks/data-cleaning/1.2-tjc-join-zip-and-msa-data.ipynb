{
 "cells": [
  {
   "cell_type": "code",
   "execution_count": 18,
   "metadata": {},
   "outputs": [],
   "source": [
    "import os\n",
    "import pandas as pd\n",
    "import numpy as np"
   ]
  },
  {
   "cell_type": "markdown",
   "metadata": {},
   "source": [
    "## Join Zip and MSA Data"
   ]
  },
  {
   "cell_type": "markdown",
   "metadata": {},
   "source": [
    "### Load Zip data into DataFrame"
   ]
  },
  {
   "cell_type": "code",
   "execution_count": 19,
   "metadata": {},
   "outputs": [
    {
     "name": "stdout",
     "output_type": "stream",
     "text": [
      "<class 'pandas.core.frame.DataFrame'>\n",
      "RangeIndex: 824770 entries, 0 to 824769\n",
      "Data columns (total 8 columns):\n",
      " #   Column   Non-Null Count   Dtype  \n",
      "---  ------   --------------   -----  \n",
      " 0   zipcode  824770 non-null  int64  \n",
      " 1   year     824770 non-null  int64  \n",
      " 2   state    824770 non-null  object \n",
      " 3   EQI      824770 non-null  float64\n",
      " 4   SFR      824770 non-null  int64  \n",
      " 5   growth   824770 non-null  int64  \n",
      " 6   RECPI    824770 non-null  float64\n",
      " 7   REAI     703845 non-null  float64\n",
      "dtypes: float64(3), int64(4), object(1)\n",
      "memory usage: 50.3+ MB\n"
     ]
    }
   ],
   "source": [
    "filename = '../../data/external/zip_data.tab'\n",
    "df = pd.read_csv(filename, sep='\\t', lineterminator='\\n')\n",
    "df.info()"
   ]
  },
  {
   "cell_type": "markdown",
   "metadata": {},
   "source": [
    "##### Reindex zip data by zipcode and year"
   ]
  },
  {
   "cell_type": "code",
   "execution_count": 20,
   "metadata": {},
   "outputs": [
    {
     "name": "stdout",
     "output_type": "stream",
     "text": [
      "<class 'pandas.core.frame.DataFrame'>\n",
      "MultiIndex: 824770 entries, (1001, 1988) to (99929, 2016)\n",
      "Data columns (total 6 columns):\n",
      " #   Column  Non-Null Count   Dtype  \n",
      "---  ------  --------------   -----  \n",
      " 0   state   824770 non-null  object \n",
      " 1   EQI     824770 non-null  float64\n",
      " 2   SFR     824770 non-null  int64  \n",
      " 3   growth  824770 non-null  int64  \n",
      " 4   RECPI   824770 non-null  float64\n",
      " 5   REAI    703845 non-null  float64\n",
      "dtypes: float64(3), int64(2), object(1)\n",
      "memory usage: 42.0+ MB\n"
     ]
    }
   ],
   "source": [
    "df = df.set_index(['zipcode', 'year'])\n",
    "df.info()"
   ]
  },
  {
   "cell_type": "markdown",
   "metadata": {},
   "source": [
    "### Load MSA data into DataFrame"
   ]
  },
  {
   "cell_type": "code",
   "execution_count": 21,
   "metadata": {},
   "outputs": [
    {
     "name": "stdout",
     "output_type": "stream",
     "text": [
      "<class 'pandas.core.frame.DataFrame'>\n",
      "RangeIndex: 688481 entries, 0 to 688480\n",
      "Data columns (total 10 columns):\n",
      " #   Column   Non-Null Count   Dtype  \n",
      "---  ------   --------------   -----  \n",
      " 0   zipcode  688481 non-null  int64  \n",
      " 1   CBSA     688481 non-null  int64  \n",
      " 2   MSA      688481 non-null  object \n",
      " 3   state    688481 non-null  object \n",
      " 4   year     688481 non-null  int64  \n",
      " 5   growth   688481 non-null  int64  \n",
      " 6   SFR      688481 non-null  int64  \n",
      " 7   EQI      688481 non-null  float64\n",
      " 8   RECPI    688481 non-null  float64\n",
      " 9   REAI     595961 non-null  float64\n",
      "dtypes: float64(3), int64(5), object(2)\n",
      "memory usage: 52.5+ MB\n"
     ]
    }
   ],
   "source": [
    "filename = '../../data/interim/msa-data-with-zipcode.csv'\n",
    "msa = pd.read_csv(filename)\n",
    "msa.info()"
   ]
  },
  {
   "cell_type": "markdown",
   "metadata": {},
   "source": [
    "##### Reindex MSA data by zipcode and year"
   ]
  },
  {
   "cell_type": "code",
   "execution_count": 22,
   "metadata": {},
   "outputs": [
    {
     "name": "stdout",
     "output_type": "stream",
     "text": [
      "<class 'pandas.core.frame.DataFrame'>\n",
      "MultiIndex: 688481 entries, (1001, 1988) to (57031, 1991)\n",
      "Data columns (total 8 columns):\n",
      " #   Column  Non-Null Count   Dtype  \n",
      "---  ------  --------------   -----  \n",
      " 0   CBSA    688481 non-null  int64  \n",
      " 1   MSA     688481 non-null  object \n",
      " 2   state   688481 non-null  object \n",
      " 3   growth  688481 non-null  int64  \n",
      " 4   SFR     688481 non-null  int64  \n",
      " 5   EQI     688481 non-null  float64\n",
      " 6   RECPI   688481 non-null  float64\n",
      " 7   REAI    595961 non-null  float64\n",
      "dtypes: float64(3), int64(3), object(2)\n",
      "memory usage: 44.2+ MB\n"
     ]
    }
   ],
   "source": [
    "msa = msa.set_index(['zipcode', 'year'])\n",
    "msa.info()"
   ]
  },
  {
   "cell_type": "markdown",
   "metadata": {},
   "source": [
    "### Join DataFrames"
   ]
  },
  {
   "cell_type": "code",
   "execution_count": 23,
   "metadata": {},
   "outputs": [
    {
     "name": "stdout",
     "output_type": "stream",
     "text": [
      "<class 'pandas.core.frame.DataFrame'>\n",
      "MultiIndex: 944065 entries, (1001, 1988) to (57031, 1991)\n",
      "Data columns (total 14 columns):\n",
      " #   Column      Non-Null Count   Dtype  \n",
      "---  ------      --------------   -----  \n",
      " 0   state_zip   824770 non-null  object \n",
      " 1   EQI_zip     824770 non-null  float64\n",
      " 2   SFR_zip     824770 non-null  float64\n",
      " 3   growth_zip  824770 non-null  float64\n",
      " 4   RECPI_zip   824770 non-null  float64\n",
      " 5   REAI_zip    703845 non-null  float64\n",
      " 6   CBSA        688518 non-null  float64\n",
      " 7   MSA         688518 non-null  object \n",
      " 8   state_MSA   688518 non-null  object \n",
      " 9   growth_MSA  688518 non-null  float64\n",
      " 10  SFR_MSA     688518 non-null  float64\n",
      " 11  EQI_MSA     688518 non-null  float64\n",
      " 12  RECPI_MSA   688518 non-null  float64\n",
      " 13  REAI_MSA    595992 non-null  float64\n",
      "dtypes: float64(11), object(3)\n",
      "memory usage: 105.6+ MB\n"
     ]
    }
   ],
   "source": [
    "df = df.join(msa, on=['zipcode', 'year'], lsuffix='_zip', rsuffix='_MSA', how='outer')\n",
    "df.info()"
   ]
  },
  {
   "cell_type": "markdown",
   "metadata": {},
   "source": [
    "### Clean DataFrame"
   ]
  },
  {
   "cell_type": "markdown",
   "metadata": {},
   "source": [
    "##### Reset Index"
   ]
  },
  {
   "cell_type": "code",
   "execution_count": 24,
   "metadata": {},
   "outputs": [
    {
     "name": "stdout",
     "output_type": "stream",
     "text": [
      "<class 'pandas.core.frame.DataFrame'>\n",
      "RangeIndex: 944065 entries, 0 to 944064\n",
      "Data columns (total 16 columns):\n",
      " #   Column      Non-Null Count   Dtype  \n",
      "---  ------      --------------   -----  \n",
      " 0   zipcode     944065 non-null  int64  \n",
      " 1   year        944065 non-null  int64  \n",
      " 2   state_zip   824770 non-null  object \n",
      " 3   EQI_zip     824770 non-null  float64\n",
      " 4   SFR_zip     824770 non-null  float64\n",
      " 5   growth_zip  824770 non-null  float64\n",
      " 6   RECPI_zip   824770 non-null  float64\n",
      " 7   REAI_zip    703845 non-null  float64\n",
      " 8   CBSA        688518 non-null  float64\n",
      " 9   MSA         688518 non-null  object \n",
      " 10  state_MSA   688518 non-null  object \n",
      " 11  growth_MSA  688518 non-null  float64\n",
      " 12  SFR_MSA     688518 non-null  float64\n",
      " 13  EQI_MSA     688518 non-null  float64\n",
      " 14  RECPI_MSA   688518 non-null  float64\n",
      " 15  REAI_MSA    595992 non-null  float64\n",
      "dtypes: float64(11), int64(2), object(3)\n",
      "memory usage: 115.2+ MB\n"
     ]
    }
   ],
   "source": [
    "df = df.reset_index()\n",
    "df.info()"
   ]
  },
  {
   "cell_type": "markdown",
   "metadata": {},
   "source": [
    "##### Reorder columns"
   ]
  },
  {
   "cell_type": "code",
   "execution_count": 25,
   "metadata": {},
   "outputs": [
    {
     "name": "stdout",
     "output_type": "stream",
     "text": [
      "<class 'pandas.core.frame.DataFrame'>\n",
      "RangeIndex: 944065 entries, 0 to 944064\n",
      "Data columns (total 16 columns):\n",
      " #   Column      Non-Null Count   Dtype  \n",
      "---  ------      --------------   -----  \n",
      " 0   year        944065 non-null  int64  \n",
      " 1   zipcode     944065 non-null  int64  \n",
      " 2   MSA         688518 non-null  object \n",
      " 3   CBSA        688518 non-null  float64\n",
      " 4   state_zip   824770 non-null  object \n",
      " 5   state_MSA   688518 non-null  object \n",
      " 6   EQI_zip     824770 non-null  float64\n",
      " 7   SFR_zip     824770 non-null  float64\n",
      " 8   growth_zip  824770 non-null  float64\n",
      " 9   RECPI_zip   824770 non-null  float64\n",
      " 10  REAI_zip    703845 non-null  float64\n",
      " 11  EQI_MSA     688518 non-null  float64\n",
      " 12  SFR_MSA     688518 non-null  float64\n",
      " 13  growth_MSA  688518 non-null  float64\n",
      " 14  RECPI_MSA   688518 non-null  float64\n",
      " 15  REAI_MSA    595992 non-null  float64\n",
      "dtypes: float64(11), int64(2), object(3)\n",
      "memory usage: 115.2+ MB\n"
     ]
    }
   ],
   "source": [
    "df = df[['year','zipcode','MSA','CBSA','state_zip','state_MSA','EQI_zip','SFR_zip','growth_zip','RECPI_zip','REAI_zip','EQI_MSA','SFR_MSA','growth_MSA','RECPI_MSA','REAI_MSA']]\n",
    "df.info()"
   ]
  },
  {
   "cell_type": "markdown",
   "metadata": {},
   "source": [
    "### Output DataFrame to file"
   ]
  },
  {
   "cell_type": "code",
   "execution_count": 26,
   "metadata": {},
   "outputs": [],
   "source": [
    "filename = '../../data/interim/1.2-output.csv'\n",
    "df.to_csv(filename, index=False)"
   ]
  },
  {
   "cell_type": "code",
   "execution_count": null,
   "metadata": {},
   "outputs": [],
   "source": []
  }
 ],
 "metadata": {
  "kernelspec": {
   "display_name": "Python 3",
   "language": "python",
   "name": "python3"
  },
  "language_info": {
   "codemirror_mode": {
    "name": "ipython",
    "version": 3
   },
   "file_extension": ".py",
   "mimetype": "text/x-python",
   "name": "python",
   "nbconvert_exporter": "python",
   "pygments_lexer": "ipython3",
   "version": "3.8.3"
  }
 },
 "nbformat": 4,
 "nbformat_minor": 1
}
