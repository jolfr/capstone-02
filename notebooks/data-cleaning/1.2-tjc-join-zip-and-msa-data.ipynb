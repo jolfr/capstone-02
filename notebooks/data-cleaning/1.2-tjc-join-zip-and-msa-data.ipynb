{
 "cells": [
  {
   "cell_type": "code",
   "execution_count": 1,
   "metadata": {},
   "outputs": [],
   "source": [
    "import os\n",
    "import pandas as pd\n",
    "import numpy as np"
   ]
  },
  {
   "cell_type": "markdown",
   "metadata": {},
   "source": [
    "## Join Zip and MSA Data"
   ]
  },
  {
   "cell_type": "markdown",
   "metadata": {},
   "source": [
    "### Load Shaped Zip data into DataFrame"
   ]
  },
  {
   "cell_type": "code",
   "execution_count": 2,
   "metadata": {},
   "outputs": [
    {
     "name": "stdout",
     "output_type": "stream",
     "text": [
      "<class 'pandas.core.frame.DataFrame'>\n",
      "RangeIndex: 1109656 entries, 0 to 1109655\n",
      "Data columns (total 8 columns):\n",
      " #   Column   Non-Null Count    Dtype  \n",
      "---  ------   --------------    -----  \n",
      " 0   year     1109656 non-null  int64  \n",
      " 1   zipcode  1109656 non-null  int64  \n",
      " 2   state    824710 non-null   object \n",
      " 3   EQI      824710 non-null   float64\n",
      " 4   SFR      824710 non-null   float64\n",
      " 5   growth   824710 non-null   float64\n",
      " 6   RECPI    824710 non-null   float64\n",
      " 7   REAI     703797 non-null   float64\n",
      "dtypes: float64(5), int64(2), object(1)\n",
      "memory usage: 67.7+ MB\n"
     ]
    }
   ],
   "source": [
    "filename = '../../data/interim/shaped_zip.csv'\n",
    "df = pd.read_csv(filename)\n",
    "df.info()"
   ]
  },
  {
   "cell_type": "markdown",
   "metadata": {},
   "source": [
    "##### Reindex zip data by zipcode and year"
   ]
  },
  {
   "cell_type": "code",
   "execution_count": 3,
   "metadata": {},
   "outputs": [
    {
     "name": "stdout",
     "output_type": "stream",
     "text": [
      "<class 'pandas.core.frame.DataFrame'>\n",
      "MultiIndex: 1109656 entries, (1001, 1988) to (99626, 2016)\n",
      "Data columns (total 6 columns):\n",
      " #   Column  Non-Null Count   Dtype  \n",
      "---  ------  --------------   -----  \n",
      " 0   state   824710 non-null  object \n",
      " 1   EQI     824710 non-null  float64\n",
      " 2   SFR     824710 non-null  float64\n",
      " 3   growth  824710 non-null  float64\n",
      " 4   RECPI   824710 non-null  float64\n",
      " 5   REAI    703797 non-null  float64\n",
      "dtypes: float64(5), object(1)\n",
      "memory usage: 56.4+ MB\n"
     ]
    }
   ],
   "source": [
    "df = df.set_index(['zipcode', 'year'])\n",
    "df.info()"
   ]
  },
  {
   "cell_type": "markdown",
   "metadata": {},
   "source": [
    "### Load MSA data into DataFrame"
   ]
  },
  {
   "cell_type": "code",
   "execution_count": 4,
   "metadata": {},
   "outputs": [
    {
     "name": "stdout",
     "output_type": "stream",
     "text": [
      "<class 'pandas.core.frame.DataFrame'>\n",
      "RangeIndex: 688481 entries, 0 to 688480\n",
      "Data columns (total 10 columns):\n",
      " #   Column   Non-Null Count   Dtype  \n",
      "---  ------   --------------   -----  \n",
      " 0   zipcode  688481 non-null  int64  \n",
      " 1   CBSA     688481 non-null  int64  \n",
      " 2   MSA      688481 non-null  object \n",
      " 3   state    688481 non-null  object \n",
      " 4   year     688481 non-null  int64  \n",
      " 5   growth   688481 non-null  int64  \n",
      " 6   SFR      688481 non-null  int64  \n",
      " 7   EQI      688481 non-null  float64\n",
      " 8   RECPI    688481 non-null  float64\n",
      " 9   REAI     595961 non-null  float64\n",
      "dtypes: float64(3), int64(5), object(2)\n",
      "memory usage: 52.5+ MB\n"
     ]
    }
   ],
   "source": [
    "filename = '../../data/interim/msa-data-with-zipcode.csv'\n",
    "msa = pd.read_csv(filename)\n",
    "msa.info()"
   ]
  },
  {
   "cell_type": "markdown",
   "metadata": {},
   "source": [
    "##### Reindex MSA data by zipcode and year"
   ]
  },
  {
   "cell_type": "code",
   "execution_count": 5,
   "metadata": {},
   "outputs": [
    {
     "name": "stdout",
     "output_type": "stream",
     "text": [
      "<class 'pandas.core.frame.DataFrame'>\n",
      "MultiIndex: 688481 entries, (1001, 1988) to (57031, 1991)\n",
      "Data columns (total 8 columns):\n",
      " #   Column  Non-Null Count   Dtype  \n",
      "---  ------  --------------   -----  \n",
      " 0   CBSA    688481 non-null  int64  \n",
      " 1   MSA     688481 non-null  object \n",
      " 2   state   688481 non-null  object \n",
      " 3   growth  688481 non-null  int64  \n",
      " 4   SFR     688481 non-null  int64  \n",
      " 5   EQI     688481 non-null  float64\n",
      " 6   RECPI   688481 non-null  float64\n",
      " 7   REAI    595961 non-null  float64\n",
      "dtypes: float64(3), int64(3), object(2)\n",
      "memory usage: 44.2+ MB\n"
     ]
    }
   ],
   "source": [
    "msa = msa.set_index(['zipcode', 'year'])\n",
    "msa.info()"
   ]
  },
  {
   "cell_type": "markdown",
   "metadata": {},
   "source": [
    "### Join DataFrames"
   ]
  },
  {
   "cell_type": "code",
   "execution_count": 6,
   "metadata": {},
   "outputs": [
    {
     "name": "stdout",
     "output_type": "stream",
     "text": [
      "<class 'pandas.core.frame.DataFrame'>\n",
      "MultiIndex: 1109656 entries, (1001, 1988) to (99626, 2016)\n",
      "Data columns (total 14 columns):\n",
      " #   Column      Non-Null Count   Dtype  \n",
      "---  ------      --------------   -----  \n",
      " 0   state_zip   824710 non-null  object \n",
      " 1   EQI_zip     824710 non-null  float64\n",
      " 2   SFR_zip     824710 non-null  float64\n",
      " 3   growth_zip  824710 non-null  float64\n",
      " 4   RECPI_zip   824710 non-null  float64\n",
      " 5   REAI_zip    703797 non-null  float64\n",
      " 6   CBSA        688481 non-null  float64\n",
      " 7   MSA         688481 non-null  object \n",
      " 8   state_MSA   688481 non-null  object \n",
      " 9   growth_MSA  688481 non-null  float64\n",
      " 10  SFR_MSA     688481 non-null  float64\n",
      " 11  EQI_MSA     688481 non-null  float64\n",
      " 12  RECPI_MSA   688481 non-null  float64\n",
      " 13  REAI_MSA    595961 non-null  float64\n",
      "dtypes: float64(11), object(3)\n",
      "memory usage: 124.1+ MB\n"
     ]
    }
   ],
   "source": [
    "df = df.join(msa, on=['zipcode', 'year'], lsuffix='_zip', rsuffix='_MSA', how='outer')\n",
    "df.info()"
   ]
  },
  {
   "cell_type": "markdown",
   "metadata": {},
   "source": [
    "### Clean DataFrame"
   ]
  },
  {
   "cell_type": "markdown",
   "metadata": {},
   "source": [
    "##### Reset Index"
   ]
  },
  {
   "cell_type": "code",
   "execution_count": 7,
   "metadata": {},
   "outputs": [
    {
     "name": "stdout",
     "output_type": "stream",
     "text": [
      "<class 'pandas.core.frame.DataFrame'>\n",
      "RangeIndex: 1109656 entries, 0 to 1109655\n",
      "Data columns (total 16 columns):\n",
      " #   Column      Non-Null Count    Dtype  \n",
      "---  ------      --------------    -----  \n",
      " 0   zipcode     1109656 non-null  int64  \n",
      " 1   year        1109656 non-null  int64  \n",
      " 2   state_zip   824710 non-null   object \n",
      " 3   EQI_zip     824710 non-null   float64\n",
      " 4   SFR_zip     824710 non-null   float64\n",
      " 5   growth_zip  824710 non-null   float64\n",
      " 6   RECPI_zip   824710 non-null   float64\n",
      " 7   REAI_zip    703797 non-null   float64\n",
      " 8   CBSA        688481 non-null   float64\n",
      " 9   MSA         688481 non-null   object \n",
      " 10  state_MSA   688481 non-null   object \n",
      " 11  growth_MSA  688481 non-null   float64\n",
      " 12  SFR_MSA     688481 non-null   float64\n",
      " 13  EQI_MSA     688481 non-null   float64\n",
      " 14  RECPI_MSA   688481 non-null   float64\n",
      " 15  REAI_MSA    595961 non-null   float64\n",
      "dtypes: float64(11), int64(2), object(3)\n",
      "memory usage: 135.5+ MB\n"
     ]
    }
   ],
   "source": [
    "df = df.reset_index()\n",
    "df.info()"
   ]
  },
  {
   "cell_type": "markdown",
   "metadata": {},
   "source": [
    "##### Extract state columns and combine"
   ]
  },
  {
   "cell_type": "code",
   "execution_count": 8,
   "metadata": {},
   "outputs": [],
   "source": [
    "state_zip = df[['state_zip']]\n",
    "state_zip.columns = ['state']"
   ]
  },
  {
   "cell_type": "code",
   "execution_count": 9,
   "metadata": {},
   "outputs": [],
   "source": [
    "state_MSA = df[['state_MSA']]\n",
    "state_MSA.columns = ['state']"
   ]
  },
  {
   "cell_type": "code",
   "execution_count": 10,
   "metadata": {},
   "outputs": [
    {
     "name": "stdout",
     "output_type": "stream",
     "text": [
      "<class 'pandas.core.frame.DataFrame'>\n",
      "RangeIndex: 1109656 entries, 0 to 1109655\n",
      "Data columns (total 1 columns):\n",
      " #   Column  Non-Null Count   Dtype \n",
      "---  ------  --------------   ----- \n",
      " 0   state   944005 non-null  object\n",
      "dtypes: object(1)\n",
      "memory usage: 8.5+ MB\n"
     ]
    }
   ],
   "source": [
    "state = state_zip.combine_first(state_MSA)\n",
    "state.info()"
   ]
  },
  {
   "cell_type": "markdown",
   "metadata": {},
   "source": [
    "##### Reinsert state column"
   ]
  },
  {
   "cell_type": "code",
   "execution_count": 11,
   "metadata": {},
   "outputs": [
    {
     "name": "stdout",
     "output_type": "stream",
     "text": [
      "<class 'pandas.core.frame.DataFrame'>\n",
      "RangeIndex: 1109656 entries, 0 to 1109655\n",
      "Data columns (total 17 columns):\n",
      " #   Column      Non-Null Count    Dtype  \n",
      "---  ------      --------------    -----  \n",
      " 0   zipcode     1109656 non-null  int64  \n",
      " 1   year        1109656 non-null  int64  \n",
      " 2   state_zip   824710 non-null   object \n",
      " 3   EQI_zip     824710 non-null   float64\n",
      " 4   SFR_zip     824710 non-null   float64\n",
      " 5   growth_zip  824710 non-null   float64\n",
      " 6   RECPI_zip   824710 non-null   float64\n",
      " 7   REAI_zip    703797 non-null   float64\n",
      " 8   CBSA        688481 non-null   float64\n",
      " 9   MSA         688481 non-null   object \n",
      " 10  state_MSA   688481 non-null   object \n",
      " 11  growth_MSA  688481 non-null   float64\n",
      " 12  SFR_MSA     688481 non-null   float64\n",
      " 13  EQI_MSA     688481 non-null   float64\n",
      " 14  RECPI_MSA   688481 non-null   float64\n",
      " 15  REAI_MSA    595961 non-null   float64\n",
      " 16  state       944005 non-null   object \n",
      "dtypes: float64(11), int64(2), object(4)\n",
      "memory usage: 143.9+ MB\n"
     ]
    }
   ],
   "source": [
    "df = df.join(state)\n",
    "df.info()"
   ]
  },
  {
   "cell_type": "markdown",
   "metadata": {},
   "source": [
    "##### Drop unnecessary columns"
   ]
  },
  {
   "cell_type": "code",
   "execution_count": 12,
   "metadata": {},
   "outputs": [],
   "source": [
    "df = df.drop(['state_zip','state_MSA'], axis=1)"
   ]
  },
  {
   "cell_type": "markdown",
   "metadata": {},
   "source": [
    "##### Reorder columns"
   ]
  },
  {
   "cell_type": "code",
   "execution_count": 13,
   "metadata": {},
   "outputs": [
    {
     "name": "stdout",
     "output_type": "stream",
     "text": [
      "<class 'pandas.core.frame.DataFrame'>\n",
      "RangeIndex: 1109656 entries, 0 to 1109655\n",
      "Data columns (total 15 columns):\n",
      " #   Column      Non-Null Count    Dtype  \n",
      "---  ------      --------------    -----  \n",
      " 0   year        1109656 non-null  int64  \n",
      " 1   zipcode     1109656 non-null  int64  \n",
      " 2   MSA         688481 non-null   object \n",
      " 3   CBSA        688481 non-null   float64\n",
      " 4   state       944005 non-null   object \n",
      " 5   EQI_zip     824710 non-null   float64\n",
      " 6   SFR_zip     824710 non-null   float64\n",
      " 7   growth_zip  824710 non-null   float64\n",
      " 8   RECPI_zip   824710 non-null   float64\n",
      " 9   REAI_zip    703797 non-null   float64\n",
      " 10  EQI_MSA     688481 non-null   float64\n",
      " 11  SFR_MSA     688481 non-null   float64\n",
      " 12  growth_MSA  688481 non-null   float64\n",
      " 13  RECPI_MSA   688481 non-null   float64\n",
      " 14  REAI_MSA    595961 non-null   float64\n",
      "dtypes: float64(11), int64(2), object(2)\n",
      "memory usage: 127.0+ MB\n"
     ]
    }
   ],
   "source": [
    "df = df[['year','zipcode','MSA','CBSA','state','EQI_zip','SFR_zip','growth_zip','RECPI_zip','REAI_zip','EQI_MSA','SFR_MSA','growth_MSA','RECPI_MSA','REAI_MSA']]\n",
    "df.info()"
   ]
  },
  {
   "cell_type": "markdown",
   "metadata": {},
   "source": [
    "### Output DataFrame to file"
   ]
  },
  {
   "cell_type": "code",
   "execution_count": 14,
   "metadata": {},
   "outputs": [],
   "source": [
    "filename = '../../data/interim/1.2-output.csv'\n",
    "df.to_csv(filename, index=False)"
   ]
  },
  {
   "cell_type": "code",
   "execution_count": null,
   "metadata": {},
   "outputs": [],
   "source": []
  }
 ],
 "metadata": {
  "kernelspec": {
   "display_name": "Python 3",
   "language": "python",
   "name": "python3"
  },
  "language_info": {
   "codemirror_mode": {
    "name": "ipython",
    "version": 3
   },
   "file_extension": ".py",
   "mimetype": "text/x-python",
   "name": "python",
   "nbconvert_exporter": "python",
   "pygments_lexer": "ipython3",
   "version": "3.8.3"
  }
 },
 "nbformat": 4,
 "nbformat_minor": 1
}
