{
 "cells": [
  {
   "cell_type": "code",
   "execution_count": 1,
   "metadata": {},
   "outputs": [],
   "source": [
    "%load_ext autoreload\n",
    "%autoreload 2"
   ]
  },
  {
   "cell_type": "code",
   "execution_count": 2,
   "metadata": {},
   "outputs": [],
   "source": [
    "import os\n",
    "import pandas as pd\n",
    "import numpy as np\n",
    "from src.data.shape_data import fill_years"
   ]
  },
  {
   "cell_type": "markdown",
   "metadata": {},
   "source": [
    "## Interpolate Undefined Values by Zip\n",
    "This notebook groups the data by zipcode and then performs linear interpolation on each column to fill in undefined values."
   ]
  },
  {
   "cell_type": "code",
   "execution_count": 43,
   "metadata": {},
   "outputs": [
    {
     "name": "stdout",
     "output_type": "stream",
     "text": [
      "<class 'pandas.core.frame.DataFrame'>\n",
      "RangeIndex: 944065 entries, 0 to 944064\n",
      "Data columns (total 11 columns):\n",
      " #   Column       Non-Null Count   Dtype  \n",
      "---  ------       --------------   -----  \n",
      " 0   year         944065 non-null  int64  \n",
      " 1   zipcode      944065 non-null  int64  \n",
      " 2   EQI_zip      824770 non-null  float64\n",
      " 3   SFR_zip      824770 non-null  float64\n",
      " 4   RECPI_zip    824770 non-null  float64\n",
      " 5   EQI_MSA      688518 non-null  float64\n",
      " 6   SFR_MSA      688518 non-null  float64\n",
      " 7   RECPI_MSA    688518 non-null  float64\n",
      " 8   EQI_state    944065 non-null  float64\n",
      " 9   SFR_state    944065 non-null  float64\n",
      " 10  RECPI_state  944065 non-null  float64\n",
      "dtypes: float64(9), int64(2)\n",
      "memory usage: 79.2 MB\n"
     ]
    }
   ],
   "source": [
    "filename = '../../data/interim/2.0-output.csv'\n",
    "df = pd.read_csv(filename)\n",
    "df.info()"
   ]
  },
  {
   "cell_type": "code",
   "execution_count": null,
   "metadata": {},
   "outputs": [],
   "source": []
  }
 ],
 "metadata": {
  "kernelspec": {
   "display_name": "Python 3",
   "language": "python",
   "name": "python3"
  },
  "language_info": {
   "codemirror_mode": {
    "name": "ipython",
    "version": 3
   },
   "file_extension": ".py",
   "mimetype": "text/x-python",
   "name": "python",
   "nbconvert_exporter": "python",
   "pygments_lexer": "ipython3",
   "version": "3.8.3"
  }
 },
 "nbformat": 4,
 "nbformat_minor": 1
}
