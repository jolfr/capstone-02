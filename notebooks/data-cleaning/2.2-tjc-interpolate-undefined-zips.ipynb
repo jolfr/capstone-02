{
 "cells": [
  {
   "cell_type": "code",
   "execution_count": 1,
   "metadata": {},
   "outputs": [],
   "source": [
    "%load_ext autoreload\n",
    "%autoreload 2"
   ]
  },
  {
   "cell_type": "code",
   "execution_count": 3,
   "metadata": {},
   "outputs": [],
   "source": [
    "import os\n",
    "import pandas as pd\n",
    "import numpy as np"
   ]
  },
  {
   "cell_type": "markdown",
   "metadata": {},
   "source": [
    "## Interpolate Undefined Values by Zip\n",
    "This notebook groups the data by zipcode and then performs linear interpolation on each column to fill in undefined values."
   ]
  },
  {
   "cell_type": "code",
   "execution_count": 38,
   "metadata": {},
   "outputs": [
    {
     "name": "stdout",
     "output_type": "stream",
     "text": [
      "<class 'pandas.core.frame.DataFrame'>\n",
      "RangeIndex: 1109656 entries, 0 to 1109655\n",
      "Data columns (total 11 columns):\n",
      " #   Column       Non-Null Count    Dtype  \n",
      "---  ------       --------------    -----  \n",
      " 0   year         1109656 non-null  int64  \n",
      " 1   zipcode      1109656 non-null  int64  \n",
      " 2   EQI_zip      824710 non-null   float64\n",
      " 3   SFR_zip      824710 non-null   float64\n",
      " 4   RECPI_zip    824710 non-null   float64\n",
      " 5   EQI_MSA      688481 non-null   float64\n",
      " 6   SFR_MSA      688481 non-null   float64\n",
      " 7   RECPI_MSA    688481 non-null   float64\n",
      " 8   EQI_state    944005 non-null   float64\n",
      " 9   SFR_state    944005 non-null   float64\n",
      " 10  RECPI_state  944005 non-null   float64\n",
      "dtypes: float64(9), int64(2)\n",
      "memory usage: 93.1 MB\n"
     ]
    }
   ],
   "source": [
    "filename = '../../data/interim/2.0-output.csv'\n",
    "df = pd.read_csv(filename)\n",
    "df.info()"
   ]
  },
  {
   "cell_type": "code",
   "execution_count": 39,
   "metadata": {},
   "outputs": [],
   "source": [
    "df = df.groupby('zipcode').apply(lambda group: group.interpolate())"
   ]
  },
  {
   "cell_type": "code",
   "execution_count": 40,
   "metadata": {},
   "outputs": [],
   "source": [
    "df = df.groupby('zipcode').apply(lambda group: group.fillna(method='backfill'))"
   ]
  },
  {
   "cell_type": "code",
   "execution_count": 41,
   "metadata": {},
   "outputs": [
    {
     "name": "stdout",
     "output_type": "stream",
     "text": [
      "<class 'pandas.core.frame.DataFrame'>\n",
      "RangeIndex: 1109656 entries, 0 to 1109655\n",
      "Data columns (total 11 columns):\n",
      " #   Column       Non-Null Count    Dtype  \n",
      "---  ------       --------------    -----  \n",
      " 0   year         1109656 non-null  int64  \n",
      " 1   zipcode      1109656 non-null  int64  \n",
      " 2   EQI_zip      1109656 non-null  float64\n",
      " 3   SFR_zip      1109656 non-null  float64\n",
      " 4   RECPI_zip    1109656 non-null  float64\n",
      " 5   EQI_MSA      692288 non-null   float64\n",
      " 6   SFR_MSA      692288 non-null   float64\n",
      " 7   RECPI_MSA    692288 non-null   float64\n",
      " 8   EQI_state    1109656 non-null  float64\n",
      " 9   SFR_state    1109656 non-null  float64\n",
      " 10  RECPI_state  1109656 non-null  float64\n",
      "dtypes: float64(9), int64(2)\n",
      "memory usage: 93.1 MB\n"
     ]
    }
   ],
   "source": [
    "df.info()"
   ]
  },
  {
   "cell_type": "markdown",
   "metadata": {},
   "source": [
    "### Fill missing MSA with mean of zip and state"
   ]
  },
  {
   "cell_type": "code",
   "execution_count": 42,
   "metadata": {},
   "outputs": [],
   "source": [
    "df.EQI_MSA = df.apply(lambda row: (row.EQI_zip + row.EQI_state)/2 if np.isnan(row.EQI_MSA) else row.EQI_MSA, axis=1)"
   ]
  },
  {
   "cell_type": "code",
   "execution_count": 44,
   "metadata": {},
   "outputs": [],
   "source": [
    "df.SFR_MSA = df.apply(lambda row: (row.SFR_zip + row.SFR_state)/2 if np.isnan(row.SFR_MSA) else row.SFR_MSA, axis=1)"
   ]
  },
  {
   "cell_type": "code",
   "execution_count": 45,
   "metadata": {},
   "outputs": [],
   "source": [
    "df.RECPI_MSA = df.apply(lambda row: (row.RECPI_zip + row.RECPI_state)/2 if np.isnan(row.RECPI_MSA) else row.RECPI_MSA, axis=1)"
   ]
  },
  {
   "cell_type": "code",
   "execution_count": 46,
   "metadata": {},
   "outputs": [
    {
     "name": "stdout",
     "output_type": "stream",
     "text": [
      "<class 'pandas.core.frame.DataFrame'>\n",
      "RangeIndex: 1109656 entries, 0 to 1109655\n",
      "Data columns (total 11 columns):\n",
      " #   Column       Non-Null Count    Dtype  \n",
      "---  ------       --------------    -----  \n",
      " 0   year         1109656 non-null  int64  \n",
      " 1   zipcode      1109656 non-null  int64  \n",
      " 2   EQI_zip      1109656 non-null  float64\n",
      " 3   SFR_zip      1109656 non-null  float64\n",
      " 4   RECPI_zip    1109656 non-null  float64\n",
      " 5   EQI_MSA      1109656 non-null  float64\n",
      " 6   SFR_MSA      1109656 non-null  float64\n",
      " 7   RECPI_MSA    1109656 non-null  float64\n",
      " 8   EQI_state    1109656 non-null  float64\n",
      " 9   SFR_state    1109656 non-null  float64\n",
      " 10  RECPI_state  1109656 non-null  float64\n",
      "dtypes: float64(9), int64(2)\n",
      "memory usage: 93.1 MB\n"
     ]
    }
   ],
   "source": [
    "df.info()"
   ]
  },
  {
   "cell_type": "markdown",
   "metadata": {},
   "source": [
    "## Output DataFrame to File"
   ]
  },
  {
   "cell_type": "code",
   "execution_count": 47,
   "metadata": {},
   "outputs": [],
   "source": [
    "filename = '../../data/processed/na-data-fill.csv'\n",
    "df.to_csv(filename, index=False)"
   ]
  },
  {
   "cell_type": "code",
   "execution_count": null,
   "metadata": {},
   "outputs": [],
   "source": []
  }
 ],
 "metadata": {
  "kernelspec": {
   "display_name": "Python 3",
   "language": "python",
   "name": "python3"
  },
  "language_info": {
   "codemirror_mode": {
    "name": "ipython",
    "version": 3
   },
   "file_extension": ".py",
   "mimetype": "text/x-python",
   "name": "python",
   "nbconvert_exporter": "python",
   "pygments_lexer": "ipython3",
   "version": "3.8.3"
  }
 },
 "nbformat": 4,
 "nbformat_minor": 1
}
