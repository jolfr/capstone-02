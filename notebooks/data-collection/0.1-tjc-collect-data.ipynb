{
 "cells": [
  {
   "cell_type": "code",
   "execution_count": 1,
   "metadata": {},
   "outputs": [],
   "source": [
    "from src.data import zip_data as zips\n",
    "from src.data import msa_data as msa\n",
    "from src.data import state_data as state\n",
    "from src.data import nation_data as nation\n",
    "from src.data import zip_to_msa_data as z2m"
   ]
  },
  {
   "cell_type": "markdown",
   "metadata": {},
   "source": [
    "### Download Zip Data"
   ]
  },
  {
   "cell_type": "code",
   "execution_count": 2,
   "metadata": {},
   "outputs": [
    {
     "name": "stdout",
     "output_type": "stream",
     "text": [
      "Beginning zip_data.tab download with requests\n",
      "200\n",
      "text/tab-separated-values; name=\"Entrepreneurship_by_ZIP_Code_academic.tab\"\n",
      "ISO-8859-1\n"
     ]
    }
   ],
   "source": [
    "status, headers, encoding = zips.download()\n",
    "print(status)\n",
    "print(headers)\n",
    "print(encoding)"
   ]
  },
  {
   "cell_type": "markdown",
   "metadata": {},
   "source": [
    "### Download MSA Data"
   ]
  },
  {
   "cell_type": "code",
   "execution_count": 3,
   "metadata": {},
   "outputs": [
    {
     "name": "stdout",
     "output_type": "stream",
     "text": [
      "Beginning msa_data.tab download with requests\n",
      "200\n",
      "text/tab-separated-values; name=\"Entrepreneurship_by_MSA_academic.tab\"\n",
      "ISO-8859-1\n"
     ]
    }
   ],
   "source": [
    "status, headers, encoding = msa.download()\n",
    "print(status)\n",
    "print(headers)\n",
    "print(encoding)"
   ]
  },
  {
   "cell_type": "markdown",
   "metadata": {},
   "source": [
    "### Download State Data"
   ]
  },
  {
   "cell_type": "code",
   "execution_count": 4,
   "metadata": {},
   "outputs": [
    {
     "name": "stdout",
     "output_type": "stream",
     "text": [
      "Beginning state_data.tab download with requests\n",
      "200\n",
      "text/tab-separated-values; name=\"Entrepreneurship_by_State_academic.tab\"\n",
      "ISO-8859-1\n"
     ]
    }
   ],
   "source": [
    "status, headers, encoding = state.download()\n",
    "print(status)\n",
    "print(headers)\n",
    "print(encoding)"
   ]
  },
  {
   "cell_type": "markdown",
   "metadata": {},
   "source": [
    "### Download Nation Data"
   ]
  },
  {
   "cell_type": "code",
   "execution_count": 5,
   "metadata": {},
   "outputs": [
    {
     "name": "stdout",
     "output_type": "stream",
     "text": [
      "Beginning nation_data.tab download with requests\n",
      "200\n",
      "text/tab-separated-values; name=\"Entrepreneurship_National_academic.tab\"\n",
      "ISO-8859-1\n"
     ]
    }
   ],
   "source": [
    "status, headers, encoding = nation.download()\n",
    "print(status)\n",
    "print(headers)\n",
    "print(encoding)"
   ]
  },
  {
   "cell_type": "markdown",
   "metadata": {},
   "source": [
    "### Download Zip to MSA Bridge"
   ]
  },
  {
   "cell_type": "code",
   "execution_count": 6,
   "metadata": {},
   "outputs": [
    {
     "name": "stdout",
     "output_type": "stream",
     "text": [
      "Beginning ZCTA to MSA download with requests\n",
      "200\n",
      "text/plain\n",
      "ISO-8859-1\n"
     ]
    }
   ],
   "source": [
    "status, headers, encoding = z2m.download()\n",
    "print(status)\n",
    "print(headers)\n",
    "print(encoding)"
   ]
  },
  {
   "cell_type": "code",
   "execution_count": null,
   "metadata": {},
   "outputs": [],
   "source": []
  }
 ],
 "metadata": {
  "kernelspec": {
   "display_name": "Python 3",
   "language": "python",
   "name": "python3"
  },
  "language_info": {
   "codemirror_mode": {
    "name": "ipython",
    "version": 3
   },
   "file_extension": ".py",
   "mimetype": "text/x-python",
   "name": "python",
   "nbconvert_exporter": "python",
   "pygments_lexer": "ipython3",
   "version": "3.8.3"
  }
 },
 "nbformat": 4,
 "nbformat_minor": 1
}
